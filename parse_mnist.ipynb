{
 "cells": [
  {
   "cell_type": "code",
   "execution_count": 48,
   "metadata": {},
   "outputs": [],
   "source": [
    "import os\n",
    "\n",
    "import pandas as pd\n",
    "import numpy as np\n",
    "import matplotlib.pyplot as pt"
   ]
  },
  {
   "cell_type": "code",
   "execution_count": 103,
   "metadata": {},
   "outputs": [
    {
     "output_type": "execute_result",
     "data": {
      "text/plain": [
       "   Unnamed: 0 Attack  Epsilon       Defence  Accuracy after attack      Score  \\\n",
       "0           0   apgd     0.05  baard_2stage              78.571429  97.448980   \n",
       "1           1   apgd     0.05  baard_3stage              78.571429  99.489796   \n",
       "2           2   apgd     0.05            fs              78.571429  87.244898   \n",
       "3           3   apgd     0.05           lid              78.571429  92.857143   \n",
       "4           4   apgd     0.05            rc              78.571429  83.163265   \n",
       "\n",
       "   Block Rate  False Positive Rate  \n",
       "0   35.714286             6.122449  \n",
       "1   38.775510             8.163265  \n",
       "2   43.877551            48.979592  \n",
       "3   27.040816             1.530612  \n",
       "4 -100.000000             0.000000  "
      ],
      "text/html": "<div>\n<style scoped>\n    .dataframe tbody tr th:only-of-type {\n        vertical-align: middle;\n    }\n\n    .dataframe tbody tr th {\n        vertical-align: top;\n    }\n\n    .dataframe thead th {\n        text-align: right;\n    }\n</style>\n<table border=\"1\" class=\"dataframe\">\n  <thead>\n    <tr style=\"text-align: right;\">\n      <th></th>\n      <th>Unnamed: 0</th>\n      <th>Attack</th>\n      <th>Epsilon</th>\n      <th>Defence</th>\n      <th>Accuracy after attack</th>\n      <th>Score</th>\n      <th>Block Rate</th>\n      <th>False Positive Rate</th>\n    </tr>\n  </thead>\n  <tbody>\n    <tr>\n      <th>0</th>\n      <td>0</td>\n      <td>apgd</td>\n      <td>0.05</td>\n      <td>baard_2stage</td>\n      <td>78.571429</td>\n      <td>97.448980</td>\n      <td>35.714286</td>\n      <td>6.122449</td>\n    </tr>\n    <tr>\n      <th>1</th>\n      <td>1</td>\n      <td>apgd</td>\n      <td>0.05</td>\n      <td>baard_3stage</td>\n      <td>78.571429</td>\n      <td>99.489796</td>\n      <td>38.775510</td>\n      <td>8.163265</td>\n    </tr>\n    <tr>\n      <th>2</th>\n      <td>2</td>\n      <td>apgd</td>\n      <td>0.05</td>\n      <td>fs</td>\n      <td>78.571429</td>\n      <td>87.244898</td>\n      <td>43.877551</td>\n      <td>48.979592</td>\n    </tr>\n    <tr>\n      <th>3</th>\n      <td>3</td>\n      <td>apgd</td>\n      <td>0.05</td>\n      <td>lid</td>\n      <td>78.571429</td>\n      <td>92.857143</td>\n      <td>27.040816</td>\n      <td>1.530612</td>\n    </tr>\n    <tr>\n      <th>4</th>\n      <td>4</td>\n      <td>apgd</td>\n      <td>0.05</td>\n      <td>rc</td>\n      <td>78.571429</td>\n      <td>83.163265</td>\n      <td>-100.000000</td>\n      <td>0.000000</td>\n    </tr>\n  </tbody>\n</table>\n</div>"
     },
     "metadata": {},
     "execution_count": 103
    }
   ],
   "source": [
    "data = 'banknote'\n",
    "path_csv = os.path.join('csv', data+'.csv')\n",
    "df = pd.read_csv(path_csv, sep=',')\n",
    "df.head()"
   ]
  },
  {
   "cell_type": "code",
   "execution_count": 104,
   "metadata": {},
   "outputs": [
    {
     "output_type": "execute_result",
     "data": {
      "text/plain": [
       "  Attack  Epsilon       Defence  Accuracy after attack      Score  Block Rate  \\\n",
       "0   apgd     0.05  baard_2stage              78.571429  97.448980   35.714286   \n",
       "1   apgd     0.05  baard_3stage              78.571429  99.489796   38.775510   \n",
       "2   apgd     0.05            fs              78.571429  87.244898   43.877551   \n",
       "3   apgd     0.05           lid              78.571429  92.857143   27.040816   \n",
       "4   apgd     0.05            rc              78.571429  83.163265 -100.000000   \n",
       "\n",
       "   False Positive Rate  \n",
       "0             6.122449  \n",
       "1             8.163265  \n",
       "2            48.979592  \n",
       "3             1.530612  \n",
       "4             0.000000  "
      ],
      "text/html": "<div>\n<style scoped>\n    .dataframe tbody tr th:only-of-type {\n        vertical-align: middle;\n    }\n\n    .dataframe tbody tr th {\n        vertical-align: top;\n    }\n\n    .dataframe thead th {\n        text-align: right;\n    }\n</style>\n<table border=\"1\" class=\"dataframe\">\n  <thead>\n    <tr style=\"text-align: right;\">\n      <th></th>\n      <th>Attack</th>\n      <th>Epsilon</th>\n      <th>Defence</th>\n      <th>Accuracy after attack</th>\n      <th>Score</th>\n      <th>Block Rate</th>\n      <th>False Positive Rate</th>\n    </tr>\n  </thead>\n  <tbody>\n    <tr>\n      <th>0</th>\n      <td>apgd</td>\n      <td>0.05</td>\n      <td>baard_2stage</td>\n      <td>78.571429</td>\n      <td>97.448980</td>\n      <td>35.714286</td>\n      <td>6.122449</td>\n    </tr>\n    <tr>\n      <th>1</th>\n      <td>apgd</td>\n      <td>0.05</td>\n      <td>baard_3stage</td>\n      <td>78.571429</td>\n      <td>99.489796</td>\n      <td>38.775510</td>\n      <td>8.163265</td>\n    </tr>\n    <tr>\n      <th>2</th>\n      <td>apgd</td>\n      <td>0.05</td>\n      <td>fs</td>\n      <td>78.571429</td>\n      <td>87.244898</td>\n      <td>43.877551</td>\n      <td>48.979592</td>\n    </tr>\n    <tr>\n      <th>3</th>\n      <td>apgd</td>\n      <td>0.05</td>\n      <td>lid</td>\n      <td>78.571429</td>\n      <td>92.857143</td>\n      <td>27.040816</td>\n      <td>1.530612</td>\n    </tr>\n    <tr>\n      <th>4</th>\n      <td>apgd</td>\n      <td>0.05</td>\n      <td>rc</td>\n      <td>78.571429</td>\n      <td>83.163265</td>\n      <td>-100.000000</td>\n      <td>0.000000</td>\n    </tr>\n  </tbody>\n</table>\n</div>"
     },
     "metadata": {},
     "execution_count": 104
    }
   ],
   "source": [
    "df = df.drop(columns=['Unnamed: 0'])\n",
    "df.head()"
   ]
  },
  {
   "cell_type": "code",
   "execution_count": 105,
   "metadata": {},
   "outputs": [
    {
     "output_type": "execute_result",
     "data": {
      "text/plain": [
       "   Attack  Epsilon       Defence  Accuracy after attack       Score  \\\n",
       "0    apgd     0.05  baard_2stage              78.571429   97.448980   \n",
       "1    apgd     0.05  baard_3stage              78.571429   99.489796   \n",
       "2    apgd     0.05            fs              78.571429   87.244898   \n",
       "3    apgd     0.05           lid              78.571429   92.857143   \n",
       "4    apgd     0.05            rc              78.571429   83.163265   \n",
       "5    apgd     0.20  baard_2stage               0.510204   99.489796   \n",
       "6    apgd     0.20  baard_3stage               0.510204   99.489796   \n",
       "7    apgd     0.20            fs               0.510204   51.530612   \n",
       "8    apgd     0.20           lid               0.510204   72.448980   \n",
       "9    apgd     0.20            rc               0.510204   52.551020   \n",
       "10   apgd     0.40  baard_2stage               0.000000  100.000000   \n",
       "11   apgd     0.40  baard_3stage               0.000000  100.000000   \n",
       "12   apgd     0.40            fs               0.000000   39.285714   \n",
       "13   apgd     0.40           lid               0.000000   98.979592   \n",
       "14   apgd     0.40            rc               0.000000   59.183673   \n",
       "15   apgd     1.00  baard_2stage               0.000000  100.000000   \n",
       "16   apgd     1.00  baard_3stage               0.000000  100.000000   \n",
       "17   apgd     1.00            fs               0.000000   40.816327   \n",
       "18   apgd     1.00           lid               0.000000   93.367347   \n",
       "19   apgd     1.00            rc               0.000000   59.183673   \n",
       "\n",
       "    Block Rate  False Positive Rate  \n",
       "0    35.714286             6.122449  \n",
       "1    38.775510             8.163265  \n",
       "2    43.877551            48.979592  \n",
       "3    27.040816             1.530612  \n",
       "4  -100.000000             0.000000  \n",
       "5    99.489796             6.122449  \n",
       "6    99.489796             8.163265  \n",
       "7    51.020408            51.530612  \n",
       "8    71.938776             1.020408  \n",
       "9  -100.000000             0.000000  \n",
       "10  100.000000             2.551020  \n",
       "11  100.000000             4.591837  \n",
       "12   39.285714             0.000000  \n",
       "13   98.979592             0.000000  \n",
       "14 -100.000000             0.510204  \n",
       "15  100.000000             2.551020  \n",
       "16  100.000000             4.591837  \n",
       "17   40.816327             0.000000  \n",
       "18   93.367347             0.000000  \n",
       "19 -100.000000             0.510204  "
      ],
      "text/html": "<div>\n<style scoped>\n    .dataframe tbody tr th:only-of-type {\n        vertical-align: middle;\n    }\n\n    .dataframe tbody tr th {\n        vertical-align: top;\n    }\n\n    .dataframe thead th {\n        text-align: right;\n    }\n</style>\n<table border=\"1\" class=\"dataframe\">\n  <thead>\n    <tr style=\"text-align: right;\">\n      <th></th>\n      <th>Attack</th>\n      <th>Epsilon</th>\n      <th>Defence</th>\n      <th>Accuracy after attack</th>\n      <th>Score</th>\n      <th>Block Rate</th>\n      <th>False Positive Rate</th>\n    </tr>\n  </thead>\n  <tbody>\n    <tr>\n      <th>0</th>\n      <td>apgd</td>\n      <td>0.05</td>\n      <td>baard_2stage</td>\n      <td>78.571429</td>\n      <td>97.448980</td>\n      <td>35.714286</td>\n      <td>6.122449</td>\n    </tr>\n    <tr>\n      <th>1</th>\n      <td>apgd</td>\n      <td>0.05</td>\n      <td>baard_3stage</td>\n      <td>78.571429</td>\n      <td>99.489796</td>\n      <td>38.775510</td>\n      <td>8.163265</td>\n    </tr>\n    <tr>\n      <th>2</th>\n      <td>apgd</td>\n      <td>0.05</td>\n      <td>fs</td>\n      <td>78.571429</td>\n      <td>87.244898</td>\n      <td>43.877551</td>\n      <td>48.979592</td>\n    </tr>\n    <tr>\n      <th>3</th>\n      <td>apgd</td>\n      <td>0.05</td>\n      <td>lid</td>\n      <td>78.571429</td>\n      <td>92.857143</td>\n      <td>27.040816</td>\n      <td>1.530612</td>\n    </tr>\n    <tr>\n      <th>4</th>\n      <td>apgd</td>\n      <td>0.05</td>\n      <td>rc</td>\n      <td>78.571429</td>\n      <td>83.163265</td>\n      <td>-100.000000</td>\n      <td>0.000000</td>\n    </tr>\n    <tr>\n      <th>5</th>\n      <td>apgd</td>\n      <td>0.20</td>\n      <td>baard_2stage</td>\n      <td>0.510204</td>\n      <td>99.489796</td>\n      <td>99.489796</td>\n      <td>6.122449</td>\n    </tr>\n    <tr>\n      <th>6</th>\n      <td>apgd</td>\n      <td>0.20</td>\n      <td>baard_3stage</td>\n      <td>0.510204</td>\n      <td>99.489796</td>\n      <td>99.489796</td>\n      <td>8.163265</td>\n    </tr>\n    <tr>\n      <th>7</th>\n      <td>apgd</td>\n      <td>0.20</td>\n      <td>fs</td>\n      <td>0.510204</td>\n      <td>51.530612</td>\n      <td>51.020408</td>\n      <td>51.530612</td>\n    </tr>\n    <tr>\n      <th>8</th>\n      <td>apgd</td>\n      <td>0.20</td>\n      <td>lid</td>\n      <td>0.510204</td>\n      <td>72.448980</td>\n      <td>71.938776</td>\n      <td>1.020408</td>\n    </tr>\n    <tr>\n      <th>9</th>\n      <td>apgd</td>\n      <td>0.20</td>\n      <td>rc</td>\n      <td>0.510204</td>\n      <td>52.551020</td>\n      <td>-100.000000</td>\n      <td>0.000000</td>\n    </tr>\n    <tr>\n      <th>10</th>\n      <td>apgd</td>\n      <td>0.40</td>\n      <td>baard_2stage</td>\n      <td>0.000000</td>\n      <td>100.000000</td>\n      <td>100.000000</td>\n      <td>2.551020</td>\n    </tr>\n    <tr>\n      <th>11</th>\n      <td>apgd</td>\n      <td>0.40</td>\n      <td>baard_3stage</td>\n      <td>0.000000</td>\n      <td>100.000000</td>\n      <td>100.000000</td>\n      <td>4.591837</td>\n    </tr>\n    <tr>\n      <th>12</th>\n      <td>apgd</td>\n      <td>0.40</td>\n      <td>fs</td>\n      <td>0.000000</td>\n      <td>39.285714</td>\n      <td>39.285714</td>\n      <td>0.000000</td>\n    </tr>\n    <tr>\n      <th>13</th>\n      <td>apgd</td>\n      <td>0.40</td>\n      <td>lid</td>\n      <td>0.000000</td>\n      <td>98.979592</td>\n      <td>98.979592</td>\n      <td>0.000000</td>\n    </tr>\n    <tr>\n      <th>14</th>\n      <td>apgd</td>\n      <td>0.40</td>\n      <td>rc</td>\n      <td>0.000000</td>\n      <td>59.183673</td>\n      <td>-100.000000</td>\n      <td>0.510204</td>\n    </tr>\n    <tr>\n      <th>15</th>\n      <td>apgd</td>\n      <td>1.00</td>\n      <td>baard_2stage</td>\n      <td>0.000000</td>\n      <td>100.000000</td>\n      <td>100.000000</td>\n      <td>2.551020</td>\n    </tr>\n    <tr>\n      <th>16</th>\n      <td>apgd</td>\n      <td>1.00</td>\n      <td>baard_3stage</td>\n      <td>0.000000</td>\n      <td>100.000000</td>\n      <td>100.000000</td>\n      <td>4.591837</td>\n    </tr>\n    <tr>\n      <th>17</th>\n      <td>apgd</td>\n      <td>1.00</td>\n      <td>fs</td>\n      <td>0.000000</td>\n      <td>40.816327</td>\n      <td>40.816327</td>\n      <td>0.000000</td>\n    </tr>\n    <tr>\n      <th>18</th>\n      <td>apgd</td>\n      <td>1.00</td>\n      <td>lid</td>\n      <td>0.000000</td>\n      <td>93.367347</td>\n      <td>93.367347</td>\n      <td>0.000000</td>\n    </tr>\n    <tr>\n      <th>19</th>\n      <td>apgd</td>\n      <td>1.00</td>\n      <td>rc</td>\n      <td>0.000000</td>\n      <td>59.183673</td>\n      <td>-100.000000</td>\n      <td>0.510204</td>\n    </tr>\n  </tbody>\n</table>\n</div>"
     },
     "metadata": {},
     "execution_count": 105
    }
   ],
   "source": [
    "df[df['Attack']=='apgd']"
   ]
  },
  {
   "cell_type": "code",
   "execution_count": 107,
   "metadata": {},
   "outputs": [
    {
     "output_type": "execute_result",
     "data": {
      "text/plain": [
       "MultiIndex(levels=[['baard_2stage', 'baard_3stage', 'fs', 'lid', 'rc'], ['False Positive Rate', 'Score']],\n",
       "           codes=[[0, 0, 1, 1, 2, 2, 3, 3, 4, 4], [0, 1, 0, 1, 0, 1, 0, 1, 0, 1]],\n",
       "           names=['', ''])"
      ]
     },
     "metadata": {},
     "execution_count": 107
    }
   ],
   "source": [
    "df1 = df.pivot_table(index=['Attack', 'Epsilon'],columns=['Defence'],values=['Score','False Positive Rate'])\n",
    "df1.columns = df1.columns.swaplevel(0,1).rename([\"\",\"\"])\n",
    "df1.sort_index(axis=1,level=0,inplace=True)\n",
    "df1.to_excel('df.xlsx',sheet_name=data+' 1')\n",
    "df1.columns"
   ]
  },
  {
   "cell_type": "code",
   "execution_count": null,
   "metadata": {},
   "outputs": [],
   "source": []
  }
 ],
 "metadata": {
  "kernelspec": {
   "display_name": "Python 3",
   "language": "python",
   "name": "python3"
  },
  "language_info": {
   "codemirror_mode": {
    "name": "ipython",
    "version": 3
   },
   "file_extension": ".py",
   "mimetype": "text/x-python",
   "name": "python",
   "nbconvert_exporter": "python",
   "pygments_lexer": "ipython3",
   "version": "3.7.3-final"
  }
 },
 "nbformat": 4,
 "nbformat_minor": 4
}