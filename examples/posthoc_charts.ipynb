{
 "cells": [
  {
   "cell_type": "code",
   "execution_count": 1,
   "metadata": {},
   "outputs": [],
   "source": [
    "import os\n",
    "import sys\n",
    "\n",
    "sys.path.append('..')"
   ]
  },
  {
   "cell_type": "code",
   "execution_count": 2,
   "metadata": {},
   "outputs": [],
   "source": [
    "import numpy as np\n",
    "import scikit_posthocs as sp # pip3 install scikit-posthocs\n",
    "import scipy.stats as ss\n",
    "import pandas as pd\n",
    "from os import listdir\n",
    "from autorank import autorank, create_report, plot_stats # pip3 install autorank\n",
    "import matplotlib.pyplot as plt"
   ]
  },
  {
   "cell_type": "markdown",
   "metadata": {},
   "source": [
    "#### get the data, combine different tables into 1 image-acc, 1 image-fpr, 1 rest-acc, 1 rest-fpr tables"
   ]
  },
  {
   "cell_type": "code",
   "execution_count": 3,
   "metadata": {},
   "outputs": [
    {
     "name": "stdout",
     "output_type": "stream",
     "text": [
      "['cifar10_resnet_5.xlsx' 'breastcancer_basic120_5.xlsx'\n",
      " 'htru2_basic32_5.xlsx' 'cifar10_vgg_5.xlsx' 'breastcancer_svm_1.xlsx'\n",
      " 'mnist_basic_5.xlsx' 'banknote_basic16_5.xlsx' 'htru2_svm_1.xlsx'\n",
      " 'banknote_svm_1.xlsx']\n"
     ]
    }
   ],
   "source": [
    "files = np.array(listdir(os.path.join('..', 'tables')))\n",
    "print(files)"
   ]
  },
  {
   "cell_type": "code",
   "execution_count": 4,
   "metadata": {},
   "outputs": [
    {
     "name": "stdout",
     "output_type": "stream",
     "text": [
      "['cifar10_resnet_5.xlsx', 'cifar10_vgg_5.xlsx', 'mnist_basic_5.xlsx']\n",
      "['breastcancer_basic120_5.xlsx', 'htru2_basic32_5.xlsx', 'banknote_basic16_5.xlsx']\n"
     ]
    }
   ],
   "source": [
    "files_image = [f for f in files if 'cifar' in f or 'mnist' in f]\n",
    "files_num_nn = [f for f in files if 'banknote_basic' in f or 'breastcancer_basic' in f or 'htru2_basic' in f]\n",
    "print(files_image)\n",
    "print(files_num_nn)"
   ]
  },
  {
   "cell_type": "code",
   "execution_count": 5,
   "metadata": {},
   "outputs": [],
   "source": [
    "# combine non-image results\n",
    "# ATTENTION: this includes only the non-svm results as the others haven't been defended with LID!\n",
    "dfs_acc = []\n",
    "dfs_fpr = []\n",
    "for f in files_num_nn:\n",
    "    df = pd.read_excel(os.path.join('..', 'tables', f), engine='openpyxl', header=1)\n",
    "    df = df.drop(0)\n",
    "    dfs_acc.append(df.iloc[:,2:6])\n",
    "    dfs_fpr.append(df.iloc[:,6:])\n",
    "res_acc_rest = pd.concat(dfs_acc)\n",
    "# if you want to rename the columns so it looks better in the plot\n",
    "res_acc_rest.columns = ['BAARD_2stage', 'BAARD_3stage', 'LID', 'RC'] \n",
    "res_fpr_rest = pd.concat(dfs_fpr)\n",
    "res_fpr_rest.columns = res_acc_rest.columns"
   ]
  },
  {
   "cell_type": "code",
   "execution_count": 6,
   "metadata": {},
   "outputs": [],
   "source": [
    "# here are the SVM results\n",
    "files_rest_svm = [f for f in files if 'banknote_svm' in f or 'breastcancer_svm' in f or 'htru2_svm' in f]\n",
    "dfs_acc = []\n",
    "dfs_fpr = []\n",
    "for f in files_rest_svm:\n",
    "    df = pd.read_excel(os.path.join('..', 'tables', f), engine='openpyxl', header=1)\n",
    "    df = df.drop(0)\n",
    "    dfs_acc.append(df.iloc[:,2:5])\n",
    "    dfs_fpr.append(df.iloc[:,5:])\n",
    "res_acc_rest_svm = pd.concat(dfs_acc)\n",
    "# if you want to rename the columns so it looks better in the plot\n",
    "res_acc_rest_svm.columns = ['BAARD_2stage', 'BAARD_3stage', 'RC'] \n",
    "res_fpr_rest_svm = pd.concat(dfs_fpr)\n",
    "res_fpr_rest_svm.columns = res_acc_rest_svm.columns"
   ]
  },
  {
   "cell_type": "code",
   "execution_count": 7,
   "metadata": {},
   "outputs": [],
   "source": [
    "# combine image results\n",
    "dfs_acc = []\n",
    "dfs_fpr = []\n",
    "for f in files_image:\n",
    "    df = pd.read_excel(os.path.join('..', 'tables', f), engine='openpyxl', header=1)\n",
    "    df = df.drop(0)\n",
    "    dfs_acc.append(df.iloc[:,2:8])\n",
    "    dfs_fpr.append(df.iloc[:,8:])\n",
    "res_acc_img = pd.concat(dfs_acc)\n",
    "# if you want to rename the columns so it looks better in the plot\n",
    "res_acc_img.columns = ['BAARD_2stage', 'BAARD_3stage', 'FS', 'LID', \"Magnet\", 'RC'] \n",
    "res_fpr_img = pd.concat(dfs_fpr)\n",
    "res_fpr_img.columns = res_acc_img.columns"
   ]
  },
  {
   "cell_type": "code",
   "execution_count": 15,
   "metadata": {},
   "outputs": [
    {
     "data": {
      "text/html": [
       "<div>\n",
       "<style scoped>\n",
       "    .dataframe tbody tr th:only-of-type {\n",
       "        vertical-align: middle;\n",
       "    }\n",
       "\n",
       "    .dataframe tbody tr th {\n",
       "        vertical-align: top;\n",
       "    }\n",
       "\n",
       "    .dataframe thead th {\n",
       "        text-align: right;\n",
       "    }\n",
       "</style>\n",
       "<table border=\"1\" class=\"dataframe\">\n",
       "  <thead>\n",
       "    <tr style=\"text-align: right;\">\n",
       "      <th></th>\n",
       "      <th>baard_2stage</th>\n",
       "      <th>baard_3stage</th>\n",
       "      <th>fs</th>\n",
       "      <th>lid</th>\n",
       "      <th>magnet</th>\n",
       "      <th>rc</th>\n",
       "    </tr>\n",
       "  </thead>\n",
       "  <tbody>\n",
       "    <tr>\n",
       "      <th>1</th>\n",
       "      <td>13.3</td>\n",
       "      <td>29.0</td>\n",
       "      <td>69.7</td>\n",
       "      <td>0.5</td>\n",
       "      <td>30.2</td>\n",
       "      <td>0.5</td>\n",
       "    </tr>\n",
       "    <tr>\n",
       "      <th>2</th>\n",
       "      <td>63.0</td>\n",
       "      <td>65.9</td>\n",
       "      <td>2.3</td>\n",
       "      <td>15.4</td>\n",
       "      <td>8.0</td>\n",
       "      <td>0.0</td>\n",
       "    </tr>\n",
       "    <tr>\n",
       "      <th>3</th>\n",
       "      <td>99.9</td>\n",
       "      <td>99.9</td>\n",
       "      <td>0.3</td>\n",
       "      <td>19.4</td>\n",
       "      <td>99.3</td>\n",
       "      <td>0.0</td>\n",
       "    </tr>\n",
       "    <tr>\n",
       "      <th>4</th>\n",
       "      <td>100.0</td>\n",
       "      <td>100.0</td>\n",
       "      <td>0.2</td>\n",
       "      <td>6.4</td>\n",
       "      <td>100.0</td>\n",
       "      <td>0.0</td>\n",
       "    </tr>\n",
       "    <tr>\n",
       "      <th>5</th>\n",
       "      <td>100.0</td>\n",
       "      <td>100.0</td>\n",
       "      <td>0.7</td>\n",
       "      <td>1.5</td>\n",
       "      <td>100.0</td>\n",
       "      <td>0.0</td>\n",
       "    </tr>\n",
       "    <tr>\n",
       "      <th>6</th>\n",
       "      <td>11.4</td>\n",
       "      <td>25.8</td>\n",
       "      <td>60.9</td>\n",
       "      <td>8.3</td>\n",
       "      <td>23.5</td>\n",
       "      <td>0.2</td>\n",
       "    </tr>\n",
       "    <tr>\n",
       "      <th>7</th>\n",
       "      <td>13.6</td>\n",
       "      <td>26.2</td>\n",
       "      <td>44.9</td>\n",
       "      <td>0.0</td>\n",
       "      <td>17.8</td>\n",
       "      <td>0.0</td>\n",
       "    </tr>\n",
       "    <tr>\n",
       "      <th>8</th>\n",
       "      <td>15.9</td>\n",
       "      <td>28.4</td>\n",
       "      <td>27.8</td>\n",
       "      <td>0.0</td>\n",
       "      <td>12.2</td>\n",
       "      <td>0.0</td>\n",
       "    </tr>\n",
       "    <tr>\n",
       "      <th>9</th>\n",
       "      <td>20.9</td>\n",
       "      <td>30.3</td>\n",
       "      <td>9.2</td>\n",
       "      <td>0.0</td>\n",
       "      <td>10.2</td>\n",
       "      <td>0.0</td>\n",
       "    </tr>\n",
       "    <tr>\n",
       "      <th>10</th>\n",
       "      <td>9.4</td>\n",
       "      <td>19.4</td>\n",
       "      <td>1.8</td>\n",
       "      <td>75.1</td>\n",
       "      <td>82.1</td>\n",
       "      <td>94.8</td>\n",
       "    </tr>\n",
       "    <tr>\n",
       "      <th>11</th>\n",
       "      <td>9.3</td>\n",
       "      <td>19.9</td>\n",
       "      <td>92.1</td>\n",
       "      <td>19.2</td>\n",
       "      <td>72.3</td>\n",
       "      <td>4.2</td>\n",
       "    </tr>\n",
       "    <tr>\n",
       "      <th>12</th>\n",
       "      <td>9.6</td>\n",
       "      <td>20.0</td>\n",
       "      <td>83.1</td>\n",
       "      <td>0.0</td>\n",
       "      <td>51.1</td>\n",
       "      <td>0.0</td>\n",
       "    </tr>\n",
       "    <tr>\n",
       "      <th>13</th>\n",
       "      <td>90.6</td>\n",
       "      <td>91.2</td>\n",
       "      <td>10.2</td>\n",
       "      <td>64.6</td>\n",
       "      <td>88.0</td>\n",
       "      <td>10.4</td>\n",
       "    </tr>\n",
       "    <tr>\n",
       "      <th>14</th>\n",
       "      <td>65.6</td>\n",
       "      <td>69.4</td>\n",
       "      <td>70.0</td>\n",
       "      <td>60.2</td>\n",
       "      <td>63.2</td>\n",
       "      <td>60.4</td>\n",
       "    </tr>\n",
       "    <tr>\n",
       "      <th>15</th>\n",
       "      <td>99.9</td>\n",
       "      <td>99.9</td>\n",
       "      <td>20.4</td>\n",
       "      <td>31.6</td>\n",
       "      <td>96.2</td>\n",
       "      <td>11.4</td>\n",
       "    </tr>\n",
       "    <tr>\n",
       "      <th>16</th>\n",
       "      <td>100.0</td>\n",
       "      <td>100.0</td>\n",
       "      <td>11.2</td>\n",
       "      <td>57.9</td>\n",
       "      <td>100.0</td>\n",
       "      <td>11.0</td>\n",
       "    </tr>\n",
       "    <tr>\n",
       "      <th>17</th>\n",
       "      <td>100.0</td>\n",
       "      <td>100.0</td>\n",
       "      <td>12.4</td>\n",
       "      <td>72.6</td>\n",
       "      <td>100.0</td>\n",
       "      <td>12.3</td>\n",
       "    </tr>\n",
       "    <tr>\n",
       "      <th>18</th>\n",
       "      <td>100.0</td>\n",
       "      <td>100.0</td>\n",
       "      <td>12.4</td>\n",
       "      <td>71.8</td>\n",
       "      <td>100.0</td>\n",
       "      <td>12.3</td>\n",
       "    </tr>\n",
       "    <tr>\n",
       "      <th>19</th>\n",
       "      <td>85.9</td>\n",
       "      <td>86.7</td>\n",
       "      <td>93.1</td>\n",
       "      <td>78.9</td>\n",
       "      <td>79.7</td>\n",
       "      <td>78.4</td>\n",
       "    </tr>\n",
       "    <tr>\n",
       "      <th>20</th>\n",
       "      <td>93.9</td>\n",
       "      <td>94.2</td>\n",
       "      <td>95.1</td>\n",
       "      <td>93.1</td>\n",
       "      <td>88.5</td>\n",
       "      <td>93.0</td>\n",
       "    </tr>\n",
       "    <tr>\n",
       "      <th>21</th>\n",
       "      <td>83.3</td>\n",
       "      <td>84.6</td>\n",
       "      <td>80.6</td>\n",
       "      <td>76.0</td>\n",
       "      <td>74.5</td>\n",
       "      <td>75.9</td>\n",
       "    </tr>\n",
       "    <tr>\n",
       "      <th>22</th>\n",
       "      <td>91.4</td>\n",
       "      <td>91.6</td>\n",
       "      <td>95.5</td>\n",
       "      <td>91.4</td>\n",
       "      <td>88.8</td>\n",
       "      <td>93.9</td>\n",
       "    </tr>\n",
       "    <tr>\n",
       "      <th>23</th>\n",
       "      <td>38.5</td>\n",
       "      <td>40.5</td>\n",
       "      <td>84.8</td>\n",
       "      <td>38.4</td>\n",
       "      <td>68.7</td>\n",
       "      <td>79.6</td>\n",
       "    </tr>\n",
       "  </tbody>\n",
       "</table>\n",
       "</div>"
      ],
      "text/plain": [
       "    baard_2stage  baard_3stage    fs   lid  magnet    rc\n",
       "1           13.3          29.0  69.7   0.5    30.2   0.5\n",
       "2           63.0          65.9   2.3  15.4     8.0   0.0\n",
       "3           99.9          99.9   0.3  19.4    99.3   0.0\n",
       "4          100.0         100.0   0.2   6.4   100.0   0.0\n",
       "5          100.0         100.0   0.7   1.5   100.0   0.0\n",
       "6           11.4          25.8  60.9   8.3    23.5   0.2\n",
       "7           13.6          26.2  44.9   0.0    17.8   0.0\n",
       "8           15.9          28.4  27.8   0.0    12.2   0.0\n",
       "9           20.9          30.3   9.2   0.0    10.2   0.0\n",
       "10           9.4          19.4   1.8  75.1    82.1  94.8\n",
       "11           9.3          19.9  92.1  19.2    72.3   4.2\n",
       "12           9.6          20.0  83.1   0.0    51.1   0.0\n",
       "13          90.6          91.2  10.2  64.6    88.0  10.4\n",
       "14          65.6          69.4  70.0  60.2    63.2  60.4\n",
       "15          99.9          99.9  20.4  31.6    96.2  11.4\n",
       "16         100.0         100.0  11.2  57.9   100.0  11.0\n",
       "17         100.0         100.0  12.4  72.6   100.0  12.3\n",
       "18         100.0         100.0  12.4  71.8   100.0  12.3\n",
       "19          85.9          86.7  93.1  78.9    79.7  78.4\n",
       "20          93.9          94.2  95.1  93.1    88.5  93.0\n",
       "21          83.3          84.6  80.6  76.0    74.5  75.9\n",
       "22          91.4          91.6  95.5  91.4    88.8  93.9\n",
       "23          38.5          40.5  84.8  38.4    68.7  79.6"
      ]
     },
     "execution_count": 15,
     "metadata": {},
     "output_type": "execute_result"
    }
   ],
   "source": [
    "dfs_acc[0]"
   ]
  },
  {
   "cell_type": "markdown",
   "metadata": {},
   "source": [
    "#### Run autorank for each of them to get the plots"
   ]
  },
  {
   "cell_type": "code",
   "execution_count": 8,
   "metadata": {},
   "outputs": [],
   "source": [
    "results_acc_img = autorank(res_acc_img)\n",
    "results_fpr_img = autorank(res_fpr_img)\n",
    "results_acc_rest = autorank(res_acc_rest)\n",
    "results_fpr_rest = autorank(res_fpr_rest)\n",
    "results_acc_rest_svm = autorank(res_acc_rest_svm)\n",
    "results_fpr_rest_svm = autorank(res_fpr_rest_svm)"
   ]
  },
  {
   "cell_type": "code",
   "execution_count": 9,
   "metadata": {},
   "outputs": [
    {
     "data": {
      "image/png": "[encoded data removed]",
      "text/plain": [
       "<Figure size 432x140.4 with 1 Axes>"
      ]
     },
     "metadata": {},
     "output_type": "display_data"
    }
   ],
   "source": [
    "# accuracy for image datasets\n",
    "plot_stats(results_acc_img)\n",
    "plt.savefig('Nemenyi_ACC_imageData.pdf', format='pdf', dpi=1200, bbox_inches='tight')\n",
    "#create_report(results_acc_img)"
   ]
  },
  {
   "cell_type": "code",
   "execution_count": 10,
   "metadata": {},
   "outputs": [
    {
     "data": {
      "image/png": "[encoded data removed]",
      "text/plain": [
       "<Figure size 432x133.2 with 1 Axes>"
      ]
     },
     "metadata": {},
     "output_type": "display_data"
    }
   ],
   "source": [
    "# FPR for image datasets\n",
    "plot_stats(results_fpr_img)\n",
    "plt.savefig('Nemenyi_FPR_imageData.pdf', format='pdf', dpi=1200, bbox_inches='tight')\n",
    "#create_report(results_fpr_img)"
   ]
  },
  {
   "cell_type": "code",
   "execution_count": 11,
   "metadata": {},
   "outputs": [
    {
     "data": {
      "image/png": "[encoded data removed]",
      "text/plain": [
       "<Figure size 432x111.6 with 1 Axes>"
      ]
     },
     "metadata": {},
     "output_type": "display_data"
    }
   ],
   "source": [
    "# accuracy for non-image datasets\n",
    "plot_stats(results_acc_rest)\n",
    "plt.savefig('Nemenyi_ACC_nonImageData.pdf', format='pdf', dpi=1200, bbox_inches='tight')\n",
    "#create_report(results_acc_rest)"
   ]
  },
  {
   "cell_type": "code",
   "execution_count": 12,
   "metadata": {},
   "outputs": [
    {
     "data": {
      "image/png": "[encoded data removed]",
      "text/plain": [
       "<Figure size 432x111.6 with 1 Axes>"
      ]
     },
     "metadata": {},
     "output_type": "display_data"
    }
   ],
   "source": [
    "# FPR for non-image datasets\n",
    "plot_stats(results_fpr_rest)\n",
    "plt.savefig('Nemenyi_FPR_nonImageData.pdf', format='pdf', dpi=1200, bbox_inches='tight')\n",
    "#create_report(results_fpr_rest)"
   ]
  },
  {
   "cell_type": "code",
   "execution_count": 13,
   "metadata": {},
   "outputs": [
    {
     "data": {
      "image/png": "[encoded data removed]",
      "text/plain": [
       "<Figure size 432x104.4 with 1 Axes>"
      ]
     },
     "metadata": {},
     "output_type": "display_data"
    }
   ],
   "source": [
    "# accuracy for non-image datasets (here are the SVM results!)\n",
    "plot_stats(results_acc_rest_svm)\n",
    "plt.savefig('Nemenyi_ACC_nonImageData_svm.pdf', format='pdf', dpi=1200, bbox_inches='tight')\n",
    "#create_report(results_acc_rest_svm)"
   ]
  },
  {
   "cell_type": "code",
   "execution_count": 14,
   "metadata": {},
   "outputs": [
    {
     "data": {
      "image/png": "[encoded data removed]",
      "text/plain": [
       "<Figure size 432x104.4 with 1 Axes>"
      ]
     },
     "metadata": {},
     "output_type": "display_data"
    }
   ],
   "source": [
    "results_fpr_rest_svm\n",
    "plot_stats(results_fpr_rest_svm)\n",
    "plt.savefig('Nemenyi_FPR_nonImageData_svm.pdf', format='pdf', dpi=1200, bbox_inches='tight')"
   ]
  },
  {
   "cell_type": "code",
   "execution_count": null,
   "metadata": {},
   "outputs": [],
   "source": []
  }
 ],
 "metadata": {
  "kernelspec": {
   "display_name": "Python 3",
   "language": "python",
   "name": "python3"
  },
  "language_info": {
   "codemirror_mode": {
    "name": "ipython",
    "version": 3
   },
   "file_extension": ".py",
   "mimetype": "text/x-python",
   "name": "python",
   "nbconvert_exporter": "python",
   "pygments_lexer": "ipython3",
   "version": "3.6.9"
  }
 },
 "nbformat": 4,
 "nbformat_minor": 4
}
