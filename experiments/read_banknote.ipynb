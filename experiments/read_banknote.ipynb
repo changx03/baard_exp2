{
 "cells": [
  {
   "cell_type": "code",
   "execution_count": 1,
   "metadata": {},
   "outputs": [],
   "source": [
    "import sys\n",
    "sys.path.append('..')"
   ]
  },
  {
   "cell_type": "code",
   "execution_count": 2,
   "metadata": {},
   "outputs": [],
   "source": [
    "import os\n",
    "import csv\n",
    "\n",
    "import matplotlib.pyplot as plt\n",
    "import numpy as np\n",
    "import torch\n",
    "from torch.utils.data.dataloader import DataLoader\n",
    "from torch.utils.data.dataset import TensorDataset\n",
    "import pandas as pd\n",
    "\n",
    "from models.numeric import NumericModel\n",
    "from models.torch_util import predict_numpy\n",
    "from experiments.result_util import get_dataframe"
   ]
  },
  {
   "cell_type": "code",
   "execution_count": 3,
   "metadata": {},
   "outputs": [],
   "source": [
    "%load_ext autoreload\n",
    "%autoreload 2"
   ]
  },
  {
   "cell_type": "code",
   "execution_count": 4,
   "metadata": {},
   "outputs": [],
   "source": [
    "PATH_OUTPUTS = os.path.join('..', 'csv')\n",
    "if not os.path.exists(PATH_OUTPUTS):\n",
    "    os.makedirs(PATH_OUTPUTS)"
   ]
  },
  {
   "cell_type": "code",
   "execution_count": 5,
   "metadata": {},
   "outputs": [
    {
     "output_type": "stream",
     "name": "stdout",
     "text": [
      "device: cuda\n"
     ]
    }
   ],
   "source": [
    "device = torch.device('cuda' if torch.cuda.is_available() else 'cpu')\n",
    "print('device:', device)"
   ]
  },
  {
   "source": [
    "## Banknote"
   ],
   "cell_type": "markdown",
   "metadata": {}
  },
  {
   "cell_type": "code",
   "execution_count": 6,
   "metadata": {},
   "outputs": [],
   "source": [
    "model = NumericModel(\n",
    "    n_features=4, \n",
    "    n_hidden=4*4,\n",
    "    n_classes=2,\n",
    "    use_prob=True\n",
    ")\n",
    "path_model = os.path.join('..', 'results', 'banknote_400.pt')\n",
    "model.load_state_dict(torch.load(path_model))\n",
    "model = model.to(device)"
   ]
  },
  {
   "cell_type": "code",
   "execution_count": 7,
   "metadata": {},
   "outputs": [],
   "source": [
    "\n",
    "name_data = 'banknote'\n",
    "name_model = 'basic16'\n",
    "name_attacks = [\n",
    "    'apgd_0.05',\n",
    "    'apgd_0.2',\n",
    "    'apgd_0.4',\n",
    "    'apgd_1.0',\n",
    "    'apgd1_0.2',\n",
    "    'apgd1_0.4',\n",
    "    'apgd1_1.0',\n",
    "    'apgd1_2.0',\n",
    "    'apgd1_3.0',\n",
    "    'apgd2_0.2',\n",
    "    'apgd2_0.4',\n",
    "    'apgd2_1.0',\n",
    "    'apgd2_2.0',\n",
    "    'apgd2_3.0',\n",
    "    'boundary_0.3',\n",
    "    'cw2_0.0',\n",
    "    'cw2_10.0',\n",
    "    'cw2_5.0',\n",
    "    'cwinf_0.0',\n",
    "    'cwinf_5.0',\n",
    "    'deepfool_1e-06',\n",
    "    'fgsm_0.05',\n",
    "    'fgsm_0.2',\n",
    "    'fgsm_0.4',\n",
    "    'fgsm_1.0',\n",
    "]\n",
    "name_defences = [\n",
    "'baard_2stage',\n",
    "'baard_3stage',\n",
    "'fs',\n",
    "'lid',\n",
    "'rc',\n",
    "]"
   ]
  },
  {
   "cell_type": "code",
   "execution_count": 8,
   "metadata": {},
   "outputs": [],
   "source": [
    "COLUMNS = ['Attack', 'Adv_param', 'Defence', 'FPR', 'Acc_on_adv']"
   ]
  },
  {
   "cell_type": "code",
   "execution_count": 9,
   "metadata": {
    "tags": []
   },
   "outputs": [],
   "source": [
    "df = pd.DataFrame(columns=COLUMNS)\n",
    "\n",
    "for attack in name_attacks:\n",
    "    for defence in name_defences:\n",
    "        try:\n",
    "            df = get_dataframe(df, model, name_data, name_model, attack, defence, device)\n",
    "        except FileNotFoundError:\n",
    "            continue    "
   ]
  },
  {
   "cell_type": "code",
   "execution_count": 10,
   "metadata": {},
   "outputs": [],
   "source": [
    "VERSION = 4\n",
    "df.to_csv(os.path.join(PATH_OUTPUTS, '{}_{}.csv'.format(name_data, VERSION)))"
   ]
  },
  {
   "cell_type": "code",
   "execution_count": null,
   "metadata": {},
   "outputs": [],
   "source": []
  }
 ],
 "metadata": {
  "kernelspec": {
   "name": "python36964bit4ada1bcfcd0f4caa95e946f583001e1b",
   "display_name": "Python 3.6.9 64-bit",
   "language": "python"
  },
  "language_info": {
   "codemirror_mode": {
    "name": "ipython",
    "version": 3
   },
   "file_extension": ".py",
   "mimetype": "text/x-python",
   "name": "python",
   "nbconvert_exporter": "python",
   "pygments_lexer": "ipython3",
   "version": "3.6.9-final"
  }
 },
 "nbformat": 4,
 "nbformat_minor": 4
}