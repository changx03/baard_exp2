{
 "cells": [
  {
   "cell_type": "code",
   "execution_count": 1,
   "metadata": {},
   "outputs": [],
   "source": [
    "import os\n",
    "import time\n",
    "\n",
    "import matplotlib.pyplot as plt\n",
    "import numpy as np\n",
    "import torch\n",
    "import torch.nn as nn\n",
    "import torch.nn.functional as F\n",
    "import torch.optim as optim\n",
    "import torchvision as tv\n",
    "import torchvision.datasets as datasets\n",
    "from art.attacks.evasion import BasicIterativeMethod, CarliniL2Method, FastGradientMethod\n",
    "from art.estimators.classification import PyTorchClassifier\n",
    "from sklearn.linear_model import LogisticRegressionCV\n",
    "from sklearn.metrics import accuracy_score, precision_score, recall_score\n",
    "from sklearn.model_selection import GridSearchCV, ParameterGrid, train_test_split\n",
    "from sklearn.preprocessing import MinMaxScaler\n",
    "from torch.utils.data import DataLoader, TensorDataset\n",
    "from tqdm import tqdm\n",
    "\n",
    "from lid import LidDetector, eval_lid, merge_adv_data, train_lid\n",
    "from util import get_correct_examples, get_roc, get_shape, merge_and_generate_labels"
   ]
  },
  {
   "cell_type": "code",
   "execution_count": 2,
   "metadata": {},
   "outputs": [],
   "source": [
    "%load_ext autoreload\n",
    "%autoreload 2"
   ]
  },
  {
   "cell_type": "code",
   "execution_count": 3,
   "metadata": {},
   "outputs": [
    {
     "name": "stdout",
     "output_type": "stream",
     "text": [
      "Device: cuda\n",
      "CPU threads: 24\n"
     ]
    }
   ],
   "source": [
    "device = torch.device('cuda' if torch.cuda.is_available() else 'cpu')\n",
    "print('Device: {}'.format(device))\n",
    "\n",
    "n_threads = os.cpu_count()\n",
    "print('CPU threads: {}'.format(n_threads))"
   ]
  },
  {
   "cell_type": "code",
   "execution_count": 4,
   "metadata": {},
   "outputs": [],
   "source": [
    "PATH = 'data'\n",
    "BATCH_SIZE = 128\n",
    "EPOCHS = 5"
   ]
  },
  {
   "cell_type": "code",
   "execution_count": 5,
   "metadata": {},
   "outputs": [],
   "source": [
    "# Fetch dataset\n",
    "transforms = tv.transforms.Compose([tv.transforms.ToTensor()])\n",
    "dataset_train = datasets.MNIST(PATH, train=True, download=True, transform=transforms)\n",
    "dataset_test = datasets.MNIST(PATH, train=False, download=True, transform=transforms)\n",
    "\n",
    "dataloader_train = DataLoader(dataset_train, batch_size=BATCH_SIZE, shuffle=True)\n",
    "dataloader_test = DataLoader(dataset_test, batch_size=BATCH_SIZE, shuffle=True)"
   ]
  },
  {
   "cell_type": "code",
   "execution_count": 6,
   "metadata": {},
   "outputs": [
    {
     "name": "stdout",
     "output_type": "stream",
     "text": [
      "Number of layers: 10\n"
     ]
    }
   ],
   "source": [
    "# Create Neural Network model\n",
    "model = nn.Sequential(\n",
    "    nn.Conv2d(1, 32, 3, 1),\n",
    "    nn.ReLU(),\n",
    "    nn.Conv2d(32, 64, 3, 1),\n",
    "    nn.ReLU(),\n",
    "    nn.MaxPool2d(2),\n",
    "    nn.Flatten(),\n",
    "    nn.Linear(9216, 200),\n",
    "    nn.ReLU(),\n",
    "    nn.Linear(200, 10),\n",
    "    nn.LogSoftmax(dim=1)\n",
    ")\n",
    "model.to(device)\n",
    "print('Number of layers: {}'.format(len(list(model.children()))))"
   ]
  },
  {
   "cell_type": "code",
   "execution_count": 7,
   "metadata": {},
   "outputs": [],
   "source": [
    "def train(model, loader, loss, optimizer):\n",
    "    model.train()\n",
    "    total_loss = 0.\n",
    "    corrects = 0.\n",
    "    \n",
    "    for x, y in loader:\n",
    "        x = x.to(device)\n",
    "        y = y.to(device)\n",
    "        batch_size = x.size(0)\n",
    "        \n",
    "        optimizer.zero_grad()\n",
    "        outputs = model(x)\n",
    "        l = loss(outputs, y)\n",
    "        l.backward()\n",
    "        optimizer.step()\n",
    "\n",
    "        # for display\n",
    "        total_loss += l.item() * batch_size\n",
    "        preds = outputs.max(1, keepdim=True)[1]\n",
    "        corrects += preds.eq(y.view_as(preds)).sum().item()\n",
    "    \n",
    "    n = len(loader.dataset)\n",
    "    total_loss = total_loss / n\n",
    "    accuracy = corrects / n\n",
    "    return total_loss, accuracy"
   ]
  },
  {
   "cell_type": "code",
   "execution_count": 8,
   "metadata": {},
   "outputs": [],
   "source": [
    "def validate(model, loader, loss):\n",
    "    model.eval()\n",
    "    total_loss = 0.\n",
    "    corrects = 0.\n",
    "    \n",
    "    with torch.no_grad():\n",
    "        for x, y in loader:\n",
    "            x = x.to(device)\n",
    "            y = y.to(device)\n",
    "            batch_size = x.size(0)\n",
    "            outputs = model(x)\n",
    "            l = loss(outputs, y)\n",
    "            total_loss += l.item() * batch_size\n",
    "            preds = outputs.max(1, keepdim=True)[1]\n",
    "            corrects += preds.eq(y.view_as(preds)).sum().item()\n",
    "    \n",
    "    n = len(loader.dataset)\n",
    "    total_loss = total_loss / n\n",
    "    accuracy = corrects / n\n",
    "    return total_loss, accuracy"
   ]
  },
  {
   "cell_type": "code",
   "execution_count": 9,
   "metadata": {},
   "outputs": [],
   "source": [
    "optimizer = optim.SGD(model.parameters(), lr=0.01, momentum=0.9)\n",
    "loss=nn.NLLLoss()"
   ]
  },
  {
   "cell_type": "code",
   "execution_count": 10,
   "metadata": {
    "tags": []
   },
   "outputs": [
    {
     "name": "stdout",
     "output_type": "stream",
     "text": [
      "[ 1] 0m 4.5s Train Loss: 0.4405 Accuracy: 86.8717%, Test Loss: 0.1505 Accuracy: 95.2000%\n",
      "[ 2] 0m 4.5s Train Loss: 0.1263 Accuracy: 96.1000%, Test Loss: 0.0924 Accuracy: 97.2400%\n",
      "[ 3] 0m 4.5s Train Loss: 0.0835 Accuracy: 97.3950%, Test Loss: 0.0691 Accuracy: 97.8500%\n",
      "[ 4] 0m 4.5s Train Loss: 0.0578 Accuracy: 98.1750%, Test Loss: 0.0572 Accuracy: 98.1300%\n",
      "[ 5] 0m 4.5s Train Loss: 0.0436 Accuracy: 98.6400%, Test Loss: 0.0525 Accuracy: 98.3900%\n",
      "Total run time: 0m 22.4s\n"
     ]
    }
   ],
   "source": [
    "since = time.time()\n",
    "for epoch in range(EPOCHS):\n",
    "    start = time.time()\n",
    "    tr_loss, tr_acc = train(model, dataloader_train, loss, optimizer)\n",
    "    va_loss, va_acc = validate(model, dataloader_test, loss)\n",
    "    \n",
    "    time_elapsed = time.time() - start\n",
    "    print(('[{:2d}] {:.0f}m {:.1f}s Train Loss: {:.4f} Accuracy: {:.4f}%, ' +\n",
    "        'Test Loss: {:.4f} Accuracy: {:.4f}%').format(\n",
    "            epoch+1, time_elapsed // 60, time_elapsed % 60,\n",
    "            tr_loss, tr_acc*100.,\n",
    "            va_loss, va_acc*100.))\n",
    "    \n",
    "time_elapsed = time.time() - since\n",
    "print('Total run time: {:.0f}m {:.1f}s'.format(\n",
    "    time_elapsed // 60,\n",
    "    time_elapsed % 60))"
   ]
  },
  {
   "cell_type": "code",
   "execution_count": 11,
   "metadata": {},
   "outputs": [
    {
     "name": "stdout",
     "output_type": "stream",
     "text": [
      "Training set: 60000\n",
      "Accuracy on 59373 filtered training examples: 100.0000%\n",
      "Test set: 10000\n",
      "Accuracy on 9839 filtered test examples: 100.0000%\n"
     ]
    }
   ],
   "source": [
    "print('Training set: {}'.format(len(dataset_train)))\n",
    "tensor_train_X, tensor_train_y = get_correct_examples(model, dataset_train, device=device, return_tensor=True)\n",
    "dataset_train_perfect = TensorDataset(tensor_train_X, tensor_train_y)\n",
    "dataloader_train_perfect = DataLoader(dataset_train_perfect, batch_size=512, shuffle=True)\n",
    "_, acc = validate(model, dataloader_train_perfect, loss)\n",
    "print('Accuracy on {} filtered training examples: {:.4f}%'.format(len(dataloader_train_perfect.dataset), acc*100))\n",
    "\n",
    "print('Test set: {}'.format(len(dataset_test)))\n",
    "tensor_test_X, tensor_test_y = get_correct_examples(model, dataset_test, device=device, return_tensor=True)\n",
    "dataset_test_perfect = TensorDataset(tensor_test_X, tensor_test_y)\n",
    "dataloader_test_perfect = DataLoader(dataset_test_perfect, batch_size=512, shuffle=True)\n",
    "_, acc = validate(model, dataloader_test_perfect, loss)\n",
    "print('Accuracy on {} filtered test examples: {:.4f}%'.format(len(dataloader_test_perfect.dataset), acc*100))"
   ]
  },
  {
   "cell_type": "code",
   "execution_count": 12,
   "metadata": {},
   "outputs": [],
   "source": [
    "N_ADV = 2000"
   ]
  },
  {
   "cell_type": "code",
   "execution_count": 13,
   "metadata": {},
   "outputs": [],
   "source": [
    "classifier = PyTorchClassifier(\n",
    "    model=model, \n",
    "    loss=loss, \n",
    "    input_shape=(1, 28, 28), \n",
    "    optimizer=optimizer,\n",
    "    nb_classes=10,\n",
    "    clip_values=(0.0, 1.0),\n",
    "    device_type=device\n",
    ")\n",
    "\n",
    "attack = FastGradientMethod(estimator=classifier, eps=0.2)\n",
    "# attack = BasicIterativeMethod(estimator=classifier, eps=0.2)"
   ]
  },
  {
   "cell_type": "code",
   "execution_count": 14,
   "metadata": {},
   "outputs": [],
   "source": [
    "# Prepare dataset for adversarial examples\n",
    "n = len(dataset_test_perfect)\n",
    "indices = torch.randperm(n)[:N_ADV]\n",
    "\n",
    "pt_subset_X = tensor_test_X[indices]  # PyTorch Tensor\n",
    "pt_subset_y = tensor_test_y[indices]\n",
    "\n",
    "subset_X = pt_subset_X.cpu().detach().numpy()\n",
    "subset_y = pt_subset_y.cpu().detach().numpy()"
   ]
  },
  {
   "cell_type": "code",
   "execution_count": 15,
   "metadata": {},
   "outputs": [
    {
     "name": "stdout",
     "output_type": "stream",
     "text": [
      "Model accuracy on clean examples: 100.0000%\n",
      "Model accuracy on adversarial examples: 46.7000%\n"
     ]
    }
   ],
   "source": [
    "# Create adversarial examples\n",
    "subset_pred = np.argmax(classifier.predict(subset_X), axis=1)\n",
    "accuracy = np.sum(subset_pred == subset_y) / float(len(subset_pred))\n",
    "print(\"Model accuracy on clean examples: {:.4f}%\".format(accuracy * 100))\n",
    "\n",
    "# Generate adversarial examples\n",
    "subset_adv = attack.generate(x=subset_X)\n",
    "subset_pred = np.argmax(classifier.predict(subset_adv), axis=1)\n",
    "\n",
    "accuracy = np.sum(subset_pred == subset_y) / float(len(subset_pred))\n",
    "print(\"Model accuracy on adversarial examples: {:.4f}%\".format(accuracy * 100))"
   ]
  },
  {
   "cell_type": "code",
   "execution_count": 16,
   "metadata": {},
   "outputs": [
    {
     "name": "stdout",
     "output_type": "stream",
     "text": [
      "L2 distance between adversairal examples and clean data: 4.1936\n",
      "L2 distance between noisy data and clean data: 4.2730\n"
     ]
    }
   ],
   "source": [
    "X_lid_train = subset_X[-1000:]\n",
    "adv_lid_train = subset_adv[-1000:]\n",
    "\n",
    "# Average L2 distance\n",
    "l2_adv = np.mean([np.linalg.norm(dif) for dif in (X_lid_train - adv_lid_train)])\n",
    "print('L2 distance between adversairal examples and clean data: {:.4f}'.format(l2_adv))\n",
    "\n",
    "# Create noisy data\n",
    "std = l2_adv / 20\n",
    "noise = np.random.normal(0, scale=std, size=X_lid_train.shape)\n",
    "noisy_lid_train = np.minimum(np.maximum(X_lid_train + noise, 0.0), 1.0)\n",
    "\n",
    "l2_noise = np.mean([np.linalg.norm(dif) for dif in (X_lid_train - noisy_lid_train)])\n",
    "print('L2 distance between noisy data and clean data: {:.4f}'.format(l2_noise))"
   ]
  },
  {
   "cell_type": "code",
   "execution_count": 17,
   "metadata": {},
   "outputs": [],
   "source": [
    "# Compute LID characteristics\n",
    "K_LID = 20\n",
    "BATCH_SIZE_LID = 100"
   ]
  },
  {
   "cell_type": "markdown",
   "metadata": {},
   "source": [
    "## Train LID detector (functional)"
   ]
  },
  {
   "cell_type": "code",
   "execution_count": 18,
   "metadata": {},
   "outputs": [],
   "source": [
    "# characteristics, labels = train_lid(model, X_lid_train, noisy_lid_train, adv_lid_train, \n",
    "#                                     k=K_LID, batch_size=BATCH_SIZE_LID, device=device)\n",
    "# scaler = MinMaxScaler().fit(characteristics)\n",
    "# characteristics = scaler.transform(characteristics)"
   ]
  },
  {
   "cell_type": "code",
   "execution_count": 19,
   "metadata": {},
   "outputs": [],
   "source": [
    "# lid_train, lid_test, lid_label_train, lid_label_test = train_test_split(characteristics, labels, test_size=0.2, shuffle=True)\n",
    "# print(\"Train data size: \", lid_train.shape)\n",
    "# print(\"Test data size: \", lid_test.shape)"
   ]
  },
  {
   "cell_type": "code",
   "execution_count": 20,
   "metadata": {},
   "outputs": [],
   "source": [
    "# reg_model = LogisticRegressionCV(cv=5, n_jobs=-1).fit(lid_train, lid_label_train)\n",
    "\n",
    "# lid_label_prob = reg_model.predict_proba(lid_test)[:, 1]\n",
    "# lid_label_pred = reg_model.predict(lid_test)"
   ]
  },
  {
   "cell_type": "code",
   "execution_count": 21,
   "metadata": {},
   "outputs": [],
   "source": [
    "# _, _, auc_score, _ = get_roc(lid_label_test, lid_label_prob, show_plot=True)\n",
    "# precision = precision_score(lid_label_test, lid_label_pred)\n",
    "# recall = recall_score(lid_label_test, lid_label_pred)\n",
    "# acc = accuracy_score(lid_label_test, lid_label_pred)\n",
    "\n",
    "# print('Detector ROC-AUC score: {:0.4f}, accuracy: {:.4f}, precision: {:.4f}, recall: {:.4f}'.format(\n",
    "#     auc_score, acc, precision, recall))"
   ]
  },
  {
   "cell_type": "code",
   "execution_count": 22,
   "metadata": {},
   "outputs": [],
   "source": [
    "# print(len(np.where(lid_label_pred==1)[0]), len(np.where(lid_label_pred==0)[0]))"
   ]
  },
  {
   "cell_type": "markdown",
   "metadata": {},
   "source": [
    "## Test LID detector (functional)"
   ]
  },
  {
   "cell_type": "code",
   "execution_count": 23,
   "metadata": {},
   "outputs": [],
   "source": [
    "X_lid_train = subset_X[-1000:]\n",
    "\n",
    "# Create test set\n",
    "X_test, label_test = merge_and_generate_labels(subset_adv[:1000], subset_X[:1000], flatten=False)\n",
    "y_test = np.concatenate((subset_y[:1000], subset_y[:1000]))\n",
    "\n",
    "# Shuffle examples\n",
    "indices = np.random.permutation(X_test.shape[0])\n",
    "X_test = X_test[indices]\n",
    "y_test = y_test[indices]\n",
    "label_test = label_test[indices]"
   ]
  },
  {
   "cell_type": "code",
   "execution_count": 24,
   "metadata": {},
   "outputs": [
    {
     "name": "stdout",
     "output_type": "stream",
     "text": [
      "Model accuracy on test examples: 73.5500%\n"
     ]
    }
   ],
   "source": [
    "pred = np.argmax(classifier.predict(X_test), axis=1).astype(np.long)\n",
    "accuracy = np.sum(pred == y_test) / float(len(X_test))\n",
    "print(\"Model accuracy on test examples: {:.4f}%\".format(accuracy * 100))"
   ]
  },
  {
   "cell_type": "code",
   "execution_count": 25,
   "metadata": {},
   "outputs": [],
   "source": [
    "# Using a small subset for faster testing\n",
    "# n_small = 100\n",
    "# X_test = X_test[:n_small]\n",
    "# y_test = y_test[:n_small]\n",
    "# label_test = label_test[:n_small]"
   ]
  },
  {
   "cell_type": "code",
   "execution_count": 26,
   "metadata": {},
   "outputs": [],
   "source": [
    "# lid_test = eval_lid(model, X_lid_train, X_test, k=K_LID, batch_size=BATCH_SIZE_LID, device=device)"
   ]
  },
  {
   "cell_type": "code",
   "execution_count": 27,
   "metadata": {},
   "outputs": [],
   "source": [
    "# print(X_lid_train.shape)\n",
    "# print(X_test.shape)"
   ]
  },
  {
   "cell_type": "code",
   "execution_count": 28,
   "metadata": {},
   "outputs": [],
   "source": [
    "# lid_test = scaler.transform(lid_test)\n",
    "\n",
    "# test_label_prob = reg_model.predict_proba(lid_test)[:, 1]\n",
    "# test_label_pred = reg_model.predict(lid_test)\n",
    "\n",
    "# _, _, auc_score, _ = get_roc(label_test, test_label_prob, show_plot=True)\n",
    "# precision = precision_score(label_test, test_label_pred)\n",
    "# recall = recall_score(label_test, test_label_pred)\n",
    "# acc = accuracy_score(label_test, test_label_pred)\n",
    "\n",
    "# print('Detector ROC-AUC score: {:0.4f}, accuracy: {:.4f}, precision: {:.4f}, recall: {:.4f}'.format(\n",
    "#     auc_score, acc, precision, recall))"
   ]
  },
  {
   "cell_type": "code",
   "execution_count": 29,
   "metadata": {},
   "outputs": [],
   "source": [
    "# print(len(np.where(label_test==1)[0]), len(np.where(label_test==0)[0]))\n",
    "# print(len(np.where(test_label_pred==1)[0]), len(np.where(test_label_pred==0)[0]))"
   ]
  },
  {
   "cell_type": "markdown",
   "metadata": {},
   "source": [
    "## Train LID Detector (class object)"
   ]
  },
  {
   "cell_type": "code",
   "execution_count": 30,
   "metadata": {},
   "outputs": [
    {
     "name": "stdout",
     "output_type": "stream",
     "text": [
      "(1000, 1, 28, 28)\n",
      "(1000, 3, 1, 28, 28)\n"
     ]
    }
   ],
   "source": [
    "my_train_X, my_train_y = merge_adv_data(X_lid_train, noisy_lid_train, adv_lid_train)\n",
    "print(X_lid_train.shape)\n",
    "print(my_train_X.shape)"
   ]
  },
  {
   "cell_type": "code",
   "execution_count": 31,
   "metadata": {},
   "outputs": [
    {
     "name": "stderr",
     "output_type": "stream",
     "text": [
      "100%|██████████| 10/10 [00:15<00:00,  1.52s/it]\n"
     ]
    },
    {
     "data": {
      "text/plain": [
       "LidDetector(device=device(type='cuda'),\n",
       "            model=Sequential(\n",
       "  (0): Conv2d(1, 32, kernel_size=(3, 3), stride=(1, 1))\n",
       "  (1): ReLU()\n",
       "  (2): Conv2d(32, 64, kernel_size=(3, 3), stride=(1, 1))\n",
       "  (3): ReLU()\n",
       "  (4): MaxPool2d(kernel_size=2, stride=2, padding=0, dilation=1, ceil_mode=False)\n",
       "  (5): Flatten(start_dim=1, end_dim=-1)\n",
       "  (6): Linear(in_features=9216, out_features=200, bias=True)\n",
       "  (7): ReLU()\n",
       "  (8): Linear(in_features=200, out_features=10, bias=True)\n",
       "  (9): LogSoftmax(dim=1)\n",
       "))"
      ]
     },
     "execution_count": 31,
     "metadata": {},
     "output_type": "execute_result"
    }
   ],
   "source": [
    "detector = LidDetector(model=model, k=K_LID, batch_size=BATCH_SIZE_LID, device=device)\n",
    "detector.fit(my_train_X, my_train_y, disable_progress_bar=False)"
   ]
  },
  {
   "cell_type": "code",
   "execution_count": 32,
   "metadata": {},
   "outputs": [
    {
     "data": {
      "image/png": "[encoded data removed]",
      "text/plain": [
       "<Figure size 864x432 with 1 Axes>"
      ]
     },
     "metadata": {
      "needs_background": "light"
     },
     "output_type": "display_data"
    }
   ],
   "source": [
    "plt.figure(figsize=(12, 6))\n",
    "plt.scatter(np.arange(len(detector.characteristics_)), detector.characteristics_[:,-1], s=8)\n",
    "plt.title('LID')\n",
    "plt.show()"
   ]
  },
  {
   "cell_type": "markdown",
   "metadata": {},
   "source": [
    "## Testing LID detector (class object)"
   ]
  },
  {
   "cell_type": "code",
   "execution_count": 33,
   "metadata": {},
   "outputs": [],
   "source": [
    "# pred = detector.predict(X_test)\n",
    "\n",
    "# print(len(np.where(pred==1)[0]), len(np.where(pred==0)[0]))\n",
    "# print(len(np.where(label_test==1)[0]), len(np.where(label_test==0)[0]))\n",
    "\n",
    "# accuracy = np.sum(pred == label_test) / float(len(label_test))\n",
    "# print(\"Model accuracy on clean examples: {:.4f}%\".format(accuracy * 100))"
   ]
  },
  {
   "cell_type": "code",
   "execution_count": 34,
   "metadata": {},
   "outputs": [],
   "source": [
    "# detector.predict_proba(X_test[:5])"
   ]
  },
  {
   "cell_type": "code",
   "execution_count": 35,
   "metadata": {},
   "outputs": [],
   "source": [
    "# detector.score(X_test[:100], label_test[:100])"
   ]
  },
  {
   "cell_type": "code",
   "execution_count": 36,
   "metadata": {},
   "outputs": [],
   "source": [
    "# prob = detector.predict_proba(X_test)\n",
    "# pred = np.argmax(prob, axis=1)\n",
    "\n",
    "# fpr, tpr, auc_score, thresholds = get_roc(label_test, prob[:, 1], show_plot=True)\n",
    "# precision = precision_score(label_test, pred)\n",
    "# recall = recall_score(label_test, pred)\n",
    "# acc = accuracy_score(label_test, pred)\n",
    "\n",
    "# print('Detector ROC-AUC score: {:0.4f}, accuracy: {:.4f}, precision: {:.4f}, recall: {:.4f}'.format(\n",
    "#     auc_score, acc, precision, recall))"
   ]
  },
  {
   "cell_type": "markdown",
   "metadata": {},
   "source": [
    "## Grid search hyper-parameter values for LID"
   ]
  },
  {
   "cell_type": "code",
   "execution_count": 37,
   "metadata": {},
   "outputs": [],
   "source": [
    "param_grid = {'model': [model], 'k': list(range(K_LID-5, K_LID+6)), \n",
    "              'batch_size': [BATCH_SIZE_LID], 'device': [device]}\n",
    "grid_search = GridSearchCV(LidDetector(), param_grid, cv=4, verbose=1)"
   ]
  },
  {
   "cell_type": "code",
   "execution_count": 38,
   "metadata": {},
   "outputs": [
    {
     "name": "stdout",
     "output_type": "stream",
     "text": [
      "Fitting 4 folds for each of 11 candidates, totalling 44 fits\n"
     ]
    },
    {
     "name": "stderr",
     "output_type": "stream",
     "text": [
      "[Parallel(n_jobs=1)]: Using backend SequentialBackend with 1 concurrent workers.\n",
      "[Parallel(n_jobs=1)]: Done  44 out of  44 | elapsed: 10.6min finished\n"
     ]
    },
    {
     "data": {
      "text/plain": [
       "GridSearchCV(cv=4, estimator=LidDetector(),\n",
       "             param_grid={'batch_size': [100], 'device': [device(type='cuda')],\n",
       "                         'k': [15, 16, 17, 18, 19, 20, 21, 22, 23, 24, 25],\n",
       "                         'model': [Sequential(\n",
       "  (0): Conv2d(1, 32, kernel_size=(3, 3), stride=(1, 1))\n",
       "  (1): ReLU()\n",
       "  (2): Conv2d(32, 64, kernel_size=(3, 3), stride=(1, 1))\n",
       "  (3): ReLU()\n",
       "  (4): MaxPool2d(kernel_size=2, stride=2, padding=0, dilation=1, ceil_mode=False)\n",
       "  (5): Flatten(start_dim=1, end_dim=-1)\n",
       "  (6): Linear(in_features=9216, out_features=200, bias=True)\n",
       "  (7): ReLU()\n",
       "  (8): Linear(in_features=200, out_features=10, bias=True)\n",
       "  (9): LogSoftmax(dim=1)\n",
       ")]},\n",
       "             verbose=1)"
      ]
     },
     "execution_count": 38,
     "metadata": {},
     "output_type": "execute_result"
    }
   ],
   "source": [
    "grid_search.fit(my_train_X, my_train_y)"
   ]
  },
  {
   "cell_type": "code",
   "execution_count": 39,
   "metadata": {},
   "outputs": [
    {
     "data": {
      "text/plain": [
       "{'batch_size': 100,\n",
       " 'device': device(type='cuda'),\n",
       " 'k': 15,\n",
       " 'model': Sequential(\n",
       "   (0): Conv2d(1, 32, kernel_size=(3, 3), stride=(1, 1))\n",
       "   (1): ReLU()\n",
       "   (2): Conv2d(32, 64, kernel_size=(3, 3), stride=(1, 1))\n",
       "   (3): ReLU()\n",
       "   (4): MaxPool2d(kernel_size=2, stride=2, padding=0, dilation=1, ceil_mode=False)\n",
       "   (5): Flatten(start_dim=1, end_dim=-1)\n",
       "   (6): Linear(in_features=9216, out_features=200, bias=True)\n",
       "   (7): ReLU()\n",
       "   (8): Linear(in_features=200, out_features=10, bias=True)\n",
       "   (9): LogSoftmax(dim=1)\n",
       " )}"
      ]
     },
     "execution_count": 39,
     "metadata": {},
     "output_type": "execute_result"
    }
   ],
   "source": [
    "grid_search.best_params_"
   ]
  },
  {
   "cell_type": "code",
   "execution_count": 40,
   "metadata": {},
   "outputs": [
    {
     "data": {
      "text/plain": [
       "0.8396399999999999"
      ]
     },
     "execution_count": 40,
     "metadata": {},
     "output_type": "execute_result"
    }
   ],
   "source": [
    "grid_search.best_score_"
   ]
  },
  {
   "cell_type": "code",
   "execution_count": null,
   "metadata": {},
   "outputs": [],
   "source": []
  }
 ],
 "metadata": {
  "kernelspec": {
   "display_name": "Python 3.6.9 64-bit",
   "language": "python",
   "name": "python36964bit4ada1bcfcd0f4caa95e946f583001e1b"
  },
  "language_info": {
   "codemirror_mode": {
    "name": "ipython",
    "version": 3
   },
   "file_extension": ".py",
   "mimetype": "text/x-python",
   "name": "python",
   "nbconvert_exporter": "python",
   "pygments_lexer": "ipython3",
   "version": "3.6.9"
  }
 },
 "nbformat": 4,
 "nbformat_minor": 4
}
