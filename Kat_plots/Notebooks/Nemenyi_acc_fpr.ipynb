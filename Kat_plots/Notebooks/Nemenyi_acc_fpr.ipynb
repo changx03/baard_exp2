{
 "cells": [
  {
   "cell_type": "code",
   "execution_count": 17,
   "metadata": {},
   "outputs": [],
   "source": [
    "import numpy as np\n",
    "import scikit_posthocs as sp # pip3 install scikit-posthocs\n",
    "import scipy.stats as ss\n",
    "import pandas as pd\n",
    "from os import listdir\n",
    "from autorank import autorank, create_report, plot_stats # pip3 install autorank\n",
    "import matplotlib.pyplot as plt\n",
    "import glob"
   ]
  },
  {
   "cell_type": "markdown",
   "metadata": {},
   "source": [
    "#### get the data, combine different tables into 1 image-acc, 1 image-fpr, 1 rest-acc, 1 rest-fpr tables"
   ]
  },
  {
   "cell_type": "code",
   "execution_count": 68,
   "metadata": {},
   "outputs": [],
   "source": [
    "files_image = np.append(glob.glob('Tables/*cifar*xlsx'), glob.glob('Tables/*mnist*xlsx'))\n",
    "files_basic = np.append(glob.glob('Tables/b*basic*xlsx'), glob.glob('Tables/h*basic*xlsx'))\n",
    "files_tree_svm = np.append(glob.glob('Tables/*svm*xlsx'), glob.glob('Tables/*tree*xlsx'))"
   ]
  },
  {
   "cell_type": "code",
   "execution_count": 79,
   "metadata": {},
   "outputs": [],
   "source": [
    "# combine image results\n",
    "dfs_acc = []\n",
    "dfs_fpr = []\n",
    "for f in files_image:\n",
    "    df = pd.read_excel(f, engine='openpyxl', header=1)\n",
    "    df = df.drop(0)\n",
    "    dfs_acc.append(df.iloc[:,2:8])\n",
    "    dfs_fpr.append(df.iloc[:,8:])\n",
    "res_acc_img = pd.concat(dfs_acc)\n",
    "# if you want to rename the columns so it looks better in the plot\n",
    "res_acc_img.columns = ['BAARD (2)', 'BAARD (3)', 'FS', 'LID', \"MagNet\", 'RC'] \n",
    "res_fpr_img = pd.concat(dfs_fpr)\n",
    "res_fpr_img.columns = res_acc_img.columns"
   ]
  },
  {
   "cell_type": "code",
   "execution_count": 70,
   "metadata": {},
   "outputs": [],
   "source": [
    "# combine non-image BASIC results\n",
    "# ATTENTION: this includes only the non-svm results as the others haven't been defended with LID!\n",
    "dfs_acc = []\n",
    "dfs_fpr = []\n",
    "for f in files_basic:\n",
    "    df = pd.read_excel(f, engine='openpyxl', header=1)\n",
    "    df = df.drop(0)\n",
    "    dfs_acc.append(df.iloc[:,2:6])\n",
    "    dfs_fpr.append(df.iloc[:,6:])\n",
    "res_acc_basic = pd.concat(dfs_acc)\n",
    "# if you want to rename the columns so it looks better in the plot\n",
    "res_acc_basic.columns = ['BAARD (2)', 'BAARD (3)', 'LID', 'RC'] \n",
    "res_fpr_basic = pd.concat(dfs_fpr)\n",
    "res_fpr_basic.columns = res_acc_basic.columns"
   ]
  },
  {
   "cell_type": "code",
   "execution_count": 71,
   "metadata": {},
   "outputs": [],
   "source": [
    "# here are the SVM/Tree results\n",
    "dfs_acc = []\n",
    "dfs_fpr = []\n",
    "for f in files_tree_svm:\n",
    "    df = pd.read_excel(f, engine='openpyxl', header=1)\n",
    "    df = df.drop(0)\n",
    "    dfs_acc.append(df.iloc[:,2:5])\n",
    "    dfs_fpr.append(df.iloc[:,5:])\n",
    "res_acc_tree_svm = pd.concat(dfs_acc)\n",
    "# if you want to rename the columns so it looks better in the plot\n",
    "res_acc_tree_svm.columns = ['BAARD (2)', 'BAARD (3)', 'RC'] \n",
    "res_fpr_tree_svm = pd.concat(dfs_fpr)\n",
    "res_fpr_tree_svm.columns = res_acc_tree_svm.columns"
   ]
  },
  {
   "cell_type": "markdown",
   "metadata": {},
   "source": [
    "#### Run autorank for each of them to get the plots"
   ]
  },
  {
   "cell_type": "code",
   "execution_count": 80,
   "metadata": {},
   "outputs": [
    {
     "name": "stderr",
     "output_type": "stream",
     "text": [
      "/home/katdost/.local/lib/python3.6/site-packages/autorank/_util.py:107: RuntimeWarning: invalid value encountered in double_scalars\n",
      "  return (np.median(x) - np.median(y)) / _pooled_mad(x, y)\n"
     ]
    }
   ],
   "source": [
    "results_acc_img = autorank(res_acc_img)\n",
    "results_fpr_img = autorank(res_fpr_img, order='ascending')\n",
    "results_acc_basic = autorank(res_acc_basic)\n",
    "results_fpr_basic = autorank(res_fpr_basic, order='ascending')\n",
    "results_acc_tree_svm = autorank(res_acc_tree_svm)\n",
    "results_fpr_tree_svm = autorank(res_fpr_tree_svm, order='ascending')"
   ]
  },
  {
   "cell_type": "code",
   "execution_count": 81,
   "metadata": {},
   "outputs": [
    {
     "data": {
      "image/png": "[encoded data removed]",
      "text/plain": [
       "<Figure size 432x140.4 with 1 Axes>"
      ]
     },
     "metadata": {},
     "output_type": "display_data"
    }
   ],
   "source": [
    "# accuracy for image datasets\n",
    "plot_stats(results_acc_img)\n",
    "plt.savefig('Plots/Nemenyi_ACC_imageData.pdf', format='pdf', dpi=1200, bbox_inches='tight')\n",
    "#create_report(results_acc_img)"
   ]
  },
  {
   "cell_type": "code",
   "execution_count": 82,
   "metadata": {},
   "outputs": [
    {
     "data": {
      "image/png": "[encoded data removed]",
      "text/plain": [
       "<Figure size 432x133.2 with 1 Axes>"
      ]
     },
     "metadata": {},
     "output_type": "display_data"
    }
   ],
   "source": [
    "# FPR for image datasets\n",
    "plot_stats(results_fpr_img)\n",
    "plt.savefig('Plots/Nemenyi_FPR_imageData.pdf', format='pdf', dpi=1200, bbox_inches='tight')\n",
    "#create_report(results_fpr_img)"
   ]
  },
  {
   "cell_type": "code",
   "execution_count": 75,
   "metadata": {},
   "outputs": [
    {
     "data": {
      "image/png": "[encoded data removed]",
      "text/plain": [
       "<Figure size 432x111.6 with 1 Axes>"
      ]
     },
     "metadata": {},
     "output_type": "display_data"
    }
   ],
   "source": [
    "# accuracy for non-image datasets\n",
    "plot_stats(results_acc_basic)\n",
    "plt.savefig('Plots/Nemenyi_ACC_nonImageData_basic.pdf', format='pdf', dpi=1200, bbox_inches='tight')\n",
    "#create_report(results_acc_rest)"
   ]
  },
  {
   "cell_type": "code",
   "execution_count": 76,
   "metadata": {},
   "outputs": [
    {
     "data": {
      "image/png": "[encoded data removed]",
      "text/plain": [
       "<Figure size 432x111.6 with 1 Axes>"
      ]
     },
     "metadata": {},
     "output_type": "display_data"
    }
   ],
   "source": [
    "# FPR for non-image datasets\n",
    "plot_stats(results_fpr_basic)\n",
    "plt.savefig('Plots/Nemenyi_FPR_nonImageData_basic.pdf', format='pdf', dpi=1200, bbox_inches='tight')\n",
    "#create_report(results_fpr_rest)"
   ]
  },
  {
   "cell_type": "code",
   "execution_count": 77,
   "metadata": {},
   "outputs": [
    {
     "data": {
      "image/png": "[encoded data removed]",
      "text/plain": [
       "<Figure size 432x104.4 with 1 Axes>"
      ]
     },
     "metadata": {},
     "output_type": "display_data"
    }
   ],
   "source": [
    "# accuracy for non-image datasets (here are the SVM and tree results!)\n",
    "plot_stats(results_acc_tree_svm)\n",
    "plt.savefig('Plots/Nemenyi_ACC_nonImageData_tree_svm.pdf', format='pdf', dpi=1200, bbox_inches='tight')\n",
    "#create_report(results_acc_rest_svm)"
   ]
  },
  {
   "cell_type": "code",
   "execution_count": 78,
   "metadata": {},
   "outputs": [
    {
     "data": {
      "image/png": "[encoded data removed]",
      "text/plain": [
       "<Figure size 432x104.4 with 1 Axes>"
      ]
     },
     "metadata": {},
     "output_type": "display_data"
    }
   ],
   "source": [
    "# FPR for non-image datasets (SVM!)\n",
    "plot_stats(results_fpr_tree_svm)\n",
    "plt.savefig('Plots/Nemenyi_FPR_nonImageData_tree_svm.pdf', format='pdf', dpi=1200, bbox_inches='tight')\n",
    "#create_report(results_fpr_rest_svm)"
   ]
  },
  {
   "cell_type": "code",
   "execution_count": null,
   "metadata": {},
   "outputs": [],
   "source": []
  }
 ],
 "metadata": {
  "kernelspec": {
   "display_name": "Python 3",
   "language": "python",
   "name": "python3"
  },
  "language_info": {
   "codemirror_mode": {
    "name": "ipython",
    "version": 3
   },
   "file_extension": ".py",
   "mimetype": "text/x-python",
   "name": "python",
   "nbconvert_exporter": "python",
   "pygments_lexer": "ipython3",
   "version": "3.6.7"
  }
 },
 "nbformat": 4,
 "nbformat_minor": 2
}
