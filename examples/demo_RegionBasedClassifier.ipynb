{
 "cells": [
  {
   "cell_type": "code",
   "execution_count": null,
   "metadata": {},
   "outputs": [],
   "source": [
    "import sys\n",
    "sys.path.append('..')"
   ]
  },
  {
   "cell_type": "code",
   "execution_count": 2,
   "metadata": {},
   "outputs": [],
   "source": [
    "import os\n",
    "import time\n",
    "\n",
    "import matplotlib.pyplot as plt\n",
    "import numpy as np\n",
    "import torch\n",
    "import torch.nn as nn\n",
    "import torch.nn.functional as F\n",
    "import torch.optim as optim\n",
    "import torchvision as tv\n",
    "import torchvision.datasets as datasets\n",
    "from art.attacks.evasion import BasicIterativeMethod\n",
    "from art.estimators.classification import PyTorchClassifier\n",
    "from sklearn.model_selection import train_test_split\n",
    "from torch.utils.data import DataLoader, TensorDataset\n",
    "\n",
    "from defences.region_based_classifier import RegionBasedClassifier\n",
    "from defences.util import dataset2tensor, get_correct_examples"
   ]
  },
  {
   "cell_type": "code",
   "execution_count": 3,
   "metadata": {},
   "outputs": [],
   "source": [
    "%load_ext autoreload\n",
    "%autoreload 2"
   ]
  },
  {
   "cell_type": "code",
   "execution_count": 4,
   "metadata": {},
   "outputs": [
    {
     "name": "stdout",
     "output_type": "stream",
     "text": [
      "Device: cuda\n",
      "CPU threads: 24\n"
     ]
    }
   ],
   "source": [
    "device = torch.device('cuda' if torch.cuda.is_available() else 'cpu')\n",
    "print('Device: {}'.format(device))\n",
    "\n",
    "n_threads = os.cpu_count()\n",
    "print('CPU threads: {}'.format(n_threads))"
   ]
  },
  {
   "cell_type": "code",
   "execution_count": 5,
   "metadata": {},
   "outputs": [],
   "source": [
    "PATH = os.path.join('..', 'data')\n",
    "BATCH_SIZE = 128\n",
    "EPOCHS = 20\n",
    "N_ADV = 2000"
   ]
  },
  {
   "cell_type": "code",
   "execution_count": 6,
   "metadata": {},
   "outputs": [],
   "source": [
    "# Fetch dataset\n",
    "transforms = tv.transforms.Compose([tv.transforms.ToTensor()])\n",
    "dataset_train = datasets.MNIST(PATH, train=True, download=True, transform=transforms)\n",
    "dataset_test = datasets.MNIST(PATH, train=False, download=True, transform=transforms)\n",
    "\n",
    "# From PyTorch dataset to Numpy array\n",
    "tensor_X_train, tensor_y_train = dataset2tensor(dataset_train)\n",
    "X_train = tensor_X_train.cpu().detach().numpy()\n",
    "y_train = tensor_y_train.cpu().detach().numpy()\n",
    "\n",
    "# Split model training set into training set and validation set\n",
    "X_train, X_val, y_train, y_val = train_test_split(X_train, y_train, test_size=5000)\n",
    "dataset_train = TensorDataset(\n",
    "    torch.tensor(X_train, dtype=torch.float32),\n",
    "    torch.tensor(y_train, dtype=torch.int64))\n",
    "\n",
    "dataloader_train = DataLoader(dataset_train, batch_size=BATCH_SIZE, shuffle=True)\n",
    "dataloader_test = DataLoader(dataset_test, batch_size=BATCH_SIZE, shuffle=True)"
   ]
  },
  {
   "cell_type": "code",
   "execution_count": 7,
   "metadata": {},
   "outputs": [
    {
     "name": "stdout",
     "output_type": "stream",
     "text": [
      "55000\n",
      "torch.Size([10000, 28, 28])\n"
     ]
    }
   ],
   "source": [
    "print(len(dataset_train))\n",
    "print(dataset_test.data.size())"
   ]
  },
  {
   "cell_type": "markdown",
   "metadata": {},
   "source": [
    "## Train point-based classifier"
   ]
  },
  {
   "cell_type": "code",
   "execution_count": 8,
   "metadata": {},
   "outputs": [
    {
     "name": "stdout",
     "output_type": "stream",
     "text": [
      "Number of layers: 10\n"
     ]
    }
   ],
   "source": [
    "# Create Neural Network model\n",
    "model = nn.Sequential(\n",
    "    nn.Conv2d(1, 32, 3, 1),\n",
    "    nn.ReLU(),\n",
    "    nn.Conv2d(32, 64, 3, 1),\n",
    "    nn.ReLU(),\n",
    "    nn.MaxPool2d(2),\n",
    "    nn.Flatten(),\n",
    "    nn.Linear(9216, 200),\n",
    "    nn.ReLU(),\n",
    "    nn.Linear(200, 10),\n",
    "    nn.LogSoftmax(dim=1)\n",
    ")\n",
    "model.to(device)\n",
    "print('Number of layers: {}'.format(len(list(model.children()))))"
   ]
  },
  {
   "cell_type": "code",
   "execution_count": 9,
   "metadata": {},
   "outputs": [],
   "source": [
    "def train(model, loader, loss, optimizer):\n",
    "    model.train()\n",
    "    total_loss = 0.\n",
    "    corrects = 0.\n",
    "    \n",
    "    for x, y in loader:\n",
    "        x = x.to(device)\n",
    "        y = y.to(device)\n",
    "        batch_size = x.size(0)\n",
    "        \n",
    "        optimizer.zero_grad()\n",
    "        outputs = model(x)\n",
    "        l = loss(outputs, y)\n",
    "        l.backward()\n",
    "        optimizer.step()\n",
    "\n",
    "        # for display\n",
    "        total_loss += l.item() * batch_size\n",
    "        preds = outputs.max(1, keepdim=True)[1]\n",
    "        corrects += preds.eq(y.view_as(preds)).sum().item()\n",
    "    \n",
    "    n = len(loader.dataset)\n",
    "    total_loss = total_loss / n\n",
    "    accuracy = corrects / n\n",
    "    return total_loss, accuracy"
   ]
  },
  {
   "cell_type": "code",
   "execution_count": 10,
   "metadata": {},
   "outputs": [],
   "source": [
    "def validate(model, loader, loss, device=device):\n",
    "    model.eval()\n",
    "    total_loss = 0.\n",
    "    corrects = 0.\n",
    "    \n",
    "    with torch.no_grad():\n",
    "        for x, y in loader:\n",
    "            x = x.to(device)\n",
    "            y = y.to(device)\n",
    "            batch_size = x.size(0)\n",
    "            outputs = model(x)\n",
    "            l = loss(outputs, y)\n",
    "            total_loss += l.item() * batch_size\n",
    "            preds = outputs.max(1, keepdim=True)[1]\n",
    "            corrects += preds.eq(y.view_as(preds)).sum().item()\n",
    "    \n",
    "    n = len(loader.dataset)\n",
    "    total_loss = total_loss / n\n",
    "    accuracy = corrects / n\n",
    "    return total_loss, accuracy"
   ]
  },
  {
   "cell_type": "code",
   "execution_count": 11,
   "metadata": {},
   "outputs": [],
   "source": [
    "def predict(model, X, batch_size=BATCH_SIZE, device=device):\n",
    "    model.eval()\n",
    "    dataset = TensorDataset(X)\n",
    "    loader = DataLoader(dataset, batch_size=batch_size, shuffle=False)\n",
    "    tensor_pred = -torch.ones(len(X), dtype=torch.int64)\n",
    "    \n",
    "    start = 0\n",
    "    with torch.no_grad():\n",
    "        for x in loader:\n",
    "            x = x[0].to(device)\n",
    "            n = x.size(0)\n",
    "            end = start + n\n",
    "            outputs = model(x)\n",
    "            tensor_pred[start:end] = outputs.max(1)[1].type(torch.int64)\n",
    "            start += n\n",
    "\n",
    "    return tensor_pred"
   ]
  },
  {
   "cell_type": "code",
   "execution_count": 12,
   "metadata": {},
   "outputs": [],
   "source": [
    "optimizer = optim.SGD(model.parameters(), lr=0.01, momentum=0.9)\n",
    "loss=nn.NLLLoss()"
   ]
  },
  {
   "cell_type": "code",
   "execution_count": 13,
   "metadata": {},
   "outputs": [
    {
     "name": "stdout",
     "output_type": "stream",
     "text": [
      "[ 1] 0m 2.3s Train Loss: 0.4181 Accuracy: 87.5273%, Test Loss: 0.1618 Accuracy: 94.9700%\n",
      "[ 2] 0m 2.2s Train Loss: 0.1294 Accuracy: 96.0909%, Test Loss: 0.0896 Accuracy: 97.0900%\n",
      "[ 3] 0m 2.1s Train Loss: 0.0854 Accuracy: 97.3818%, Test Loss: 0.0705 Accuracy: 97.6600%\n",
      "[ 4] 0m 2.1s Train Loss: 0.0607 Accuracy: 98.0836%, Test Loss: 0.0548 Accuracy: 98.2000%\n",
      "[ 5] 0m 2.1s Train Loss: 0.0463 Accuracy: 98.5600%, Test Loss: 0.0513 Accuracy: 98.2200%\n",
      "[ 6] 0m 2.1s Train Loss: 0.0361 Accuracy: 98.8982%, Test Loss: 0.0476 Accuracy: 98.3800%\n",
      "[ 7] 0m 2.2s Train Loss: 0.0295 Accuracy: 99.0709%, Test Loss: 0.0444 Accuracy: 98.4400%\n",
      "[ 8] 0m 2.2s Train Loss: 0.0236 Accuracy: 99.2745%, Test Loss: 0.0430 Accuracy: 98.5000%\n",
      "[ 9] 0m 2.2s Train Loss: 0.0185 Accuracy: 99.4418%, Test Loss: 0.0418 Accuracy: 98.7200%\n",
      "[10] 0m 2.1s Train Loss: 0.0157 Accuracy: 99.5073%, Test Loss: 0.0434 Accuracy: 98.5700%\n",
      "[11] 0m 2.1s Train Loss: 0.0125 Accuracy: 99.6364%, Test Loss: 0.0434 Accuracy: 98.5900%\n",
      "[12] 0m 2.2s Train Loss: 0.0095 Accuracy: 99.7400%, Test Loss: 0.0426 Accuracy: 98.7500%\n",
      "[13] 0m 2.2s Train Loss: 0.0071 Accuracy: 99.8091%, Test Loss: 0.0416 Accuracy: 98.7400%\n",
      "[14] 0m 2.2s Train Loss: 0.0063 Accuracy: 99.8327%, Test Loss: 0.0450 Accuracy: 98.7100%\n",
      "[15] 0m 2.2s Train Loss: 0.0047 Accuracy: 99.8855%, Test Loss: 0.0425 Accuracy: 98.7200%\n",
      "[16] 0m 2.2s Train Loss: 0.0035 Accuracy: 99.9200%, Test Loss: 0.0394 Accuracy: 98.8700%\n",
      "[17] 0m 2.2s Train Loss: 0.0032 Accuracy: 99.9218%, Test Loss: 0.0444 Accuracy: 98.6900%\n",
      "[18] 0m 2.2s Train Loss: 0.0018 Accuracy: 99.9745%, Test Loss: 0.0436 Accuracy: 98.7800%\n",
      "[19] 0m 2.2s Train Loss: 0.0016 Accuracy: 99.9691%, Test Loss: 0.0434 Accuracy: 98.7800%\n",
      "[20] 0m 2.2s Train Loss: 0.0010 Accuracy: 99.9818%, Test Loss: 0.0448 Accuracy: 98.7700%\n",
      "Total run time: 0m 43.4s\n"
     ]
    }
   ],
   "source": [
    "since = time.time()\n",
    "for epoch in range(EPOCHS):\n",
    "    start = time.time()\n",
    "    tr_loss, tr_acc = train(model, dataloader_train, loss, optimizer)\n",
    "    va_loss, va_acc = validate(model, dataloader_test, loss)\n",
    "    \n",
    "    time_elapsed = time.time() - start\n",
    "    print(('[{:2d}] {:.0f}m {:.1f}s Train Loss: {:.4f} Accuracy: {:.4f}%, ' +\n",
    "        'Test Loss: {:.4f} Accuracy: {:.4f}%').format(\n",
    "            epoch+1, time_elapsed // 60, time_elapsed % 60,\n",
    "            tr_loss, tr_acc*100.,\n",
    "            va_loss, va_acc*100.))\n",
    "    \n",
    "time_elapsed = time.time() - since\n",
    "print('Total run time: {:.0f}m {:.1f}s'.format(\n",
    "    time_elapsed // 60,\n",
    "    time_elapsed % 60))"
   ]
  },
  {
   "cell_type": "markdown",
   "metadata": {},
   "source": [
    "## Remove missclassified samples"
   ]
  },
  {
   "cell_type": "code",
   "execution_count": 14,
   "metadata": {},
   "outputs": [
    {
     "name": "stdout",
     "output_type": "stream",
     "text": [
      "Training set: 55000\n",
      "Accuracy on 54991 filtered training examples: 100.0000%\n",
      "Test set: 10000\n",
      "Accuracy on 9877 filtered test examples: 100.0000%\n"
     ]
    }
   ],
   "source": [
    "print('Training set: {}'.format(len(dataset_train)))\n",
    "tensor_train_X, tensor_train_y = get_correct_examples(model, dataset_train, device=device, return_tensor=True)\n",
    "dataset_train_perfect = TensorDataset(tensor_train_X, tensor_train_y)\n",
    "dataloader_train_perfect = DataLoader(dataset_train_perfect, batch_size=512, shuffle=True)\n",
    "_, acc = validate(model, dataloader_train_perfect, loss)\n",
    "print('Accuracy on {} filtered training examples: {:.4f}%'.format(len(dataloader_train_perfect.dataset), acc*100))\n",
    "\n",
    "print('Test set: {}'.format(len(dataset_test)))\n",
    "tensor_test_X, tensor_test_y = get_correct_examples(model, dataset_test, device=device, return_tensor=True)\n",
    "dataset_test_perfect = TensorDataset(tensor_test_X, tensor_test_y)\n",
    "dataloader_test_perfect = DataLoader(dataset_test_perfect, batch_size=512, shuffle=True)\n",
    "_, acc = validate(model, dataloader_test_perfect, loss)\n",
    "print('Accuracy on {} filtered test examples: {:.4f}%'.format(len(dataloader_test_perfect.dataset), acc*100))"
   ]
  },
  {
   "cell_type": "markdown",
   "metadata": {},
   "source": [
    "## Create adversarial examples "
   ]
  },
  {
   "cell_type": "code",
   "execution_count": 15,
   "metadata": {},
   "outputs": [],
   "source": [
    "classifier = PyTorchClassifier(\n",
    "    model=model, \n",
    "    loss=loss, \n",
    "    input_shape=(1, 28, 28), \n",
    "    optimizer=optimizer,\n",
    "    nb_classes=10,\n",
    "    clip_values=(0.0, 1.0),\n",
    "    device_type=device\n",
    ")\n",
    "\n",
    "# attack = FastGradientMethod(estimator=classifier, eps=0.2)\n",
    "attack = BasicIterativeMethod(estimator=classifier, eps=0.2)"
   ]
  },
  {
   "cell_type": "code",
   "execution_count": 16,
   "metadata": {},
   "outputs": [],
   "source": [
    "# Prepare dataset for adversarial examples\n",
    "n = len(dataset_test_perfect)\n",
    "indices = torch.randperm(n)[:N_ADV]\n",
    "\n",
    "pt_subset_X = tensor_test_X[indices]  # PyTorch Tensor\n",
    "pt_subset_y = tensor_test_y[indices]\n",
    "\n",
    "subset_X = pt_subset_X.cpu().detach().numpy()\n",
    "subset_y = pt_subset_y.cpu().detach().numpy()"
   ]
  },
  {
   "cell_type": "code",
   "execution_count": 17,
   "metadata": {},
   "outputs": [
    {
     "name": "stderr",
     "output_type": "stream",
     "text": [
      "PGD - Batches:   0%|          | 0/63 [00:00<?, ?it/s]"
     ]
    },
    {
     "name": "stdout",
     "output_type": "stream",
     "text": [
      "Model accuracy on clean examples: 100.0000%\n"
     ]
    },
    {
     "name": "stderr",
     "output_type": "stream",
     "text": [
      "/home/lukec/.local/lib/python3.6/site-packages/art/estimators/classification/pytorch.py:525: UserWarning: To copy construct from a tensor, it is recommended to use sourceTensor.clone().detach() or sourceTensor.clone().detach().requires_grad_(True), rather than torch.tensor(sourceTensor).\n",
      "  x_grad = torch.tensor(x).to(self._device)\n",
      "/home/lukec/.local/lib/python3.6/site-packages/art/estimators/classification/pytorch.py:526: UserWarning: To copy construct from a tensor, it is recommended to use sourceTensor.clone().detach() or sourceTensor.clone().detach().requires_grad_(True), rather than torch.tensor(sourceTensor).\n",
      "  y_grad = torch.tensor(y).to(self._device)\n",
      "                                                              \r"
     ]
    },
    {
     "name": "stdout",
     "output_type": "stream",
     "text": [
      "Model accuracy on adversarial examples: 7.4500%\n"
     ]
    }
   ],
   "source": [
    "# Create adversarial examples\n",
    "subset_pred = np.argmax(classifier.predict(subset_X), axis=1)\n",
    "accuracy = np.sum(subset_pred == subset_y) / float(len(subset_pred))\n",
    "print(\"Model accuracy on clean examples: {:.4f}%\".format(accuracy * 100))\n",
    "\n",
    "# Generate adversarial examples\n",
    "subset_adv = attack.generate(x=subset_X)\n",
    "subset_pred = np.argmax(classifier.predict(subset_adv), axis=1)\n",
    "\n",
    "accuracy = np.sum(subset_pred == subset_y) / float(len(subset_pred))\n",
    "print(\"Model accuracy on adversarial examples: {:.4f}%\".format(accuracy * 100))"
   ]
  },
  {
   "cell_type": "markdown",
   "metadata": {},
   "source": [
    "## Region-based classification"
   ]
  },
  {
   "cell_type": "code",
   "execution_count": 18,
   "metadata": {},
   "outputs": [
    {
     "name": "stdout",
     "output_type": "stream",
     "text": [
      "Test set (Adversarial examples): (1000, 1, 28, 28)\n",
      "Test set (True labels) : (1000,)\n",
      "Validation set (Benign samples): (5000, 1, 28, 28)\n",
      "Validation set (True labels) : (5000,)\n"
     ]
    }
   ],
   "source": [
    "X_benign = subset_X[:1000]\n",
    "X_adv = subset_adv[:1000]\n",
    "y_true = subset_y[:1000]\n",
    "\n",
    "print('Test set (Adversarial examples):', X_adv.shape)\n",
    "print('Test set (True labels) :', y_true.shape)\n",
    "\n",
    "print('Validation set (Benign samples):', X_val.shape)\n",
    "print('Validation set (True labels) :', y_val.shape)"
   ]
  },
  {
   "cell_type": "code",
   "execution_count": 19,
   "metadata": {},
   "outputs": [],
   "source": [
    "rb_classifier = RegionBasedClassifier(\n",
    "    model=model,\n",
    "    r=0.3,\n",
    "    sample_size=1000,\n",
    "    n_classes=10,\n",
    "    x_min=0.0,\n",
    "    x_max=1.0,\n",
    "    batch_size=128,\n",
    "    device=device)"
   ]
  },
  {
   "cell_type": "markdown",
   "metadata": {},
   "source": [
    "## Learn hyper-parameter r"
   ]
  },
  {
   "cell_type": "code",
   "execution_count": 20,
   "metadata": {},
   "outputs": [],
   "source": [
    "R0 = 0.0\n",
    "STEP_SIZE = 0.02\n",
    "STOP_VALUE = 0.40"
   ]
  },
  {
   "cell_type": "code",
   "execution_count": 21,
   "metadata": {},
   "outputs": [
    {
     "name": "stdout",
     "output_type": "stream",
     "text": [
      "Accuracy on validation set: 0.9890\n"
     ]
    }
   ],
   "source": [
    "tensor_pred_val = predict(model, torch.tensor(X_val[:1000], dtype=torch.float32))\n",
    "pred_val = tensor_pred_val.cpu().detach().numpy()\n",
    "acc_pb = np.sum(pred_val == y_val[:1000]) / float(len(pred_val))\n",
    "\n",
    "print('Accuracy on validation set: {:.4f}'.format(acc_pb))"
   ]
  },
  {
   "cell_type": "code",
   "execution_count": 22,
   "metadata": {},
   "outputs": [
    {
     "name": "stdout",
     "output_type": "stream",
     "text": [
      "Accuracy on validation set: 0.9890\n",
      "[0:00:14.976923] Accuracy on region-based: 0.9890, r: 0.00\n",
      "[0:00:17.998601] Accuracy on region-based: 0.9890, r: 0.02\n",
      "[0:00:18.021157] Accuracy on region-based: 0.9890, r: 0.04\n",
      "[0:00:18.352414] Accuracy on region-based: 0.9890, r: 0.06\n",
      "[0:00:18.167583] Accuracy on region-based: 0.9890, r: 0.08\n",
      "[0:00:18.053705] Accuracy on region-based: 0.9890, r: 0.10\n",
      "[0:00:18.379886] Accuracy on region-based: 0.9890, r: 0.12\n",
      "[0:00:18.126401] Accuracy on region-based: 0.9890, r: 0.14\n",
      "[0:00:18.710224] Accuracy on region-based: 0.9900, r: 0.16\n",
      "[0:00:18.597810] Accuracy on region-based: 0.9890, r: 0.18\n",
      "[0:00:18.548481] Accuracy on region-based: 0.9890, r: 0.20\n",
      "[0:00:18.323534] Accuracy on region-based: 0.9890, r: 0.22\n",
      "[0:00:18.125567] Accuracy on region-based: 0.9890, r: 0.24\n",
      "[0:00:18.446974] Accuracy on region-based: 0.9890, r: 0.26\n",
      "[0:00:18.475147] Accuracy on region-based: 0.9900, r: 0.28\n",
      "[0:00:18.316252] Accuracy on region-based: 0.9910, r: 0.30\n",
      "[0:00:18.375792] Accuracy on region-based: 0.9900, r: 0.32\n",
      "[0:00:18.460790] Accuracy on region-based: 0.9880, r: 0.34\n",
      "[0:00:18.453986] Accuracy on region-based: 0.9890, r: 0.36\n",
      "[0:00:18.385576] Accuracy on region-based: 0.9890, r: 0.38\n"
     ]
    }
   ],
   "source": [
    "r_best, r_history = rb_classifier.search_r(\n",
    "    X_val[:1000],\n",
    "    y_val[:1000],\n",
    "    r0=R0,\n",
    "    step_size=STEP_SIZE,\n",
    "    stop=STOP_VALUE,\n",
    "    update=False,\n",
    "    verbose=1)"
   ]
  },
  {
   "cell_type": "code",
   "execution_count": 23,
   "metadata": {},
   "outputs": [
    {
     "name": "stdout",
     "output_type": "stream",
     "text": [
      "0.4000000000000001\n"
     ]
    }
   ],
   "source": [
    "print(r_best)"
   ]
  },
  {
   "cell_type": "code",
   "execution_count": 24,
   "metadata": {},
   "outputs": [
    {
     "data": {
      "image/png": "[encoded data removed]",
      "text/plain": [
       "<Figure size 576x432 with 1 Axes>"
      ]
     },
     "metadata": {
      "needs_background": "light"
     },
     "output_type": "display_data"
    }
   ],
   "source": [
    "plt.figure(figsize=(8, 6))\n",
    "plt.hlines([acc_pb], xmin=R0, xmax=STOP_VALUE, linestyles='dashed', label='Point-based classifier')\n",
    "plt.plot(r_history[:, 0], r_history[:, 1], c='red', label='Region-based classifier')\n",
    "plt.xlim(0.04, 0.4)\n",
    "plt.xlabel('r')\n",
    "plt.ylabel('Accuracy')\n",
    "plt.legend()\n",
    "plt.show()"
   ]
  },
  {
   "cell_type": "code",
   "execution_count": 26,
   "metadata": {},
   "outputs": [
    {
     "name": "stdout",
     "output_type": "stream",
     "text": [
      "0.4000000000000001\n"
     ]
    }
   ],
   "source": [
    "# Update r\n",
    "rb_classifier.r=r_best\n",
    "print(rb_classifier.r)"
   ]
  },
  {
   "cell_type": "markdown",
   "metadata": {},
   "source": [
    "## Test region-based classifier"
   ]
  },
  {
   "cell_type": "code",
   "execution_count": 27,
   "metadata": {},
   "outputs": [
    {
     "name": "stdout",
     "output_type": "stream",
     "text": [
      "True labels:                              [6 3 0 7 8 0 9 2 1 4]\n",
      "Predictions from point-based classifier:  [5 9 7 9 3 7 8 3 2 9]\n",
      "Predictions from region-based classifier: [5 3 7 9 3 7 8 2 2 9]\n"
     ]
    }
   ],
   "source": [
    "pred_adv = np.argmax(classifier.predict(X_adv), axis=1)\n",
    "pred_rb = rb_classifier.predict(X_adv)\n",
    "pred_benign = rb_classifier.predict(X_benign)\n",
    "\n",
    "print('True labels:                             ', y_true[:10])\n",
    "print('Predictions from point-based classifier: ', pred_adv[:10])\n",
    "print('Predictions from region-based classifier:', pred_rb[:10])"
   ]
  },
  {
   "cell_type": "code",
   "execution_count": 28,
   "metadata": {},
   "outputs": [
    {
     "name": "stdout",
     "output_type": "stream",
     "text": [
      "Model accuracy of adversarial examples on point-based classifier: 7.5000%\n",
      "Model accuracy of adversarial examples on regin-based classifier: 18.5000%\n",
      "Model accuracy of benign samples on regin-based classifier: 99.5000%\n"
     ]
    }
   ],
   "source": [
    "accuracy = np.sum(pred_adv == y_true) / float(len(X_adv))\n",
    "print(\"Model accuracy of adversarial examples on point-based classifier: {:.4f}%\".format(accuracy * 100))\n",
    "\n",
    "accuracy = np.sum(pred_rb == y_true) / float(len(X_adv))\n",
    "print(\"Model accuracy of adversarial examples on regin-based classifier: {:.4f}%\".format(accuracy * 100))\n",
    "\n",
    "accuracy = np.sum(pred_benign == y_true) / float(len(X_adv))\n",
    "print(\"Model accuracy of benign samples on regin-based classifier: {:.4f}%\".format(accuracy * 100))"
   ]
  },
  {
   "cell_type": "code",
   "execution_count": 29,
   "metadata": {},
   "outputs": [
    {
     "name": "stdout",
     "output_type": "stream",
     "text": [
      "[[0.    0.    0.    0.    0.    1.    0.    0.    0.    0.   ]\n",
      " [0.    0.    0.    0.802 0.    0.    0.    0.    0.002 0.196]\n",
      " [0.    0.    0.    0.    0.    0.    0.    1.    0.    0.   ]\n",
      " [0.    0.    0.    0.266 0.    0.    0.    0.03  0.    0.704]\n",
      " [0.    0.    0.    0.938 0.    0.    0.    0.    0.062 0.   ]\n",
      " [0.08  0.    0.    0.    0.    0.    0.    0.92  0.    0.   ]\n",
      " [0.    0.    0.    0.    0.    0.    0.    0.    1.    0.   ]\n",
      " [0.    0.    0.559 0.439 0.    0.    0.    0.    0.002 0.   ]\n",
      " [0.    0.    1.    0.    0.    0.    0.    0.    0.    0.   ]\n",
      " [0.    0.    0.    0.004 0.008 0.    0.    0.    0.    0.988]]\n"
     ]
    }
   ],
   "source": [
    "prob_rb = rb_classifier.predict_proba(X_adv[:10])\n",
    "print(prob_rb)"
   ]
  },
  {
   "cell_type": "code",
   "execution_count": null,
   "metadata": {},
   "outputs": [],
   "source": []
  }
 ],
 "metadata": {
  "kernelspec": {
   "display_name": "Python 3.6.9 64-bit",
   "language": "python",
   "name": "python36964bit4ada1bcfcd0f4caa95e946f583001e1b"
  },
  "language_info": {
   "codemirror_mode": {
    "name": "ipython",
    "version": 3
   },
   "file_extension": ".py",
   "mimetype": "text/x-python",
   "name": "python",
   "nbconvert_exporter": "python",
   "pygments_lexer": "ipython3",
   "version": "3.6.9"
  }
 },
 "nbformat": 4,
 "nbformat_minor": 4
}
