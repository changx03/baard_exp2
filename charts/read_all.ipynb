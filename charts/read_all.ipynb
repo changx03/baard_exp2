{
 "metadata": {
  "language_info": {
   "codemirror_mode": {
    "name": "ipython",
    "version": 3
   },
   "file_extension": ".py",
   "mimetype": "text/x-python",
   "name": "python",
   "nbconvert_exporter": "python",
   "pygments_lexer": "ipython3",
   "version": "3.8.8-final"
  },
  "orig_nbformat": 2,
  "kernelspec": {
   "name": "python3",
   "display_name": "Python 3.8.8 64-bit ('torchenv': conda)",
   "metadata": {
    "interpreter": {
     "hash": "2750074f81b10b36155d5a978b3308a64cf1a02968dff72197268ca7200c6321"
    }
   }
  }
 },
 "nbformat": 4,
 "nbformat_minor": 2,
 "cells": [
  {
   "cell_type": "code",
   "execution_count": 1,
   "metadata": {},
   "outputs": [],
   "source": [
    "import os\n",
    "import glob\n",
    "\n",
    "import numpy as np\n",
    "import scikit_posthocs as sp # pip3 install scikit-posthocs\n",
    "import scipy.stats as ss\n",
    "import pandas as pd\n",
    "from autorank import autorank, create_report, plot_stats # pip3 install autorank\n",
    "import matplotlib.pyplot as plt\n",
    "import seaborn as sns\n",
    "from matplotlib import gridspec"
   ]
  },
  {
   "cell_type": "code",
   "execution_count": 2,
   "metadata": {},
   "outputs": [],
   "source": [
    "def read_baard_results(data, model, attacks):\n",
    "    list_df = []\n",
    "    for i in range(5):\n",
    "        for a in attacks:\n",
    "            path = os.path.join(\n",
    "                '..','results', 'result_{}'.format(i), '{}_{}'.format(data, model), 'results', \n",
    "                '{}_{}_{}_baard.csv'.format(data, model, a))\n",
    "            df = pd.read_csv(path)\n",
    "            df = df.drop('Unnamed: 0', axis=1)\n",
    "            list_df.append(df)\n",
    "    df = pd.concat(list_df, axis=0, ignore_index=True)\n",
    "    df = df.rename(columns={\n",
    "        'acc_on_adv_3': 'acc_on_adv',\n",
    "        'fpr_3': 'fpr'\n",
    "    })\n",
    "    df['defence'] = 'baard'\n",
    "    return df[['data', 'model', 'attack', 'adv_param', 'defence', 'acc_no_def', 'acc_on_adv', 'fpr']]"
   ]
  },
  {
   "cell_type": "code",
   "execution_count": 3,
   "metadata": {},
   "outputs": [],
   "source": [
    "def merge_results(data, model, attacks, defences):\n",
    "    list_df = []\n",
    "    for i in range(5):\n",
    "        for a in attacks:\n",
    "            for d in defences:\n",
    "                p_mnist_dnn_apgd2_baard = os.path.join(\n",
    "                    '..', 'results', 'result_{}'.format(i), '{}_{}'.format(data, model), 'results', \n",
    "                    '{}_{}_{}_{}.csv'.format(data, model, a, d))\n",
    "                df = pd.read_csv(p_mnist_dnn_apgd2_baard)\n",
    "                df = df.drop('Unnamed: 0', axis=1)\n",
    "                df['defence'] = d\n",
    "                list_df.append(df)\n",
    "    df = pd.concat(list_df, axis=0, ignore_index=True)\n",
    "    return df"
   ]
  },
  {
   "cell_type": "code",
   "execution_count": 4,
   "metadata": {},
   "outputs": [],
   "source": [
    "# Load MNIST\n",
    "attacks = ['fgsm', 'apgd', 'apgd2', 'cw2', 'deepfool', 'line']\n",
    "\n",
    "df = read_baard_results('mnist', 'dnn', attacks)\n",
    "\n",
    "defences = ['fs', 'lid', 'magnet', 'rc']\n",
    "df = df.append(merge_results('mnist', 'dnn', attacks, defences))\n",
    "\n",
    "# Load CIFAR10 ResNet\n",
    "df = df.append(read_baard_results('cifar10', 'resnet', attacks))\n",
    "df = df.append(merge_results('cifar10', 'resnet', attacks, defences))\n",
    "\n",
    "# Load CIFAR10 Vgg\n",
    "df = df.append(read_baard_results('cifar10', 'vgg', attacks))\n",
    "df = df.append(merge_results('cifar10', 'vgg', attacks, defences))"
   ]
  },
  {
   "cell_type": "code",
   "execution_count": 5,
   "metadata": {},
   "outputs": [],
   "source": [
    "# Numeric DNN\n",
    "attacks = ['fgsm', 'apgd', 'apgd2', 'cw2']\n",
    "defences = ['lid', 'magnet', 'rc']\n",
    "\n",
    "data_num = ['banknote', 'breastcancer', 'htru2']\n",
    "for d in data_num: \n",
    "    df = df.append(read_baard_results(d, 'dnn', attacks))\n",
    "    df = df.append(merge_results(d, 'dnn', attacks, defences))"
   ]
  },
  {
   "cell_type": "code",
   "execution_count": 6,
   "metadata": {},
   "outputs": [],
   "source": [
    "# SVM\n",
    "attacks = ['fgsm', 'bim', 'boundary']\n",
    "defences = ['magnet', 'rc']\n",
    "\n",
    "for d in data_num:\n",
    "    df = df.append(read_baard_results(d, 'svm', attacks))\n",
    "    df = df.append(merge_results(d, 'svm', attacks, defences))"
   ]
  },
  {
   "cell_type": "code",
   "execution_count": 7,
   "metadata": {},
   "outputs": [],
   "source": [
    "# Tree\n",
    "attacks = ['tree', 'boundary']\n",
    "defences = ['magnet', 'rc']\n",
    "\n",
    "for d in data_num:\n",
    "    df = df.append(read_baard_results(d, 'tree', attacks))\n",
    "    df = df.append(merge_results(d, 'tree', attacks, defences))"
   ]
  },
  {
   "cell_type": "code",
   "execution_count": 8,
   "metadata": {},
   "outputs": [
    {
     "output_type": "execute_result",
     "data": {
      "text/plain": [
       "         data model attack  adv_param defence  acc_no_def  acc_on_adv  \\\n",
       "7    banknote   dnn   apgd       0.05   baard    0.688442    0.924623   \n",
       "30   banknote   dnn   apgd       0.05   baard    0.728643    0.939698   \n",
       "53   banknote   dnn   apgd       0.05   baard    0.722222    0.904040   \n",
       "76   banknote   dnn   apgd       0.05   baard    0.761421    0.923858   \n",
       "99   banknote   dnn   apgd       0.05   baard    0.761421    0.923858   \n",
       "..        ...   ...    ...        ...     ...         ...         ...   \n",
       "99      mnist   dnn   line       1.00      rc    0.970000    0.970000   \n",
       "199     mnist   dnn   line       1.00      rc    0.977000    0.977000   \n",
       "299     mnist   dnn   line       1.00      rc    0.967000    0.966000   \n",
       "399     mnist   dnn   line       1.00      rc    0.971000    0.963000   \n",
       "499     mnist   dnn   line       1.00      rc    0.983000    0.981000   \n",
       "\n",
       "          fpr  \n",
       "7    0.000000  \n",
       "30   0.020101  \n",
       "53   0.005051  \n",
       "76   0.010152  \n",
       "99   0.010152  \n",
       "..        ...  \n",
       "99   0.000000  \n",
       "199  0.000000  \n",
       "299  0.001000  \n",
       "399  0.002000  \n",
       "499  0.001000  \n",
       "\n",
       "[4020 rows x 8 columns]"
      ],
      "text/html": "<div>\n<style scoped>\n    .dataframe tbody tr th:only-of-type {\n        vertical-align: middle;\n    }\n\n    .dataframe tbody tr th {\n        vertical-align: top;\n    }\n\n    .dataframe thead th {\n        text-align: right;\n    }\n</style>\n<table border=\"1\" class=\"dataframe\">\n  <thead>\n    <tr style=\"text-align: right;\">\n      <th></th>\n      <th>data</th>\n      <th>model</th>\n      <th>attack</th>\n      <th>adv_param</th>\n      <th>defence</th>\n      <th>acc_no_def</th>\n      <th>acc_on_adv</th>\n      <th>fpr</th>\n    </tr>\n  </thead>\n  <tbody>\n    <tr>\n      <th>7</th>\n      <td>banknote</td>\n      <td>dnn</td>\n      <td>apgd</td>\n      <td>0.05</td>\n      <td>baard</td>\n      <td>0.688442</td>\n      <td>0.924623</td>\n      <td>0.000000</td>\n    </tr>\n    <tr>\n      <th>30</th>\n      <td>banknote</td>\n      <td>dnn</td>\n      <td>apgd</td>\n      <td>0.05</td>\n      <td>baard</td>\n      <td>0.728643</td>\n      <td>0.939698</td>\n      <td>0.020101</td>\n    </tr>\n    <tr>\n      <th>53</th>\n      <td>banknote</td>\n      <td>dnn</td>\n      <td>apgd</td>\n      <td>0.05</td>\n      <td>baard</td>\n      <td>0.722222</td>\n      <td>0.904040</td>\n      <td>0.005051</td>\n    </tr>\n    <tr>\n      <th>76</th>\n      <td>banknote</td>\n      <td>dnn</td>\n      <td>apgd</td>\n      <td>0.05</td>\n      <td>baard</td>\n      <td>0.761421</td>\n      <td>0.923858</td>\n      <td>0.010152</td>\n    </tr>\n    <tr>\n      <th>99</th>\n      <td>banknote</td>\n      <td>dnn</td>\n      <td>apgd</td>\n      <td>0.05</td>\n      <td>baard</td>\n      <td>0.761421</td>\n      <td>0.923858</td>\n      <td>0.010152</td>\n    </tr>\n    <tr>\n      <th>...</th>\n      <td>...</td>\n      <td>...</td>\n      <td>...</td>\n      <td>...</td>\n      <td>...</td>\n      <td>...</td>\n      <td>...</td>\n      <td>...</td>\n    </tr>\n    <tr>\n      <th>99</th>\n      <td>mnist</td>\n      <td>dnn</td>\n      <td>line</td>\n      <td>1.00</td>\n      <td>rc</td>\n      <td>0.970000</td>\n      <td>0.970000</td>\n      <td>0.000000</td>\n    </tr>\n    <tr>\n      <th>199</th>\n      <td>mnist</td>\n      <td>dnn</td>\n      <td>line</td>\n      <td>1.00</td>\n      <td>rc</td>\n      <td>0.977000</td>\n      <td>0.977000</td>\n      <td>0.000000</td>\n    </tr>\n    <tr>\n      <th>299</th>\n      <td>mnist</td>\n      <td>dnn</td>\n      <td>line</td>\n      <td>1.00</td>\n      <td>rc</td>\n      <td>0.967000</td>\n      <td>0.966000</td>\n      <td>0.001000</td>\n    </tr>\n    <tr>\n      <th>399</th>\n      <td>mnist</td>\n      <td>dnn</td>\n      <td>line</td>\n      <td>1.00</td>\n      <td>rc</td>\n      <td>0.971000</td>\n      <td>0.963000</td>\n      <td>0.002000</td>\n    </tr>\n    <tr>\n      <th>499</th>\n      <td>mnist</td>\n      <td>dnn</td>\n      <td>line</td>\n      <td>1.00</td>\n      <td>rc</td>\n      <td>0.983000</td>\n      <td>0.981000</td>\n      <td>0.001000</td>\n    </tr>\n  </tbody>\n</table>\n<p>4020 rows × 8 columns</p>\n</div>"
     },
     "metadata": {},
     "execution_count": 8
    }
   ],
   "source": [
    "df = df.sort_values(by=['data', 'model', 'attack', 'adv_param', 'defence'], ascending=True)\n",
    "df"
   ]
  },
  {
   "cell_type": "code",
   "execution_count": 9,
   "metadata": {},
   "outputs": [],
   "source": [
    "df.to_csv('full_results.csv', index=False)"
   ]
  },
  {
   "cell_type": "code",
   "execution_count": null,
   "metadata": {},
   "outputs": [],
   "source": []
  }
 ]
}