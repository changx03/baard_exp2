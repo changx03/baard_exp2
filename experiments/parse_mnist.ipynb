{
 "cells": [
  {
   "cell_type": "code",
   "execution_count": 1,
   "metadata": {},
   "outputs": [],
   "source": [
    "import os\n",
    "\n",
    "import pandas as pd\n",
    "import numpy as np"
   ]
  },
  {
   "cell_type": "code",
   "execution_count": 2,
   "metadata": {},
   "outputs": [
    {
     "output_type": "execute_result",
     "data": {
      "text/plain": [
       "   Unnamed: 0 Attack  Epsilon  Without Defence       Defence  \\\n",
       "0           0   apgd    0.063             80.8  baard_2stage   \n",
       "1           1   apgd    0.063             80.8  baard_3stage   \n",
       "2           2   apgd    0.063             80.8            fs   \n",
       "3           3   apgd    0.063             80.8           lid   \n",
       "4           4   apgd    0.063             80.8        magnet   \n",
       "\n",
       "   False Positive Rate  Score  \n",
       "0                  6.2  100.0  \n",
       "1                  9.5  100.0  \n",
       "2                 74.7   81.8  \n",
       "3                  0.0    0.0  \n",
       "4                  0.2  100.0  "
      ],
      "text/html": "<div>\n<style scoped>\n    .dataframe tbody tr th:only-of-type {\n        vertical-align: middle;\n    }\n\n    .dataframe tbody tr th {\n        vertical-align: top;\n    }\n\n    .dataframe thead th {\n        text-align: right;\n    }\n</style>\n<table border=\"1\" class=\"dataframe\">\n  <thead>\n    <tr style=\"text-align: right;\">\n      <th></th>\n      <th>Unnamed: 0</th>\n      <th>Attack</th>\n      <th>Epsilon</th>\n      <th>Without Defence</th>\n      <th>Defence</th>\n      <th>False Positive Rate</th>\n      <th>Score</th>\n    </tr>\n  </thead>\n  <tbody>\n    <tr>\n      <th>0</th>\n      <td>0</td>\n      <td>apgd</td>\n      <td>0.063</td>\n      <td>80.8</td>\n      <td>baard_2stage</td>\n      <td>6.2</td>\n      <td>100.0</td>\n    </tr>\n    <tr>\n      <th>1</th>\n      <td>1</td>\n      <td>apgd</td>\n      <td>0.063</td>\n      <td>80.8</td>\n      <td>baard_3stage</td>\n      <td>9.5</td>\n      <td>100.0</td>\n    </tr>\n    <tr>\n      <th>2</th>\n      <td>2</td>\n      <td>apgd</td>\n      <td>0.063</td>\n      <td>80.8</td>\n      <td>fs</td>\n      <td>74.7</td>\n      <td>81.8</td>\n    </tr>\n    <tr>\n      <th>3</th>\n      <td>3</td>\n      <td>apgd</td>\n      <td>0.063</td>\n      <td>80.8</td>\n      <td>lid</td>\n      <td>0.0</td>\n      <td>0.0</td>\n    </tr>\n    <tr>\n      <th>4</th>\n      <td>4</td>\n      <td>apgd</td>\n      <td>0.063</td>\n      <td>80.8</td>\n      <td>magnet</td>\n      <td>0.2</td>\n      <td>100.0</td>\n    </tr>\n  </tbody>\n</table>\n</div>"
     },
     "metadata": {},
     "execution_count": 2
    }
   ],
   "source": [
    "data = 'mnist'\n",
    "path_csv = os.path.join('..', 'csv', data+'_2.csv')\n",
    "df = pd.read_csv(path_csv, sep=',')\n",
    "df.head()"
   ]
  },
  {
   "cell_type": "code",
   "execution_count": 3,
   "metadata": {},
   "outputs": [
    {
     "output_type": "execute_result",
     "data": {
      "text/plain": [
       "  Attack  Epsilon  Without Defence       Defence  False Positive Rate  Score\n",
       "0   apgd    0.063             80.8  baard_2stage                  6.2  100.0\n",
       "1   apgd    0.063             80.8  baard_3stage                  9.5  100.0\n",
       "2   apgd    0.063             80.8            fs                 74.7   81.8\n",
       "3   apgd    0.063             80.8           lid                  0.0    0.0\n",
       "4   apgd    0.063             80.8        magnet                  0.2  100.0"
      ],
      "text/html": "<div>\n<style scoped>\n    .dataframe tbody tr th:only-of-type {\n        vertical-align: middle;\n    }\n\n    .dataframe tbody tr th {\n        vertical-align: top;\n    }\n\n    .dataframe thead th {\n        text-align: right;\n    }\n</style>\n<table border=\"1\" class=\"dataframe\">\n  <thead>\n    <tr style=\"text-align: right;\">\n      <th></th>\n      <th>Attack</th>\n      <th>Epsilon</th>\n      <th>Without Defence</th>\n      <th>Defence</th>\n      <th>False Positive Rate</th>\n      <th>Score</th>\n    </tr>\n  </thead>\n  <tbody>\n    <tr>\n      <th>0</th>\n      <td>apgd</td>\n      <td>0.063</td>\n      <td>80.8</td>\n      <td>baard_2stage</td>\n      <td>6.2</td>\n      <td>100.0</td>\n    </tr>\n    <tr>\n      <th>1</th>\n      <td>apgd</td>\n      <td>0.063</td>\n      <td>80.8</td>\n      <td>baard_3stage</td>\n      <td>9.5</td>\n      <td>100.0</td>\n    </tr>\n    <tr>\n      <th>2</th>\n      <td>apgd</td>\n      <td>0.063</td>\n      <td>80.8</td>\n      <td>fs</td>\n      <td>74.7</td>\n      <td>81.8</td>\n    </tr>\n    <tr>\n      <th>3</th>\n      <td>apgd</td>\n      <td>0.063</td>\n      <td>80.8</td>\n      <td>lid</td>\n      <td>0.0</td>\n      <td>0.0</td>\n    </tr>\n    <tr>\n      <th>4</th>\n      <td>apgd</td>\n      <td>0.063</td>\n      <td>80.8</td>\n      <td>magnet</td>\n      <td>0.2</td>\n      <td>100.0</td>\n    </tr>\n  </tbody>\n</table>\n</div>"
     },
     "metadata": {},
     "execution_count": 3
    }
   ],
   "source": [
    "df = df.drop(columns=['Unnamed: 0'])\n",
    "df.head()"
   ]
  },
  {
   "cell_type": "code",
   "execution_count": 4,
   "metadata": {},
   "outputs": [
    {
     "output_type": "execute_result",
     "data": {
      "text/plain": [
       "                                           Score                            \\\n",
       "Defence                             baard_2stage baard_3stage     fs   lid   \n",
       "Attack    Epsilon   Without Defence                                          \n",
       "apgd      0.063000  80.8                   100.0        100.0   81.8   0.0   \n",
       "          0.300000  0.0                    100.0        100.0   84.4  43.1   \n",
       "          1.000000  0.0                    100.0        100.0   85.1  71.3   \n",
       "          1.500000  0.0                    100.0        100.0   84.7  74.8   \n",
       "apgd1     0.300000  100.0                  100.0        100.0   79.7   0.0   \n",
       "          1.000000  99.7                   100.0        100.0   17.9   0.0   \n",
       "          1.500000  99.3                   100.0        100.0   79.8   0.0   \n",
       "          2.000000  99.1                   100.0        100.0    NaN   0.0   \n",
       "          3.000000  98.4                   100.0        100.0    NaN   0.0   \n",
       "          5.000000  96.4                   100.0        100.0    NaN   0.0   \n",
       "apgd2     0.063000  99.7                   100.0        100.0   80.3   0.0   \n",
       "          0.300000  97.6                   100.0        100.0   75.9   0.0   \n",
       "          0.600000  91.6                   100.0        100.0   75.7   0.0   \n",
       "          1.000000  69.4                   100.0        100.0   77.8   0.6   \n",
       "          1.500000  30.3                   100.0        100.0   82.8  14.7   \n",
       "          2.000000  10.2                   100.0        100.0    NaN  21.5   \n",
       "          3.000000  2.3                    100.0        100.0    NaN  15.4   \n",
       "          5.000000  0.5                    100.0        100.0    NaN  43.6   \n",
       "boundary  0.300000  25.0                   100.0        100.0  100.0  51.8   \n",
       "cw2       0.000000  3.5                    100.0        100.0  100.0  22.7   \n",
       "          5.000000  0.0                    100.0        100.0  100.0  28.6   \n",
       "          10.000000 0.0                    100.0        100.0  100.0  28.7   \n",
       "cwinf     0.000000  33.1                    68.2         68.3   84.5  15.5   \n",
       "          5.000000  60.0                    42.7         43.7   78.1   6.1   \n",
       "deepfool  0.000001  1.6                    100.0        100.0   90.5  58.2   \n",
       "fgsm      0.063000  84.2                   100.0        100.0   93.2  10.3   \n",
       "          0.300000  6.9                    100.0        100.0   97.4  59.2   \n",
       "          0.600000  0.8                    100.0        100.0   91.6  58.1   \n",
       "          1.000000  0.4                    100.0        100.0   84.0  57.1   \n",
       "          1.500000  0.4                    100.0        100.0   84.1  61.4   \n",
       "line      0.000000  99.6                     NaN         12.3   79.8   0.0   \n",
       "          0.500000  99.0                     NaN         68.6   84.1   0.0   \n",
       "          1.000000  96.8                     NaN         83.5   85.7   0.3   \n",
       "shadow    0.300000  99.8                    98.6         98.6   72.8   0.0   \n",
       "watermark 0.100000  99.8                    12.0         15.0   81.2   0.0   \n",
       "          0.300000  98.4                    14.1         19.0   79.7   0.0   \n",
       "          0.600000  93.6                    18.1         29.5   88.6   0.8   \n",
       "          1.000000  74.0                    32.9         45.9   92.7   2.6   \n",
       "\n",
       "                                                 False Positive Rate  \\\n",
       "Defence                             magnet    rc        baard_2stage   \n",
       "Attack    Epsilon   Without Defence                                    \n",
       "apgd      0.063000  80.8             100.0  87.9                 6.2   \n",
       "          0.300000  0.0              100.0   0.0                 6.2   \n",
       "          1.000000  0.0              100.0   0.0                 6.2   \n",
       "          1.500000  0.0              100.0   0.0                 6.2   \n",
       "apgd1     0.300000  100.0            100.0  99.2                 6.2   \n",
       "          1.000000  99.7              99.8  99.2                 6.2   \n",
       "          1.500000  99.3              99.8  99.0                 6.2   \n",
       "          2.000000  99.1              99.7  99.0                 6.2   \n",
       "          3.000000  98.4              99.1  98.6                 6.2   \n",
       "          5.000000  96.4              98.7  97.6                 6.2   \n",
       "apgd2     0.063000  99.7              99.8  99.1                 6.2   \n",
       "          0.300000  97.6              99.1  98.2                 6.2   \n",
       "          0.600000  91.6              97.8  94.4                 6.2   \n",
       "          1.000000  69.4              96.3  80.3                 6.2   \n",
       "          1.500000  30.3              98.3  46.7                 6.2   \n",
       "          2.000000  10.2              99.0  20.0                 6.2   \n",
       "          3.000000  2.3               99.8   2.6                 6.2   \n",
       "          5.000000  0.5              100.0   0.5                 6.2   \n",
       "boundary  0.300000  25.0              99.9  77.1                 6.2   \n",
       "cw2       0.000000  3.5               99.5  90.6                 6.2   \n",
       "          5.000000  0.0               93.3   3.1                 6.2   \n",
       "          10.000000 0.0               97.0   0.0                 6.2   \n",
       "cwinf     0.000000  33.1              75.7  57.6                 6.2   \n",
       "          5.000000  60.0              69.9  59.9                 6.2   \n",
       "deepfool  0.000001  1.6               98.6   3.6                 6.2   \n",
       "fgsm      0.063000  84.2             100.0  88.1                 6.2   \n",
       "          0.300000  6.9              100.0   8.1                 6.2   \n",
       "          0.600000  0.8              100.0   1.0                 6.2   \n",
       "          1.000000  0.4              100.0   0.5                 6.2   \n",
       "          1.500000  0.4              100.0   0.5                 6.2   \n",
       "line      0.000000  99.6              99.3  98.8                 NaN   \n",
       "          0.500000  99.0              99.6  98.6                 NaN   \n",
       "          1.000000  96.8              98.4  94.4                 NaN   \n",
       "shadow    0.300000  99.8             100.0  99.1                 6.2   \n",
       "watermark 0.100000  99.8              99.8  99.0                 6.2   \n",
       "          0.300000  98.4              99.0  97.9                 6.2   \n",
       "          0.600000  93.6              93.6  92.8                 6.2   \n",
       "          1.000000  74.0              73.3  73.5                 6.2   \n",
       "\n",
       "                                                                          \n",
       "Defence                             baard_3stage    fs   lid magnet   rc  \n",
       "Attack    Epsilon   Without Defence                                       \n",
       "apgd      0.063000  80.8                     9.5  74.7   0.0    0.2  0.8  \n",
       "          0.300000  0.0                      9.5  79.0   4.9    0.2  0.8  \n",
       "          1.000000  0.0                      9.5  20.3   0.4    0.2  0.8  \n",
       "          1.500000  0.0                      9.5  18.6   0.6    0.2  0.9  \n",
       "apgd1     0.300000  100.0                    9.5  79.6   0.0    0.2  0.8  \n",
       "          1.000000  99.7                     9.5  18.1   0.0    0.2  0.8  \n",
       "          1.500000  99.3                     9.5  80.0   0.0    0.2  0.8  \n",
       "          2.000000  99.1                     9.5   NaN   0.0    0.2  0.8  \n",
       "          3.000000  98.4                     9.5   NaN   0.0    0.2  0.8  \n",
       "          5.000000  96.4                     9.5   NaN   0.0    0.2  0.8  \n",
       "apgd2     0.063000  99.7                     9.5  79.9   0.0    0.2  0.8  \n",
       "          0.300000  97.6                     9.5  74.6   0.0    0.2  0.8  \n",
       "          0.600000  91.6                     9.5  72.5   0.0    0.2  0.8  \n",
       "          1.000000  69.4                     9.5  72.3   0.6    0.2  0.8  \n",
       "          1.500000  30.3                     9.5  72.3   5.8    0.2  0.8  \n",
       "          2.000000  10.2                     9.5   NaN   7.2    0.2  0.8  \n",
       "          3.000000  2.3                      9.5   NaN   7.1    0.2  0.8  \n",
       "          5.000000  0.5                      9.5   NaN  10.9    0.2  0.8  \n",
       "boundary  0.300000  25.0                     9.5  72.0   8.4    0.2  0.8  \n",
       "cw2       0.000000  3.5                      9.5  72.1   8.1    0.2  0.8  \n",
       "          5.000000  0.0                      9.5  72.2   7.6    0.2  0.8  \n",
       "          10.000000 0.0                      9.5  72.1   7.7    0.2  0.8  \n",
       "cwinf     0.000000  33.1                     9.5  72.1   5.1    0.2  0.8  \n",
       "          5.000000  60.0                     9.5  72.1   3.1    0.2  0.8  \n",
       "deepfool  0.000001  1.6                      9.5  72.1   1.5    0.2  0.8  \n",
       "fgsm      0.063000  84.2                     9.5  72.2   3.8    0.2  0.8  \n",
       "          0.300000  6.9                      9.5  72.1   3.0    0.2  0.8  \n",
       "          0.600000  0.8                      9.5  72.5   0.2    0.2  0.8  \n",
       "          1.000000  0.4                      9.5  72.1   0.3    0.2  0.8  \n",
       "          1.500000  0.4                      9.5  72.1   0.4    0.2  0.8  \n",
       "line      0.000000  99.6                     9.5  74.9   0.0    0.2  0.8  \n",
       "          0.500000  99.0                     9.5  79.5   0.0    0.2  0.8  \n",
       "          1.000000  96.8                     9.5  79.2   0.1    0.2  0.8  \n",
       "shadow    0.300000  99.8                     9.5  72.3   0.0    0.2  0.8  \n",
       "watermark 0.100000  99.8                     9.5  79.5   0.0    0.2  0.8  \n",
       "          0.300000  98.4                     9.5  72.2   0.0    0.2  0.8  \n",
       "          0.600000  93.6                     9.5  72.2   0.0    0.2  0.8  \n",
       "          1.000000  74.0                     9.5  72.0   1.2    0.2  0.8  "
      ],
      "text/html": "<div>\n<style scoped>\n    .dataframe tbody tr th:only-of-type {\n        vertical-align: middle;\n    }\n\n    .dataframe tbody tr th {\n        vertical-align: top;\n    }\n\n    .dataframe thead tr th {\n        text-align: left;\n    }\n\n    .dataframe thead tr:last-of-type th {\n        text-align: right;\n    }\n</style>\n<table border=\"1\" class=\"dataframe\">\n  <thead>\n    <tr>\n      <th></th>\n      <th></th>\n      <th></th>\n      <th colspan=\"6\" halign=\"left\">Score</th>\n      <th colspan=\"6\" halign=\"left\">False Positive Rate</th>\n    </tr>\n    <tr>\n      <th></th>\n      <th></th>\n      <th>Defence</th>\n      <th>baard_2stage</th>\n      <th>baard_3stage</th>\n      <th>fs</th>\n      <th>lid</th>\n      <th>magnet</th>\n      <th>rc</th>\n      <th>baard_2stage</th>\n      <th>baard_3stage</th>\n      <th>fs</th>\n      <th>lid</th>\n      <th>magnet</th>\n      <th>rc</th>\n    </tr>\n    <tr>\n      <th>Attack</th>\n      <th>Epsilon</th>\n      <th>Without Defence</th>\n      <th></th>\n      <th></th>\n      <th></th>\n      <th></th>\n      <th></th>\n      <th></th>\n      <th></th>\n      <th></th>\n      <th></th>\n      <th></th>\n      <th></th>\n      <th></th>\n    </tr>\n  </thead>\n  <tbody>\n    <tr>\n      <th rowspan=\"4\" valign=\"top\">apgd</th>\n      <th>0.063000</th>\n      <th>80.8</th>\n      <td>100.0</td>\n      <td>100.0</td>\n      <td>81.8</td>\n      <td>0.0</td>\n      <td>100.0</td>\n      <td>87.9</td>\n      <td>6.2</td>\n      <td>9.5</td>\n      <td>74.7</td>\n      <td>0.0</td>\n      <td>0.2</td>\n      <td>0.8</td>\n    </tr>\n    <tr>\n      <th>0.300000</th>\n      <th>0.0</th>\n      <td>100.0</td>\n      <td>100.0</td>\n      <td>84.4</td>\n      <td>43.1</td>\n      <td>100.0</td>\n      <td>0.0</td>\n      <td>6.2</td>\n      <td>9.5</td>\n      <td>79.0</td>\n      <td>4.9</td>\n      <td>0.2</td>\n      <td>0.8</td>\n    </tr>\n    <tr>\n      <th>1.000000</th>\n      <th>0.0</th>\n      <td>100.0</td>\n      <td>100.0</td>\n      <td>85.1</td>\n      <td>71.3</td>\n      <td>100.0</td>\n      <td>0.0</td>\n      <td>6.2</td>\n      <td>9.5</td>\n      <td>20.3</td>\n      <td>0.4</td>\n      <td>0.2</td>\n      <td>0.8</td>\n    </tr>\n    <tr>\n      <th>1.500000</th>\n      <th>0.0</th>\n      <td>100.0</td>\n      <td>100.0</td>\n      <td>84.7</td>\n      <td>74.8</td>\n      <td>100.0</td>\n      <td>0.0</td>\n      <td>6.2</td>\n      <td>9.5</td>\n      <td>18.6</td>\n      <td>0.6</td>\n      <td>0.2</td>\n      <td>0.9</td>\n    </tr>\n    <tr>\n      <th rowspan=\"6\" valign=\"top\">apgd1</th>\n      <th>0.300000</th>\n      <th>100.0</th>\n      <td>100.0</td>\n      <td>100.0</td>\n      <td>79.7</td>\n      <td>0.0</td>\n      <td>100.0</td>\n      <td>99.2</td>\n      <td>6.2</td>\n      <td>9.5</td>\n      <td>79.6</td>\n      <td>0.0</td>\n      <td>0.2</td>\n      <td>0.8</td>\n    </tr>\n    <tr>\n      <th>1.000000</th>\n      <th>99.7</th>\n      <td>100.0</td>\n      <td>100.0</td>\n      <td>17.9</td>\n      <td>0.0</td>\n      <td>99.8</td>\n      <td>99.2</td>\n      <td>6.2</td>\n      <td>9.5</td>\n      <td>18.1</td>\n      <td>0.0</td>\n      <td>0.2</td>\n      <td>0.8</td>\n    </tr>\n    <tr>\n      <th>1.500000</th>\n      <th>99.3</th>\n      <td>100.0</td>\n      <td>100.0</td>\n      <td>79.8</td>\n      <td>0.0</td>\n      <td>99.8</td>\n      <td>99.0</td>\n      <td>6.2</td>\n      <td>9.5</td>\n      <td>80.0</td>\n      <td>0.0</td>\n      <td>0.2</td>\n      <td>0.8</td>\n    </tr>\n    <tr>\n      <th>2.000000</th>\n      <th>99.1</th>\n      <td>100.0</td>\n      <td>100.0</td>\n      <td>NaN</td>\n      <td>0.0</td>\n      <td>99.7</td>\n      <td>99.0</td>\n      <td>6.2</td>\n      <td>9.5</td>\n      <td>NaN</td>\n      <td>0.0</td>\n      <td>0.2</td>\n      <td>0.8</td>\n    </tr>\n    <tr>\n      <th>3.000000</th>\n      <th>98.4</th>\n      <td>100.0</td>\n      <td>100.0</td>\n      <td>NaN</td>\n      <td>0.0</td>\n      <td>99.1</td>\n      <td>98.6</td>\n      <td>6.2</td>\n      <td>9.5</td>\n      <td>NaN</td>\n      <td>0.0</td>\n      <td>0.2</td>\n      <td>0.8</td>\n    </tr>\n    <tr>\n      <th>5.000000</th>\n      <th>96.4</th>\n      <td>100.0</td>\n      <td>100.0</td>\n      <td>NaN</td>\n      <td>0.0</td>\n      <td>98.7</td>\n      <td>97.6</td>\n      <td>6.2</td>\n      <td>9.5</td>\n      <td>NaN</td>\n      <td>0.0</td>\n      <td>0.2</td>\n      <td>0.8</td>\n    </tr>\n    <tr>\n      <th rowspan=\"8\" valign=\"top\">apgd2</th>\n      <th>0.063000</th>\n      <th>99.7</th>\n      <td>100.0</td>\n      <td>100.0</td>\n      <td>80.3</td>\n      <td>0.0</td>\n      <td>99.8</td>\n      <td>99.1</td>\n      <td>6.2</td>\n      <td>9.5</td>\n      <td>79.9</td>\n      <td>0.0</td>\n      <td>0.2</td>\n      <td>0.8</td>\n    </tr>\n    <tr>\n      <th>0.300000</th>\n      <th>97.6</th>\n      <td>100.0</td>\n      <td>100.0</td>\n      <td>75.9</td>\n      <td>0.0</td>\n      <td>99.1</td>\n      <td>98.2</td>\n      <td>6.2</td>\n      <td>9.5</td>\n      <td>74.6</td>\n      <td>0.0</td>\n      <td>0.2</td>\n      <td>0.8</td>\n    </tr>\n    <tr>\n      <th>0.600000</th>\n      <th>91.6</th>\n      <td>100.0</td>\n      <td>100.0</td>\n      <td>75.7</td>\n      <td>0.0</td>\n      <td>97.8</td>\n      <td>94.4</td>\n      <td>6.2</td>\n      <td>9.5</td>\n      <td>72.5</td>\n      <td>0.0</td>\n      <td>0.2</td>\n      <td>0.8</td>\n    </tr>\n    <tr>\n      <th>1.000000</th>\n      <th>69.4</th>\n      <td>100.0</td>\n      <td>100.0</td>\n      <td>77.8</td>\n      <td>0.6</td>\n      <td>96.3</td>\n      <td>80.3</td>\n      <td>6.2</td>\n      <td>9.5</td>\n      <td>72.3</td>\n      <td>0.6</td>\n      <td>0.2</td>\n      <td>0.8</td>\n    </tr>\n    <tr>\n      <th>1.500000</th>\n      <th>30.3</th>\n      <td>100.0</td>\n      <td>100.0</td>\n      <td>82.8</td>\n      <td>14.7</td>\n      <td>98.3</td>\n      <td>46.7</td>\n      <td>6.2</td>\n      <td>9.5</td>\n      <td>72.3</td>\n      <td>5.8</td>\n      <td>0.2</td>\n      <td>0.8</td>\n    </tr>\n    <tr>\n      <th>2.000000</th>\n      <th>10.2</th>\n      <td>100.0</td>\n      <td>100.0</td>\n      <td>NaN</td>\n      <td>21.5</td>\n      <td>99.0</td>\n      <td>20.0</td>\n      <td>6.2</td>\n      <td>9.5</td>\n      <td>NaN</td>\n      <td>7.2</td>\n      <td>0.2</td>\n      <td>0.8</td>\n    </tr>\n    <tr>\n      <th>3.000000</th>\n      <th>2.3</th>\n      <td>100.0</td>\n      <td>100.0</td>\n      <td>NaN</td>\n      <td>15.4</td>\n      <td>99.8</td>\n      <td>2.6</td>\n      <td>6.2</td>\n      <td>9.5</td>\n      <td>NaN</td>\n      <td>7.1</td>\n      <td>0.2</td>\n      <td>0.8</td>\n    </tr>\n    <tr>\n      <th>5.000000</th>\n      <th>0.5</th>\n      <td>100.0</td>\n      <td>100.0</td>\n      <td>NaN</td>\n      <td>43.6</td>\n      <td>100.0</td>\n      <td>0.5</td>\n      <td>6.2</td>\n      <td>9.5</td>\n      <td>NaN</td>\n      <td>10.9</td>\n      <td>0.2</td>\n      <td>0.8</td>\n    </tr>\n    <tr>\n      <th>boundary</th>\n      <th>0.300000</th>\n      <th>25.0</th>\n      <td>100.0</td>\n      <td>100.0</td>\n      <td>100.0</td>\n      <td>51.8</td>\n      <td>99.9</td>\n      <td>77.1</td>\n      <td>6.2</td>\n      <td>9.5</td>\n      <td>72.0</td>\n      <td>8.4</td>\n      <td>0.2</td>\n      <td>0.8</td>\n    </tr>\n    <tr>\n      <th rowspan=\"3\" valign=\"top\">cw2</th>\n      <th>0.000000</th>\n      <th>3.5</th>\n      <td>100.0</td>\n      <td>100.0</td>\n      <td>100.0</td>\n      <td>22.7</td>\n      <td>99.5</td>\n      <td>90.6</td>\n      <td>6.2</td>\n      <td>9.5</td>\n      <td>72.1</td>\n      <td>8.1</td>\n      <td>0.2</td>\n      <td>0.8</td>\n    </tr>\n    <tr>\n      <th>5.000000</th>\n      <th>0.0</th>\n      <td>100.0</td>\n      <td>100.0</td>\n      <td>100.0</td>\n      <td>28.6</td>\n      <td>93.3</td>\n      <td>3.1</td>\n      <td>6.2</td>\n      <td>9.5</td>\n      <td>72.2</td>\n      <td>7.6</td>\n      <td>0.2</td>\n      <td>0.8</td>\n    </tr>\n    <tr>\n      <th>10.000000</th>\n      <th>0.0</th>\n      <td>100.0</td>\n      <td>100.0</td>\n      <td>100.0</td>\n      <td>28.7</td>\n      <td>97.0</td>\n      <td>0.0</td>\n      <td>6.2</td>\n      <td>9.5</td>\n      <td>72.1</td>\n      <td>7.7</td>\n      <td>0.2</td>\n      <td>0.8</td>\n    </tr>\n    <tr>\n      <th rowspan=\"2\" valign=\"top\">cwinf</th>\n      <th>0.000000</th>\n      <th>33.1</th>\n      <td>68.2</td>\n      <td>68.3</td>\n      <td>84.5</td>\n      <td>15.5</td>\n      <td>75.7</td>\n      <td>57.6</td>\n      <td>6.2</td>\n      <td>9.5</td>\n      <td>72.1</td>\n      <td>5.1</td>\n      <td>0.2</td>\n      <td>0.8</td>\n    </tr>\n    <tr>\n      <th>5.000000</th>\n      <th>60.0</th>\n      <td>42.7</td>\n      <td>43.7</td>\n      <td>78.1</td>\n      <td>6.1</td>\n      <td>69.9</td>\n      <td>59.9</td>\n      <td>6.2</td>\n      <td>9.5</td>\n      <td>72.1</td>\n      <td>3.1</td>\n      <td>0.2</td>\n      <td>0.8</td>\n    </tr>\n    <tr>\n      <th>deepfool</th>\n      <th>0.000001</th>\n      <th>1.6</th>\n      <td>100.0</td>\n      <td>100.0</td>\n      <td>90.5</td>\n      <td>58.2</td>\n      <td>98.6</td>\n      <td>3.6</td>\n      <td>6.2</td>\n      <td>9.5</td>\n      <td>72.1</td>\n      <td>1.5</td>\n      <td>0.2</td>\n      <td>0.8</td>\n    </tr>\n    <tr>\n      <th rowspan=\"5\" valign=\"top\">fgsm</th>\n      <th>0.063000</th>\n      <th>84.2</th>\n      <td>100.0</td>\n      <td>100.0</td>\n      <td>93.2</td>\n      <td>10.3</td>\n      <td>100.0</td>\n      <td>88.1</td>\n      <td>6.2</td>\n      <td>9.5</td>\n      <td>72.2</td>\n      <td>3.8</td>\n      <td>0.2</td>\n      <td>0.8</td>\n    </tr>\n    <tr>\n      <th>0.300000</th>\n      <th>6.9</th>\n      <td>100.0</td>\n      <td>100.0</td>\n      <td>97.4</td>\n      <td>59.2</td>\n      <td>100.0</td>\n      <td>8.1</td>\n      <td>6.2</td>\n      <td>9.5</td>\n      <td>72.1</td>\n      <td>3.0</td>\n      <td>0.2</td>\n      <td>0.8</td>\n    </tr>\n    <tr>\n      <th>0.600000</th>\n      <th>0.8</th>\n      <td>100.0</td>\n      <td>100.0</td>\n      <td>91.6</td>\n      <td>58.1</td>\n      <td>100.0</td>\n      <td>1.0</td>\n      <td>6.2</td>\n      <td>9.5</td>\n      <td>72.5</td>\n      <td>0.2</td>\n      <td>0.2</td>\n      <td>0.8</td>\n    </tr>\n    <tr>\n      <th>1.000000</th>\n      <th>0.4</th>\n      <td>100.0</td>\n      <td>100.0</td>\n      <td>84.0</td>\n      <td>57.1</td>\n      <td>100.0</td>\n      <td>0.5</td>\n      <td>6.2</td>\n      <td>9.5</td>\n      <td>72.1</td>\n      <td>0.3</td>\n      <td>0.2</td>\n      <td>0.8</td>\n    </tr>\n    <tr>\n      <th>1.500000</th>\n      <th>0.4</th>\n      <td>100.0</td>\n      <td>100.0</td>\n      <td>84.1</td>\n      <td>61.4</td>\n      <td>100.0</td>\n      <td>0.5</td>\n      <td>6.2</td>\n      <td>9.5</td>\n      <td>72.1</td>\n      <td>0.4</td>\n      <td>0.2</td>\n      <td>0.8</td>\n    </tr>\n    <tr>\n      <th rowspan=\"3\" valign=\"top\">line</th>\n      <th>0.000000</th>\n      <th>99.6</th>\n      <td>NaN</td>\n      <td>12.3</td>\n      <td>79.8</td>\n      <td>0.0</td>\n      <td>99.3</td>\n      <td>98.8</td>\n      <td>NaN</td>\n      <td>9.5</td>\n      <td>74.9</td>\n      <td>0.0</td>\n      <td>0.2</td>\n      <td>0.8</td>\n    </tr>\n    <tr>\n      <th>0.500000</th>\n      <th>99.0</th>\n      <td>NaN</td>\n      <td>68.6</td>\n      <td>84.1</td>\n      <td>0.0</td>\n      <td>99.6</td>\n      <td>98.6</td>\n      <td>NaN</td>\n      <td>9.5</td>\n      <td>79.5</td>\n      <td>0.0</td>\n      <td>0.2</td>\n      <td>0.8</td>\n    </tr>\n    <tr>\n      <th>1.000000</th>\n      <th>96.8</th>\n      <td>NaN</td>\n      <td>83.5</td>\n      <td>85.7</td>\n      <td>0.3</td>\n      <td>98.4</td>\n      <td>94.4</td>\n      <td>NaN</td>\n      <td>9.5</td>\n      <td>79.2</td>\n      <td>0.1</td>\n      <td>0.2</td>\n      <td>0.8</td>\n    </tr>\n    <tr>\n      <th>shadow</th>\n      <th>0.300000</th>\n      <th>99.8</th>\n      <td>98.6</td>\n      <td>98.6</td>\n      <td>72.8</td>\n      <td>0.0</td>\n      <td>100.0</td>\n      <td>99.1</td>\n      <td>6.2</td>\n      <td>9.5</td>\n      <td>72.3</td>\n      <td>0.0</td>\n      <td>0.2</td>\n      <td>0.8</td>\n    </tr>\n    <tr>\n      <th rowspan=\"4\" valign=\"top\">watermark</th>\n      <th>0.100000</th>\n      <th>99.8</th>\n      <td>12.0</td>\n      <td>15.0</td>\n      <td>81.2</td>\n      <td>0.0</td>\n      <td>99.8</td>\n      <td>99.0</td>\n      <td>6.2</td>\n      <td>9.5</td>\n      <td>79.5</td>\n      <td>0.0</td>\n      <td>0.2</td>\n      <td>0.8</td>\n    </tr>\n    <tr>\n      <th>0.300000</th>\n      <th>98.4</th>\n      <td>14.1</td>\n      <td>19.0</td>\n      <td>79.7</td>\n      <td>0.0</td>\n      <td>99.0</td>\n      <td>97.9</td>\n      <td>6.2</td>\n      <td>9.5</td>\n      <td>72.2</td>\n      <td>0.0</td>\n      <td>0.2</td>\n      <td>0.8</td>\n    </tr>\n    <tr>\n      <th>0.600000</th>\n      <th>93.6</th>\n      <td>18.1</td>\n      <td>29.5</td>\n      <td>88.6</td>\n      <td>0.8</td>\n      <td>93.6</td>\n      <td>92.8</td>\n      <td>6.2</td>\n      <td>9.5</td>\n      <td>72.2</td>\n      <td>0.0</td>\n      <td>0.2</td>\n      <td>0.8</td>\n    </tr>\n    <tr>\n      <th>1.000000</th>\n      <th>74.0</th>\n      <td>32.9</td>\n      <td>45.9</td>\n      <td>92.7</td>\n      <td>2.6</td>\n      <td>73.3</td>\n      <td>73.5</td>\n      <td>6.2</td>\n      <td>9.5</td>\n      <td>72.0</td>\n      <td>1.2</td>\n      <td>0.2</td>\n      <td>0.8</td>\n    </tr>\n  </tbody>\n</table>\n</div>"
     },
     "metadata": {},
     "execution_count": 4
    }
   ],
   "source": [
    "table1 = df.pivot(index=['Attack', 'Epsilon', 'Without Defence'], columns=['Defence'], values=['Score', 'False Positive Rate'])\n",
    "table1 = table1.replace(-100, np.nan)\n",
    "table1"
   ]
  },
  {
   "cell_type": "code",
   "execution_count": null,
   "metadata": {},
   "outputs": [],
   "source": [
    "with pd.ExcelWriter(os.path.join('..', 'tables', data+'_2.xlsx')) as writer:\n",
    "    table1.to_excel(writer, sheet_name=data)"
   ]
  },
  {
   "cell_type": "code",
   "execution_count": null,
   "metadata": {},
   "outputs": [],
   "source": []
  }
 ],
 "metadata": {
  "kernelspec": {
   "display_name": "Python 3",
   "language": "python",
   "name": "python3"
  },
  "language_info": {
   "codemirror_mode": {
    "name": "ipython",
    "version": 3
   },
   "file_extension": ".py",
   "mimetype": "text/x-python",
   "name": "python",
   "nbconvert_exporter": "python",
   "pygments_lexer": "ipython3",
   "version": "3.6.9-final"
  }
 },
 "nbformat": 4,
 "nbformat_minor": 4
}