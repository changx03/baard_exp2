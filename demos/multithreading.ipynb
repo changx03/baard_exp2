{
 "cells": [
  {
   "cell_type": "code",
   "execution_count": 1,
   "metadata": {},
   "outputs": [],
   "source": [
    "from multiprocessing import Process, Lock\n",
    "from multiprocessing.sharedctypes import Array\n",
    "\n",
    "import numpy as np"
   ]
  },
  {
   "cell_type": "code",
   "execution_count": 2,
   "metadata": {},
   "outputs": [],
   "source": [
    "def mod_list(index, shared_arr):\n",
    "    shared_arr[index] = index"
   ]
  },
  {
   "cell_type": "code",
   "execution_count": 3,
   "metadata": {},
   "outputs": [
    {
     "data": {
      "text/plain": [
       "[0, 1, 2, 3, 4, 5, 6, 7, 8, 9]"
      ]
     },
     "execution_count": 3,
     "metadata": {},
     "output_type": "execute_result"
    }
   ],
   "source": [
    "lock = Lock()\n",
    "arr = Array('i', 10, lock=lock)\n",
    "for i in range(0, 10):\n",
    "    p = Process(target=mod_list, args=(i, arr))\n",
    "    p.start()\n",
    "    p.join()\n",
    "\n",
    "X = list(arr)\n",
    "X"
   ]
  },
  {
   "cell_type": "markdown",
   "metadata": {},
   "source": [
    "## Single Thread Version\n",
    "https://jonasteuwen.github.io/numpy/python/multiprocessing/2017/01/07/multiprocessing-numpy-array.html"
   ]
  },
  {
   "cell_type": "code",
   "execution_count": 4,
   "metadata": {},
   "outputs": [],
   "source": [
    "import itertools"
   ]
  },
  {
   "cell_type": "code",
   "execution_count": 5,
   "metadata": {},
   "outputs": [],
   "source": [
    "# Example 2\n",
    "X = np.random.random((100, 100))\n",
    "tmp = np.zeros((100, 100))\n",
    "\n",
    "window_idxs = [(i, j) for i, j in itertools.product(range(0, 100, 2), range(0, 100, 2))]"
   ]
  },
  {
   "cell_type": "code",
   "execution_count": 6,
   "metadata": {},
   "outputs": [
    {
     "name": "stdout",
     "output_type": "stream",
     "text": [
      "True\n"
     ]
    }
   ],
   "source": [
    "def fill_per_window(args):\n",
    "    window_x, window_y = args\n",
    "    \n",
    "    for i in range(window_x, window_y+2):\n",
    "        for j in range(window_x, window_y+2):\n",
    "            tmp[i, j] = X[i, j]\n",
    "\n",
    "for idx in window_idxs:\n",
    "    fill_per_window(idx)\n",
    "    \n",
    "print(np.array_equal(X, tmp))"
   ]
  },
  {
   "cell_type": "code",
   "execution_count": 7,
   "metadata": {},
   "outputs": [
    {
     "data": {
      "text/plain": [
       "[(0, 0), (0, 2), (0, 4), (0, 6), (0, 8)]"
      ]
     },
     "execution_count": 7,
     "metadata": {},
     "output_type": "execute_result"
    }
   ],
   "source": [
    "window_idxs[:5]"
   ]
  },
  {
   "cell_type": "markdown",
   "metadata": {},
   "source": [
    "## Multithread version"
   ]
  },
  {
   "cell_type": "code",
   "execution_count": 8,
   "metadata": {},
   "outputs": [],
   "source": [
    "from multiprocessing import sharedctypes, Pool\n",
    "from threading import currentThread"
   ]
  },
  {
   "cell_type": "code",
   "execution_count": 9,
   "metadata": {},
   "outputs": [],
   "source": [
    "# Multiprocessing version\n",
    "size = 100\n",
    "block_size = 4\n",
    "\n",
    "result = np.ctypeslib.as_ctypes(np.zeros((size, size)))\n",
    "shared_arr = sharedctypes.RawArray(result._type_, result)"
   ]
  },
  {
   "cell_type": "code",
   "execution_count": 10,
   "metadata": {},
   "outputs": [],
   "source": [
    "def fill_per_window(args):\n",
    "#     print(currentThread())\n",
    "    window_x, window_y = args\n",
    "    tmp = np.ctypeslib.as_array(shared_arr)\n",
    "\n",
    "    for idx_x in range(window_x, window_x + block_size):\n",
    "        for idx_y in range(window_y, window_y + block_size):\n",
    "            tmp[idx_x, idx_y] = X[idx_x, idx_y]\n"
   ]
  },
  {
   "cell_type": "code",
   "execution_count": 11,
   "metadata": {},
   "outputs": [],
   "source": [
    "window_idxs = [(i, j) for i, j in\n",
    "               itertools.product(range(0, size, block_size),\n",
    "                                 range(0, size, block_size))]"
   ]
  },
  {
   "cell_type": "code",
   "execution_count": 12,
   "metadata": {},
   "outputs": [
    {
     "name": "stdout",
     "output_type": "stream",
     "text": [
      "True\n"
     ]
    }
   ],
   "source": [
    "with Pool(processes=8) as p:\n",
    "    res = p.map(fill_per_window, window_idxs)\n",
    "    result = np.ctypeslib.as_array(shared_arr)\n",
    "\n",
    "print(np.array_equal(X, result))"
   ]
  },
  {
   "cell_type": "code",
   "execution_count": 13,
   "metadata": {},
   "outputs": [
    {
     "data": {
      "text/plain": [
       "array([[0.34117379, 0.99301816, 0.00426082, ..., 0.88827464, 0.94146552,\n",
       "        0.74393458],\n",
       "       [0.14914119, 0.49264682, 0.80953164, ..., 0.0368246 , 0.70316185,\n",
       "        0.05739841],\n",
       "       [0.14839939, 0.4209693 , 0.83370336, ..., 0.02118329, 0.21497169,\n",
       "        0.59779232],\n",
       "       ...,\n",
       "       [0.56782366, 0.93136392, 0.75894413, ..., 0.08589315, 0.39620322,\n",
       "        0.7315583 ],\n",
       "       [0.11674814, 0.78404617, 0.83884989, ..., 0.87436799, 0.29284751,\n",
       "        0.36018056],\n",
       "       [0.03643574, 0.64823418, 0.34528263, ..., 0.06989658, 0.45551379,\n",
       "        0.63960549]])"
      ]
     },
     "execution_count": 13,
     "metadata": {},
     "output_type": "execute_result"
    }
   ],
   "source": []
  },
  {
   "cell_type": "code",
   "execution_count": null,
   "metadata": {},
   "outputs": [],
   "source": []
  }
 ],
 "metadata": {
  "kernelspec": {
   "display_name": "Python 3",
   "language": "python",
   "name": "python3"
  },
  "language_info": {
   "codemirror_mode": {
    "name": "ipython",
    "version": 3
   },
   "file_extension": ".py",
   "mimetype": "text/x-python",
   "name": "python",
   "nbconvert_exporter": "python",
   "pygments_lexer": "ipython3",
   "version": "3.6.9"
  }
 },
 "nbformat": 4,
 "nbformat_minor": 4
}
