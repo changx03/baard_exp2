{
 "cells": [
  {
   "cell_type": "code",
   "execution_count": 1,
   "metadata": {},
   "outputs": [],
   "source": [
    "# Fix root path\n",
    "import sys\n",
    "sys.path.append('..')"
   ]
  },
  {
   "cell_type": "code",
   "execution_count": 2,
   "metadata": {},
   "outputs": [],
   "source": [
    "import os\n",
    "import sys\n",
    "\n",
    "import torch\n",
    "import torch.nn as nn\n",
    "import torchvision as tv\n",
    "import torchvision.datasets as datasets\n",
    "from torch.utils.data import DataLoader\n",
    "\n",
    "from models.mnist import BaseModel\n",
    "from models.cifar10 import Resnet, Vgg\n",
    "from models.torch_util import validate"
   ]
  },
  {
   "cell_type": "code",
   "execution_count": 3,
   "metadata": {},
   "outputs": [],
   "source": [
    "%load_ext autoreload\n",
    "%autoreload 2"
   ]
  },
  {
   "cell_type": "code",
   "execution_count": 4,
   "metadata": {},
   "outputs": [],
   "source": [
    "PATH_FILE = os.path.join('..', 'data')\n",
    "device = torch.device('cuda' if torch.cuda.is_available() else 'cpu')\n",
    "loss = nn.CrossEntropyLoss()"
   ]
  },
  {
   "cell_type": "markdown",
   "metadata": {},
   "source": [
    "## Testing MNIST"
   ]
  },
  {
   "cell_type": "code",
   "execution_count": 5,
   "metadata": {},
   "outputs": [],
   "source": [
    "transforms = tv.transforms.Compose([tv.transforms.ToTensor()])\n",
    "dataset_train = datasets.MNIST(PATH_FILE, train=True, download=True, transform=transforms)\n",
    "dataset_test = datasets.MNIST(PATH_FILE, train=False, download=True, transform=transforms)\n",
    "dataloader_train = DataLoader(dataset_train, batch_size=128, shuffle=False)\n",
    "dataloader_test = DataLoader(dataset_test, batch_size=128, shuffle=False)"
   ]
  },
  {
   "cell_type": "code",
   "execution_count": 6,
   "metadata": {},
   "outputs": [
    {
     "name": "stdout",
     "output_type": "stream",
     "text": [
      "Accuracy on training set: 0.9971166666666667\n",
      "Accuracy on test set: 0.9852\n"
     ]
    }
   ],
   "source": [
    "PATH_MODEL = os.path.join('..', 'results', 'mnist_200.pt')\n",
    "model = BaseModel().to(device)\n",
    "model.load_state_dict(torch.load(PATH_MODEL))\n",
    "    \n",
    "_, acc = validate(model, dataloader_train, loss, device)\n",
    "print('Accuracy on training set: {}'.format(acc))\n",
    "\n",
    "_, acc = validate(model, dataloader_test, loss, device)\n",
    "print('Accuracy on test set: {}'.format(acc))"
   ]
  },
  {
   "cell_type": "markdown",
   "metadata": {},
   "source": [
    "## Testing CIFAR10"
   ]
  },
  {
   "cell_type": "code",
   "execution_count": 7,
   "metadata": {},
   "outputs": [
    {
     "name": "stdout",
     "output_type": "stream",
     "text": [
      "Files already downloaded and verified\n",
      "Files already downloaded and verified\n"
     ]
    }
   ],
   "source": [
    "# NOTE: Training set uses random horizontal flop and random crop during training\n",
    "transforms = tv.transforms.Compose([tv.transforms.ToTensor()])\n",
    "dataset_train = datasets.CIFAR10(PATH_FILE, train=True, download=True, transform=transforms)\n",
    "dataset_test = datasets.CIFAR10(PATH_FILE, train=False, download=True, transform=transforms)\n",
    "dataloader_train = DataLoader(dataset_train, batch_size=128, shuffle=False)\n",
    "dataloader_test = DataLoader(dataset_test, batch_size=128, shuffle=False)"
   ]
  },
  {
   "cell_type": "code",
   "execution_count": 8,
   "metadata": {},
   "outputs": [
    {
     "name": "stdout",
     "output_type": "stream",
     "text": [
      "Accuracy on training set: 0.97072\n",
      "Accuracy on test set: 0.8812\n"
     ]
    }
   ],
   "source": [
    "PATH_MODEL = os.path.join('..', 'results', 'cifar10_resnet_200.pt')\n",
    "model = Resnet().to(device)\n",
    "model.load_state_dict(torch.load(PATH_MODEL))\n",
    "    \n",
    "_, acc = validate(model, dataloader_train, loss, device)\n",
    "print('Accuracy on training set: {}'.format(acc))\n",
    "\n",
    "_, acc = validate(model, dataloader_test, loss, device)\n",
    "print('Accuracy on test set: {}'.format(acc))"
   ]
  },
  {
   "cell_type": "code",
   "execution_count": 9,
   "metadata": {},
   "outputs": [
    {
     "name": "stdout",
     "output_type": "stream",
     "text": [
      "Accuracy on training set: 0.99078\n",
      "Accuracy on test set: 0.9044\n"
     ]
    }
   ],
   "source": [
    "PATH_MODEL = os.path.join('..', 'results', 'cifar10_vgg_200.pt')\n",
    "model = Vgg().to(device)\n",
    "model.load_state_dict(torch.load(PATH_MODEL))\n",
    "    \n",
    "_, acc = validate(model, dataloader_train, loss, device)\n",
    "print('Accuracy on training set: {}'.format(acc))\n",
    "\n",
    "_, acc = validate(model, dataloader_test, loss, device)\n",
    "print('Accuracy on test set: {}'.format(acc))"
   ]
  },
  {
   "cell_type": "code",
   "execution_count": null,
   "metadata": {},
   "outputs": [],
   "source": []
  }
 ],
 "metadata": {
  "kernelspec": {
   "display_name": "Python 3",
   "language": "python",
   "name": "python3"
  },
  "language_info": {
   "codemirror_mode": {
    "name": "ipython",
    "version": 3
   },
   "file_extension": ".py",
   "mimetype": "text/x-python",
   "name": "python",
   "nbconvert_exporter": "python",
   "pygments_lexer": "ipython3",
   "version": "3.6.9"
  }
 },
 "nbformat": 4,
 "nbformat_minor": 4
}