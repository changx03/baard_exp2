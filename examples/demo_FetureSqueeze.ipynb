{
 "cells": [
  {
   "cell_type": "code",
   "execution_count": 1,
   "metadata": {},
   "outputs": [],
   "source": [
    "# Fix root path\n",
    "import sys\n",
    "sys.path.append('..')"
   ]
  },
  {
   "cell_type": "code",
   "execution_count": 2,
   "metadata": {},
   "outputs": [],
   "source": [
    "import datetime\n",
    "import os\n",
    "import time\n",
    "\n",
    "import matplotlib.pyplot as plt\n",
    "import numpy as np\n",
    "import torch\n",
    "import torch.nn as nn\n",
    "import torch.nn.functional as F\n",
    "import torch.optim as optim\n",
    "import torchvision as tv\n",
    "import torchvision.datasets as datasets\n",
    "from torchvision.utils import make_grid\n",
    "from art.attacks.evasion import BasicIterativeMethod, FastGradientMethod\n",
    "from art.estimators.classification import PyTorchClassifier\n",
    "from sklearn.model_selection import train_test_split\n",
    "from torch.utils.data import DataLoader, TensorDataset\n",
    "\n",
    "from defences.region_based_classifier import RegionBasedClassifier\n",
    "from defences.util import dataset2tensor, get_correct_examples"
   ]
  },
  {
   "cell_type": "code",
   "execution_count": 3,
   "metadata": {},
   "outputs": [],
   "source": [
    "%load_ext autoreload\n",
    "%autoreload 2"
   ]
  },
  {
   "cell_type": "code",
   "execution_count": 4,
   "metadata": {},
   "outputs": [
    {
     "name": "stdout",
     "output_type": "stream",
     "text": [
      "Device: cuda\n",
      "CPU threads: 24\n"
     ]
    }
   ],
   "source": [
    "device = torch.device('cuda' if torch.cuda.is_available() else 'cpu')\n",
    "print('Device: {}'.format(device))\n",
    "\n",
    "n_threads = os.cpu_count()\n",
    "print('CPU threads: {}'.format(n_threads))"
   ]
  },
  {
   "cell_type": "code",
   "execution_count": 5,
   "metadata": {},
   "outputs": [],
   "source": [
    "PATH_DATA = os.path.join('..', 'data')\n",
    "PATH_RESULTS = os.path.join('..', 'results', 'mnist_base_model.pt')\n",
    "BATCH_SIZE = 128\n",
    "EPOCHS = 20\n",
    "N_ADV = 2000"
   ]
  },
  {
   "cell_type": "code",
   "execution_count": 6,
   "metadata": {},
   "outputs": [],
   "source": [
    "# Fetch dataset\n",
    "transforms = tv.transforms.Compose([tv.transforms.ToTensor()])\n",
    "dataset_train = datasets.MNIST(PATH_DATA, train=True, download=True, transform=transforms)\n",
    "dataset_test = datasets.MNIST(PATH_DATA, train=False, download=True, transform=transforms)\n",
    "\n",
    "# From PyTorch dataset to Numpy array\n",
    "tensor_X_train, tensor_y_train = dataset2tensor(dataset_train)\n",
    "X_train = tensor_X_train.cpu().detach().numpy()\n",
    "y_train = tensor_y_train.cpu().detach().numpy()\n",
    "tensor_X_test, tensor_y_test = dataset2tensor(dataset_test)\n",
    "X_test = tensor_X_test.cpu().detach().numpy()\n",
    "y_test = tensor_y_test.cpu().detach().numpy()\n",
    "\n",
    "# Split model training set into training set and validation set\n",
    "X_train, X_val, y_train, y_val = train_test_split(X_train, y_train, test_size=5000)\n",
    "dataset_train = TensorDataset(\n",
    "    torch.tensor(X_train, dtype=torch.float32),\n",
    "    torch.tensor(y_train, dtype=torch.int64))\n",
    "\n",
    "dataloader_train = DataLoader(dataset_train, batch_size=BATCH_SIZE, shuffle=True)\n",
    "dataloader_test = DataLoader(dataset_test, batch_size=BATCH_SIZE, shuffle=True)"
   ]
  },
  {
   "cell_type": "code",
   "execution_count": 7,
   "metadata": {},
   "outputs": [
    {
     "name": "stdout",
     "output_type": "stream",
     "text": [
      "(55000, 1, 28, 28) (5000, 1, 28, 28) (10000, 1, 28, 28)\n"
     ]
    }
   ],
   "source": [
    "# Check sizes\n",
    "print(X_train.shape, X_val.shape, X_test.shape)"
   ]
  },
  {
   "cell_type": "markdown",
   "metadata": {},
   "source": [
    "## Train point-based classifier"
   ]
  },
  {
   "cell_type": "code",
   "execution_count": 8,
   "metadata": {},
   "outputs": [],
   "source": [
    "class BaseModel(nn.Module):\n",
    "    def __init__(self):\n",
    "        super(BaseModel, self).__init__()\n",
    "        self.conv1 = nn.Conv2d(1, 32, 3, 1)\n",
    "        self.relu1 = nn.ReLU()\n",
    "        self.conv2 = nn.Conv2d(32, 64, 3, 1)\n",
    "        self.relu2 = nn.ReLU()\n",
    "        self.pool1 = nn.MaxPool2d(2)\n",
    "        self.flatten = nn.Flatten(1)\n",
    "        self.fc1 = nn.Linear(9216, 200)\n",
    "        self.relu3 = nn.ReLU()\n",
    "        self.fc2 = nn.Linear(200, 10)\n",
    "        self.softmax = nn.Softmax(dim=1)\n",
    "\n",
    "    def before_softmax(self, x):\n",
    "        x = self.relu1(self.conv1(x))\n",
    "        x = self.relu2(self.conv2(x))\n",
    "        x = self.pool1(x)\n",
    "        x = self.flatten(x)\n",
    "        x = self.relu3(self.fc1(x))\n",
    "        x = self.fc2(x)\n",
    "        return x\n",
    "\n",
    "    def forward(self, x):\n",
    "        x = self.before_softmax(x)\n",
    "        x = self.softmax(x)\n",
    "        return x"
   ]
  },
  {
   "cell_type": "code",
   "execution_count": 9,
   "metadata": {},
   "outputs": [
    {
     "name": "stdout",
     "output_type": "stream",
     "text": [
      "Number of layers: 10\n"
     ]
    }
   ],
   "source": [
    "# Create Neural Network model\n",
    "model = BaseModel()\n",
    "model.to(device)\n",
    "print('Number of layers: {}'.format(len(list(model.children()))))"
   ]
  },
  {
   "cell_type": "code",
   "execution_count": 10,
   "metadata": {},
   "outputs": [],
   "source": [
    "def train(model, loader, loss, optimizer):\n",
    "    model.train()\n",
    "    total_loss = 0.\n",
    "    corrects = 0.\n",
    "    \n",
    "    for x, y in loader:\n",
    "        x = x.to(device)\n",
    "        y = y.to(device)\n",
    "        batch_size = x.size(0)\n",
    "        \n",
    "        optimizer.zero_grad()\n",
    "        outputs = model(x)\n",
    "        l = loss(outputs, y)\n",
    "        l.backward()\n",
    "        optimizer.step()\n",
    "\n",
    "        # for display\n",
    "        total_loss += l.item() * batch_size\n",
    "        preds = outputs.max(1, keepdim=True)[1]\n",
    "        corrects += preds.eq(y.view_as(preds)).sum().item()\n",
    "    \n",
    "    n = len(loader.dataset)\n",
    "    total_loss = total_loss / n\n",
    "    accuracy = corrects / n\n",
    "    return total_loss, accuracy"
   ]
  },
  {
   "cell_type": "code",
   "execution_count": 11,
   "metadata": {},
   "outputs": [],
   "source": [
    "def validate(model, loader, loss, device=device):\n",
    "    model.eval()\n",
    "    total_loss = 0.\n",
    "    corrects = 0.\n",
    "    \n",
    "    with torch.no_grad():\n",
    "        for x, y in loader:\n",
    "            x = x.to(device)\n",
    "            y = y.to(device)\n",
    "            batch_size = x.size(0)\n",
    "            outputs = model(x)\n",
    "            l = loss(outputs, y)\n",
    "            total_loss += l.item() * batch_size\n",
    "            preds = outputs.max(1, keepdim=True)[1]\n",
    "            corrects += preds.eq(y.view_as(preds)).sum().item()\n",
    "    \n",
    "    n = len(loader.dataset)\n",
    "    total_loss = total_loss / n\n",
    "    accuracy = corrects / n\n",
    "    return total_loss, accuracy"
   ]
  },
  {
   "cell_type": "code",
   "execution_count": 12,
   "metadata": {},
   "outputs": [],
   "source": [
    "def predict(model, X, batch_size=BATCH_SIZE, device=device):\n",
    "    model.eval()\n",
    "    dataset = TensorDataset(X)\n",
    "    loader = DataLoader(dataset, batch_size=batch_size, shuffle=False)\n",
    "    tensor_pred = -torch.ones(len(X), dtype=torch.int64)\n",
    "    \n",
    "    start = 0\n",
    "    with torch.no_grad():\n",
    "        for x in loader:\n",
    "            x = x[0].to(device)\n",
    "            n = x.size(0)\n",
    "            end = start + n\n",
    "            outputs = model(x)\n",
    "            tensor_pred[start:end] = outputs.max(1)[1].type(torch.int64)\n",
    "            start += n\n",
    "\n",
    "    return tensor_pred"
   ]
  },
  {
   "cell_type": "code",
   "execution_count": 13,
   "metadata": {},
   "outputs": [],
   "source": [
    "optimizer = optim.SGD(model.parameters(), lr=0.01, momentum=0.9)\n",
    "loss=nn.CrossEntropyLoss()"
   ]
  },
  {
   "cell_type": "code",
   "execution_count": 14,
   "metadata": {
    "tags": []
   },
   "outputs": [
    {
     "name": "stdout",
     "output_type": "stream",
     "text": [
      " 1/20[0:00:02.117088] Train Loss: 1.9553 Acc: 59.7436%, Test Loss: 1.5708 Acc: 89.6300%\n",
      " 2/20[0:00:02.106514] Train Loss: 1.5571 Acc: 90.8273%, Test Loss: 1.5377 Acc: 92.6300%\n",
      " 3/20[0:00:02.173293] Train Loss: 1.5348 Acc: 92.9036%, Test Loss: 1.5239 Acc: 94.0000%\n",
      " 4/20[0:00:02.138994] Train Loss: 1.5200 Acc: 94.2945%, Test Loss: 1.5187 Acc: 94.4500%\n",
      " 5/20[0:00:02.103588] Train Loss: 1.5126 Acc: 95.0673%, Test Loss: 1.5092 Acc: 95.3700%\n",
      " 6/20[0:00:02.119939] Train Loss: 1.5076 Acc: 95.4945%, Test Loss: 1.5034 Acc: 95.9400%\n",
      " 7/20[0:00:02.160714] Train Loss: 1.5023 Acc: 95.9727%, Test Loss: 1.5059 Acc: 95.6800%\n",
      " 8/20[0:00:02.105883] Train Loss: 1.4999 Acc: 96.2036%, Test Loss: 1.5119 Acc: 95.0800%\n",
      " 9/20[0:00:02.091633] Train Loss: 1.4972 Acc: 96.4945%, Test Loss: 1.5026 Acc: 95.9100%\n",
      "10/20[0:00:02.096031] Train Loss: 1.4952 Acc: 96.7073%, Test Loss: 1.4964 Acc: 96.4500%\n",
      "11/20[0:00:02.088193] Train Loss: 1.4926 Acc: 96.9073%, Test Loss: 1.4954 Acc: 96.7000%\n",
      "12/20[0:00:02.090944] Train Loss: 1.4911 Acc: 97.0709%, Test Loss: 1.4925 Acc: 96.8600%\n",
      "13/20[0:00:02.092180] Train Loss: 1.4893 Acc: 97.2382%, Test Loss: 1.4940 Acc: 96.7900%\n",
      "14/20[0:00:02.087408] Train Loss: 1.4883 Acc: 97.3164%, Test Loss: 1.4915 Acc: 97.0600%\n",
      "15/20[0:00:02.087947] Train Loss: 1.4869 Acc: 97.4800%, Test Loss: 1.4901 Acc: 97.0700%\n",
      "16/20[0:00:02.091961] Train Loss: 1.4863 Acc: 97.5673%, Test Loss: 1.4891 Acc: 97.2800%\n",
      "17/20[0:00:02.086614] Train Loss: 1.4860 Acc: 97.5564%, Test Loss: 1.4865 Acc: 97.5600%\n",
      "18/20[0:00:02.088278] Train Loss: 1.4835 Acc: 97.8345%, Test Loss: 1.4909 Acc: 97.0500%\n",
      "19/20[0:00:02.087650] Train Loss: 1.4825 Acc: 97.9382%, Test Loss: 1.4879 Acc: 97.4100%\n",
      "20/20[0:00:02.085457] Train Loss: 1.4820 Acc: 97.9709%, Test Loss: 1.4895 Acc: 97.2500%\n",
      "Total run time: 0m 42.1s\n"
     ]
    }
   ],
   "source": [
    "# DO NOT RUN THIS IF YOU DON'T NEED RETRAIN!\n",
    "since = time.time()\n",
    "for epoch in range(EPOCHS):\n",
    "    start = time.time()\n",
    "    tr_loss, tr_acc = train(model, dataloader_train, loss, optimizer)\n",
    "    va_loss, va_acc = validate(model, dataloader_test, loss)\n",
    "    \n",
    "    time_elapsed = time.time() - start\n",
    "    print(('{:2d}/{:d}[{:s}] Train Loss: {:.4f} Acc: {:.4f}%, ' +\n",
    "        'Test Loss: {:.4f} Acc: {:.4f}%').format(\n",
    "            epoch+1, EPOCHS, str(datetime.timedelta(seconds=time_elapsed)),\n",
    "            tr_loss, tr_acc*100.,\n",
    "            va_loss, va_acc*100.))\n",
    "    \n",
    "time_elapsed = time.time() - since\n",
    "print('Total run time: {:.0f}m {:.1f}s'.format(\n",
    "    time_elapsed // 60,\n",
    "    time_elapsed % 60))\n",
    "\n",
    "# if not os.path.exists('results'):\n",
    "#     os.makedirs('results')\n",
    "\n",
    "# torch.save(model.state_dict(), PATH_RESULTS)"
   ]
  },
  {
   "cell_type": "code",
   "execution_count": 15,
   "metadata": {},
   "outputs": [],
   "source": [
    "# Load model from saved file\n",
    "# model.load_state_dict(torch.load(PATH_RESULTS))\n",
    "\n",
    "# _, acc_test = validate(model, dataloader_test, loss)\n",
    "# print('Test set accuracy: {:.4f}'.format(acc_test*100))"
   ]
  },
  {
   "cell_type": "markdown",
   "metadata": {},
   "source": [
    "## Remove missclassified samples"
   ]
  },
  {
   "cell_type": "code",
   "execution_count": 16,
   "metadata": {},
   "outputs": [
    {
     "name": "stdout",
     "output_type": "stream",
     "text": [
      "Training set: 55000\n",
      "Accuracy on 53830 filtered training examples: 100.0000%\n",
      "Test set: 10000\n",
      "Accuracy on 9725 filtered test examples: 100.0000%\n"
     ]
    }
   ],
   "source": [
    "print('Training set: {}'.format(len(dataset_train)))\n",
    "tensor_train_X, tensor_train_y = get_correct_examples(model, dataset_train, device=device, return_tensor=True)\n",
    "dataset_train_perfect = TensorDataset(tensor_train_X, tensor_train_y)\n",
    "dataloader_train_perfect = DataLoader(dataset_train_perfect, batch_size=512, shuffle=True)\n",
    "_, acc = validate(model, dataloader_train_perfect, loss)\n",
    "print('Accuracy on {} filtered training examples: {:.4f}%'.format(len(dataloader_train_perfect.dataset), acc*100))\n",
    "\n",
    "print('Test set: {}'.format(len(dataset_test)))\n",
    "tensor_test_X, tensor_test_y = get_correct_examples(model, dataset_test, device=device, return_tensor=True)\n",
    "dataset_test_perfect = TensorDataset(tensor_test_X, tensor_test_y)\n",
    "dataloader_test_perfect = DataLoader(dataset_test_perfect, batch_size=512, shuffle=True)\n",
    "_, acc = validate(model, dataloader_test_perfect, loss)\n",
    "print('Accuracy on {} filtered test examples: {:.4f}%'.format(len(dataloader_test_perfect.dataset), acc*100))"
   ]
  },
  {
   "cell_type": "markdown",
   "metadata": {},
   "source": [
    "## Create adversarial examples "
   ]
  },
  {
   "cell_type": "code",
   "execution_count": 17,
   "metadata": {},
   "outputs": [],
   "source": [
    "classifier = PyTorchClassifier(\n",
    "    model=model, \n",
    "    loss=loss, \n",
    "    input_shape=(1, 28, 28), \n",
    "    optimizer=optimizer,\n",
    "    nb_classes=10,\n",
    "    clip_values=(0.0, 1.0),\n",
    "    device_type=device\n",
    ")\n",
    "\n",
    "# attack = FastGradientMethod(estimator=classifier, eps=0.2)\n",
    "attack = BasicIterativeMethod(estimator=classifier, eps=0.2)"
   ]
  },
  {
   "cell_type": "code",
   "execution_count": 18,
   "metadata": {},
   "outputs": [],
   "source": [
    "# Prepare dataset for adversarial examples\n",
    "n = len(dataset_test_perfect)\n",
    "indices = torch.randperm(n)[:N_ADV]\n",
    "\n",
    "pt_subset_X = tensor_test_X[indices]  # PyTorch Tensor\n",
    "pt_subset_y = tensor_test_y[indices]\n",
    "\n",
    "subset_X = pt_subset_X.cpu().detach().numpy()\n",
    "subset_y = pt_subset_y.cpu().detach().numpy()"
   ]
  },
  {
   "cell_type": "code",
   "execution_count": 19,
   "metadata": {},
   "outputs": [
    {
     "name": "stderr",
     "output_type": "stream",
     "text": [
      "PGD - Batches:   0%|          | 0/63 [00:00<?, ?it/s]"
     ]
    },
    {
     "name": "stdout",
     "output_type": "stream",
     "text": [
      "Model accuracy on clean examples: 100.0000%\n"
     ]
    },
    {
     "name": "stderr",
     "output_type": "stream",
     "text": [
      "/home/lukec/.local/lib/python3.6/site-packages/art/estimators/classification/pytorch.py:525: UserWarning: To copy construct from a tensor, it is recommended to use sourceTensor.clone().detach() or sourceTensor.clone().detach().requires_grad_(True), rather than torch.tensor(sourceTensor).\n",
      "  x_grad = torch.tensor(x).to(self._device)\n",
      "/home/lukec/.local/lib/python3.6/site-packages/art/estimators/classification/pytorch.py:526: UserWarning: To copy construct from a tensor, it is recommended to use sourceTensor.clone().detach() or sourceTensor.clone().detach().requires_grad_(True), rather than torch.tensor(sourceTensor).\n",
      "  y_grad = torch.tensor(y).to(self._device)\n",
      "                                                              \r"
     ]
    },
    {
     "name": "stdout",
     "output_type": "stream",
     "text": [
      "Model accuracy on adversarial examples: 7.3500%\n"
     ]
    }
   ],
   "source": [
    "# Create adversarial examples\n",
    "subset_pred = np.argmax(classifier.predict(subset_X), axis=1)\n",
    "accuracy = np.sum(subset_pred == subset_y) / float(len(subset_pred))\n",
    "print(\"Model accuracy on clean examples: {:.4f}%\".format(accuracy * 100))\n",
    "\n",
    "# Generate adversarial examples\n",
    "subset_adv = attack.generate(x=subset_X)\n",
    "subset_pred = np.argmax(classifier.predict(subset_adv), axis=1)\n",
    "\n",
    "accuracy = np.sum(subset_pred == subset_y) / float(len(subset_pred))\n",
    "print(\"Model accuracy on adversarial examples: {:.4f}%\".format(accuracy * 100))"
   ]
  },
  {
   "cell_type": "markdown",
   "metadata": {},
   "source": [
    "## Feature Squeezing"
   ]
  },
  {
   "cell_type": "code",
   "execution_count": 20,
   "metadata": {},
   "outputs": [],
   "source": [
    "from defences.feature_squeezing import GaussianSqueezer, MedianSqueezer, DepthSqueezer, FeatureSqueezingTorch"
   ]
  },
  {
   "cell_type": "code",
   "execution_count": 21,
   "metadata": {},
   "outputs": [],
   "source": [
    "squeezers = []\n",
    "squeezers.append(GaussianSqueezer(x_min=0.0, x_max=1.0, noise_strength=0.025, std=1.0))\n",
    "squeezers.append(MedianSqueezer(x_min=0.0, x_max=1.0, kernel_size=3))\n",
    "squeezers.append(DepthSqueezer(x_min=0.0, x_max=1.0, bit_depth=8))\n",
    "# std = 4.1936 / 20.0\n",
    "# print('std=', std)\n",
    "# squeezers.append(GaussianSqueezer(x_min=0.0, x_max=1.0, noise_strength=1, std=std))"
   ]
  },
  {
   "cell_type": "code",
   "execution_count": 22,
   "metadata": {},
   "outputs": [
    {
     "data": {
      "image/png": "[encoded data removed]",
      "text/plain": [
       "<Figure size 1008x288 with 1 Axes>"
      ]
     },
     "metadata": {
      "needs_background": "light"
     },
     "output_type": "display_data"
    },
    {
     "data": {
      "image/png": "[encoded data removed]",
      "text/plain": [
       "<Figure size 1008x288 with 1 Axes>"
      ]
     },
     "metadata": {
      "needs_background": "light"
     },
     "output_type": "display_data"
    },
    {
     "data": {
      "image/png": "[encoded data removed]",
      "text/plain": [
       "<Figure size 1008x288 with 1 Axes>"
      ]
     },
     "metadata": {
      "needs_background": "light"
     },
     "output_type": "display_data"
    },
    {
     "data": {
      "image/png": "[encoded data removed]",
      "text/plain": [
       "<Figure size 1008x288 with 1 Axes>"
      ]
     },
     "metadata": {
      "needs_background": "light"
     },
     "output_type": "display_data"
    }
   ],
   "source": [
    "# Show squerzers' outputs\n",
    "X_transformed = torch.from_numpy(X_test[:16])\n",
    "grid_image = make_grid(X_transformed).permute(1, 2, 0).detach().numpy()\n",
    "plt.figure(figsize=(14, 4))\n",
    "plt.imshow(grid_image)\n",
    "plt.axis('off')\n",
    "plt.title('raw')\n",
    "plt.show()\n",
    "\n",
    "for s in squeezers:\n",
    "    X_transformed = s.transform(X_test[:16])\n",
    "    X_transformed = torch.from_numpy(X_transformed)\n",
    "    grid_image = make_grid(X_transformed).permute(1, 2, 0).detach().numpy()\n",
    "    plt.figure(figsize=(14, 4))\n",
    "    plt.imshow(grid_image)\n",
    "    plt.axis('off')\n",
    "    plt.title(s.name)\n",
    "    plt.show()"
   ]
  },
  {
   "cell_type": "code",
   "execution_count": 23,
   "metadata": {},
   "outputs": [],
   "source": [
    "fs = FeatureSqueezingTorch(\n",
    "    classifier=model,\n",
    "    lr=0.001,\n",
    "    momentum=0.9,\n",
    "    loss=loss,\n",
    "    batch_size=128,\n",
    "    x_min=0.0,\n",
    "    x_max=1.0,\n",
    "    squeezers=squeezers,\n",
    "    n_classes=10,\n",
    "    device=device)"
   ]
  },
  {
   "cell_type": "code",
   "execution_count": 24,
   "metadata": {
    "tags": []
   },
   "outputs": [
    {
     "name": "stdout",
     "output_type": "stream",
     "text": [
      " 1/20 [0:00:01.626716] Squeezer: gaussian Train loss: 1.4777 acc: 98.3727%\n",
      " 2/20 [0:00:01.619901] Squeezer: gaussian Train loss: 1.4758 acc: 98.5873%\n",
      " 3/20 [0:00:01.622877] Squeezer: gaussian Train loss: 1.4751 acc: 98.6764%\n",
      " 4/20 [0:00:01.625806] Squeezer: gaussian Train loss: 1.4747 acc: 98.7345%\n",
      " 5/20 [0:00:01.619892] Squeezer: gaussian Train loss: 1.4744 acc: 98.7564%\n",
      " 6/20 [0:00:01.622635] Squeezer: gaussian Train loss: 1.4741 acc: 98.7927%\n",
      " 7/20 [0:00:01.623901] Squeezer: gaussian Train loss: 1.4738 acc: 98.8218%\n",
      " 8/20 [0:00:01.700647] Squeezer: gaussian Train loss: 1.4736 acc: 98.8491%\n",
      " 9/20 [0:00:01.669737] Squeezer: gaussian Train loss: 1.4734 acc: 98.8782%\n",
      "10/20 [0:00:01.701831] Squeezer: gaussian Train loss: 1.4732 acc: 98.8964%\n",
      "11/20 [0:00:01.628706] Squeezer: gaussian Train loss: 1.4730 acc: 98.9236%\n",
      "12/20 [0:00:01.649399] Squeezer: gaussian Train loss: 1.4729 acc: 98.9291%\n",
      "13/20 [0:00:01.628296] Squeezer: gaussian Train loss: 1.4727 acc: 98.9491%\n",
      "14/20 [0:00:01.630116] Squeezer: gaussian Train loss: 1.4726 acc: 98.9582%\n",
      "15/20 [0:00:01.631756] Squeezer: gaussian Train loss: 1.4725 acc: 98.9655%\n",
      "16/20 [0:00:01.631620] Squeezer: gaussian Train loss: 1.4724 acc: 98.9727%\n",
      "17/20 [0:00:01.635572] Squeezer: gaussian Train loss: 1.4722 acc: 98.9927%\n",
      "18/20 [0:00:01.630309] Squeezer: gaussian Train loss: 1.4722 acc: 98.9982%\n",
      "19/20 [0:00:01.630390] Squeezer: gaussian Train loss: 1.4720 acc: 99.0073%\n",
      "20/20 [0:00:01.630870] Squeezer: gaussian Train loss: 1.4720 acc: 99.0055%\n",
      " 1/20 [0:00:01.631965] Squeezer: median Train loss: 1.4845 acc: 97.7273%\n",
      " 2/20 [0:00:01.630414] Squeezer: median Train loss: 1.4813 acc: 98.0600%\n",
      " 3/20 [0:00:01.631971] Squeezer: median Train loss: 1.4803 acc: 98.1909%\n",
      " 4/20 [0:00:01.643615] Squeezer: median Train loss: 1.4796 acc: 98.2782%\n",
      " 5/20 [0:00:01.688754] Squeezer: median Train loss: 1.4789 acc: 98.3600%\n",
      " 6/20 [0:00:01.633381] Squeezer: median Train loss: 1.4785 acc: 98.4036%\n",
      " 7/20 [0:00:01.640205] Squeezer: median Train loss: 1.4781 acc: 98.4309%\n",
      " 8/20 [0:00:01.626203] Squeezer: median Train loss: 1.4777 acc: 98.4545%\n",
      " 9/20 [0:00:01.650026] Squeezer: median Train loss: 1.4774 acc: 98.5109%\n",
      "10/20 [0:00:01.687375] Squeezer: median Train loss: 1.4771 acc: 98.5473%\n",
      "11/20 [0:00:01.771990] Squeezer: median Train loss: 1.4768 acc: 98.5745%\n",
      "12/20 [0:00:02.278386] Squeezer: median Train loss: 1.4766 acc: 98.5945%\n",
      "13/20 [0:00:02.391392] Squeezer: median Train loss: 1.4764 acc: 98.6236%\n",
      "14/20 [0:00:02.180954] Squeezer: median Train loss: 1.4761 acc: 98.6309%\n",
      "15/20 [0:00:02.332749] Squeezer: median Train loss: 1.4759 acc: 98.6582%\n",
      "16/20 [0:00:02.330716] Squeezer: median Train loss: 1.4757 acc: 98.6927%\n",
      "17/20 [0:00:02.212733] Squeezer: median Train loss: 1.4756 acc: 98.7036%\n",
      "18/20 [0:00:02.357190] Squeezer: median Train loss: 1.4754 acc: 98.7164%\n",
      "19/20 [0:00:02.228227] Squeezer: median Train loss: 1.4753 acc: 98.7418%\n",
      "20/20 [0:00:02.335246] Squeezer: median Train loss: 1.4751 acc: 98.7527%\n",
      " 1/20 [0:00:02.377501] Squeezer: depth Train loss: 1.4776 acc: 98.4145%\n",
      " 2/20 [0:00:02.219214] Squeezer: depth Train loss: 1.4758 acc: 98.6000%\n",
      " 3/20 [0:00:02.337983] Squeezer: depth Train loss: 1.4751 acc: 98.6673%\n",
      " 4/20 [0:00:02.162905] Squeezer: depth Train loss: 1.4747 acc: 98.7073%\n",
      " 5/20 [0:00:01.826811] Squeezer: depth Train loss: 1.4743 acc: 98.7691%\n",
      " 6/20 [0:00:02.070704] Squeezer: depth Train loss: 1.4740 acc: 98.8036%\n",
      " 7/20 [0:00:01.938037] Squeezer: depth Train loss: 1.4738 acc: 98.8273%\n",
      " 8/20 [0:00:01.649489] Squeezer: depth Train loss: 1.4735 acc: 98.8600%\n",
      " 9/20 [0:00:01.650750] Squeezer: depth Train loss: 1.4733 acc: 98.8945%\n",
      "10/20 [0:00:01.649926] Squeezer: depth Train loss: 1.4732 acc: 98.9055%\n",
      "11/20 [0:00:01.657749] Squeezer: depth Train loss: 1.4730 acc: 98.9073%\n",
      "12/20 [0:00:01.657629] Squeezer: depth Train loss: 1.4729 acc: 98.9327%\n",
      "13/20 [0:00:01.654721] Squeezer: depth Train loss: 1.4727 acc: 98.9364%\n",
      "14/20 [0:00:01.651793] Squeezer: depth Train loss: 1.4726 acc: 98.9545%\n",
      "15/20 [0:00:01.653188] Squeezer: depth Train loss: 1.4725 acc: 98.9655%\n",
      "16/20 [0:00:01.714928] Squeezer: depth Train loss: 1.4723 acc: 98.9727%\n",
      "17/20 [0:00:01.622383] Squeezer: depth Train loss: 1.4723 acc: 98.9891%\n",
      "18/20 [0:00:01.621532] Squeezer: depth Train loss: 1.4721 acc: 98.9945%\n",
      "19/20 [0:00:01.623867] Squeezer: depth Train loss: 1.4721 acc: 99.0091%\n",
      "20/20 [0:00:01.624041] Squeezer: depth Train loss: 1.4719 acc: 99.0109%\n"
     ]
    },
    {
     "data": {
      "text/plain": [
       "<defences.feature_squeezing.FeatureSqueezingTorch at 0x7fce5ffd5f28>"
      ]
     },
     "execution_count": 24,
     "metadata": {},
     "output_type": "execute_result"
    }
   ],
   "source": [
    "fs.fit(X_train, y_train, epochs=EPOCHS, verbose=1)"
   ]
  },
  {
   "cell_type": "code",
   "execution_count": 25,
   "metadata": {},
   "outputs": [
    {
     "data": {
      "image/png": "[encoded data removed]",
      "text/plain": [
       "<Figure size 576x432 with 1 Axes>"
      ]
     },
     "metadata": {
      "needs_background": "light"
     },
     "output_type": "display_data"
    }
   ],
   "source": [
    "history_losses = fs.history_losses\n",
    "n = len(history_losses[0])\n",
    "\n",
    "plt.figure(figsize=(8, 6))\n",
    "xx = np.arange(1, n+1)\n",
    "for i in range(len(squeezers)):\n",
    "    name = squeezers[i].name\n",
    "    plt.plot(xx, history_losses[i], label='{} loss'.format(name))\n",
    "plt.legend()\n",
    "plt.xlabel('Epoch')\n",
    "plt.ylabel('Loss')\n",
    "plt.show()"
   ]
  },
  {
   "cell_type": "markdown",
   "metadata": {},
   "source": [
    "## Search threshold"
   ]
  },
  {
   "cell_type": "code",
   "execution_count": 26,
   "metadata": {},
   "outputs": [],
   "source": [
    "X_mixed = np.concatenate((subset_adv[1000:], subset_X[1000:]))\n",
    "y_adv = np.concatenate((np.ones_like(subset_y[1000:]), np.zeros_like(subset_y[1000:])))\n",
    "fs.search_threshold(X_mixed, y_adv)"
   ]
  },
  {
   "cell_type": "markdown",
   "metadata": {},
   "source": [
    "## Testing FS on clean data"
   ]
  },
  {
   "cell_type": "code",
   "execution_count": 27,
   "metadata": {},
   "outputs": [
    {
     "name": "stdout",
     "output_type": "stream",
     "text": [
      "False postive rate: 26.3000%\n"
     ]
    }
   ],
   "source": [
    "predictions = fs.predict(subset_X[:1000])\n",
    "fp = np.sum(predictions==1) / float(len(subset_X[:1000]))\n",
    "print('False postive rate: {:.4f}%'.format(fp*100))"
   ]
  },
  {
   "cell_type": "markdown",
   "metadata": {},
   "source": [
    "## Testing FS on Adversarial Examples"
   ]
  },
  {
   "cell_type": "code",
   "execution_count": 28,
   "metadata": {},
   "outputs": [
    {
     "name": "stdout",
     "output_type": "stream",
     "text": [
      "True postive rate: 77.1000%\n"
     ]
    }
   ],
   "source": [
    "predictions = fs.predict(subset_adv[:1000])\n",
    "tp = np.sum(predictions==1) / float(len(subset_X[:1000]))\n",
    "print('True postive rate: {:.4f}%'.format(tp*100))"
   ]
  },
  {
   "cell_type": "markdown",
   "metadata": {},
   "source": [
    "## ROC AUC"
   ]
  },
  {
   "cell_type": "code",
   "execution_count": 29,
   "metadata": {},
   "outputs": [],
   "source": [
    "from sklearn.metrics import accuracy_score, precision_score, recall_score\n",
    "from defences.util import get_roc"
   ]
  },
  {
   "cell_type": "code",
   "execution_count": 30,
   "metadata": {},
   "outputs": [
    {
     "data": {
      "image/png": "[encoded data removed]",
      "text/plain": [
       "<Figure size 432x432 with 1 Axes>"
      ]
     },
     "metadata": {
      "needs_background": "light"
     },
     "output_type": "display_data"
    },
    {
     "name": "stdout",
     "output_type": "stream",
     "text": [
      "Detector ROC-AUC score: 0.8110, accuracy: 0.7540, precision: 0.7456, recall: 0.7710\n"
     ]
    }
   ],
   "source": [
    "X_mixed_test = np.concatenate((subset_adv[:1000], subset_X[:1000]))\n",
    "y_adv_test = np.concatenate((np.ones_like(subset_y[1000:]), np.zeros_like(subset_y[1000:])))\n",
    "\n",
    "fs_label_pred = fs.predict(X_mixed_test)\n",
    "fs_label_prob = fs.predict_proba(X_mixed_test)[:, 1]\n",
    "_, _, auc_score, _ = get_roc(y_adv_test, fs_label_prob, show_plot=True)\n",
    "precision = precision_score(y_adv_test, fs_label_pred)\n",
    "recall = recall_score(y_adv_test, fs_label_pred)\n",
    "acc = accuracy_score(y_adv_test, fs_label_pred)\n",
    "\n",
    "print('Detector ROC-AUC score: {:0.4f}, accuracy: {:.4f}, precision: {:.4f}, recall: {:.4f}'.format(\n",
    "    auc_score, acc, precision, recall))"
   ]
  },
  {
   "cell_type": "code",
   "execution_count": null,
   "metadata": {},
   "outputs": [],
   "source": []
  }
 ],
 "metadata": {
  "kernelspec": {
   "display_name": "Python 3.6.9 64-bit",
   "language": "python",
   "name": "python36964bit4ada1bcfcd0f4caa95e946f583001e1b"
  },
  "language_info": {
   "codemirror_mode": {
    "name": "ipython",
    "version": 3
   },
   "file_extension": ".py",
   "mimetype": "text/x-python",
   "name": "python",
   "nbconvert_exporter": "python",
   "pygments_lexer": "ipython3",
   "version": "3.6.9"
  }
 },
 "nbformat": 4,
 "nbformat_minor": 4
}
