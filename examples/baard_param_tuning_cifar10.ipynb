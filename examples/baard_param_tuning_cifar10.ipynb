{
 "cells": [
  {
   "cell_type": "code",
   "execution_count": 1,
   "metadata": {},
   "outputs": [],
   "source": [
    "import os\n",
    "import sys\n",
    "\n",
    "sys.path.append('..')"
   ]
  },
  {
   "cell_type": "code",
   "execution_count": 2,
   "metadata": {},
   "outputs": [],
   "source": [
    "%load_ext autoreload\n",
    "%autoreload 2"
   ]
  },
  {
   "cell_type": "code",
   "execution_count": 3,
   "metadata": {},
   "outputs": [],
   "source": [
    "import matplotlib.pyplot as plt\n",
    "import numpy as np\n",
    "import torch\n",
    "import torchvision.datasets as datasets\n",
    "import torchvision as tv\n",
    "from sklearn.metrics import roc_auc_score, roc_curve, auc\n",
    "from tqdm import tqdm\n",
    "\n",
    "from defences.baard import ApplicabilityStage, ReliabilityStage, DecidabilityStage, BAARDOperator\n",
    "from models.mnist import BaseModel\n",
    "from models.cifar10 import Resnet\n",
    "from models.torch_util import predict_numpy\n",
    "from defences.util import get_correct_examples"
   ]
  },
  {
   "cell_type": "code",
   "execution_count": 4,
   "metadata": {},
   "outputs": [],
   "source": [
    "PATH_DATA = os.path.join('..', 'data')\n",
    "PATH = os.path.join('..', 'result_0')\n",
    "N_CLASSES = 10\n",
    "DATA = 'cifar10'\n",
    "MODEL_NAME = 'resnet'\n",
    "\n",
    "ATTACK = 'cw2'\n",
    "EPS = 0"
   ]
  },
  {
   "cell_type": "code",
   "execution_count": 5,
   "metadata": {},
   "outputs": [
    {
     "output_type": "stream",
     "name": "stdout",
     "text": [
      "Files already downloaded and verified\n"
     ]
    },
    {
     "output_type": "execute_result",
     "data": {
      "text/plain": [
       "<All keys matched successfully>"
      ]
     },
     "metadata": {},
     "execution_count": 5
    }
   ],
   "source": [
    "# Load model\n",
    "transform = tv.transforms.Compose([tv.transforms.ToTensor()])\n",
    "device = torch.device('cuda' if torch.cuda.is_available() else 'cpu')\n",
    "if DATA == 'mnist':\n",
    "    model = BaseModel(use_prob=True).to(device)\n",
    "    dataset_train = datasets.MNIST(PATH_DATA, train=True, download=True, transform=transform)\n",
    "else:\n",
    "    model = Resnet(use_prob=True).to(device)\n",
    "    dataset_train = datasets.CIFAR10(PATH_DATA, train=True, download=True, transform=transform)\n",
    "file_model = os.path.join(PATH, '{}_{}_model.pt'.format(DATA, MODEL_NAME))\n",
    "model.load_state_dict(torch.load(file_model))"
   ]
  },
  {
   "cell_type": "code",
   "execution_count": 6,
   "metadata": {},
   "outputs": [],
   "source": [
    "\n",
    "tensor_X, tensor_y = get_correct_examples(model, dataset_train, device=device, return_tensor=True)\n",
    "X_train = tensor_X.detach().numpy()\n",
    "y_train = tensor_y.detach().numpy()"
   ]
  },
  {
   "cell_type": "code",
   "execution_count": 7,
   "metadata": {},
   "outputs": [],
   "source": [
    "# Initialize BAARD\n",
    "stages = []\n",
    "stages.append(ApplicabilityStage(n_classes=N_CLASSES))\n",
    "stages.append(ReliabilityStage(n_classes=N_CLASSES))\n",
    "stages.append(DecidabilityStage(n_classes=N_CLASSES))\n",
    "detector = BAARDOperator(stages=stages)"
   ]
  },
  {
   "cell_type": "code",
   "execution_count": 8,
   "metadata": {},
   "outputs": [],
   "source": [
    "# Load training data\n",
    "file_baard_train = os.path.join(PATH, '{}_{}_baard_s1_train_data.pt'.format(DATA, MODEL_NAME))\n",
    "obj = torch.load(file_baard_train)\n",
    "X_baard_train = obj['X']\n",
    "y_baard_train = obj['y']"
   ]
  },
  {
   "cell_type": "code",
   "execution_count": 9,
   "metadata": {},
   "outputs": [
    {
     "output_type": "stream",
     "name": "stdout",
     "text": [
      "Load from: ../result_0/cifar10_resnet_baard_threshold.pt\n"
     ]
    }
   ],
   "source": [
    "# Load thresholds\n",
    "file_baard_threshold = os.path.join(PATH, '{}_{}_baard_threshold.pt'.format(DATA, MODEL_NAME))\n",
    "detector.load(file_baard_threshold)"
   ]
  },
  {
   "cell_type": "code",
   "execution_count": 10,
   "metadata": {},
   "outputs": [
    {
     "output_type": "execute_result",
     "data": {
      "text/plain": [
       "<defences.baard.DecidabilityStage at 0x7fe8f00da860>"
      ]
     },
     "metadata": {},
     "execution_count": 10
    }
   ],
   "source": [
    "stages[0].fit(X_baard_train, y_baard_train)\n",
    "stages[1].fit(X_train, y_train)\n",
    "stages[2].fit(X_train, y_train)"
   ]
  },
  {
   "cell_type": "code",
   "execution_count": 11,
   "metadata": {},
   "outputs": [
    {
     "output_type": "stream",
     "name": "stdout",
     "text": [
      "(6000, 3, 32, 32) (6000,) (6000, 3, 32, 32)\n"
     ]
    }
   ],
   "source": [
    "file_data = os.path.join(PATH, '{}_{}_{}_{}.pt'.format(DATA, MODEL_NAME, ATTACK, EPS))\n",
    "obj = torch.load(file_data)\n",
    "X = obj['X']\n",
    "y = obj['y']\n",
    "adv = obj['adv']\n",
    "\n",
    "print(X.shape, y.shape, adv.shape)"
   ]
  },
  {
   "cell_type": "code",
   "execution_count": 12,
   "metadata": {},
   "outputs": [
    {
     "output_type": "execute_result",
     "data": {
      "text/plain": [
       "0.0"
      ]
     },
     "metadata": {},
     "execution_count": 12
    }
   ],
   "source": [
    "pred_adv = predict_numpy(model, adv, device)\n",
    "\n",
    "np.mean(pred_adv == y)"
   ]
  },
  {
   "cell_type": "code",
   "execution_count": 13,
   "metadata": {},
   "outputs": [],
   "source": [
    "X_def_test = (X[:1000])[:100]\n",
    "y_def_test = (y[:1000])[:100]\n",
    "adv_def_test = (adv[:1000])[:100]\n",
    "pred_adv_def_test = (pred_adv[:1000])[:100]\n",
    "    \n",
    "X_def_val = (X[1000:2000])[:100]\n",
    "y_def_val = (y[1000:2000])[:100]\n",
    "adv_def_val = (adv[1000:2000])[:100]\n",
    "pred_adv_def_val = (pred_adv[1000:2000])[:100]"
   ]
  },
  {
   "cell_type": "code",
   "execution_count": 14,
   "metadata": {},
   "outputs": [
    {
     "output_type": "stream",
     "name": "stderr",
     "text": [
      "Applicability: 100%|██████████| 10/10 [00:00<00:00, 10629.25it/s]\n",
      "Applicability: 100%|██████████| 10/10 [00:00<00:00, 11821.60it/s]\n",
      "TPR 1 FPR: 3\n",
      "\n"
     ]
    }
   ],
   "source": [
    "stage = 0\n",
    "output_adv = stages[stage].predict(adv_def_val, pred_adv_def_val)\n",
    "output_X = stages[stage].predict(X_def_val, y_def_val)\n",
    "print('\\nTPR', np.sum(output_adv), 'FPR:', np.sum(output_X))"
   ]
  },
  {
   "cell_type": "code",
   "execution_count": 15,
   "metadata": {},
   "outputs": [
    {
     "output_type": "stream",
     "name": "stderr",
     "text": [
      "Reliability: 100%|██████████| 10/10 [00:01<00:00,  8.36it/s]\n",
      "Reliability: 100%|██████████| 10/10 [00:01<00:00,  8.16it/s]\n",
      "TPR 0 FPR: 0\n",
      "\n"
     ]
    }
   ],
   "source": [
    "stage = 1\n",
    "output_adv = stages[stage].predict(adv_def_val, pred_adv_def_val)\n",
    "output_X = stages[stage].predict(X_def_val, y_def_val)\n",
    "print('\\nTPR', np.sum(output_adv), 'FPR:', np.sum(output_X))"
   ]
  },
  {
   "cell_type": "code",
   "execution_count": 16,
   "metadata": {},
   "outputs": [
    {
     "output_type": "stream",
     "name": "stderr",
     "text": [
      "Decidability: 100%|██████████| 10/10 [00:11<00:00,  1.19s/it]\n",
      "Decidability: 100%|██████████| 10/10 [00:12<00:00,  1.22s/it]\n",
      "TPR 11 FPR: 3\n",
      "\n"
     ]
    }
   ],
   "source": [
    "stage = 2\n",
    "output_adv = stages[stage].predict(adv_def_val, pred_adv_def_val)\n",
    "output_X = stages[stage].predict(X_def_val, y_def_val)\n",
    "print('\\nTPR', np.sum(output_adv), 'FPR:', np.sum(output_X))"
   ]
  },
  {
   "cell_type": "code",
   "execution_count": 17,
   "metadata": {},
   "outputs": [
    {
     "output_type": "stream",
     "name": "stderr",
     "text": [
      "Applicability: 100%|██████████| 10/10 [00:00<00:00, 10305.42it/s]\n",
      "Reliability: 100%|██████████| 10/10 [00:01<00:00,  7.93it/s]\n",
      "Decidability: 100%|██████████| 10/10 [00:12<00:00,  1.25s/it]\n",
      "Applicability: 100%|██████████| 10/10 [00:00<00:00, 15049.53it/s]\n",
      "Reliability: 100%|██████████| 10/10 [00:01<00:00,  7.64it/s]\n",
      "Decidability: 100%|██████████| 10/10 [00:11<00:00,  1.17s/it]TPR 12 FPR: 6\n",
      "\n"
     ]
    }
   ],
   "source": [
    "output_adv = detector.detect(adv_def_val, pred_adv_def_val)\n",
    "output_X = detector.detect(X_def_val, y_def_val)\n",
    "print('TPR', np.sum(output_adv), 'FPR:', np.sum(output_X))"
   ]
  },
  {
   "cell_type": "code",
   "execution_count": 18,
   "metadata": {},
   "outputs": [],
   "source": [
    "# Let's combine\n",
    "X_comb_val = np.concatenate((X_def_val, adv_def_val))\n",
    "pred_comb_val = np.concatenate((y_def_val, pred_adv_def_val))\n",
    "label_comb_val = np.concatenate((np.zeros_like(y_def_val), np.ones_like(pred_adv_def_val)))"
   ]
  },
  {
   "cell_type": "code",
   "execution_count": 19,
   "metadata": {},
   "outputs": [
    {
     "output_type": "stream",
     "name": "stderr",
     "text": [
      "100%|██████████| 50/50 [02:43<00:00,  3.28s/it]\n"
     ]
    }
   ],
   "source": [
    "s1 = stages[0]\n",
    "tpr1 = []\n",
    "fpr1 = []\n",
    "\n",
    "s1.verbose = 0\n",
    "for q in tqdm(np.linspace(1, 0.8, num=50)):\n",
    "    s1.quantile = q\n",
    "    s1.fit(X_baard_train, y_baard_train)\n",
    "    output_adv = s1.predict(adv_def_val, pred_adv_def_val)\n",
    "    output_X = s1.predict(X_def_val, y_def_val)\n",
    "    tpr_ = np.mean(output_adv)\n",
    "    fpr_ = np.mean(output_X)\n",
    "    tpr1.append(tpr_)\n",
    "    fpr1.append(fpr_)"
   ]
  },
  {
   "cell_type": "code",
   "execution_count": 20,
   "metadata": {},
   "outputs": [
    {
     "output_type": "stream",
     "name": "stdout",
     "text": [
      "0.0 0.0\n1.0 1.0\n"
     ]
    }
   ],
   "source": [
    "auc_score1 = auc(fpr1, tpr1)\n",
    "\n",
    "print(tpr1[0], fpr1[0])\n",
    "print(tpr1[-1], fpr1[-1])"
   ]
  },
  {
   "cell_type": "code",
   "execution_count": 21,
   "metadata": {},
   "outputs": [
    {
     "output_type": "stream",
     "name": "stderr",
     "text": [
      "Reliability: 100%|██████████| 10/10 [00:02<00:00,  4.25it/s]\n"
     ]
    }
   ],
   "source": [
    "s2 =stages[1]\n",
    "labelled_as_adv = s2.predict_proba(X_comb_val, pred_comb_val)\n",
    "fpr2, tpr2, threshold = roc_curve(label_comb_val, labelled_as_adv)\n",
    "auc_score2 = roc_auc_score(label_comb_val, labelled_as_adv)"
   ]
  },
  {
   "cell_type": "code",
   "execution_count": 22,
   "metadata": {},
   "outputs": [
    {
     "output_type": "stream",
     "name": "stderr",
     "text": [
      "Decidability: 100%|██████████| 10/10 [00:24<00:00,  2.47s/it]\n"
     ]
    }
   ],
   "source": [
    "\n",
    "s3 =stages[2]\n",
    "labelled_as_adv = s3.predict_proba(X_comb_val, pred_comb_val)\n",
    "fpr3, tpr3, threshold = roc_curve(label_comb_val, labelled_as_adv)\n",
    "auc_score3 = roc_auc_score(label_comb_val, labelled_as_adv)"
   ]
  },
  {
   "cell_type": "code",
   "execution_count": 23,
   "metadata": {},
   "outputs": [
    {
     "output_type": "display_data",
     "data": {
      "text/plain": "<Figure size 432x432 with 1 Axes>",
      "image/svg+xml": "<?xml version=\"1.0\" encoding=\"utf-8\" standalone=\"no\"?>\n<!DOCTYPE svg PUBLIC \"-//W3C//DTD SVG 1.1//EN\"\n  \"http://www.w3.org/Graphics/SVG/1.1/DTD/svg11.dtd\">\n<!-- Created with matplotlib (https://matplotlib.org/) -->\n<svg height=\"386.034375pt\" version=\"1.1\" viewBox=\"0 0 385.78125 386.034375\" width=\"385.78125pt\" xmlns=\"http://www.w3.org/2000/svg\" xmlns:xlink=\"http://www.w3.org/1999/xlink\">\n <metadata>\n  <rdf:RDF xmlns:cc=\"http://creativecommons.org/ns#\" xmlns:dc=\"http://purl.org/dc/elements/1.1/\" xmlns:rdf=\"http://www.w3.org/1999/02/22-rdf-syntax-ns#\">\n   <cc:Work>\n    <dc:type rdf:resource=\"http://purl.org/dc/dcmitype/StillImage\"/>\n    <dc:date>2021-02-05T17:02:12.964495</dc:date>\n    <dc:format>image/svg+xml</dc:format>\n    <dc:creator>\n     <cc:Agent>\n      <dc:title>Matplotlib v3.3.3, https://matplotlib.org/</dc:title>\n     </cc:Agent>\n    </dc:creator>\n   </cc:Work>\n  </rdf:RDF>\n </metadata>\n <defs>\n  <style type=\"text/css\">*{stroke-linecap:butt;stroke-linejoin:round;}</style>\n </defs>\n <g id=\"figure_1\">\n  <g id=\"patch_1\">\n   <path d=\"M 0 386.034375 \nL 385.78125 386.034375 \nL 385.78125 0 \nL 0 0 \nz\n\" style=\"fill:none;\"/>\n  </g>\n  <g id=\"axes_1\">\n   <g id=\"patch_2\">\n    <path d=\"M 43.78125 348.478125 \nL 378.58125 348.478125 \nL 378.58125 22.318125 \nL 43.78125 22.318125 \nz\n\" style=\"fill:#ffffff;\"/>\n   </g>\n   <g id=\"matplotlib.axis_1\">\n    <g id=\"xtick_1\">\n     <g id=\"line2d_1\">\n      <defs>\n       <path d=\"M 0 0 \nL 0 3.5 \n\" id=\"m894a48e885\" style=\"stroke:#000000;stroke-width:0.8;\"/>\n      </defs>\n      <g>\n       <use style=\"stroke:#000000;stroke-width:0.8;\" x=\"43.78125\" xlink:href=\"#m894a48e885\" y=\"348.478125\"/>\n      </g>\n     </g>\n     <g id=\"text_1\">\n      <!-- 0.0 -->\n      <g transform=\"translate(35.829688 363.076562)scale(0.1 -0.1)\">\n       <defs>\n        <path d=\"M 31.78125 66.40625 \nQ 24.171875 66.40625 20.328125 58.90625 \nQ 16.5 51.421875 16.5 36.375 \nQ 16.5 21.390625 20.328125 13.890625 \nQ 24.171875 6.390625 31.78125 6.390625 \nQ 39.453125 6.390625 43.28125 13.890625 \nQ 47.125 21.390625 47.125 36.375 \nQ 47.125 51.421875 43.28125 58.90625 \nQ 39.453125 66.40625 31.78125 66.40625 \nz\nM 31.78125 74.21875 \nQ 44.046875 74.21875 50.515625 64.515625 \nQ 56.984375 54.828125 56.984375 36.375 \nQ 56.984375 17.96875 50.515625 8.265625 \nQ 44.046875 -1.421875 31.78125 -1.421875 \nQ 19.53125 -1.421875 13.0625 8.265625 \nQ 6.59375 17.96875 6.59375 36.375 \nQ 6.59375 54.828125 13.0625 64.515625 \nQ 19.53125 74.21875 31.78125 74.21875 \nz\n\" id=\"DejaVuSans-48\"/>\n        <path d=\"M 10.6875 12.40625 \nL 21 12.40625 \nL 21 0 \nL 10.6875 0 \nz\n\" id=\"DejaVuSans-46\"/>\n       </defs>\n       <use xlink:href=\"#DejaVuSans-48\"/>\n       <use x=\"63.623047\" xlink:href=\"#DejaVuSans-46\"/>\n       <use x=\"95.410156\" xlink:href=\"#DejaVuSans-48\"/>\n      </g>\n     </g>\n    </g>\n    <g id=\"xtick_2\">\n     <g id=\"line2d_2\">\n      <g>\n       <use style=\"stroke:#000000;stroke-width:0.8;\" x=\"104.653977\" xlink:href=\"#m894a48e885\" y=\"348.478125\"/>\n      </g>\n     </g>\n     <g id=\"text_2\">\n      <!-- 0.2 -->\n      <g transform=\"translate(96.702415 363.076562)scale(0.1 -0.1)\">\n       <defs>\n        <path d=\"M 19.1875 8.296875 \nL 53.609375 8.296875 \nL 53.609375 0 \nL 7.328125 0 \nL 7.328125 8.296875 \nQ 12.9375 14.109375 22.625 23.890625 \nQ 32.328125 33.6875 34.8125 36.53125 \nQ 39.546875 41.84375 41.421875 45.53125 \nQ 43.3125 49.21875 43.3125 52.78125 \nQ 43.3125 58.59375 39.234375 62.25 \nQ 35.15625 65.921875 28.609375 65.921875 \nQ 23.96875 65.921875 18.8125 64.3125 \nQ 13.671875 62.703125 7.8125 59.421875 \nL 7.8125 69.390625 \nQ 13.765625 71.78125 18.9375 73 \nQ 24.125 74.21875 28.421875 74.21875 \nQ 39.75 74.21875 46.484375 68.546875 \nQ 53.21875 62.890625 53.21875 53.421875 \nQ 53.21875 48.921875 51.53125 44.890625 \nQ 49.859375 40.875 45.40625 35.40625 \nQ 44.1875 33.984375 37.640625 27.21875 \nQ 31.109375 20.453125 19.1875 8.296875 \nz\n\" id=\"DejaVuSans-50\"/>\n       </defs>\n       <use xlink:href=\"#DejaVuSans-48\"/>\n       <use x=\"63.623047\" xlink:href=\"#DejaVuSans-46\"/>\n       <use x=\"95.410156\" xlink:href=\"#DejaVuSans-50\"/>\n      </g>\n     </g>\n    </g>\n    <g id=\"xtick_3\">\n     <g id=\"line2d_3\">\n      <g>\n       <use style=\"stroke:#000000;stroke-width:0.8;\" x=\"165.526705\" xlink:href=\"#m894a48e885\" y=\"348.478125\"/>\n      </g>\n     </g>\n     <g id=\"text_3\">\n      <!-- 0.4 -->\n      <g transform=\"translate(157.575142 363.076562)scale(0.1 -0.1)\">\n       <defs>\n        <path d=\"M 37.796875 64.3125 \nL 12.890625 25.390625 \nL 37.796875 25.390625 \nz\nM 35.203125 72.90625 \nL 47.609375 72.90625 \nL 47.609375 25.390625 \nL 58.015625 25.390625 \nL 58.015625 17.1875 \nL 47.609375 17.1875 \nL 47.609375 0 \nL 37.796875 0 \nL 37.796875 17.1875 \nL 4.890625 17.1875 \nL 4.890625 26.703125 \nz\n\" id=\"DejaVuSans-52\"/>\n       </defs>\n       <use xlink:href=\"#DejaVuSans-48\"/>\n       <use x=\"63.623047\" xlink:href=\"#DejaVuSans-46\"/>\n       <use x=\"95.410156\" xlink:href=\"#DejaVuSans-52\"/>\n      </g>\n     </g>\n    </g>\n    <g id=\"xtick_4\">\n     <g id=\"line2d_4\">\n      <g>\n       <use style=\"stroke:#000000;stroke-width:0.8;\" x=\"226.399432\" xlink:href=\"#m894a48e885\" y=\"348.478125\"/>\n      </g>\n     </g>\n     <g id=\"text_4\">\n      <!-- 0.6 -->\n      <g transform=\"translate(218.447869 363.076562)scale(0.1 -0.1)\">\n       <defs>\n        <path d=\"M 33.015625 40.375 \nQ 26.375 40.375 22.484375 35.828125 \nQ 18.609375 31.296875 18.609375 23.390625 \nQ 18.609375 15.53125 22.484375 10.953125 \nQ 26.375 6.390625 33.015625 6.390625 \nQ 39.65625 6.390625 43.53125 10.953125 \nQ 47.40625 15.53125 47.40625 23.390625 \nQ 47.40625 31.296875 43.53125 35.828125 \nQ 39.65625 40.375 33.015625 40.375 \nz\nM 52.59375 71.296875 \nL 52.59375 62.3125 \nQ 48.875 64.0625 45.09375 64.984375 \nQ 41.3125 65.921875 37.59375 65.921875 \nQ 27.828125 65.921875 22.671875 59.328125 \nQ 17.53125 52.734375 16.796875 39.40625 \nQ 19.671875 43.65625 24.015625 45.921875 \nQ 28.375 48.1875 33.59375 48.1875 \nQ 44.578125 48.1875 50.953125 41.515625 \nQ 57.328125 34.859375 57.328125 23.390625 \nQ 57.328125 12.15625 50.6875 5.359375 \nQ 44.046875 -1.421875 33.015625 -1.421875 \nQ 20.359375 -1.421875 13.671875 8.265625 \nQ 6.984375 17.96875 6.984375 36.375 \nQ 6.984375 53.65625 15.1875 63.9375 \nQ 23.390625 74.21875 37.203125 74.21875 \nQ 40.921875 74.21875 44.703125 73.484375 \nQ 48.484375 72.75 52.59375 71.296875 \nz\n\" id=\"DejaVuSans-54\"/>\n       </defs>\n       <use xlink:href=\"#DejaVuSans-48\"/>\n       <use x=\"63.623047\" xlink:href=\"#DejaVuSans-46\"/>\n       <use x=\"95.410156\" xlink:href=\"#DejaVuSans-54\"/>\n      </g>\n     </g>\n    </g>\n    <g id=\"xtick_5\">\n     <g id=\"line2d_5\">\n      <g>\n       <use style=\"stroke:#000000;stroke-width:0.8;\" x=\"287.272159\" xlink:href=\"#m894a48e885\" y=\"348.478125\"/>\n      </g>\n     </g>\n     <g id=\"text_5\">\n      <!-- 0.8 -->\n      <g transform=\"translate(279.320597 363.076562)scale(0.1 -0.1)\">\n       <defs>\n        <path d=\"M 31.78125 34.625 \nQ 24.75 34.625 20.71875 30.859375 \nQ 16.703125 27.09375 16.703125 20.515625 \nQ 16.703125 13.921875 20.71875 10.15625 \nQ 24.75 6.390625 31.78125 6.390625 \nQ 38.8125 6.390625 42.859375 10.171875 \nQ 46.921875 13.96875 46.921875 20.515625 \nQ 46.921875 27.09375 42.890625 30.859375 \nQ 38.875 34.625 31.78125 34.625 \nz\nM 21.921875 38.8125 \nQ 15.578125 40.375 12.03125 44.71875 \nQ 8.5 49.078125 8.5 55.328125 \nQ 8.5 64.0625 14.71875 69.140625 \nQ 20.953125 74.21875 31.78125 74.21875 \nQ 42.671875 74.21875 48.875 69.140625 \nQ 55.078125 64.0625 55.078125 55.328125 \nQ 55.078125 49.078125 51.53125 44.71875 \nQ 48 40.375 41.703125 38.8125 \nQ 48.828125 37.15625 52.796875 32.3125 \nQ 56.78125 27.484375 56.78125 20.515625 \nQ 56.78125 9.90625 50.3125 4.234375 \nQ 43.84375 -1.421875 31.78125 -1.421875 \nQ 19.734375 -1.421875 13.25 4.234375 \nQ 6.78125 9.90625 6.78125 20.515625 \nQ 6.78125 27.484375 10.78125 32.3125 \nQ 14.796875 37.15625 21.921875 38.8125 \nz\nM 18.3125 54.390625 \nQ 18.3125 48.734375 21.84375 45.5625 \nQ 25.390625 42.390625 31.78125 42.390625 \nQ 38.140625 42.390625 41.71875 45.5625 \nQ 45.3125 48.734375 45.3125 54.390625 \nQ 45.3125 60.0625 41.71875 63.234375 \nQ 38.140625 66.40625 31.78125 66.40625 \nQ 25.390625 66.40625 21.84375 63.234375 \nQ 18.3125 60.0625 18.3125 54.390625 \nz\n\" id=\"DejaVuSans-56\"/>\n       </defs>\n       <use xlink:href=\"#DejaVuSans-48\"/>\n       <use x=\"63.623047\" xlink:href=\"#DejaVuSans-46\"/>\n       <use x=\"95.410156\" xlink:href=\"#DejaVuSans-56\"/>\n      </g>\n     </g>\n    </g>\n    <g id=\"xtick_6\">\n     <g id=\"line2d_6\">\n      <g>\n       <use style=\"stroke:#000000;stroke-width:0.8;\" x=\"348.144886\" xlink:href=\"#m894a48e885\" y=\"348.478125\"/>\n      </g>\n     </g>\n     <g id=\"text_6\">\n      <!-- 1.0 -->\n      <g transform=\"translate(340.193324 363.076562)scale(0.1 -0.1)\">\n       <defs>\n        <path d=\"M 12.40625 8.296875 \nL 28.515625 8.296875 \nL 28.515625 63.921875 \nL 10.984375 60.40625 \nL 10.984375 69.390625 \nL 28.421875 72.90625 \nL 38.28125 72.90625 \nL 38.28125 8.296875 \nL 54.390625 8.296875 \nL 54.390625 0 \nL 12.40625 0 \nz\n\" id=\"DejaVuSans-49\"/>\n       </defs>\n       <use xlink:href=\"#DejaVuSans-49\"/>\n       <use x=\"63.623047\" xlink:href=\"#DejaVuSans-46\"/>\n       <use x=\"95.410156\" xlink:href=\"#DejaVuSans-48\"/>\n      </g>\n     </g>\n    </g>\n    <g id=\"text_7\">\n     <!-- FPR -->\n     <g transform=\"translate(201.816406 376.754687)scale(0.1 -0.1)\">\n      <defs>\n       <path d=\"M 9.8125 72.90625 \nL 51.703125 72.90625 \nL 51.703125 64.59375 \nL 19.671875 64.59375 \nL 19.671875 43.109375 \nL 48.578125 43.109375 \nL 48.578125 34.8125 \nL 19.671875 34.8125 \nL 19.671875 0 \nL 9.8125 0 \nz\n\" id=\"DejaVuSans-70\"/>\n       <path d=\"M 19.671875 64.796875 \nL 19.671875 37.40625 \nL 32.078125 37.40625 \nQ 38.96875 37.40625 42.71875 40.96875 \nQ 46.484375 44.53125 46.484375 51.125 \nQ 46.484375 57.671875 42.71875 61.234375 \nQ 38.96875 64.796875 32.078125 64.796875 \nz\nM 9.8125 72.90625 \nL 32.078125 72.90625 \nQ 44.34375 72.90625 50.609375 67.359375 \nQ 56.890625 61.8125 56.890625 51.125 \nQ 56.890625 40.328125 50.609375 34.8125 \nQ 44.34375 29.296875 32.078125 29.296875 \nL 19.671875 29.296875 \nL 19.671875 0 \nL 9.8125 0 \nz\n\" id=\"DejaVuSans-80\"/>\n       <path d=\"M 44.390625 34.1875 \nQ 47.5625 33.109375 50.5625 29.59375 \nQ 53.5625 26.078125 56.59375 19.921875 \nL 66.609375 0 \nL 56 0 \nL 46.6875 18.703125 \nQ 43.0625 26.03125 39.671875 28.421875 \nQ 36.28125 30.8125 30.421875 30.8125 \nL 19.671875 30.8125 \nL 19.671875 0 \nL 9.8125 0 \nL 9.8125 72.90625 \nL 32.078125 72.90625 \nQ 44.578125 72.90625 50.734375 67.671875 \nQ 56.890625 62.453125 56.890625 51.90625 \nQ 56.890625 45.015625 53.6875 40.46875 \nQ 50.484375 35.9375 44.390625 34.1875 \nz\nM 19.671875 64.796875 \nL 19.671875 38.921875 \nL 32.078125 38.921875 \nQ 39.203125 38.921875 42.84375 42.21875 \nQ 46.484375 45.515625 46.484375 51.90625 \nQ 46.484375 58.296875 42.84375 61.546875 \nQ 39.203125 64.796875 32.078125 64.796875 \nz\n\" id=\"DejaVuSans-82\"/>\n      </defs>\n      <use xlink:href=\"#DejaVuSans-70\"/>\n      <use x=\"57.519531\" xlink:href=\"#DejaVuSans-80\"/>\n      <use x=\"117.822266\" xlink:href=\"#DejaVuSans-82\"/>\n     </g>\n    </g>\n   </g>\n   <g id=\"matplotlib.axis_2\">\n    <g id=\"ytick_1\">\n     <g id=\"line2d_7\">\n      <defs>\n       <path d=\"M 0 0 \nL -3.5 0 \n\" id=\"ma86c9368a7\" style=\"stroke:#000000;stroke-width:0.8;\"/>\n      </defs>\n      <g>\n       <use style=\"stroke:#000000;stroke-width:0.8;\" x=\"43.78125\" xlink:href=\"#ma86c9368a7\" y=\"348.478125\"/>\n      </g>\n     </g>\n     <g id=\"text_8\">\n      <!-- 0.0 -->\n      <g transform=\"translate(20.878125 352.277344)scale(0.1 -0.1)\">\n       <use xlink:href=\"#DejaVuSans-48\"/>\n       <use x=\"63.623047\" xlink:href=\"#DejaVuSans-46\"/>\n       <use x=\"95.410156\" xlink:href=\"#DejaVuSans-48\"/>\n      </g>\n     </g>\n    </g>\n    <g id=\"ytick_2\">\n     <g id=\"line2d_8\">\n      <g>\n       <use style=\"stroke:#000000;stroke-width:0.8;\" x=\"43.78125\" xlink:href=\"#ma86c9368a7\" y=\"289.176307\"/>\n      </g>\n     </g>\n     <g id=\"text_9\">\n      <!-- 0.2 -->\n      <g transform=\"translate(20.878125 292.975526)scale(0.1 -0.1)\">\n       <use xlink:href=\"#DejaVuSans-48\"/>\n       <use x=\"63.623047\" xlink:href=\"#DejaVuSans-46\"/>\n       <use x=\"95.410156\" xlink:href=\"#DejaVuSans-50\"/>\n      </g>\n     </g>\n    </g>\n    <g id=\"ytick_3\">\n     <g id=\"line2d_9\">\n      <g>\n       <use style=\"stroke:#000000;stroke-width:0.8;\" x=\"43.78125\" xlink:href=\"#ma86c9368a7\" y=\"229.874489\"/>\n      </g>\n     </g>\n     <g id=\"text_10\">\n      <!-- 0.4 -->\n      <g transform=\"translate(20.878125 233.673707)scale(0.1 -0.1)\">\n       <use xlink:href=\"#DejaVuSans-48\"/>\n       <use x=\"63.623047\" xlink:href=\"#DejaVuSans-46\"/>\n       <use x=\"95.410156\" xlink:href=\"#DejaVuSans-52\"/>\n      </g>\n     </g>\n    </g>\n    <g id=\"ytick_4\">\n     <g id=\"line2d_10\">\n      <g>\n       <use style=\"stroke:#000000;stroke-width:0.8;\" x=\"43.78125\" xlink:href=\"#ma86c9368a7\" y=\"170.57267\"/>\n      </g>\n     </g>\n     <g id=\"text_11\">\n      <!-- 0.6 -->\n      <g transform=\"translate(20.878125 174.371889)scale(0.1 -0.1)\">\n       <use xlink:href=\"#DejaVuSans-48\"/>\n       <use x=\"63.623047\" xlink:href=\"#DejaVuSans-46\"/>\n       <use x=\"95.410156\" xlink:href=\"#DejaVuSans-54\"/>\n      </g>\n     </g>\n    </g>\n    <g id=\"ytick_5\">\n     <g id=\"line2d_11\">\n      <g>\n       <use style=\"stroke:#000000;stroke-width:0.8;\" x=\"43.78125\" xlink:href=\"#ma86c9368a7\" y=\"111.270852\"/>\n      </g>\n     </g>\n     <g id=\"text_12\">\n      <!-- 0.8 -->\n      <g transform=\"translate(20.878125 115.070071)scale(0.1 -0.1)\">\n       <use xlink:href=\"#DejaVuSans-48\"/>\n       <use x=\"63.623047\" xlink:href=\"#DejaVuSans-46\"/>\n       <use x=\"95.410156\" xlink:href=\"#DejaVuSans-56\"/>\n      </g>\n     </g>\n    </g>\n    <g id=\"ytick_6\">\n     <g id=\"line2d_12\">\n      <g>\n       <use style=\"stroke:#000000;stroke-width:0.8;\" x=\"43.78125\" xlink:href=\"#ma86c9368a7\" y=\"51.969034\"/>\n      </g>\n     </g>\n     <g id=\"text_13\">\n      <!-- 1.0 -->\n      <g transform=\"translate(20.878125 55.768253)scale(0.1 -0.1)\">\n       <use xlink:href=\"#DejaVuSans-49\"/>\n       <use x=\"63.623047\" xlink:href=\"#DejaVuSans-46\"/>\n       <use x=\"95.410156\" xlink:href=\"#DejaVuSans-48\"/>\n      </g>\n     </g>\n    </g>\n    <g id=\"text_14\">\n     <!-- TPR -->\n     <g transform=\"translate(14.798438 194.941094)rotate(-90)scale(0.1 -0.1)\">\n      <defs>\n       <path d=\"M -0.296875 72.90625 \nL 61.375 72.90625 \nL 61.375 64.59375 \nL 35.5 64.59375 \nL 35.5 0 \nL 25.59375 0 \nL 25.59375 64.59375 \nL -0.296875 64.59375 \nz\n\" id=\"DejaVuSans-84\"/>\n      </defs>\n      <use xlink:href=\"#DejaVuSans-84\"/>\n      <use x=\"61.083984\" xlink:href=\"#DejaVuSans-80\"/>\n      <use x=\"121.386719\" xlink:href=\"#DejaVuSans-82\"/>\n     </g>\n    </g>\n   </g>\n   <g id=\"line2d_13\">\n    <path clip-path=\"url(#pf47c5ae745)\" d=\"M 43.78125 348.478125 \nL 89.435795 309.931943 \nL 119.872159 250.630125 \nL 138.133977 203.18867 \nL 171.613977 170.57267 \nL 208.137614 161.677398 \nL 235.530341 155.747216 \nL 241.617614 140.921761 \nL 256.835795 120.166125 \nL 281.184886 102.37558 \nL 296.403068 93.480307 \nL 311.62125 87.550125 \nL 326.839432 81.619943 \nL 329.883068 75.689761 \nL 329.883068 69.75958 \nL 329.883068 69.75958 \nL 332.926705 66.794489 \nL 332.926705 63.829398 \nL 332.926705 63.829398 \nL 332.926705 54.934125 \nL 332.926705 54.934125 \nL 339.013977 54.934125 \nL 345.10125 54.934125 \nL 345.10125 54.934125 \nL 345.10125 54.934125 \nL 345.10125 54.934125 \nL 345.10125 54.934125 \nL 345.10125 54.934125 \nL 345.10125 54.934125 \nL 345.10125 54.934125 \nL 345.10125 54.934125 \nL 345.10125 54.934125 \nL 348.144886 51.969034 \nL 348.144886 51.969034 \nL 348.144886 51.969034 \nL 348.144886 51.969034 \nL 348.144886 51.969034 \nL 348.144886 51.969034 \nL 348.144886 51.969034 \nL 348.144886 51.969034 \nL 348.144886 51.969034 \nL 348.144886 51.969034 \nL 348.144886 51.969034 \nL 348.144886 51.969034 \nL 348.144886 51.969034 \nL 348.144886 51.969034 \nL 348.144886 51.969034 \nL 348.144886 51.969034 \nL 348.144886 51.969034 \nL 348.144886 51.969034 \n\" style=\"fill:none;stroke:#9acd32;stroke-linecap:square;stroke-width:1.5;\"/>\n   </g>\n   <g id=\"line2d_14\">\n    <path clip-path=\"url(#pf47c5ae745)\" d=\"M 43.78125 348.478125 \nL 43.78125 345.513034 \nL 43.78125 342.547943 \nL 46.824886 342.547943 \nL 46.824886 333.65267 \nL 49.868523 333.65267 \nL 49.868523 327.722489 \nL 55.955795 327.722489 \nL 55.955795 324.757398 \nL 58.999432 324.757398 \nL 58.999432 321.792307 \nL 71.173977 321.792307 \nL 71.173977 318.827216 \nL 74.217614 318.827216 \nL 74.217614 306.966852 \nL 77.26125 306.966852 \nL 77.26125 301.03667 \nL 80.304886 301.03667 \nL 80.304886 298.07158 \nL 86.392159 298.07158 \nL 86.392159 295.106489 \nL 89.435795 295.106489 \nL 89.435795 289.176307 \nL 92.479432 289.176307 \nL 92.479432 286.211216 \nL 101.610341 286.211216 \nL 101.610341 277.315943 \nL 110.74125 277.315943 \nL 110.74125 271.385761 \nL 119.872159 271.385761 \nL 119.872159 259.525398 \nL 132.046705 259.525398 \nL 132.046705 253.595216 \nL 135.090341 253.595216 \nL 135.090341 250.630125 \nL 138.133977 250.630125 \nL 138.133977 247.665034 \nL 141.177614 247.665034 \nL 141.177614 241.734852 \nL 144.22125 241.734852 \nL 144.22125 238.769761 \nL 150.308523 238.769761 \nL 150.308523 232.83958 \nL 159.439432 232.83958 \nL 159.439432 220.979216 \nL 162.483068 220.979216 \nL 162.483068 209.118852 \nL 165.526705 209.118852 \nL 165.526705 200.22358 \nL 168.570341 200.22358 \nL 168.570341 188.363216 \nL 174.657614 188.363216 \nL 174.657614 185.398125 \nL 180.744886 185.398125 \nL 180.744886 176.502852 \nL 186.832159 176.502852 \nL 186.832159 173.537761 \nL 192.919432 173.537761 \nL 192.919432 170.57267 \nL 195.963068 170.57267 \nL 195.963068 164.642489 \nL 199.006705 164.642489 \nL 199.006705 158.712307 \nL 205.093977 158.712307 \nL 205.093977 149.817034 \nL 208.137614 149.817034 \nL 208.137614 143.886852 \nL 220.312159 143.886852 \nL 220.312159 140.921761 \nL 226.399432 140.921761 \nL 226.399432 134.99158 \nL 238.573977 134.99158 \nL 238.573977 126.096307 \nL 244.66125 126.096307 \nL 244.66125 117.201034 \nL 247.704886 117.201034 \nL 247.704886 114.235943 \nL 250.748523 114.235943 \nL 250.748523 111.270852 \nL 253.792159 111.270852 \nL 253.792159 96.445398 \nL 262.923068 96.445398 \nL 262.923068 93.480307 \nL 269.010341 93.480307 \nL 269.010341 87.550125 \nL 284.228523 87.550125 \nL 284.228523 81.619943 \nL 290.315795 81.619943 \nL 290.315795 78.654852 \nL 293.359432 78.654852 \nL 293.359432 72.72467 \nL 296.403068 72.72467 \nL 296.403068 69.75958 \nL 302.490341 69.75958 \nL 302.490341 63.829398 \nL 308.577614 63.829398 \nL 308.577614 60.864307 \nL 317.708523 60.864307 \nL 317.708523 57.899216 \nL 326.839432 57.899216 \nL 326.839432 54.934125 \nL 345.10125 54.934125 \nL 345.10125 51.969034 \nL 348.144886 51.969034 \n\" style=\"fill:none;stroke:#1e90ff;stroke-linecap:square;stroke-width:1.5;\"/>\n   </g>\n   <g id=\"line2d_15\">\n    <path clip-path=\"url(#pf47c5ae745)\" d=\"M 43.78125 348.478125 \nL 43.78125 339.582852 \nL 43.78125 309.931943 \nL 49.868523 280.281034 \nL 55.955795 238.769761 \nL 62.043068 229.874489 \nL 83.348523 226.909398 \nL 92.479432 220.979216 \nL 104.653977 212.083943 \nL 110.74125 194.293398 \nL 119.872159 182.433034 \nL 141.177614 173.537761 \nL 150.308523 158.712307 \nL 153.352159 149.817034 \nL 162.483068 137.95667 \nL 165.526705 132.026489 \nL 168.570341 129.061398 \nL 183.788523 123.131216 \nL 192.919432 120.166125 \nL 195.963068 111.270852 \nL 205.093977 108.305761 \nL 205.093977 105.34067 \nL 205.093977 99.410489 \nL 211.18125 99.410489 \nL 214.224886 99.410489 \nL 232.486705 93.480307 \nL 235.530341 93.480307 \nL 244.66125 87.550125 \nL 247.704886 78.654852 \nL 247.704886 72.72467 \nL 253.792159 72.72467 \nL 256.835795 72.72467 \nL 262.923068 69.75958 \nL 265.966705 69.75958 \nL 272.053977 66.794489 \nL 272.053977 63.829398 \nL 278.14125 63.829398 \nL 287.272159 60.864307 \nL 290.315795 60.864307 \nL 290.315795 57.899216 \nL 299.446705 57.899216 \nL 299.446705 54.934125 \nL 305.533977 54.934125 \nL 317.708523 54.934125 \nL 326.839432 54.934125 \nL 332.926705 54.934125 \nL 332.926705 51.969034 \nL 342.057614 51.969034 \nL 348.144886 51.969034 \n\" style=\"fill:none;stroke:#800080;stroke-linecap:square;stroke-width:1.5;\"/>\n   </g>\n   <g id=\"patch_3\">\n    <path d=\"M 43.78125 348.478125 \nL 43.78125 22.318125 \n\" style=\"fill:none;stroke:#000000;stroke-linecap:square;stroke-linejoin:miter;stroke-width:0.8;\"/>\n   </g>\n   <g id=\"patch_4\">\n    <path d=\"M 378.58125 348.478125 \nL 378.58125 22.318125 \n\" style=\"fill:none;stroke:#000000;stroke-linecap:square;stroke-linejoin:miter;stroke-width:0.8;\"/>\n   </g>\n   <g id=\"patch_5\">\n    <path d=\"M 43.78125 348.478125 \nL 378.58125 348.478125 \n\" style=\"fill:none;stroke:#000000;stroke-linecap:square;stroke-linejoin:miter;stroke-width:0.8;\"/>\n   </g>\n   <g id=\"patch_6\">\n    <path d=\"M 43.78125 22.318125 \nL 378.58125 22.318125 \n\" style=\"fill:none;stroke:#000000;stroke-linecap:square;stroke-linejoin:miter;stroke-width:0.8;\"/>\n   </g>\n   <g id=\"text_15\">\n    <!-- ROC Curve -->\n    <g transform=\"translate(178.490625 16.318125)scale(0.12 -0.12)\">\n     <defs>\n      <path d=\"M 39.40625 66.21875 \nQ 28.65625 66.21875 22.328125 58.203125 \nQ 16.015625 50.203125 16.015625 36.375 \nQ 16.015625 22.609375 22.328125 14.59375 \nQ 28.65625 6.59375 39.40625 6.59375 \nQ 50.140625 6.59375 56.421875 14.59375 \nQ 62.703125 22.609375 62.703125 36.375 \nQ 62.703125 50.203125 56.421875 58.203125 \nQ 50.140625 66.21875 39.40625 66.21875 \nz\nM 39.40625 74.21875 \nQ 54.734375 74.21875 63.90625 63.9375 \nQ 73.09375 53.65625 73.09375 36.375 \nQ 73.09375 19.140625 63.90625 8.859375 \nQ 54.734375 -1.421875 39.40625 -1.421875 \nQ 24.03125 -1.421875 14.8125 8.828125 \nQ 5.609375 19.09375 5.609375 36.375 \nQ 5.609375 53.65625 14.8125 63.9375 \nQ 24.03125 74.21875 39.40625 74.21875 \nz\n\" id=\"DejaVuSans-79\"/>\n      <path d=\"M 64.40625 67.28125 \nL 64.40625 56.890625 \nQ 59.421875 61.53125 53.78125 63.8125 \nQ 48.140625 66.109375 41.796875 66.109375 \nQ 29.296875 66.109375 22.65625 58.46875 \nQ 16.015625 50.828125 16.015625 36.375 \nQ 16.015625 21.96875 22.65625 14.328125 \nQ 29.296875 6.6875 41.796875 6.6875 \nQ 48.140625 6.6875 53.78125 8.984375 \nQ 59.421875 11.28125 64.40625 15.921875 \nL 64.40625 5.609375 \nQ 59.234375 2.09375 53.4375 0.328125 \nQ 47.65625 -1.421875 41.21875 -1.421875 \nQ 24.65625 -1.421875 15.125 8.703125 \nQ 5.609375 18.84375 5.609375 36.375 \nQ 5.609375 53.953125 15.125 64.078125 \nQ 24.65625 74.21875 41.21875 74.21875 \nQ 47.75 74.21875 53.53125 72.484375 \nQ 59.328125 70.75 64.40625 67.28125 \nz\n\" id=\"DejaVuSans-67\"/>\n      <path id=\"DejaVuSans-32\"/>\n      <path d=\"M 8.5 21.578125 \nL 8.5 54.6875 \nL 17.484375 54.6875 \nL 17.484375 21.921875 \nQ 17.484375 14.15625 20.5 10.265625 \nQ 23.53125 6.390625 29.59375 6.390625 \nQ 36.859375 6.390625 41.078125 11.03125 \nQ 45.3125 15.671875 45.3125 23.6875 \nL 45.3125 54.6875 \nL 54.296875 54.6875 \nL 54.296875 0 \nL 45.3125 0 \nL 45.3125 8.40625 \nQ 42.046875 3.421875 37.71875 1 \nQ 33.40625 -1.421875 27.6875 -1.421875 \nQ 18.265625 -1.421875 13.375 4.4375 \nQ 8.5 10.296875 8.5 21.578125 \nz\nM 31.109375 56 \nz\n\" id=\"DejaVuSans-117\"/>\n      <path d=\"M 41.109375 46.296875 \nQ 39.59375 47.171875 37.8125 47.578125 \nQ 36.03125 48 33.890625 48 \nQ 26.265625 48 22.1875 43.046875 \nQ 18.109375 38.09375 18.109375 28.8125 \nL 18.109375 0 \nL 9.078125 0 \nL 9.078125 54.6875 \nL 18.109375 54.6875 \nL 18.109375 46.1875 \nQ 20.953125 51.171875 25.484375 53.578125 \nQ 30.03125 56 36.53125 56 \nQ 37.453125 56 38.578125 55.875 \nQ 39.703125 55.765625 41.0625 55.515625 \nz\n\" id=\"DejaVuSans-114\"/>\n      <path d=\"M 2.984375 54.6875 \nL 12.5 54.6875 \nL 29.59375 8.796875 \nL 46.6875 54.6875 \nL 56.203125 54.6875 \nL 35.6875 0 \nL 23.484375 0 \nz\n\" id=\"DejaVuSans-118\"/>\n      <path d=\"M 56.203125 29.59375 \nL 56.203125 25.203125 \nL 14.890625 25.203125 \nQ 15.484375 15.921875 20.484375 11.0625 \nQ 25.484375 6.203125 34.421875 6.203125 \nQ 39.59375 6.203125 44.453125 7.46875 \nQ 49.3125 8.734375 54.109375 11.28125 \nL 54.109375 2.78125 \nQ 49.265625 0.734375 44.1875 -0.34375 \nQ 39.109375 -1.421875 33.890625 -1.421875 \nQ 20.796875 -1.421875 13.15625 6.1875 \nQ 5.515625 13.8125 5.515625 26.8125 \nQ 5.515625 40.234375 12.765625 48.109375 \nQ 20.015625 56 32.328125 56 \nQ 43.359375 56 49.78125 48.890625 \nQ 56.203125 41.796875 56.203125 29.59375 \nz\nM 47.21875 32.234375 \nQ 47.125 39.59375 43.09375 43.984375 \nQ 39.0625 48.390625 32.421875 48.390625 \nQ 24.90625 48.390625 20.390625 44.140625 \nQ 15.875 39.890625 15.1875 32.171875 \nz\n\" id=\"DejaVuSans-101\"/>\n     </defs>\n     <use xlink:href=\"#DejaVuSans-82\"/>\n     <use x=\"69.482422\" xlink:href=\"#DejaVuSans-79\"/>\n     <use x=\"148.193359\" xlink:href=\"#DejaVuSans-67\"/>\n     <use x=\"218.017578\" xlink:href=\"#DejaVuSans-32\"/>\n     <use x=\"249.804688\" xlink:href=\"#DejaVuSans-67\"/>\n     <use x=\"319.628906\" xlink:href=\"#DejaVuSans-117\"/>\n     <use x=\"383.007812\" xlink:href=\"#DejaVuSans-114\"/>\n     <use x=\"424.121094\" xlink:href=\"#DejaVuSans-118\"/>\n     <use x=\"483.300781\" xlink:href=\"#DejaVuSans-101\"/>\n    </g>\n   </g>\n   <g id=\"legend_1\">\n    <g id=\"patch_7\">\n     <path d=\"M 190.942188 343.478125 \nL 371.58125 343.478125 \nQ 373.58125 343.478125 373.58125 341.478125 \nL 373.58125 298.44375 \nQ 373.58125 296.44375 371.58125 296.44375 \nL 190.942188 296.44375 \nQ 188.942188 296.44375 188.942188 298.44375 \nL 188.942188 341.478125 \nQ 188.942188 343.478125 190.942188 343.478125 \nz\n\" style=\"fill:#ffffff;opacity:0.8;stroke:#cccccc;stroke-linejoin:miter;\"/>\n    </g>\n    <g id=\"line2d_16\">\n     <path d=\"M 192.942188 304.542187 \nL 212.942188 304.542187 \n\" style=\"fill:none;stroke:#9acd32;stroke-linecap:square;stroke-width:1.5;\"/>\n    </g>\n    <g id=\"line2d_17\"/>\n    <g id=\"text_16\">\n     <!-- Stage 1: ROC (AUC = 0.5613) -->\n     <g transform=\"translate(220.942188 308.042187)scale(0.1 -0.1)\">\n      <defs>\n       <path d=\"M 53.515625 70.515625 \nL 53.515625 60.890625 \nQ 47.90625 63.578125 42.921875 64.890625 \nQ 37.9375 66.21875 33.296875 66.21875 \nQ 25.25 66.21875 20.875 63.09375 \nQ 16.5 59.96875 16.5 54.203125 \nQ 16.5 49.359375 19.40625 46.890625 \nQ 22.3125 44.4375 30.421875 42.921875 \nL 36.375 41.703125 \nQ 47.40625 39.59375 52.65625 34.296875 \nQ 57.90625 29 57.90625 20.125 \nQ 57.90625 9.515625 50.796875 4.046875 \nQ 43.703125 -1.421875 29.984375 -1.421875 \nQ 24.8125 -1.421875 18.96875 -0.25 \nQ 13.140625 0.921875 6.890625 3.21875 \nL 6.890625 13.375 \nQ 12.890625 10.015625 18.65625 8.296875 \nQ 24.421875 6.59375 29.984375 6.59375 \nQ 38.421875 6.59375 43.015625 9.90625 \nQ 47.609375 13.234375 47.609375 19.390625 \nQ 47.609375 24.75 44.3125 27.78125 \nQ 41.015625 30.8125 33.5 32.328125 \nL 27.484375 33.5 \nQ 16.453125 35.6875 11.515625 40.375 \nQ 6.59375 45.0625 6.59375 53.421875 \nQ 6.59375 63.09375 13.40625 68.65625 \nQ 20.21875 74.21875 32.171875 74.21875 \nQ 37.3125 74.21875 42.625 73.28125 \nQ 47.953125 72.359375 53.515625 70.515625 \nz\n\" id=\"DejaVuSans-83\"/>\n       <path d=\"M 18.3125 70.21875 \nL 18.3125 54.6875 \nL 36.8125 54.6875 \nL 36.8125 47.703125 \nL 18.3125 47.703125 \nL 18.3125 18.015625 \nQ 18.3125 11.328125 20.140625 9.421875 \nQ 21.96875 7.515625 27.59375 7.515625 \nL 36.8125 7.515625 \nL 36.8125 0 \nL 27.59375 0 \nQ 17.1875 0 13.234375 3.875 \nQ 9.28125 7.765625 9.28125 18.015625 \nL 9.28125 47.703125 \nL 2.6875 47.703125 \nL 2.6875 54.6875 \nL 9.28125 54.6875 \nL 9.28125 70.21875 \nz\n\" id=\"DejaVuSans-116\"/>\n       <path d=\"M 34.28125 27.484375 \nQ 23.390625 27.484375 19.1875 25 \nQ 14.984375 22.515625 14.984375 16.5 \nQ 14.984375 11.71875 18.140625 8.90625 \nQ 21.296875 6.109375 26.703125 6.109375 \nQ 34.1875 6.109375 38.703125 11.40625 \nQ 43.21875 16.703125 43.21875 25.484375 \nL 43.21875 27.484375 \nz\nM 52.203125 31.203125 \nL 52.203125 0 \nL 43.21875 0 \nL 43.21875 8.296875 \nQ 40.140625 3.328125 35.546875 0.953125 \nQ 30.953125 -1.421875 24.3125 -1.421875 \nQ 15.921875 -1.421875 10.953125 3.296875 \nQ 6 8.015625 6 15.921875 \nQ 6 25.140625 12.171875 29.828125 \nQ 18.359375 34.515625 30.609375 34.515625 \nL 43.21875 34.515625 \nL 43.21875 35.40625 \nQ 43.21875 41.609375 39.140625 45 \nQ 35.0625 48.390625 27.6875 48.390625 \nQ 23 48.390625 18.546875 47.265625 \nQ 14.109375 46.140625 10.015625 43.890625 \nL 10.015625 52.203125 \nQ 14.9375 54.109375 19.578125 55.046875 \nQ 24.21875 56 28.609375 56 \nQ 40.484375 56 46.34375 49.84375 \nQ 52.203125 43.703125 52.203125 31.203125 \nz\n\" id=\"DejaVuSans-97\"/>\n       <path d=\"M 45.40625 27.984375 \nQ 45.40625 37.75 41.375 43.109375 \nQ 37.359375 48.484375 30.078125 48.484375 \nQ 22.859375 48.484375 18.828125 43.109375 \nQ 14.796875 37.75 14.796875 27.984375 \nQ 14.796875 18.265625 18.828125 12.890625 \nQ 22.859375 7.515625 30.078125 7.515625 \nQ 37.359375 7.515625 41.375 12.890625 \nQ 45.40625 18.265625 45.40625 27.984375 \nz\nM 54.390625 6.78125 \nQ 54.390625 -7.171875 48.1875 -13.984375 \nQ 42 -20.796875 29.203125 -20.796875 \nQ 24.46875 -20.796875 20.265625 -20.09375 \nQ 16.0625 -19.390625 12.109375 -17.921875 \nL 12.109375 -9.1875 \nQ 16.0625 -11.328125 19.921875 -12.34375 \nQ 23.78125 -13.375 27.78125 -13.375 \nQ 36.625 -13.375 41.015625 -8.765625 \nQ 45.40625 -4.15625 45.40625 5.171875 \nL 45.40625 9.625 \nQ 42.625 4.78125 38.28125 2.390625 \nQ 33.9375 0 27.875 0 \nQ 17.828125 0 11.671875 7.65625 \nQ 5.515625 15.328125 5.515625 27.984375 \nQ 5.515625 40.671875 11.671875 48.328125 \nQ 17.828125 56 27.875 56 \nQ 33.9375 56 38.28125 53.609375 \nQ 42.625 51.21875 45.40625 46.390625 \nL 45.40625 54.6875 \nL 54.390625 54.6875 \nz\n\" id=\"DejaVuSans-103\"/>\n       <path d=\"M 11.71875 12.40625 \nL 22.015625 12.40625 \nL 22.015625 0 \nL 11.71875 0 \nz\nM 11.71875 51.703125 \nL 22.015625 51.703125 \nL 22.015625 39.3125 \nL 11.71875 39.3125 \nz\n\" id=\"DejaVuSans-58\"/>\n       <path d=\"M 31 75.875 \nQ 24.46875 64.65625 21.28125 53.65625 \nQ 18.109375 42.671875 18.109375 31.390625 \nQ 18.109375 20.125 21.3125 9.0625 \nQ 24.515625 -2 31 -13.1875 \nL 23.1875 -13.1875 \nQ 15.875 -1.703125 12.234375 9.375 \nQ 8.59375 20.453125 8.59375 31.390625 \nQ 8.59375 42.28125 12.203125 53.3125 \nQ 15.828125 64.359375 23.1875 75.875 \nz\n\" id=\"DejaVuSans-40\"/>\n       <path d=\"M 34.1875 63.1875 \nL 20.796875 26.90625 \nL 47.609375 26.90625 \nz\nM 28.609375 72.90625 \nL 39.796875 72.90625 \nL 67.578125 0 \nL 57.328125 0 \nL 50.6875 18.703125 \nL 17.828125 18.703125 \nL 11.1875 0 \nL 0.78125 0 \nz\n\" id=\"DejaVuSans-65\"/>\n       <path d=\"M 8.6875 72.90625 \nL 18.609375 72.90625 \nL 18.609375 28.609375 \nQ 18.609375 16.890625 22.84375 11.734375 \nQ 27.09375 6.59375 36.625 6.59375 \nQ 46.09375 6.59375 50.34375 11.734375 \nQ 54.59375 16.890625 54.59375 28.609375 \nL 54.59375 72.90625 \nL 64.5 72.90625 \nL 64.5 27.390625 \nQ 64.5 13.140625 57.4375 5.859375 \nQ 50.390625 -1.421875 36.625 -1.421875 \nQ 22.796875 -1.421875 15.734375 5.859375 \nQ 8.6875 13.140625 8.6875 27.390625 \nz\n\" id=\"DejaVuSans-85\"/>\n       <path d=\"M 10.59375 45.40625 \nL 73.1875 45.40625 \nL 73.1875 37.203125 \nL 10.59375 37.203125 \nz\nM 10.59375 25.484375 \nL 73.1875 25.484375 \nL 73.1875 17.1875 \nL 10.59375 17.1875 \nz\n\" id=\"DejaVuSans-61\"/>\n       <path d=\"M 10.796875 72.90625 \nL 49.515625 72.90625 \nL 49.515625 64.59375 \nL 19.828125 64.59375 \nL 19.828125 46.734375 \nQ 21.96875 47.46875 24.109375 47.828125 \nQ 26.265625 48.1875 28.421875 48.1875 \nQ 40.625 48.1875 47.75 41.5 \nQ 54.890625 34.8125 54.890625 23.390625 \nQ 54.890625 11.625 47.5625 5.09375 \nQ 40.234375 -1.421875 26.90625 -1.421875 \nQ 22.3125 -1.421875 17.546875 -0.640625 \nQ 12.796875 0.140625 7.71875 1.703125 \nL 7.71875 11.625 \nQ 12.109375 9.234375 16.796875 8.0625 \nQ 21.484375 6.890625 26.703125 6.890625 \nQ 35.15625 6.890625 40.078125 11.328125 \nQ 45.015625 15.765625 45.015625 23.390625 \nQ 45.015625 31 40.078125 35.4375 \nQ 35.15625 39.890625 26.703125 39.890625 \nQ 22.75 39.890625 18.8125 39.015625 \nQ 14.890625 38.140625 10.796875 36.28125 \nz\n\" id=\"DejaVuSans-53\"/>\n       <path d=\"M 40.578125 39.3125 \nQ 47.65625 37.796875 51.625 33 \nQ 55.609375 28.21875 55.609375 21.1875 \nQ 55.609375 10.40625 48.1875 4.484375 \nQ 40.765625 -1.421875 27.09375 -1.421875 \nQ 22.515625 -1.421875 17.65625 -0.515625 \nQ 12.796875 0.390625 7.625 2.203125 \nL 7.625 11.71875 \nQ 11.71875 9.328125 16.59375 8.109375 \nQ 21.484375 6.890625 26.8125 6.890625 \nQ 36.078125 6.890625 40.9375 10.546875 \nQ 45.796875 14.203125 45.796875 21.1875 \nQ 45.796875 27.640625 41.28125 31.265625 \nQ 36.765625 34.90625 28.71875 34.90625 \nL 20.21875 34.90625 \nL 20.21875 43.015625 \nL 29.109375 43.015625 \nQ 36.375 43.015625 40.234375 45.921875 \nQ 44.09375 48.828125 44.09375 54.296875 \nQ 44.09375 59.90625 40.109375 62.90625 \nQ 36.140625 65.921875 28.71875 65.921875 \nQ 24.65625 65.921875 20.015625 65.03125 \nQ 15.375 64.15625 9.8125 62.3125 \nL 9.8125 71.09375 \nQ 15.4375 72.65625 20.34375 73.4375 \nQ 25.25 74.21875 29.59375 74.21875 \nQ 40.828125 74.21875 47.359375 69.109375 \nQ 53.90625 64.015625 53.90625 55.328125 \nQ 53.90625 49.265625 50.4375 45.09375 \nQ 46.96875 40.921875 40.578125 39.3125 \nz\n\" id=\"DejaVuSans-51\"/>\n       <path d=\"M 8.015625 75.875 \nL 15.828125 75.875 \nQ 23.140625 64.359375 26.78125 53.3125 \nQ 30.421875 42.28125 30.421875 31.390625 \nQ 30.421875 20.453125 26.78125 9.375 \nQ 23.140625 -1.703125 15.828125 -13.1875 \nL 8.015625 -13.1875 \nQ 14.5 -2 17.703125 9.0625 \nQ 20.90625 20.125 20.90625 31.390625 \nQ 20.90625 42.671875 17.703125 53.65625 \nQ 14.5 64.65625 8.015625 75.875 \nz\n\" id=\"DejaVuSans-41\"/>\n      </defs>\n      <use xlink:href=\"#DejaVuSans-83\"/>\n      <use x=\"63.476562\" xlink:href=\"#DejaVuSans-116\"/>\n      <use x=\"102.685547\" xlink:href=\"#DejaVuSans-97\"/>\n      <use x=\"163.964844\" xlink:href=\"#DejaVuSans-103\"/>\n      <use x=\"227.441406\" xlink:href=\"#DejaVuSans-101\"/>\n      <use x=\"288.964844\" xlink:href=\"#DejaVuSans-32\"/>\n      <use x=\"320.751953\" xlink:href=\"#DejaVuSans-49\"/>\n      <use x=\"384.375\" xlink:href=\"#DejaVuSans-58\"/>\n      <use x=\"418.066406\" xlink:href=\"#DejaVuSans-32\"/>\n      <use x=\"449.853516\" xlink:href=\"#DejaVuSans-82\"/>\n      <use x=\"519.335938\" xlink:href=\"#DejaVuSans-79\"/>\n      <use x=\"598.046875\" xlink:href=\"#DejaVuSans-67\"/>\n      <use x=\"667.871094\" xlink:href=\"#DejaVuSans-32\"/>\n      <use x=\"699.658203\" xlink:href=\"#DejaVuSans-40\"/>\n      <use x=\"738.671875\" xlink:href=\"#DejaVuSans-65\"/>\n      <use x=\"807.080078\" xlink:href=\"#DejaVuSans-85\"/>\n      <use x=\"880.273438\" xlink:href=\"#DejaVuSans-67\"/>\n      <use x=\"950.097656\" xlink:href=\"#DejaVuSans-32\"/>\n      <use x=\"981.884766\" xlink:href=\"#DejaVuSans-61\"/>\n      <use x=\"1065.673828\" xlink:href=\"#DejaVuSans-32\"/>\n      <use x=\"1097.460938\" xlink:href=\"#DejaVuSans-48\"/>\n      <use x=\"1161.083984\" xlink:href=\"#DejaVuSans-46\"/>\n      <use x=\"1192.871094\" xlink:href=\"#DejaVuSans-53\"/>\n      <use x=\"1256.494141\" xlink:href=\"#DejaVuSans-54\"/>\n      <use x=\"1320.117188\" xlink:href=\"#DejaVuSans-49\"/>\n      <use x=\"1383.740234\" xlink:href=\"#DejaVuSans-51\"/>\n      <use x=\"1447.363281\" xlink:href=\"#DejaVuSans-41\"/>\n     </g>\n    </g>\n    <g id=\"line2d_18\">\n     <path d=\"M 192.942188 319.220312 \nL 212.942188 319.220312 \n\" style=\"fill:none;stroke:#1e90ff;stroke-linecap:square;stroke-width:1.5;\"/>\n    </g>\n    <g id=\"line2d_19\"/>\n    <g id=\"text_17\">\n     <!-- Stage 2: ROC (AUC = 0.5726) -->\n     <g transform=\"translate(220.942188 322.720312)scale(0.1 -0.1)\">\n      <defs>\n       <path d=\"M 8.203125 72.90625 \nL 55.078125 72.90625 \nL 55.078125 68.703125 \nL 28.609375 0 \nL 18.3125 0 \nL 43.21875 64.59375 \nL 8.203125 64.59375 \nz\n\" id=\"DejaVuSans-55\"/>\n      </defs>\n      <use xlink:href=\"#DejaVuSans-83\"/>\n      <use x=\"63.476562\" xlink:href=\"#DejaVuSans-116\"/>\n      <use x=\"102.685547\" xlink:href=\"#DejaVuSans-97\"/>\n      <use x=\"163.964844\" xlink:href=\"#DejaVuSans-103\"/>\n      <use x=\"227.441406\" xlink:href=\"#DejaVuSans-101\"/>\n      <use x=\"288.964844\" xlink:href=\"#DejaVuSans-32\"/>\n      <use x=\"320.751953\" xlink:href=\"#DejaVuSans-50\"/>\n      <use x=\"384.375\" xlink:href=\"#DejaVuSans-58\"/>\n      <use x=\"418.066406\" xlink:href=\"#DejaVuSans-32\"/>\n      <use x=\"449.853516\" xlink:href=\"#DejaVuSans-82\"/>\n      <use x=\"519.335938\" xlink:href=\"#DejaVuSans-79\"/>\n      <use x=\"598.046875\" xlink:href=\"#DejaVuSans-67\"/>\n      <use x=\"667.871094\" xlink:href=\"#DejaVuSans-32\"/>\n      <use x=\"699.658203\" xlink:href=\"#DejaVuSans-40\"/>\n      <use x=\"738.671875\" xlink:href=\"#DejaVuSans-65\"/>\n      <use x=\"807.080078\" xlink:href=\"#DejaVuSans-85\"/>\n      <use x=\"880.273438\" xlink:href=\"#DejaVuSans-67\"/>\n      <use x=\"950.097656\" xlink:href=\"#DejaVuSans-32\"/>\n      <use x=\"981.884766\" xlink:href=\"#DejaVuSans-61\"/>\n      <use x=\"1065.673828\" xlink:href=\"#DejaVuSans-32\"/>\n      <use x=\"1097.460938\" xlink:href=\"#DejaVuSans-48\"/>\n      <use x=\"1161.083984\" xlink:href=\"#DejaVuSans-46\"/>\n      <use x=\"1192.871094\" xlink:href=\"#DejaVuSans-53\"/>\n      <use x=\"1256.494141\" xlink:href=\"#DejaVuSans-55\"/>\n      <use x=\"1320.117188\" xlink:href=\"#DejaVuSans-50\"/>\n      <use x=\"1383.740234\" xlink:href=\"#DejaVuSans-54\"/>\n      <use x=\"1447.363281\" xlink:href=\"#DejaVuSans-41\"/>\n     </g>\n    </g>\n    <g id=\"line2d_20\">\n     <path d=\"M 192.942188 333.898437 \nL 212.942188 333.898437 \n\" style=\"fill:none;stroke:#800080;stroke-linecap:square;stroke-width:1.5;\"/>\n    </g>\n    <g id=\"line2d_21\"/>\n    <g id=\"text_18\">\n     <!-- Stage 3: ROC (AUC = 0.7359) -->\n     <g transform=\"translate(220.942188 337.398437)scale(0.1 -0.1)\">\n      <defs>\n       <path d=\"M 10.984375 1.515625 \nL 10.984375 10.5 \nQ 14.703125 8.734375 18.5 7.8125 \nQ 22.3125 6.890625 25.984375 6.890625 \nQ 35.75 6.890625 40.890625 13.453125 \nQ 46.046875 20.015625 46.78125 33.40625 \nQ 43.953125 29.203125 39.59375 26.953125 \nQ 35.25 24.703125 29.984375 24.703125 \nQ 19.046875 24.703125 12.671875 31.3125 \nQ 6.296875 37.9375 6.296875 49.421875 \nQ 6.296875 60.640625 12.9375 67.421875 \nQ 19.578125 74.21875 30.609375 74.21875 \nQ 43.265625 74.21875 49.921875 64.515625 \nQ 56.59375 54.828125 56.59375 36.375 \nQ 56.59375 19.140625 48.40625 8.859375 \nQ 40.234375 -1.421875 26.421875 -1.421875 \nQ 22.703125 -1.421875 18.890625 -0.6875 \nQ 15.09375 0.046875 10.984375 1.515625 \nz\nM 30.609375 32.421875 \nQ 37.25 32.421875 41.125 36.953125 \nQ 45.015625 41.5 45.015625 49.421875 \nQ 45.015625 57.28125 41.125 61.84375 \nQ 37.25 66.40625 30.609375 66.40625 \nQ 23.96875 66.40625 20.09375 61.84375 \nQ 16.21875 57.28125 16.21875 49.421875 \nQ 16.21875 41.5 20.09375 36.953125 \nQ 23.96875 32.421875 30.609375 32.421875 \nz\n\" id=\"DejaVuSans-57\"/>\n      </defs>\n      <use xlink:href=\"#DejaVuSans-83\"/>\n      <use x=\"63.476562\" xlink:href=\"#DejaVuSans-116\"/>\n      <use x=\"102.685547\" xlink:href=\"#DejaVuSans-97\"/>\n      <use x=\"163.964844\" xlink:href=\"#DejaVuSans-103\"/>\n      <use x=\"227.441406\" xlink:href=\"#DejaVuSans-101\"/>\n      <use x=\"288.964844\" xlink:href=\"#DejaVuSans-32\"/>\n      <use x=\"320.751953\" xlink:href=\"#DejaVuSans-51\"/>\n      <use x=\"384.375\" xlink:href=\"#DejaVuSans-58\"/>\n      <use x=\"418.066406\" xlink:href=\"#DejaVuSans-32\"/>\n      <use x=\"449.853516\" xlink:href=\"#DejaVuSans-82\"/>\n      <use x=\"519.335938\" xlink:href=\"#DejaVuSans-79\"/>\n      <use x=\"598.046875\" xlink:href=\"#DejaVuSans-67\"/>\n      <use x=\"667.871094\" xlink:href=\"#DejaVuSans-32\"/>\n      <use x=\"699.658203\" xlink:href=\"#DejaVuSans-40\"/>\n      <use x=\"738.671875\" xlink:href=\"#DejaVuSans-65\"/>\n      <use x=\"807.080078\" xlink:href=\"#DejaVuSans-85\"/>\n      <use x=\"880.273438\" xlink:href=\"#DejaVuSans-67\"/>\n      <use x=\"950.097656\" xlink:href=\"#DejaVuSans-32\"/>\n      <use x=\"981.884766\" xlink:href=\"#DejaVuSans-61\"/>\n      <use x=\"1065.673828\" xlink:href=\"#DejaVuSans-32\"/>\n      <use x=\"1097.460938\" xlink:href=\"#DejaVuSans-48\"/>\n      <use x=\"1161.083984\" xlink:href=\"#DejaVuSans-46\"/>\n      <use x=\"1192.871094\" xlink:href=\"#DejaVuSans-55\"/>\n      <use x=\"1256.494141\" xlink:href=\"#DejaVuSans-51\"/>\n      <use x=\"1320.117188\" xlink:href=\"#DejaVuSans-53\"/>\n      <use x=\"1383.740234\" xlink:href=\"#DejaVuSans-57\"/>\n      <use x=\"1447.363281\" xlink:href=\"#DejaVuSans-41\"/>\n     </g>\n    </g>\n   </g>\n  </g>\n </g>\n <defs>\n  <clipPath id=\"pf47c5ae745\">\n   <rect height=\"326.16\" width=\"334.8\" x=\"43.78125\" y=\"22.318125\"/>\n  </clipPath>\n </defs>\n</svg>\n",
      "image/png": "[encoded data removed]"
     },
     "metadata": {
      "needs_background": "light"
     }
    }
   ],
   "source": [
    "plt.figure(figsize=(6, 6))\n",
    "plt.xlim(0., 1.1)\n",
    "plt.ylim(0., 1.1)\n",
    "plt.plot(fpr1, tpr1, color='yellowgreen', label='Stage 1: ROC (AUC = %0.4f)' % auc_score1)\n",
    "plt.plot(fpr2, tpr2, color='dodgerblue', label='Stage 2: ROC (AUC = %0.4f)' % auc_score2)\n",
    "plt.plot(fpr3, tpr3, color='purple', label='Stage 3: ROC (AUC = %0.4f)' % auc_score3)\n",
    "plt.legend(loc='lower right')\n",
    "plt.title(\"ROC Curve\")\n",
    "plt.xlabel(\"FPR\")\n",
    "plt.ylabel(\"TPR\")\n",
    "plt.savefig('baard_roc_cw2_0.pdf', format='pdf', dpi=1200, bbox_inches='tight')"
   ]
  },
  {
   "cell_type": "code",
   "execution_count": 24,
   "metadata": {},
   "outputs": [
    {
     "output_type": "stream",
     "name": "stdout",
     "text": [
      "5\n",
      "10\n",
      "10\n",
      "10\n",
      "10\n",
      "10\n",
      "10\n",
      "11\n",
      "11\n",
      "12\n",
      "14\n",
      "14\n",
      "15\n",
      "16\n",
      "17\n",
      "19\n",
      "19\n",
      "22\n",
      "22\n",
      "22\n"
     ]
    }
   ],
   "source": [
    "qs = [1. - i*0.01 for i in range(20)]\n",
    "s2.verbose = 0\n",
    "for q in qs:\n",
    "    s2.quantile = q\n",
    "    s2.search_thresholds(X_def_val, y_def_val, np.zeros_like(y_def_val))\n",
    "    output_X = s2.predict(X_def_val, y_def_val)\n",
    "    print(np.sum(output_X))"
   ]
  },
  {
   "cell_type": "code",
   "execution_count": 25,
   "metadata": {},
   "outputs": [
    {
     "output_type": "stream",
     "name": "stderr",
     "text": [
      "Decidability: 100%|██████████| 10/10 [00:11<00:00,  1.13s/it]\n",
      "Decidability: 100%|██████████| 10/10 [00:11<00:00,  1.14s/it]\n"
     ]
    },
    {
     "output_type": "execute_result",
     "data": {
      "text/plain": [
       "4"
      ]
     },
     "metadata": {},
     "execution_count": 25
    }
   ],
   "source": [
    "s3.quantile = 1.0\n",
    "s3.search_thresholds(X_def_val, y_def_val, np.zeros_like(y_def_val))\n",
    "output_X = s3.predict(X_def_val, y_def_val)\n",
    "np.sum(output_X)"
   ]
  },
  {
   "cell_type": "code",
   "execution_count": null,
   "metadata": {},
   "outputs": [],
   "source": []
  }
 ],
 "metadata": {
  "kernelspec": {
   "display_name": "Python 3",
   "language": "python",
   "name": "python3"
  },
  "language_info": {
   "codemirror_mode": {
    "name": "ipython",
    "version": 3
   },
   "file_extension": ".py",
   "mimetype": "text/x-python",
   "name": "python",
   "nbconvert_exporter": "python",
   "pygments_lexer": "ipython3",
   "version": "3.6.9-final"
  }
 },
 "nbformat": 4,
 "nbformat_minor": 4
}