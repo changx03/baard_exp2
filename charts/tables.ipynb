{
 "metadata": {
  "language_info": {
   "codemirror_mode": {
    "name": "ipython",
    "version": 3
   },
   "file_extension": ".py",
   "mimetype": "text/x-python",
   "name": "python",
   "nbconvert_exporter": "python",
   "pygments_lexer": "ipython3",
   "version": "3.6.9"
  },
  "orig_nbformat": 2,
  "kernelspec": {
   "name": "python369jvsc74a57bd031f2aee4e71d21fbe5cf8b01ff0e069b9275f58929596ceb00d14d90e3e16cd6",
   "display_name": "Python 3.6.9 64-bit"
  },
  "metadata": {
   "interpreter": {
    "hash": "31f2aee4e71d21fbe5cf8b01ff0e069b9275f58929596ceb00d14d90e3e16cd6"
   }
  }
 },
 "nbformat": 4,
 "nbformat_minor": 2,
 "cells": [
  {
   "cell_type": "code",
   "execution_count": 1,
   "metadata": {},
   "outputs": [],
   "source": [
    "import numpy as np\n",
    "import pandas as pd"
   ]
  },
  {
   "cell_type": "code",
   "execution_count": 2,
   "metadata": {},
   "outputs": [
    {
     "output_type": "execute_result",
     "data": {
      "text/plain": [
       "       data model attack  adv_param defence  acc_no_def  acc_on_adv       fpr\n",
       "0  banknote   dnn   apgd       0.05   baard    0.766839    0.937824  0.005181\n",
       "1  banknote   dnn   apgd       0.05   baard    0.767677    0.924242  0.020202\n",
       "2  banknote   dnn   apgd       0.05   baard    0.764103    0.953846  0.041026\n",
       "3  banknote   dnn   apgd       0.05   baard    0.777202    0.917098  0.010363\n",
       "4  banknote   dnn   apgd       0.05   baard    0.783505    0.938144  0.020619"
      ],
      "text/html": "<div>\n<style scoped>\n    .dataframe tbody tr th:only-of-type {\n        vertical-align: middle;\n    }\n\n    .dataframe tbody tr th {\n        vertical-align: top;\n    }\n\n    .dataframe thead th {\n        text-align: right;\n    }\n</style>\n<table border=\"1\" class=\"dataframe\">\n  <thead>\n    <tr style=\"text-align: right;\">\n      <th></th>\n      <th>data</th>\n      <th>model</th>\n      <th>attack</th>\n      <th>adv_param</th>\n      <th>defence</th>\n      <th>acc_no_def</th>\n      <th>acc_on_adv</th>\n      <th>fpr</th>\n    </tr>\n  </thead>\n  <tbody>\n    <tr>\n      <th>0</th>\n      <td>banknote</td>\n      <td>dnn</td>\n      <td>apgd</td>\n      <td>0.05</td>\n      <td>baard</td>\n      <td>0.766839</td>\n      <td>0.937824</td>\n      <td>0.005181</td>\n    </tr>\n    <tr>\n      <th>1</th>\n      <td>banknote</td>\n      <td>dnn</td>\n      <td>apgd</td>\n      <td>0.05</td>\n      <td>baard</td>\n      <td>0.767677</td>\n      <td>0.924242</td>\n      <td>0.020202</td>\n    </tr>\n    <tr>\n      <th>2</th>\n      <td>banknote</td>\n      <td>dnn</td>\n      <td>apgd</td>\n      <td>0.05</td>\n      <td>baard</td>\n      <td>0.764103</td>\n      <td>0.953846</td>\n      <td>0.041026</td>\n    </tr>\n    <tr>\n      <th>3</th>\n      <td>banknote</td>\n      <td>dnn</td>\n      <td>apgd</td>\n      <td>0.05</td>\n      <td>baard</td>\n      <td>0.777202</td>\n      <td>0.917098</td>\n      <td>0.010363</td>\n    </tr>\n    <tr>\n      <th>4</th>\n      <td>banknote</td>\n      <td>dnn</td>\n      <td>apgd</td>\n      <td>0.05</td>\n      <td>baard</td>\n      <td>0.783505</td>\n      <td>0.938144</td>\n      <td>0.020619</td>\n    </tr>\n  </tbody>\n</table>\n</div>"
     },
     "metadata": {},
     "execution_count": 2
    }
   ],
   "source": [
    "df = pd.read_csv('full_results.csv')\n",
    "df.head()"
   ]
  },
  {
   "cell_type": "code",
   "execution_count": 3,
   "metadata": {},
   "outputs": [
    {
     "output_type": "execute_result",
     "data": {
      "text/plain": [
       "array(['baard', 'lid', 'magnet', 'rc', 'fs'], dtype=object)"
      ]
     },
     "metadata": {},
     "execution_count": 3
    }
   ],
   "source": [
    "df['defence'].unique()"
   ]
  },
  {
   "cell_type": "code",
   "execution_count": 4,
   "metadata": {},
   "outputs": [
    {
     "output_type": "execute_result",
     "data": {
      "text/plain": [
       "array(['apgd', 'apgd2', 'cw2', 'fgsm', 'bim', 'boundary', 'tree',\n",
       "       'deepfool', 'line'], dtype=object)"
      ]
     },
     "metadata": {},
     "execution_count": 4
    }
   ],
   "source": [
    "df['attack'].unique()"
   ]
  },
  {
   "cell_type": "code",
   "execution_count": 5,
   "metadata": {},
   "outputs": [
    {
     "output_type": "execute_result",
     "data": {
      "text/plain": [
       "         data model attack  adv_param defence  acc_no_def_mean  \\\n",
       "0    banknote   dnn   apgd       0.05   baard         0.771865   \n",
       "1    banknote   dnn   apgd       0.05     lid         0.771865   \n",
       "2    banknote   dnn   apgd       0.05  magnet         0.771865   \n",
       "3    banknote   dnn   apgd       0.05      rc         0.771865   \n",
       "4    banknote   dnn   apgd       0.10   baard         0.202420   \n",
       "..        ...   ...    ...        ...     ...              ...   \n",
       "799     mnist   dnn   line       1.00   baard         0.973600   \n",
       "800     mnist   dnn   line       1.00      fs         0.973600   \n",
       "801     mnist   dnn   line       1.00     lid         0.973600   \n",
       "802     mnist   dnn   line       1.00  magnet         0.973600   \n",
       "803     mnist   dnn   line       1.00      rc         0.973600   \n",
       "\n",
       "     acc_no_def_std  acc_on_adv_mean  acc_on_adv_std  fpr_mean   fpr_std  \n",
       "0          0.008171         0.934231        0.014197  0.019478  0.013726  \n",
       "1          0.008171         0.861136        0.024915  0.082222  0.017124  \n",
       "2          0.008171         0.629780        0.071561  0.003077  0.006880  \n",
       "3          0.008171         0.771897        0.007820  0.001010  0.002259  \n",
       "4          0.030604         0.674106        0.043972  0.019478  0.013726  \n",
       "..              ...              ...             ...       ...       ...  \n",
       "799        0.006387         0.994400        0.002793  0.027200  0.003271  \n",
       "800        0.006387         0.982400        0.005413  0.052800  0.012558  \n",
       "801        0.006387         0.973600        0.006387  0.000000  0.000000  \n",
       "802        0.006387         0.989200        0.006535  0.002800  0.002168  \n",
       "803        0.006387         0.971400        0.007503  0.000800  0.000837  \n",
       "\n",
       "[804 rows x 11 columns]"
      ],
      "text/html": "<div>\n<style scoped>\n    .dataframe tbody tr th:only-of-type {\n        vertical-align: middle;\n    }\n\n    .dataframe tbody tr th {\n        vertical-align: top;\n    }\n\n    .dataframe thead th {\n        text-align: right;\n    }\n</style>\n<table border=\"1\" class=\"dataframe\">\n  <thead>\n    <tr style=\"text-align: right;\">\n      <th></th>\n      <th>data</th>\n      <th>model</th>\n      <th>attack</th>\n      <th>adv_param</th>\n      <th>defence</th>\n      <th>acc_no_def_mean</th>\n      <th>acc_no_def_std</th>\n      <th>acc_on_adv_mean</th>\n      <th>acc_on_adv_std</th>\n      <th>fpr_mean</th>\n      <th>fpr_std</th>\n    </tr>\n  </thead>\n  <tbody>\n    <tr>\n      <th>0</th>\n      <td>banknote</td>\n      <td>dnn</td>\n      <td>apgd</td>\n      <td>0.05</td>\n      <td>baard</td>\n      <td>0.771865</td>\n      <td>0.008171</td>\n      <td>0.934231</td>\n      <td>0.014197</td>\n      <td>0.019478</td>\n      <td>0.013726</td>\n    </tr>\n    <tr>\n      <th>1</th>\n      <td>banknote</td>\n      <td>dnn</td>\n      <td>apgd</td>\n      <td>0.05</td>\n      <td>lid</td>\n      <td>0.771865</td>\n      <td>0.008171</td>\n      <td>0.861136</td>\n      <td>0.024915</td>\n      <td>0.082222</td>\n      <td>0.017124</td>\n    </tr>\n    <tr>\n      <th>2</th>\n      <td>banknote</td>\n      <td>dnn</td>\n      <td>apgd</td>\n      <td>0.05</td>\n      <td>magnet</td>\n      <td>0.771865</td>\n      <td>0.008171</td>\n      <td>0.629780</td>\n      <td>0.071561</td>\n      <td>0.003077</td>\n      <td>0.006880</td>\n    </tr>\n    <tr>\n      <th>3</th>\n      <td>banknote</td>\n      <td>dnn</td>\n      <td>apgd</td>\n      <td>0.05</td>\n      <td>rc</td>\n      <td>0.771865</td>\n      <td>0.008171</td>\n      <td>0.771897</td>\n      <td>0.007820</td>\n      <td>0.001010</td>\n      <td>0.002259</td>\n    </tr>\n    <tr>\n      <th>4</th>\n      <td>banknote</td>\n      <td>dnn</td>\n      <td>apgd</td>\n      <td>0.10</td>\n      <td>baard</td>\n      <td>0.202420</td>\n      <td>0.030604</td>\n      <td>0.674106</td>\n      <td>0.043972</td>\n      <td>0.019478</td>\n      <td>0.013726</td>\n    </tr>\n    <tr>\n      <th>...</th>\n      <td>...</td>\n      <td>...</td>\n      <td>...</td>\n      <td>...</td>\n      <td>...</td>\n      <td>...</td>\n      <td>...</td>\n      <td>...</td>\n      <td>...</td>\n      <td>...</td>\n      <td>...</td>\n    </tr>\n    <tr>\n      <th>799</th>\n      <td>mnist</td>\n      <td>dnn</td>\n      <td>line</td>\n      <td>1.00</td>\n      <td>baard</td>\n      <td>0.973600</td>\n      <td>0.006387</td>\n      <td>0.994400</td>\n      <td>0.002793</td>\n      <td>0.027200</td>\n      <td>0.003271</td>\n    </tr>\n    <tr>\n      <th>800</th>\n      <td>mnist</td>\n      <td>dnn</td>\n      <td>line</td>\n      <td>1.00</td>\n      <td>fs</td>\n      <td>0.973600</td>\n      <td>0.006387</td>\n      <td>0.982400</td>\n      <td>0.005413</td>\n      <td>0.052800</td>\n      <td>0.012558</td>\n    </tr>\n    <tr>\n      <th>801</th>\n      <td>mnist</td>\n      <td>dnn</td>\n      <td>line</td>\n      <td>1.00</td>\n      <td>lid</td>\n      <td>0.973600</td>\n      <td>0.006387</td>\n      <td>0.973600</td>\n      <td>0.006387</td>\n      <td>0.000000</td>\n      <td>0.000000</td>\n    </tr>\n    <tr>\n      <th>802</th>\n      <td>mnist</td>\n      <td>dnn</td>\n      <td>line</td>\n      <td>1.00</td>\n      <td>magnet</td>\n      <td>0.973600</td>\n      <td>0.006387</td>\n      <td>0.989200</td>\n      <td>0.006535</td>\n      <td>0.002800</td>\n      <td>0.002168</td>\n    </tr>\n    <tr>\n      <th>803</th>\n      <td>mnist</td>\n      <td>dnn</td>\n      <td>line</td>\n      <td>1.00</td>\n      <td>rc</td>\n      <td>0.973600</td>\n      <td>0.006387</td>\n      <td>0.971400</td>\n      <td>0.007503</td>\n      <td>0.000800</td>\n      <td>0.000837</td>\n    </tr>\n  </tbody>\n</table>\n<p>804 rows × 11 columns</p>\n</div>"
     },
     "metadata": {},
     "execution_count": 5
    }
   ],
   "source": [
    "df_grouped = df.groupby(['data', 'model', 'attack', 'adv_param', 'defence'], as_index=False).agg({\n",
    "    'acc_no_def': ['mean', 'std'],\n",
    "    'acc_on_adv': ['mean', 'std'],\n",
    "    'fpr': ['mean', 'std']\n",
    "})\n",
    "df_grouped.columns = [\"_\".join(x) if x[1] != '' else x[0] for x in df_grouped.columns]\n",
    "df_grouped = df_grouped.sort_values(by=['data', 'model', 'attack', 'adv_param', 'defence'])\n",
    "df_grouped"
   ]
  },
  {
   "cell_type": "code",
   "execution_count": 6,
   "metadata": {},
   "outputs": [
    {
     "output_type": "stream",
     "name": "stderr",
     "text": [
      "ipykernel_launcher:4: SettingWithCopyWarning: \nA value is trying to be set on a copy of a slice from a DataFrame.\nTry using .loc[row_indexer,col_indexer] = value instead\n\nSee the caveats in the documentation: https://pandas.pydata.org/pandas-docs/stable/user_guide/indexing.html#returning-a-view-versus-a-copy\n"
     ]
    },
    {
     "output_type": "execute_result",
     "data": {
      "text/plain": [
       "      data model attack  adv_param defence  acc_no_def_mean  acc_no_def_std  \\\n",
       "679  mnist   dnn   apgd      0.063   baard             86.2             0.4   \n",
       "680  mnist   dnn   apgd      0.063      fs             86.2             0.4   \n",
       "681  mnist   dnn   apgd      0.063     lid             86.2             0.4   \n",
       "682  mnist   dnn   apgd      0.063  magnet             86.2             0.4   \n",
       "683  mnist   dnn   apgd      0.063      rc             86.2             0.4   \n",
       "..     ...   ...    ...        ...     ...              ...             ...   \n",
       "799  mnist   dnn   line      1.000   baard             97.4             0.6   \n",
       "800  mnist   dnn   line      1.000      fs             97.4             0.6   \n",
       "801  mnist   dnn   line      1.000     lid             97.4             0.6   \n",
       "802  mnist   dnn   line      1.000  magnet             97.4             0.6   \n",
       "803  mnist   dnn   line      1.000      rc             97.4             0.6   \n",
       "\n",
       "     acc_on_adv_mean  acc_on_adv_std  fpr_mean  fpr_std  \n",
       "679            100.0             0.0       2.7      0.3  \n",
       "680             91.4             1.2       5.3      1.3  \n",
       "681             88.4             1.4       3.6      2.4  \n",
       "682            100.0             0.0       0.3      0.2  \n",
       "683             89.5             1.0       0.1      0.1  \n",
       "..               ...             ...       ...      ...  \n",
       "799             99.4             0.3       2.7      0.3  \n",
       "800             98.2             0.5       5.3      1.3  \n",
       "801             97.4             0.6       0.0      0.0  \n",
       "802             98.9             0.7       0.3      0.2  \n",
       "803             97.1             0.8       0.1      0.1  \n",
       "\n",
       "[125 rows x 11 columns]"
      ],
      "text/html": "<div>\n<style scoped>\n    .dataframe tbody tr th:only-of-type {\n        vertical-align: middle;\n    }\n\n    .dataframe tbody tr th {\n        vertical-align: top;\n    }\n\n    .dataframe thead th {\n        text-align: right;\n    }\n</style>\n<table border=\"1\" class=\"dataframe\">\n  <thead>\n    <tr style=\"text-align: right;\">\n      <th></th>\n      <th>data</th>\n      <th>model</th>\n      <th>attack</th>\n      <th>adv_param</th>\n      <th>defence</th>\n      <th>acc_no_def_mean</th>\n      <th>acc_no_def_std</th>\n      <th>acc_on_adv_mean</th>\n      <th>acc_on_adv_std</th>\n      <th>fpr_mean</th>\n      <th>fpr_std</th>\n    </tr>\n  </thead>\n  <tbody>\n    <tr>\n      <th>679</th>\n      <td>mnist</td>\n      <td>dnn</td>\n      <td>apgd</td>\n      <td>0.063</td>\n      <td>baard</td>\n      <td>86.2</td>\n      <td>0.4</td>\n      <td>100.0</td>\n      <td>0.0</td>\n      <td>2.7</td>\n      <td>0.3</td>\n    </tr>\n    <tr>\n      <th>680</th>\n      <td>mnist</td>\n      <td>dnn</td>\n      <td>apgd</td>\n      <td>0.063</td>\n      <td>fs</td>\n      <td>86.2</td>\n      <td>0.4</td>\n      <td>91.4</td>\n      <td>1.2</td>\n      <td>5.3</td>\n      <td>1.3</td>\n    </tr>\n    <tr>\n      <th>681</th>\n      <td>mnist</td>\n      <td>dnn</td>\n      <td>apgd</td>\n      <td>0.063</td>\n      <td>lid</td>\n      <td>86.2</td>\n      <td>0.4</td>\n      <td>88.4</td>\n      <td>1.4</td>\n      <td>3.6</td>\n      <td>2.4</td>\n    </tr>\n    <tr>\n      <th>682</th>\n      <td>mnist</td>\n      <td>dnn</td>\n      <td>apgd</td>\n      <td>0.063</td>\n      <td>magnet</td>\n      <td>86.2</td>\n      <td>0.4</td>\n      <td>100.0</td>\n      <td>0.0</td>\n      <td>0.3</td>\n      <td>0.2</td>\n    </tr>\n    <tr>\n      <th>683</th>\n      <td>mnist</td>\n      <td>dnn</td>\n      <td>apgd</td>\n      <td>0.063</td>\n      <td>rc</td>\n      <td>86.2</td>\n      <td>0.4</td>\n      <td>89.5</td>\n      <td>1.0</td>\n      <td>0.1</td>\n      <td>0.1</td>\n    </tr>\n    <tr>\n      <th>...</th>\n      <td>...</td>\n      <td>...</td>\n      <td>...</td>\n      <td>...</td>\n      <td>...</td>\n      <td>...</td>\n      <td>...</td>\n      <td>...</td>\n      <td>...</td>\n      <td>...</td>\n      <td>...</td>\n    </tr>\n    <tr>\n      <th>799</th>\n      <td>mnist</td>\n      <td>dnn</td>\n      <td>line</td>\n      <td>1.000</td>\n      <td>baard</td>\n      <td>97.4</td>\n      <td>0.6</td>\n      <td>99.4</td>\n      <td>0.3</td>\n      <td>2.7</td>\n      <td>0.3</td>\n    </tr>\n    <tr>\n      <th>800</th>\n      <td>mnist</td>\n      <td>dnn</td>\n      <td>line</td>\n      <td>1.000</td>\n      <td>fs</td>\n      <td>97.4</td>\n      <td>0.6</td>\n      <td>98.2</td>\n      <td>0.5</td>\n      <td>5.3</td>\n      <td>1.3</td>\n    </tr>\n    <tr>\n      <th>801</th>\n      <td>mnist</td>\n      <td>dnn</td>\n      <td>line</td>\n      <td>1.000</td>\n      <td>lid</td>\n      <td>97.4</td>\n      <td>0.6</td>\n      <td>97.4</td>\n      <td>0.6</td>\n      <td>0.0</td>\n      <td>0.0</td>\n    </tr>\n    <tr>\n      <th>802</th>\n      <td>mnist</td>\n      <td>dnn</td>\n      <td>line</td>\n      <td>1.000</td>\n      <td>magnet</td>\n      <td>97.4</td>\n      <td>0.6</td>\n      <td>98.9</td>\n      <td>0.7</td>\n      <td>0.3</td>\n      <td>0.2</td>\n    </tr>\n    <tr>\n      <th>803</th>\n      <td>mnist</td>\n      <td>dnn</td>\n      <td>line</td>\n      <td>1.000</td>\n      <td>rc</td>\n      <td>97.4</td>\n      <td>0.6</td>\n      <td>97.1</td>\n      <td>0.8</td>\n      <td>0.1</td>\n      <td>0.1</td>\n    </tr>\n  </tbody>\n</table>\n<p>125 rows × 11 columns</p>\n</div>"
     },
     "metadata": {},
     "execution_count": 6
    }
   ],
   "source": [
    "mnist = df_grouped[df_grouped['data'] == 'mnist']\n",
    "cols = ['acc_no_def_mean', 'acc_no_def_std', 'acc_on_adv_mean', 'acc_on_adv_std', 'fpr_mean', 'fpr_std']\n",
    "for c in cols:\n",
    "    mnist[c] = (mnist[c].copy() * 100).round(decimals=1)\n",
    "\n",
    "mnist\n"
   ]
  },
  {
   "cell_type": "code",
   "execution_count": 7,
   "metadata": {},
   "outputs": [],
   "source": [
    "res = mnist.pivot(\n",
    "    index=['attack', 'adv_param'],\n",
    "    columns=['defence'],\n",
    "    values=['acc_on_adv_mean', 'acc_on_adv_std']\n",
    ")\n",
    "res.to_excel('mnist_acc_on_adv.xlsx')\n",
    "\n",
    "pd.DataFrame({\n",
    "    'BAARD': (res[('acc_on_adv_mean',  'baard')].astype(str) + '$\\pm$' + res[('acc_on_adv_std',  'baard')].astype(str)).values,\n",
    "    'FS': (res[('acc_on_adv_mean',  'fs')].astype(str) + '$\\pm$' + res[('acc_on_adv_std',  'fs')].astype(str)).values,\n",
    "    'LID': (res[('acc_on_adv_mean',  'lid')].astype(str) + '$\\pm$' + res[('acc_on_adv_std',  'lid')].astype(str)).values,\n",
    "    'MagNet': (res[('acc_on_adv_mean',  'magnet')].astype(str) + '$\\pm$' + res[('acc_on_adv_std',  'magnet')].astype(str)).values,\n",
    "    'RC': (res[('acc_on_adv_mean',  'rc')].astype(str) + '$\\pm$' + res[('acc_on_adv_std',  'rc')].astype(str)).values,\n",
    "}).to_excel('mnist_acc_on_adv_2.xlsx')\n",
    "\n",
    "res = mnist.pivot(\n",
    "    index=['attack', 'adv_param'],\n",
    "    columns=['defence'],\n",
    "    values=['fpr_mean', 'fpr_std']\n",
    ")\n",
    "res.to_excel('mnist_fpr.xlsx')\n",
    "\n",
    "pd.DataFrame({\n",
    "    'BAARD': (res[('fpr_mean',  'baard')].astype(str) + '$\\pm$' + res[('fpr_std',  'baard')].astype(str)).values,\n",
    "    'FS': (res[('fpr_mean',  'fs')].astype(str) + '$\\pm$' + res[('fpr_std',  'fs')].astype(str)).values,\n",
    "    'LID': (res[('fpr_mean',  'lid')].astype(str) + '$\\pm$' + res[('fpr_std',  'lid')].astype(str)).values,\n",
    "    'MagNet': (res[('fpr_mean',  'magnet')].astype(str) + '$\\pm$' + res[('fpr_std',  'magnet')].astype(str)).values,\n",
    "    'RC': (res[('fpr_mean',  'rc')].astype(str) + '$\\pm$' + res[('fpr_std',  'rc')].astype(str)).values,\n",
    "}).to_excel('mnist_fpr_2.xlsx')"
   ]
  },
  {
   "cell_type": "code",
   "execution_count": 8,
   "metadata": {},
   "outputs": [
    {
     "output_type": "stream",
     "name": "stderr",
     "text": [
      "ipykernel_launcher:4: SettingWithCopyWarning: \nA value is trying to be set on a copy of a slice from a DataFrame.\nTry using .loc[row_indexer,col_indexer] = value instead\n\nSee the caveats in the documentation: https://pandas.pydata.org/pandas-docs/stable/user_guide/indexing.html#returning-a-view-versus-a-copy\n"
     ]
    }
   ],
   "source": [
    "cifar10 = df_grouped[(df_grouped['data'] == 'cifar10') & (df_grouped['model'] == 'resnet')]\n",
    "cols = ['acc_no_def_mean', 'acc_no_def_std', 'acc_on_adv_mean', 'acc_on_adv_std', 'fpr_mean', 'fpr_std']\n",
    "for c in cols:\n",
    "    cifar10[c] = (cifar10[c].copy() * 100).round(decimals=1)\n",
    "\n",
    "res = cifar10.pivot(\n",
    "    index=['attack', 'adv_param'],\n",
    "    columns=['defence'],\n",
    "    values=['acc_on_adv_mean', 'acc_on_adv_std']\n",
    ")\n",
    "res.to_excel('cifar10_acc_on_adv.xlsx')\n",
    "\n",
    "pd.DataFrame({\n",
    "    'BAARD': (res[('acc_on_adv_mean',  'baard')].astype(str) + '$\\pm$' + res[('acc_on_adv_std',  'baard')].astype(str)).values,\n",
    "    'FS': (res[('acc_on_adv_mean',  'fs')].astype(str) + '$\\pm$' + res[('acc_on_adv_std',  'fs')].astype(str)).values,\n",
    "    'LID': (res[('acc_on_adv_mean',  'lid')].astype(str) + '$\\pm$' + res[('acc_on_adv_std',  'lid')].astype(str)).values,\n",
    "    'MagNet': (res[('acc_on_adv_mean',  'magnet')].astype(str) + '$\\pm$' + res[('acc_on_adv_std',  'magnet')].astype(str)).values,\n",
    "    'RC': (res[('acc_on_adv_mean',  'rc')].astype(str) + '$\\pm$' + res[('acc_on_adv_std',  'rc')].astype(str)).values,\n",
    "}).to_excel('cifar10_acc_on_adv_2.xlsx')\n",
    "\n",
    "res = cifar10.pivot(\n",
    "    index=['attack', 'adv_param'],\n",
    "    columns=['defence'],\n",
    "    values=['fpr_mean', 'fpr_std']\n",
    ")\n",
    "res.to_excel('cifar10_fpr.xlsx')\n",
    "\n",
    "pd.DataFrame({\n",
    "    'BAARD': (res[('fpr_mean',  'baard')].astype(str) + '$\\pm$' + res[('fpr_std',  'baard')].astype(str)).values,\n",
    "    'FS': (res[('fpr_mean',  'fs')].astype(str) + '$\\pm$' + res[('fpr_std',  'fs')].astype(str)).values,\n",
    "    'LID': (res[('fpr_mean',  'lid')].astype(str) + '$\\pm$' + res[('fpr_std',  'lid')].astype(str)).values,\n",
    "    'MagNet': (res[('fpr_mean',  'magnet')].astype(str) + '$\\pm$' + res[('fpr_std',  'magnet')].astype(str)).values,\n",
    "    'RC': (res[('fpr_mean',  'rc')].astype(str) + '$\\pm$' + res[('fpr_std',  'rc')].astype(str)).values,\n",
    "}).to_excel('cifar10_fpr_2.xlsx')"
   ]
  },
  {
   "cell_type": "code",
   "execution_count": 9,
   "metadata": {},
   "outputs": [
    {
     "output_type": "stream",
     "name": "stderr",
     "text": [
      "ipykernel_launcher:4: SettingWithCopyWarning: \nA value is trying to be set on a copy of a slice from a DataFrame.\nTry using .loc[row_indexer,col_indexer] = value instead\n\nSee the caveats in the documentation: https://pandas.pydata.org/pandas-docs/stable/user_guide/indexing.html#returning-a-view-versus-a-copy\n"
     ]
    }
   ],
   "source": [
    "cifar10 = df_grouped[(df_grouped['data'] == 'cifar10') & (df_grouped['model'] == 'vgg')]\n",
    "cols = ['acc_no_def_mean', 'acc_no_def_std', 'acc_on_adv_mean', 'acc_on_adv_std', 'fpr_mean', 'fpr_std']\n",
    "for c in cols:\n",
    "    cifar10[c] = (cifar10[c].copy() * 100).round(decimals=1)\n",
    "\n",
    "res = cifar10.pivot(\n",
    "    index=['attack', 'adv_param'],\n",
    "    columns=['defence'],\n",
    "    values=['acc_on_adv_mean', 'acc_on_adv_std']\n",
    ")\n",
    "res.to_excel('cifar10_acc_on_adv.xlsx')\n",
    "\n",
    "pd.DataFrame({\n",
    "    'BAARD': (res[('acc_on_adv_mean',  'baard')].astype(str) + '$\\pm$' + res[('acc_on_adv_std',  'baard')].astype(str)).values,\n",
    "    'FS': (res[('acc_on_adv_mean',  'fs')].astype(str) + '$\\pm$' + res[('acc_on_adv_std',  'fs')].astype(str)).values,\n",
    "    'LID': (res[('acc_on_adv_mean',  'lid')].astype(str) + '$\\pm$' + res[('acc_on_adv_std',  'lid')].astype(str)).values,\n",
    "    'MagNet': (res[('acc_on_adv_mean',  'magnet')].astype(str) + '$\\pm$' + res[('acc_on_adv_std',  'magnet')].astype(str)).values,\n",
    "    'RC': (res[('acc_on_adv_mean',  'rc')].astype(str) + '$\\pm$' + res[('acc_on_adv_std',  'rc')].astype(str)).values,\n",
    "}).to_excel('cifar10_vgg_acc_on_adv_2.xlsx')\n",
    "\n",
    "res = cifar10.pivot(\n",
    "    index=['attack', 'adv_param'],\n",
    "    columns=['defence'],\n",
    "    values=['fpr_mean', 'fpr_std']\n",
    ")\n",
    "res.to_excel('cifar10_fpr.xlsx')\n",
    "\n",
    "pd.DataFrame({\n",
    "    'BAARD': (res[('fpr_mean',  'baard')].astype(str) + '$\\pm$' + res[('fpr_std',  'baard')].astype(str)).values,\n",
    "    'FS': (res[('fpr_mean',  'fs')].astype(str) + '$\\pm$' + res[('fpr_std',  'fs')].astype(str)).values,\n",
    "    'LID': (res[('fpr_mean',  'lid')].astype(str) + '$\\pm$' + res[('fpr_std',  'lid')].astype(str)).values,\n",
    "    'MagNet': (res[('fpr_mean',  'magnet')].astype(str) + '$\\pm$' + res[('fpr_std',  'magnet')].astype(str)).values,\n",
    "    'RC': (res[('fpr_mean',  'rc')].astype(str) + '$\\pm$' + res[('fpr_std',  'rc')].astype(str)).values,\n",
    "}).to_excel('cifar10_vgg_fpr_2.xlsx')"
   ]
  },
  {
   "cell_type": "code",
   "execution_count": 10,
   "metadata": {},
   "outputs": [
    {
     "output_type": "stream",
     "name": "stderr",
     "text": [
      "ipykernel_launcher:4: SettingWithCopyWarning: \n",
      "A value is trying to be set on a copy of a slice from a DataFrame.\n",
      "Try using .loc[row_indexer,col_indexer] = value instead\n",
      "\n",
      "See the caveats in the documentation: https://pandas.pydata.org/pandas-docs/stable/user_guide/indexing.html#returning-a-view-versus-a-copy\n",
      "['baard' 'lid' 'magnet' 'rc']\n"
     ]
    }
   ],
   "source": [
    "data = df_grouped[((df_grouped['data'] == 'banknote') | (df_grouped['data'] == 'htru2') | (df_grouped['data'] == 'breastcancer')) & (df_grouped['model'] == 'dnn')]\n",
    "cols = ['acc_no_def_mean', 'acc_no_def_std', 'acc_on_adv_mean', 'acc_on_adv_std', 'fpr_mean', 'fpr_std']\n",
    "for c in cols:\n",
    "    data[c] = (data[c].copy() * 100).round(decimals=1)\n",
    "\n",
    "print(data['defence'].unique())\n",
    "\n",
    "res = data.pivot(\n",
    "    index=['data', 'attack', 'adv_param'],\n",
    "    columns=['defence'],\n",
    "    values=['acc_on_adv_mean', 'acc_on_adv_std']\n",
    ")\n",
    "res.to_excel('num_acc_on_adv.xlsx')\n",
    "\n",
    "pd.DataFrame({\n",
    "    'BAARD': (res[('acc_on_adv_mean',  'baard')].astype(str) + '$\\pm$' + res[('acc_on_adv_std',  'baard')].astype(str)).values,\n",
    "    'LID': (res[('acc_on_adv_mean',  'lid')].astype(str) + '$\\pm$' + res[('acc_on_adv_std',  'lid')].astype(str)).values,\n",
    "    'MagNet': (res[('acc_on_adv_mean',  'magnet')].astype(str) + '$\\pm$' + res[('acc_on_adv_std',  'magnet')].astype(str)).values,\n",
    "    'RC': (res[('acc_on_adv_mean',  'rc')].astype(str) + '$\\pm$' + res[('acc_on_adv_std',  'rc')].astype(str)).values,\n",
    "}).to_excel('num_acc_on_adv_2.xlsx')\n",
    "\n",
    "res = data.pivot(\n",
    "    index=['data', 'attack', 'adv_param'],\n",
    "    columns=['defence'],\n",
    "    values=['fpr_mean', 'fpr_std']\n",
    ")\n",
    "res.to_excel('num_fpr.xlsx')\n",
    "\n",
    "pd.DataFrame({\n",
    "    'BAARD': (res[('fpr_mean',  'baard')].astype(str) + '$\\pm$' + res[('fpr_std',  'baard')].astype(str)).values,\n",
    "    'LID': (res[('fpr_mean',  'lid')].astype(str) + '$\\pm$' + res[('fpr_std',  'lid')].astype(str)).values,\n",
    "    'MagNet': (res[('fpr_mean',  'magnet')].astype(str) + '$\\pm$' + res[('fpr_std',  'magnet')].astype(str)).values,\n",
    "    'RC': (res[('fpr_mean',  'rc')].astype(str) + '$\\pm$' + res[('fpr_std',  'rc')].astype(str)).values,\n",
    "}).to_excel('num_fpr_2.xlsx')"
   ]
  },
  {
   "cell_type": "code",
   "execution_count": 11,
   "metadata": {},
   "outputs": [
    {
     "output_type": "stream",
     "name": "stderr",
     "text": [
      "ipykernel_launcher:4: SettingWithCopyWarning: \n",
      "A value is trying to be set on a copy of a slice from a DataFrame.\n",
      "Try using .loc[row_indexer,col_indexer] = value instead\n",
      "\n",
      "See the caveats in the documentation: https://pandas.pydata.org/pandas-docs/stable/user_guide/indexing.html#returning-a-view-versus-a-copy\n",
      "['baard' 'magnet' 'rc']\n"
     ]
    }
   ],
   "source": [
    "data = df_grouped[((df_grouped['data'] == 'banknote') | (df_grouped['data'] == 'htru2') | (df_grouped['data'] == 'breastcancer')) & (df_grouped['model'] == 'svm')]\n",
    "cols = ['acc_no_def_mean', 'acc_no_def_std', 'acc_on_adv_mean', 'acc_on_adv_std', 'fpr_mean', 'fpr_std']\n",
    "for c in cols:\n",
    "    data[c] = (data[c].copy() * 100).round(decimals=1)\n",
    "\n",
    "print(data['defence'].unique())\n",
    "\n",
    "res = data.pivot(\n",
    "    index=['data', 'attack', 'adv_param'],\n",
    "    columns=['defence'],\n",
    "    values=['acc_on_adv_mean', 'acc_on_adv_std']\n",
    ")\n",
    "res.to_excel('svm_acc_on_adv.xlsx')\n",
    "\n",
    "pd.DataFrame({\n",
    "    'BAARD': (res[('acc_on_adv_mean',  'baard')].astype(str) + '$\\pm$' + res[('acc_on_adv_std',  'baard')].astype(str)).values,\n",
    "    'MagNet': (res[('acc_on_adv_mean',  'magnet')].astype(str) + '$\\pm$' + res[('acc_on_adv_std',  'magnet')].astype(str)).values,\n",
    "    'RC': (res[('acc_on_adv_mean',  'rc')].astype(str) + '$\\pm$' + res[('acc_on_adv_std',  'rc')].astype(str)).values,\n",
    "}).to_excel('svm_acc_on_adv_2.xlsx')\n",
    "\n",
    "res = data.pivot(\n",
    "    index=['data', 'attack', 'adv_param'],\n",
    "    columns=['defence'],\n",
    "    values=['fpr_mean', 'fpr_std']\n",
    ")\n",
    "res.to_excel('svm_fpr.xlsx')\n",
    "\n",
    "pd.DataFrame({\n",
    "    'BAARD': (res[('fpr_mean',  'baard')].astype(str) + '$\\pm$' + res[('fpr_std',  'baard')].astype(str)).values,\n",
    "    'MagNet': (res[('fpr_mean',  'magnet')].astype(str) + '$\\pm$' + res[('fpr_std',  'magnet')].astype(str)).values,\n",
    "    'RC': (res[('fpr_mean',  'rc')].astype(str) + '$\\pm$' + res[('fpr_std',  'rc')].astype(str)).values,\n",
    "}).to_excel('svm_fpr_2.xlsx')"
   ]
  },
  {
   "cell_type": "code",
   "execution_count": 12,
   "metadata": {},
   "outputs": [
    {
     "output_type": "stream",
     "name": "stderr",
     "text": [
      "ipykernel_launcher:4: SettingWithCopyWarning: \n",
      "A value is trying to be set on a copy of a slice from a DataFrame.\n",
      "Try using .loc[row_indexer,col_indexer] = value instead\n",
      "\n",
      "See the caveats in the documentation: https://pandas.pydata.org/pandas-docs/stable/user_guide/indexing.html#returning-a-view-versus-a-copy\n",
      "['baard' 'magnet' 'rc']\n"
     ]
    }
   ],
   "source": [
    "data = df_grouped[((df_grouped['data'] == 'banknote') | (df_grouped['data'] == 'htru2') | (df_grouped['data'] == 'breastcancer')) & (df_grouped['model'] == 'tree')]\n",
    "cols = ['acc_no_def_mean', 'acc_no_def_std', 'acc_on_adv_mean', 'acc_on_adv_std', 'fpr_mean', 'fpr_std']\n",
    "for c in cols:\n",
    "    data[c] = (data[c].copy() * 100).round(decimals=1)\n",
    "\n",
    "print(data['defence'].unique())\n",
    "\n",
    "res = data.pivot(\n",
    "    index=['data', 'attack', 'adv_param'],\n",
    "    columns=['defence'],\n",
    "    values=['acc_on_adv_mean', 'acc_on_adv_std']\n",
    ")\n",
    "res.to_excel('tree_acc_on_adv.xlsx')\n",
    "\n",
    "pd.DataFrame({\n",
    "    'BAARD': (res[('acc_on_adv_mean',  'baard')].astype(str) + '$\\pm$' + res[('acc_on_adv_std',  'baard')].astype(str)).values,\n",
    "    'MagNet': (res[('acc_on_adv_mean',  'magnet')].astype(str) + '$\\pm$' + res[('acc_on_adv_std',  'magnet')].astype(str)).values,\n",
    "    'RC': (res[('acc_on_adv_mean',  'rc')].astype(str) + '$\\pm$' + res[('acc_on_adv_std',  'rc')].astype(str)).values,\n",
    "}).to_excel('tree_acc_on_adv_2.xlsx')\n",
    "\n",
    "res = data.pivot(\n",
    "    index=['data', 'attack', 'adv_param'],\n",
    "    columns=['defence'],\n",
    "    values=['fpr_mean', 'fpr_std']\n",
    ")\n",
    "res.to_excel('tree_fpr.xlsx')\n",
    "\n",
    "pd.DataFrame({\n",
    "    'BAARD': (res[('fpr_mean',  'baard')].astype(str) + '$\\pm$' + res[('fpr_std',  'baard')].astype(str)).values,\n",
    "    'MagNet': (res[('fpr_mean',  'magnet')].astype(str) + '$\\pm$' + res[('fpr_std',  'magnet')].astype(str)).values,\n",
    "    'RC': (res[('fpr_mean',  'rc')].astype(str) + '$\\pm$' + res[('fpr_std',  'rc')].astype(str)).values,\n",
    "}).to_excel('tree_fpr_2.xlsx')"
   ]
  },
  {
   "cell_type": "code",
   "execution_count": null,
   "metadata": {},
   "outputs": [],
   "source": []
  }
 ]
}