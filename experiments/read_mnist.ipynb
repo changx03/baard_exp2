{
 "cells": [
  {
   "cell_type": "code",
   "execution_count": 11,
   "metadata": {},
   "outputs": [],
   "source": [
    "import sys\n",
    "sys.path.append('..')"
   ]
  },
  {
   "cell_type": "code",
   "execution_count": 12,
   "metadata": {},
   "outputs": [],
   "source": [
    "import os\n",
    "import csv\n",
    "\n",
    "import matplotlib.pyplot as plt\n",
    "import numpy as np\n",
    "import torch\n",
    "from torch.utils.data.dataloader import DataLoader\n",
    "from torch.utils.data.dataset import TensorDataset\n",
    "import pandas as pd\n",
    "\n",
    "from defences.util import score\n",
    "from models.mnist import BaseModel\n",
    "from models.torch_util import predict_numpy"
   ]
  },
  {
   "cell_type": "code",
   "execution_count": 13,
   "metadata": {},
   "outputs": [
    {
     "output_type": "stream",
     "name": "stdout",
     "text": [
      "The autoreload extension is already loaded. To reload it, use:\n  %reload_ext autoreload\n"
     ]
    }
   ],
   "source": [
    "%load_ext autoreload\n",
    "%autoreload 2"
   ]
  },
  {
   "cell_type": "code",
   "execution_count": 14,
   "metadata": {},
   "outputs": [],
   "source": [
    "PATH_OUTPUTS = os.path.join('..', 'csv')\n",
    "if not os.path.exists(PATH_OUTPUTS):\n",
    "    os.makedirs(PATH_OUTPUTS)"
   ]
  },
  {
   "cell_type": "code",
   "execution_count": 15,
   "metadata": {},
   "outputs": [
    {
     "output_type": "stream",
     "name": "stdout",
     "text": [
      "device: cuda\n"
     ]
    }
   ],
   "source": [
    "device = torch.device('cuda' if torch.cuda.is_available() else 'cpu')\n",
    "print('device:', device)"
   ]
  },
  {
   "source": [
    "## MNIST"
   ],
   "cell_type": "markdown",
   "metadata": {}
  },
  {
   "cell_type": "code",
   "execution_count": 16,
   "metadata": {},
   "outputs": [
    {
     "output_type": "execute_result",
     "data": {
      "text/plain": [
       "BaseModel(\n",
       "  (conv1): Conv2d(1, 32, kernel_size=(3, 3), stride=(1, 1))\n",
       "  (relu1): ReLU()\n",
       "  (conv2): Conv2d(32, 64, kernel_size=(3, 3), stride=(1, 1))\n",
       "  (relu2): ReLU()\n",
       "  (pool1): MaxPool2d(kernel_size=2, stride=2, padding=0, dilation=1, ceil_mode=False)\n",
       "  (flatten): Flatten(start_dim=1, end_dim=-1)\n",
       "  (fc1): Linear(in_features=9216, out_features=200, bias=True)\n",
       "  (relu3): ReLU()\n",
       "  (fc2): Linear(in_features=200, out_features=10, bias=True)\n",
       "  (softmax): Softmax(dim=1)\n",
       ")"
      ]
     },
     "metadata": {},
     "execution_count": 16
    }
   ],
   "source": [
    "model = BaseModel(use_prob=True)\n",
    "path_model = os.path.join('..', 'results', 'mnist_200.pt')\n",
    "model.load_state_dict(torch.load(path_model, map_location=device))\n",
    "model.to(device)"
   ]
  },
  {
   "cell_type": "code",
   "execution_count": 17,
   "metadata": {},
   "outputs": [],
   "source": [
    "\n",
    "name_data = 'mnist'\n",
    "name_model = 'basic'\n",
    "name_attacks = [\n",
    "    'apgd_0.063',\n",
    "    'apgd_0.3',\n",
    "    'apgd_1.0',\n",
    "    'apgd_1.5',\n",
    "    'apgd1_0.3',\n",
    "    'apgd1_1.0',\n",
    "    'apgd1_1.5',\n",
    "    'apgd1_2.0',\n",
    "    'apgd1_3.0',\n",
    "    'apgd1_5.0',\n",
    "    'apgd2_0.063',\n",
    "    'apgd2_0.3',\n",
    "    'apgd2_0.6',\n",
    "    'apgd2_1.0',\n",
    "    'apgd2_1.5',\n",
    "    'apgd2_2.0',\n",
    "    'apgd2_3.0',\n",
    "    'apgd2_5.0',\n",
    "    'boundary_0.3',\n",
    "    'cw2_0.0',\n",
    "    'cw2_10.0',\n",
    "    'cw2_5.0',\n",
    "    'cwinf_0.0',\n",
    "    'cwinf_5.0',\n",
    "    'deepfool_1e-06',\n",
    "    'fgsm_0.063',\n",
    "    'fgsm_0.3',\n",
    "    'fgsm_0.6',\n",
    "    'fgsm_1.0',\n",
    "    'fgsm_1.5',\n",
    "    'line_0.0',\n",
    "    'line_0.5',\n",
    "    'line_1.0',\n",
    "    'shadow_0.3',\n",
    "    'watermark_0.1',\n",
    "    'watermark_0.3',\n",
    "    'watermark_0.6',\n",
    "    'watermark_1.0',\n",
    "]\n",
    "name_defences = [\n",
    "'baard_2stage',\n",
    "'baard_3stage',\n",
    "'fs',\n",
    "'lid',\n",
    "'magnet',\n",
    "'rc',\n",
    "]"
   ]
  },
  {
   "cell_type": "code",
   "execution_count": 18,
   "metadata": {},
   "outputs": [],
   "source": [
    "def get_dataframe(df, model, data, nmodel, nattack, ndefence):\n",
    "    path_result = os.path.join('..', 'results', '{}_{}_{}_{}.pt'.format(data, nmodel, nattack, ndefence))\n",
    "    result = torch.load(path_result)\n",
    "    X_test = result['X_test']\n",
    "    y_test = result['y_test']\n",
    "    labels_test = result['labels_test']\n",
    "    res_test = result['res_test']\n",
    "\n",
    "    attack_eps = attack.split('_')\n",
    "\n",
    "    idx_tp = np.where(labels_test == 1)[0]\n",
    "    pred = predict_numpy(model, X_test[idx_tp], device=device)\n",
    "    attack_score = np.sum(pred == y_test[idx_tp]) / len(idx_tp)\n",
    "    my_score = score(res_test[idx_tp], y_test[idx_tp], pred, labels_test[idx_tp])\n",
    "\n",
    "    block_rate = np.sum(res_test[idx_tp] == labels_test[idx_tp]) / len(idx_tp)\n",
    "\n",
    "    idx_fp = np.where(labels_test == 0)[0]\n",
    "    fpr = np.sum(res_test[idx_fp]) / len(idx_fp)\n",
    "    if ndefence == 'rc':\n",
    "        block_rate = -1\n",
    "        fpr = np.sum(res_test[idx_fp] != y_test[idx_fp]) / len(idx_fp)\n",
    "\n",
    "    df = df.append({\n",
    "        'Attack': attack_eps[0], \n",
    "        'Epsilon': attack_eps[1], \n",
    "        'Defence': ndefence,\n",
    "        'Accuracy after attack': attack_score * 100,\n",
    "        'Score': my_score * 100,\n",
    "        'Block Rate': block_rate * 100, \n",
    "        'False Positive Rate': fpr * 100\n",
    "    }, ignore_index=True)\n",
    "    return df"
   ]
  },
  {
   "cell_type": "code",
   "execution_count": 19,
   "metadata": {},
   "outputs": [],
   "source": [
    "COLUMNS = ['Attack', 'Epsilon', 'Defence', 'Accuracy after attack', 'Score', 'Block Rate', 'False Positive Rate']"
   ]
  },
  {
   "cell_type": "code",
   "execution_count": 20,
   "metadata": {
    "tags": []
   },
   "outputs": [],
   "source": [
    "df = pd.DataFrame(columns=COLUMNS)\n",
    "\n",
    "for attack in name_attacks:\n",
    "    for defence in name_defences:\n",
    "        try:\n",
    "            df = get_dataframe(df, model, name_data, name_model, attack, defence)\n",
    "        except FileNotFoundError:\n",
    "            continue    "
   ]
  },
  {
   "cell_type": "code",
   "execution_count": 21,
   "metadata": {},
   "outputs": [],
   "source": [
    "df.to_csv(os.path.join(PATH_OUTPUTS, 'mnist.csv'))"
   ]
  },
  {
   "cell_type": "code",
   "execution_count": null,
   "metadata": {},
   "outputs": [],
   "source": []
  }
 ],
 "metadata": {
  "kernelspec": {
   "name": "python36964bit4ada1bcfcd0f4caa95e946f583001e1b",
   "display_name": "Python 3.6.9 64-bit",
   "language": "python"
  },
  "language_info": {
   "codemirror_mode": {
    "name": "ipython",
    "version": 3
   },
   "file_extension": ".py",
   "mimetype": "text/x-python",
   "name": "python",
   "nbconvert_exporter": "python",
   "pygments_lexer": "ipython3",
   "version": "3.6.9-final"
  }
 },
 "nbformat": 4,
 "nbformat_minor": 4
}