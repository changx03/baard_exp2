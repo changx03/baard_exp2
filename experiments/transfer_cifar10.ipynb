{
 "metadata": {
  "language_info": {
   "codemirror_mode": {
    "name": "ipython",
    "version": 3
   },
   "file_extension": ".py",
   "mimetype": "text/x-python",
   "name": "python",
   "nbconvert_exporter": "python",
   "pygments_lexer": "ipython3",
   "version": "3.6.9-final"
  },
  "orig_nbformat": 2,
  "kernelspec": {
   "name": "python36964bitvenv6f6c419b22574bc3b5272e06390c00ee",
   "display_name": "Python 3.6.9 64-bit ('venv')",
   "language": "python"
  }
 },
 "nbformat": 4,
 "nbformat_minor": 2,
 "cells": [
  {
   "cell_type": "code",
   "execution_count": 1,
   "metadata": {},
   "outputs": [
    {
     "output_type": "stream",
     "name": "stdout",
     "text": [
      "/home/lukec/workspace/baard_exp2/experiments\n/home/lukec/.vscode/extensions/ms-toolsai.jupyter-2020.12.414227025/pythonFiles\n/home/lukec/.vscode/extensions/ms-toolsai.jupyter-2020.12.414227025/pythonFiles/lib/python\n/usr/lib/python36.zip\n/usr/lib/python3.6\n/usr/lib/python3.6/lib-dynload\n\n/home/lukec/workspace/baard_exp2/venv/lib/python3.6/site-packages\n/home/lukec/workspace/baard_exp2/venv/lib/python3.6/site-packages/IPython/extensions\n/home/lukec/.ipython\n..\n/home/lukec/workspace/baard_exp2/experiments/art_library\n"
     ]
    }
   ],
   "source": [
    "import os\n",
    "import sys\n",
    "sys.path.append('..')\n",
    "LIB_PATH = os.getcwd() + \"/art_library\"\n",
    "sys.path.append(LIB_PATH)\n",
    "print(*sys.path, sep='\\n')"
   ]
  },
  {
   "cell_type": "code",
   "execution_count": 2,
   "metadata": {},
   "outputs": [],
   "source": [
    "%load_ext autoreload\n",
    "%autoreload 2"
   ]
  },
  {
   "cell_type": "code",
   "execution_count": 3,
   "metadata": {},
   "outputs": [],
   "source": [
    "import json\n",
    "\n",
    "import matplotlib.pyplot as plt\n",
    "import numpy as np\n",
    "import torch\n",
    "from tqdm import tqdm\n",
    "import pandas as pd"
   ]
  },
  {
   "cell_type": "code",
   "execution_count": 4,
   "metadata": {},
   "outputs": [],
   "source": [
    "from models.cifar10 import  Resnet, Vgg\n",
    "from models.torch_util import predict_numpy\n",
    "from defences.util import acc_on_adv\n",
    "from defences.baard import ApplicabilityStage, ReliabilityStage, DecidabilityStage, BAARDOperator"
   ]
  },
  {
   "cell_type": "code",
   "execution_count": 5,
   "metadata": {},
   "outputs": [
    {
     "output_type": "stream",
     "name": "stdout",
     "text": [
      "device: cuda\n"
     ]
    }
   ],
   "source": [
    "device = torch.device('cuda' if torch.cuda.is_available() else 'cpu')\n",
    "print('device:', device)"
   ]
  },
  {
   "cell_type": "code",
   "execution_count": 6,
   "metadata": {},
   "outputs": [],
   "source": [
    "resnet = Resnet(use_prob=True).to(device)\n",
    "vgg = Vgg(use_prob=True).to(device)"
   ]
  },
  {
   "cell_type": "code",
   "execution_count": 7,
   "metadata": {},
   "outputs": [
    {
     "output_type": "execute_result",
     "data": {
      "text/plain": [
       "<All keys matched successfully>"
      ]
     },
     "metadata": {},
     "execution_count": 7
    }
   ],
   "source": [
    "f_resnet = os.path.join('..', 'results', 'cifar10_resnet_200.pt')\n",
    "f_vgg = os.path.join('..', 'results', 'cifar10_vgg_200.pt')\n",
    "\n",
    "resnet.load_state_dict(torch.load(f_resnet, map_location=device))\n",
    "vgg.load_state_dict(torch.load(f_vgg, map_location=device))"
   ]
  },
  {
   "cell_type": "code",
   "execution_count": 8,
   "metadata": {},
   "outputs": [
    {
     "output_type": "stream",
     "name": "stdout",
     "text": [
      "Param: {'k_re': 10, 'k_de': 100, 'q1': 1.0, 'q2': 0.98, 'q3': 0.98, 'sequence': [True, True, True]}\n"
     ]
    }
   ],
   "source": [
    "# Create BAARD\n",
    "f_json_param = os.path.join('..', 'params', 'baard_cifar10_3.json')\n",
    "with open(f_json_param) as j:\n",
    "    baard_param = json.load(j)\n",
    "print('Param:', baard_param)\n",
    "\n",
    "n_classes = 10"
   ]
  },
  {
   "cell_type": "code",
   "execution_count": 9,
   "metadata": {},
   "outputs": [],
   "source": [
    "\n",
    "stages_resnet = []\n",
    "stages_resnet.append(ApplicabilityStage(n_classes=n_classes, quantile=baard_param['q1'], verbose=0))\n",
    "stages_resnet.append(ReliabilityStage(n_classes=n_classes, k=baard_param['k_re'], quantile=baard_param['q2'], verbose=0))\n",
    "stages_resnet.append(DecidabilityStage(n_classes=n_classes, k=baard_param['k_de'], quantile=baard_param['q3'], verbose=0))\n",
    "detector_resnet = BAARDOperator(stages=stages_resnet)\n",
    "\n",
    "stages_vgg = []\n",
    "stages_vgg.append(ApplicabilityStage(n_classes=n_classes, quantile=baard_param['q1'], verbose=0))\n",
    "stages_vgg.append(ReliabilityStage(n_classes=n_classes, k=baard_param['k_re'], quantile=baard_param['q2'], verbose=0))\n",
    "stages_vgg.append(DecidabilityStage(n_classes=n_classes, k=baard_param['k_de'], quantile=baard_param['q3'], verbose=0))\n",
    "detector_vgg = BAARDOperator(stages=stages_vgg)"
   ]
  },
  {
   "cell_type": "code",
   "execution_count": 10,
   "metadata": {},
   "outputs": [
    {
     "output_type": "stream",
     "name": "stdout",
     "text": [
      "(48179, 3, 32, 32) (48179, 3, 32, 32) (48179,)\n"
     ]
    }
   ],
   "source": [
    "# Load pretrained parameters\n",
    "f_pre_data = os.path.join('..', 'result_0', 'cifar10_resnet_baard_s1_train_data.pt')\n",
    "obj = torch.load(f_pre_data)\n",
    "X_train_s1 = obj['X_s1']\n",
    "X_train = obj['X']\n",
    "y_train = obj['y']\n",
    "print(X_train_s1.shape, X_train.shape, y_train.shape)"
   ]
  },
  {
   "cell_type": "code",
   "execution_count": 11,
   "metadata": {},
   "outputs": [
    {
     "output_type": "stream",
     "name": "stdout",
     "text": [
      "Load from: ../result_0/cifar10_resnet_baard_threshold.pt\n",
      "Load from: ../result_0/cifar10_vgg_baard_threshold.pt\n"
     ]
    }
   ],
   "source": [
    "f_thresh_resnet = os.path.join('..', 'result_0', 'cifar10_resnet_baard_threshold.pt')\n",
    "detector_resnet.fit(X=X_train, y=y_train, X_s1=X_train_s1)\n",
    "detector_resnet.load(f_thresh_resnet)\n",
    "\n",
    "f_thresh_vgg = os.path.join('..', 'result_0', 'cifar10_vgg_baard_threshold.pt')\n",
    "detector_vgg.fit(X=X_train, y=y_train, X_s1=X_train_s1)\n",
    "detector_vgg.load(f_thresh_vgg)"
   ]
  },
  {
   "cell_type": "code",
   "execution_count": 12,
   "metadata": {},
   "outputs": [],
   "source": [
    "def get_data(model_name, att, e, d='adv'):\n",
    "    f = 'cifar10_{}_{}_{}_{}.npy'.format(model_name, att, e, d)\n",
    "    p = os.path.join('..', 'results', f)\n",
    "    return np.load(p)"
   ]
  },
  {
   "cell_type": "code",
   "execution_count": 13,
   "metadata": {},
   "outputs": [
    {
     "output_type": "execute_result",
     "data": {
      "text/plain": [
       "(2000, 3, 32, 32)"
      ]
     },
     "metadata": {},
     "execution_count": 13
    }
   ],
   "source": [
    "get_data('resnet', 'apgd', '0.031').shape"
   ]
  },
  {
   "cell_type": "code",
   "execution_count": 14,
   "metadata": {},
   "outputs": [],
   "source": [
    "def get_transfer(att, eps):\n",
    "    acc_att_vgg = []\n",
    "    acc_det_vgg = []\n",
    "    acc_att_res = []\n",
    "    acc_det_res = []\n",
    "\n",
    "    for e in eps:\n",
    "        adv_res = get_data('resnet', att, e)[:1000]\n",
    "        y_res = get_data('resnet', att, e, d='y')[:1000]\n",
    "        pred_res_from_vgg = predict_numpy(vgg, adv_res, device)[:1000]\n",
    "        acc_vgg = np.mean(pred_res_from_vgg == y_res)\n",
    "        print('[{} eps={:.3f}] {:6s} acc on adv. examples transfered from {:6s}: {}'.format(att, e, 'vgg', 'resnet', acc_vgg))\n",
    "        labelled_as_adv_vgg = detector_vgg.detect(adv_res, pred_res_from_vgg)\n",
    "        acc_det = acc_on_adv(pred_res_from_vgg, y_res, labelled_as_adv_vgg)\n",
    "        print('[{} eps={:.3f}] {:6s} acc_on_adv: {}'.format(att, e, 'vgg', acc_det))\n",
    "        acc_att_vgg.append(acc_vgg)\n",
    "        acc_det_vgg.append(acc_det)\n",
    "\n",
    "        adv_vgg = get_data('vgg', att, e)[:1000]\n",
    "        y_vgg = get_data('vgg', att, e, d='y')[:1000]\n",
    "        pred_vgg_from_res = predict_numpy(resnet, adv_vgg, device)[:1000]\n",
    "        acc_res = np.mean(pred_vgg_from_res == y_vgg)\n",
    "        print('[{} eps={:.3f}] {:6s} acc on adv. examples transfered from {:6s}: {}'.format(att, e, 'resnet', 'vgg', acc_res))\n",
    "        labelled_as_adv_res = detector_resnet.detect(adv_vgg, pred_vgg_from_res)\n",
    "        acc_det = acc_on_adv(pred_vgg_from_res, y_vgg, labelled_as_adv_res)\n",
    "        print('[{} eps={:.3f}] {:6s} acc_on_adv: {}'.format(att, e, 'resnet', acc_det))\n",
    "        acc_att_res.append(acc_res)\n",
    "        acc_det_res.append(acc_det)\n",
    "    return acc_att_vgg, acc_det_vgg, acc_att_res, acc_det_res"
   ]
  },
  {
   "cell_type": "code",
   "execution_count": 19,
   "metadata": {},
   "outputs": [],
   "source": [
    "def get_df(att, eps, att_vgg, det_vgg, att_res, det_res):\n",
    "    data = {\n",
    "        'Attack': np.repeat(att, len(eps)), \n",
    "        'Adv_param': eps, \n",
    "        'VGG Acc. from ResNet Att.': att_vgg, \n",
    "        'VGG BAARD Acc.': det_vgg, \n",
    "        'ResNet Acc. from VGG Att.': att_res, \n",
    "        'ResNet BAARD Acc.': det_res\n",
    "    }\n",
    "    return pd.DataFrame(data=data)\n",
    "    "
   ]
  },
  {
   "cell_type": "code",
   "execution_count": 20,
   "metadata": {},
   "outputs": [
    {
     "output_type": "execute_result",
     "data": {
      "text/plain": [
       "      Attack  Adv_param  VGG Acc. from ResNet Att.  VGG BAARD Acc.  \\\n",
       "0  psudo_att          0                   0.192018        0.460727   \n",
       "1  psudo_att          1                   0.701342        0.701816   \n",
       "2  psudo_att          2                   0.974281        0.909371   \n",
       "3  psudo_att          3                   0.258772        0.072712   \n",
       "4  psudo_att          4                   0.022978        0.484209   \n",
       "\n",
       "   ResNet Acc. from VGG Att.  ResNet BAARD Acc.  \n",
       "0                   0.930759           0.608808  \n",
       "1                   0.087311           0.817822  \n",
       "2                   0.873683           0.386539  \n",
       "3                   0.091747           0.478941  \n",
       "4                   0.528354           0.134151  "
      ],
      "text/html": "<div>\n<style scoped>\n    .dataframe tbody tr th:only-of-type {\n        vertical-align: middle;\n    }\n\n    .dataframe tbody tr th {\n        vertical-align: top;\n    }\n\n    .dataframe thead th {\n        text-align: right;\n    }\n</style>\n<table border=\"1\" class=\"dataframe\">\n  <thead>\n    <tr style=\"text-align: right;\">\n      <th></th>\n      <th>Attack</th>\n      <th>Adv_param</th>\n      <th>VGG Acc. from ResNet Att.</th>\n      <th>VGG BAARD Acc.</th>\n      <th>ResNet Acc. from VGG Att.</th>\n      <th>ResNet BAARD Acc.</th>\n    </tr>\n  </thead>\n  <tbody>\n    <tr>\n      <th>0</th>\n      <td>psudo_att</td>\n      <td>0</td>\n      <td>0.192018</td>\n      <td>0.460727</td>\n      <td>0.930759</td>\n      <td>0.608808</td>\n    </tr>\n    <tr>\n      <th>1</th>\n      <td>psudo_att</td>\n      <td>1</td>\n      <td>0.701342</td>\n      <td>0.701816</td>\n      <td>0.087311</td>\n      <td>0.817822</td>\n    </tr>\n    <tr>\n      <th>2</th>\n      <td>psudo_att</td>\n      <td>2</td>\n      <td>0.974281</td>\n      <td>0.909371</td>\n      <td>0.873683</td>\n      <td>0.386539</td>\n    </tr>\n    <tr>\n      <th>3</th>\n      <td>psudo_att</td>\n      <td>3</td>\n      <td>0.258772</td>\n      <td>0.072712</td>\n      <td>0.091747</td>\n      <td>0.478941</td>\n    </tr>\n    <tr>\n      <th>4</th>\n      <td>psudo_att</td>\n      <td>4</td>\n      <td>0.022978</td>\n      <td>0.484209</td>\n      <td>0.528354</td>\n      <td>0.134151</td>\n    </tr>\n  </tbody>\n</table>\n</div>"
     },
     "metadata": {},
     "execution_count": 20
    }
   ],
   "source": [
    "df = get_df('psudo_att', np.arange(5), np.random.rand(5), np.random.rand(5), np.random.rand(5), np.random.rand(5))\n",
    "df"
   ]
  },
  {
   "cell_type": "code",
   "execution_count": 21,
   "metadata": {},
   "outputs": [
    {
     "output_type": "stream",
     "name": "stdout",
     "text": [
      "[apgd eps=0.031] vgg    acc on adv. examples transfered from resnet: 0.855\n",
      "[apgd eps=0.031] vgg    acc_on_adv: 0.867\n",
      "[apgd eps=0.031] resnet acc on adv. examples transfered from vgg   : 0.302\n",
      "[apgd eps=0.031] resnet acc_on_adv: 0.345\n",
      "[apgd eps=0.300] vgg    acc on adv. examples transfered from resnet: 0.075\n",
      "[apgd eps=0.300] vgg    acc_on_adv: 0.362\n",
      "[apgd eps=0.300] resnet acc on adv. examples transfered from vgg   : 0.0\n",
      "[apgd eps=0.300] resnet acc_on_adv: 0.609\n",
      "[apgd eps=0.600] vgg    acc on adv. examples transfered from resnet: 0.026\n",
      "[apgd eps=0.600] vgg    acc_on_adv: 0.935\n",
      "[apgd eps=0.600] resnet acc on adv. examples transfered from vgg   : 0.016\n",
      "[apgd eps=0.600] resnet acc_on_adv: 1.0\n",
      "[apgd eps=1.000] vgg    acc on adv. examples transfered from resnet: 0.03\n",
      "[apgd eps=1.000] vgg    acc_on_adv: 1.0\n",
      "[apgd eps=1.000] resnet acc on adv. examples transfered from vgg   : 0.051\n",
      "[apgd eps=1.000] resnet acc_on_adv: 1.0\n",
      "[apgd eps=1.500] vgg    acc on adv. examples transfered from resnet: 0.021\n",
      "[apgd eps=1.500] vgg    acc_on_adv: 1.0\n",
      "[apgd eps=1.500] resnet acc on adv. examples transfered from vgg   : 0.066\n",
      "[apgd eps=1.500] resnet acc_on_adv: 1.0\n",
      "  Attack  Adv_param  VGG Acc. from ResNet Att.  VGG BAARD Acc.  \\\n",
      "0   apgd      0.031                      0.855           0.867   \n",
      "1   apgd      0.300                      0.075           0.362   \n",
      "2   apgd      0.600                      0.026           0.935   \n",
      "3   apgd      1.000                      0.030           1.000   \n",
      "4   apgd      1.500                      0.021           1.000   \n",
      "\n",
      "   ResNet Acc. from VGG Att.  ResNet BAARD Acc.  \n",
      "0                      0.302              0.345  \n",
      "1                      0.000              0.609  \n",
      "2                      0.016              1.000  \n",
      "3                      0.051              1.000  \n",
      "4                      0.066              1.000  \n"
     ]
    }
   ],
   "source": [
    "eps = [0.031, 0.3, 0.6, 1.0, 1.5]\n",
    "att = 'apgd'\n",
    "apgd_acc_att_vgg, apgd_acc_det_vgg, apgd_acc_att_res, apgd_acc_det_res = get_transfer(att, eps)\n",
    "apgd_df = get_df(att, eps, apgd_acc_att_vgg, apgd_acc_det_vgg, apgd_acc_att_res, apgd_acc_det_res)\n",
    "print(apgd_df)\n",
    "apgd_df.to_csv('trans_{}.csv'.format(att), index=False)"
   ]
  },
  {
   "cell_type": "code",
   "execution_count": 25,
   "metadata": {},
   "outputs": [
    {
     "output_type": "stream",
     "name": "stdout",
     "text": [
      "[apgd2 eps=1.500] vgg    acc on adv. examples transfered from resnet: 0.77\n",
      "[apgd2 eps=1.500] vgg    acc_on_adv: 0.789\n",
      "[apgd2 eps=1.500] resnet acc on adv. examples transfered from vgg   : 0.213\n",
      "[apgd2 eps=1.500] resnet acc_on_adv: 0.27\n",
      "[apgd2 eps=2.000] vgg    acc on adv. examples transfered from resnet: 0.676\n",
      "[apgd2 eps=2.000] vgg    acc_on_adv: 0.706\n",
      "[apgd2 eps=2.000] resnet acc on adv. examples transfered from vgg   : 0.106\n",
      "[apgd2 eps=2.000] resnet acc_on_adv: 0.172\n",
      "[apgd2 eps=3.000] vgg    acc on adv. examples transfered from resnet: 0.459\n",
      "[apgd2 eps=3.000] vgg    acc_on_adv: 0.539\n",
      "[apgd2 eps=3.000] resnet acc on adv. examples transfered from vgg   : 0.035\n",
      "[apgd2 eps=3.000] resnet acc_on_adv: 0.129\n",
      "[apgd2 eps=5.000] vgg    acc on adv. examples transfered from resnet: 0.225\n",
      "[apgd2 eps=5.000] vgg    acc_on_adv: 0.392\n",
      "[apgd2 eps=5.000] resnet acc on adv. examples transfered from vgg   : 0.007\n",
      "[apgd2 eps=5.000] resnet acc_on_adv: 0.168\n",
      "  Attack  Adv_param  VGG Acc. from ResNet Att.  VGG BAARD Acc.  \\\n",
      "0  apgd2        1.5                      0.770           0.789   \n",
      "1  apgd2        2.0                      0.676           0.706   \n",
      "2  apgd2        3.0                      0.459           0.539   \n",
      "3  apgd2        5.0                      0.225           0.392   \n",
      "\n",
      "   ResNet Acc. from VGG Att.  ResNet BAARD Acc.  \n",
      "0                      0.213              0.270  \n",
      "1                      0.106              0.172  \n",
      "2                      0.035              0.129  \n",
      "3                      0.007              0.168  \n"
     ]
    }
   ],
   "source": [
    "eps = [1.5, 2.0, 3.0, 5.0]\n",
    "att = 'apgd2'\n",
    "apgd2_acc_att_vgg, apgd2_acc_det_vgg, apgd2_acc_att_res, apgd2_acc_det_res = get_transfer(att, eps)\n",
    "apgd2_df = get_df(att, eps, apgd2_acc_att_vgg, apgd2_acc_det_vgg, apgd2_acc_att_res, apgd2_acc_det_res)\n",
    "print(apgd2_df)\n",
    "apgd2_df.to_csv('trans_{}.csv'.format(att))"
   ]
  },
  {
   "cell_type": "code",
   "execution_count": 28,
   "metadata": {},
   "outputs": [
    {
     "output_type": "stream",
     "name": "stdout",
     "text": [
      "[cw2 eps=0.000] vgg    acc on adv. examples transfered from resnet: 0.947\n",
      "[cw2 eps=0.000] vgg    acc_on_adv: 0.95\n",
      "[cw2 eps=0.000] resnet acc on adv. examples transfered from vgg   : 0.893\n",
      "[cw2 eps=0.000] resnet acc_on_adv: 0.899\n",
      "[cw2 eps=5.000] vgg    acc on adv. examples transfered from resnet: 0.937\n",
      "[cw2 eps=5.000] vgg    acc_on_adv: 0.94\n",
      "[cw2 eps=5.000] resnet acc on adv. examples transfered from vgg   : 0.848\n",
      "[cw2 eps=5.000] resnet acc_on_adv: 0.857\n",
      "[cw2 eps=10.000] vgg    acc on adv. examples transfered from resnet: 0.906\n",
      "[cw2 eps=10.000] vgg    acc_on_adv: 0.914\n",
      "[cw2 eps=10.000] resnet acc on adv. examples transfered from vgg   : 0.798\n",
      "[cw2 eps=10.000] resnet acc_on_adv: 0.812\n",
      "  Attack  Adv_param  VGG Acc. from ResNet Att.  VGG BAARD Acc.  \\\n",
      "0    cw2        0.0                      0.947           0.950   \n",
      "1    cw2        5.0                      0.937           0.940   \n",
      "2    cw2       10.0                      0.906           0.914   \n",
      "\n",
      "   ResNet Acc. from VGG Att.  ResNet BAARD Acc.  \n",
      "0                      0.893              0.899  \n",
      "1                      0.848              0.857  \n",
      "2                      0.798              0.812  \n"
     ]
    }
   ],
   "source": [
    "eps = [0.0, 5.0, 10.0]\n",
    "att = 'cw2'\n",
    "cw2_acc_att_vgg, cw2_acc_det_vgg, cw2_acc_att_res, cw2_acc_det_res = get_transfer(att, eps)\n",
    "cw2_df = get_df(att, eps, cw2_acc_att_vgg, cw2_acc_det_vgg, cw2_acc_att_res, cw2_acc_det_res)\n",
    "print(cw2_df)\n",
    "cw2_df.to_csv('trans_{}.csv'.format(att))"
   ]
  },
  {
   "cell_type": "code",
   "execution_count": 29,
   "metadata": {},
   "outputs": [
    {
     "output_type": "stream",
     "name": "stdout",
     "text": [
      "[fgsm eps=0.031] vgg    acc on adv. examples transfered from resnet: 0.814\n",
      "[fgsm eps=0.031] vgg    acc_on_adv: 0.831\n",
      "[fgsm eps=0.031] resnet acc on adv. examples transfered from vgg   : 0.419\n",
      "[fgsm eps=0.031] resnet acc_on_adv: 0.451\n",
      "[fgsm eps=0.300] vgg    acc on adv. examples transfered from resnet: 0.152\n",
      "[fgsm eps=0.300] vgg    acc_on_adv: 0.986\n",
      "[fgsm eps=0.300] resnet acc on adv. examples transfered from vgg   : 0.121\n",
      "[fgsm eps=0.300] resnet acc_on_adv: 0.972\n",
      "[fgsm eps=0.600] vgg    acc on adv. examples transfered from resnet: 0.128\n",
      "[fgsm eps=0.600] vgg    acc_on_adv: 1.0\n",
      "[fgsm eps=0.600] resnet acc on adv. examples transfered from vgg   : 0.117\n",
      "[fgsm eps=0.600] resnet acc_on_adv: 1.0\n",
      "[fgsm eps=1.000] vgg    acc on adv. examples transfered from resnet: 0.111\n",
      "[fgsm eps=1.000] vgg    acc_on_adv: 1.0\n",
      "[fgsm eps=1.000] resnet acc on adv. examples transfered from vgg   : 0.121\n",
      "[fgsm eps=1.000] resnet acc_on_adv: 1.0\n",
      "[fgsm eps=1.500] vgg    acc on adv. examples transfered from resnet: 0.111\n",
      "[fgsm eps=1.500] vgg    acc_on_adv: 1.0\n",
      "[fgsm eps=1.500] resnet acc on adv. examples transfered from vgg   : 0.121\n",
      "[fgsm eps=1.500] resnet acc_on_adv: 1.0\n"
     ]
    },
    {
     "output_type": "error",
     "ename": "ValueError",
     "evalue": "arrays must all be same length",
     "traceback": [
      "\u001b[0;31m---------------------------------------------------------------------------\u001b[0m",
      "\u001b[0;31mValueError\u001b[0m                                Traceback (most recent call last)",
      "\u001b[0;32m<ipython-input-29-ec747bce6900>\u001b[0m in \u001b[0;36m<module>\u001b[0;34m\u001b[0m\n\u001b[1;32m      2\u001b[0m \u001b[0matt\u001b[0m \u001b[0;34m=\u001b[0m \u001b[0;34m'fgsm'\u001b[0m\u001b[0;34m\u001b[0m\u001b[0;34m\u001b[0m\u001b[0m\n\u001b[1;32m      3\u001b[0m \u001b[0mfgsm_acc_att_vgg\u001b[0m\u001b[0;34m,\u001b[0m \u001b[0mfgsm_acc_det_vgg\u001b[0m\u001b[0;34m,\u001b[0m \u001b[0mfgsm_acc_att_res\u001b[0m\u001b[0;34m,\u001b[0m \u001b[0mfgsm_acc_det_res\u001b[0m \u001b[0;34m=\u001b[0m \u001b[0mget_transfer\u001b[0m\u001b[0;34m(\u001b[0m\u001b[0matt\u001b[0m\u001b[0;34m,\u001b[0m \u001b[0meps\u001b[0m\u001b[0;34m)\u001b[0m\u001b[0;34m\u001b[0m\u001b[0;34m\u001b[0m\u001b[0m\n\u001b[0;32m----> 4\u001b[0;31m \u001b[0mfgsm_df\u001b[0m \u001b[0;34m=\u001b[0m \u001b[0mget_df\u001b[0m\u001b[0;34m(\u001b[0m\u001b[0matt\u001b[0m\u001b[0;34m,\u001b[0m \u001b[0meps\u001b[0m\u001b[0;34m,\u001b[0m \u001b[0mcw2_acc_att_vgg\u001b[0m\u001b[0;34m,\u001b[0m \u001b[0mcw2_acc_det_vgg\u001b[0m\u001b[0;34m,\u001b[0m \u001b[0mcw2_acc_att_res\u001b[0m\u001b[0;34m,\u001b[0m \u001b[0mcw2_acc_det_res\u001b[0m\u001b[0;34m)\u001b[0m\u001b[0;34m\u001b[0m\u001b[0;34m\u001b[0m\u001b[0m\n\u001b[0m\u001b[1;32m      5\u001b[0m \u001b[0mprint\u001b[0m\u001b[0;34m(\u001b[0m\u001b[0mfgsm_df\u001b[0m\u001b[0;34m)\u001b[0m\u001b[0;34m\u001b[0m\u001b[0;34m\u001b[0m\u001b[0m\n\u001b[1;32m      6\u001b[0m \u001b[0mfgsm_df\u001b[0m\u001b[0;34m.\u001b[0m\u001b[0mto_csv\u001b[0m\u001b[0;34m(\u001b[0m\u001b[0;34m'trans_{}.csv'\u001b[0m\u001b[0;34m.\u001b[0m\u001b[0mformat\u001b[0m\u001b[0;34m(\u001b[0m\u001b[0matt\u001b[0m\u001b[0;34m)\u001b[0m\u001b[0;34m)\u001b[0m\u001b[0;34m\u001b[0m\u001b[0;34m\u001b[0m\u001b[0m\n",
      "\u001b[0;32m<ipython-input-19-af08248be09e>\u001b[0m in \u001b[0;36mget_df\u001b[0;34m(att, eps, att_vgg, det_vgg, att_res, det_res)\u001b[0m\n\u001b[1;32m      8\u001b[0m         \u001b[0;34m'ResNet BAARD Acc.'\u001b[0m\u001b[0;34m:\u001b[0m \u001b[0mdet_res\u001b[0m\u001b[0;34m\u001b[0m\u001b[0;34m\u001b[0m\u001b[0m\n\u001b[1;32m      9\u001b[0m     }\n\u001b[0;32m---> 10\u001b[0;31m     \u001b[0;32mreturn\u001b[0m \u001b[0mpd\u001b[0m\u001b[0;34m.\u001b[0m\u001b[0mDataFrame\u001b[0m\u001b[0;34m(\u001b[0m\u001b[0mdata\u001b[0m\u001b[0;34m=\u001b[0m\u001b[0mdata\u001b[0m\u001b[0;34m)\u001b[0m\u001b[0;34m\u001b[0m\u001b[0;34m\u001b[0m\u001b[0m\n\u001b[0m\u001b[1;32m     11\u001b[0m \u001b[0;34m\u001b[0m\u001b[0m\n",
      "\u001b[0;32m~/workspace/baard_exp2/venv/lib/python3.6/site-packages/pandas/core/frame.py\u001b[0m in \u001b[0;36m__init__\u001b[0;34m(self, data, index, columns, dtype, copy)\u001b[0m\n\u001b[1;32m    466\u001b[0m \u001b[0;34m\u001b[0m\u001b[0m\n\u001b[1;32m    467\u001b[0m         \u001b[0;32melif\u001b[0m \u001b[0misinstance\u001b[0m\u001b[0;34m(\u001b[0m\u001b[0mdata\u001b[0m\u001b[0;34m,\u001b[0m \u001b[0mdict\u001b[0m\u001b[0;34m)\u001b[0m\u001b[0;34m:\u001b[0m\u001b[0;34m\u001b[0m\u001b[0;34m\u001b[0m\u001b[0m\n\u001b[0;32m--> 468\u001b[0;31m             \u001b[0mmgr\u001b[0m \u001b[0;34m=\u001b[0m \u001b[0minit_dict\u001b[0m\u001b[0;34m(\u001b[0m\u001b[0mdata\u001b[0m\u001b[0;34m,\u001b[0m \u001b[0mindex\u001b[0m\u001b[0;34m,\u001b[0m \u001b[0mcolumns\u001b[0m\u001b[0;34m,\u001b[0m \u001b[0mdtype\u001b[0m\u001b[0;34m=\u001b[0m\u001b[0mdtype\u001b[0m\u001b[0;34m)\u001b[0m\u001b[0;34m\u001b[0m\u001b[0;34m\u001b[0m\u001b[0m\n\u001b[0m\u001b[1;32m    469\u001b[0m         \u001b[0;32melif\u001b[0m \u001b[0misinstance\u001b[0m\u001b[0;34m(\u001b[0m\u001b[0mdata\u001b[0m\u001b[0;34m,\u001b[0m \u001b[0mma\u001b[0m\u001b[0;34m.\u001b[0m\u001b[0mMaskedArray\u001b[0m\u001b[0;34m)\u001b[0m\u001b[0;34m:\u001b[0m\u001b[0;34m\u001b[0m\u001b[0;34m\u001b[0m\u001b[0m\n\u001b[1;32m    470\u001b[0m             \u001b[0;32mimport\u001b[0m \u001b[0mnumpy\u001b[0m\u001b[0;34m.\u001b[0m\u001b[0mma\u001b[0m\u001b[0;34m.\u001b[0m\u001b[0mmrecords\u001b[0m \u001b[0;32mas\u001b[0m \u001b[0mmrecords\u001b[0m\u001b[0;34m\u001b[0m\u001b[0;34m\u001b[0m\u001b[0m\n",
      "\u001b[0;32m~/workspace/baard_exp2/venv/lib/python3.6/site-packages/pandas/core/internals/construction.py\u001b[0m in \u001b[0;36minit_dict\u001b[0;34m(data, index, columns, dtype)\u001b[0m\n\u001b[1;32m    281\u001b[0m             \u001b[0marr\u001b[0m \u001b[0;32mif\u001b[0m \u001b[0;32mnot\u001b[0m \u001b[0mis_datetime64tz_dtype\u001b[0m\u001b[0;34m(\u001b[0m\u001b[0marr\u001b[0m\u001b[0;34m)\u001b[0m \u001b[0;32melse\u001b[0m \u001b[0marr\u001b[0m\u001b[0;34m.\u001b[0m\u001b[0mcopy\u001b[0m\u001b[0;34m(\u001b[0m\u001b[0;34m)\u001b[0m \u001b[0;32mfor\u001b[0m \u001b[0marr\u001b[0m \u001b[0;32min\u001b[0m \u001b[0marrays\u001b[0m\u001b[0;34m\u001b[0m\u001b[0;34m\u001b[0m\u001b[0m\n\u001b[1;32m    282\u001b[0m         ]\n\u001b[0;32m--> 283\u001b[0;31m     \u001b[0;32mreturn\u001b[0m \u001b[0marrays_to_mgr\u001b[0m\u001b[0;34m(\u001b[0m\u001b[0marrays\u001b[0m\u001b[0;34m,\u001b[0m \u001b[0mdata_names\u001b[0m\u001b[0;34m,\u001b[0m \u001b[0mindex\u001b[0m\u001b[0;34m,\u001b[0m \u001b[0mcolumns\u001b[0m\u001b[0;34m,\u001b[0m \u001b[0mdtype\u001b[0m\u001b[0;34m=\u001b[0m\u001b[0mdtype\u001b[0m\u001b[0;34m)\u001b[0m\u001b[0;34m\u001b[0m\u001b[0;34m\u001b[0m\u001b[0m\n\u001b[0m\u001b[1;32m    284\u001b[0m \u001b[0;34m\u001b[0m\u001b[0m\n\u001b[1;32m    285\u001b[0m \u001b[0;34m\u001b[0m\u001b[0m\n",
      "\u001b[0;32m~/workspace/baard_exp2/venv/lib/python3.6/site-packages/pandas/core/internals/construction.py\u001b[0m in \u001b[0;36marrays_to_mgr\u001b[0;34m(arrays, arr_names, index, columns, dtype, verify_integrity)\u001b[0m\n\u001b[1;32m     76\u001b[0m         \u001b[0;31m# figure out the index, if necessary\u001b[0m\u001b[0;34m\u001b[0m\u001b[0;34m\u001b[0m\u001b[0;34m\u001b[0m\u001b[0m\n\u001b[1;32m     77\u001b[0m         \u001b[0;32mif\u001b[0m \u001b[0mindex\u001b[0m \u001b[0;32mis\u001b[0m \u001b[0;32mNone\u001b[0m\u001b[0;34m:\u001b[0m\u001b[0;34m\u001b[0m\u001b[0;34m\u001b[0m\u001b[0m\n\u001b[0;32m---> 78\u001b[0;31m             \u001b[0mindex\u001b[0m \u001b[0;34m=\u001b[0m \u001b[0mextract_index\u001b[0m\u001b[0;34m(\u001b[0m\u001b[0marrays\u001b[0m\u001b[0;34m)\u001b[0m\u001b[0;34m\u001b[0m\u001b[0;34m\u001b[0m\u001b[0m\n\u001b[0m\u001b[1;32m     79\u001b[0m         \u001b[0;32melse\u001b[0m\u001b[0;34m:\u001b[0m\u001b[0;34m\u001b[0m\u001b[0;34m\u001b[0m\u001b[0m\n\u001b[1;32m     80\u001b[0m             \u001b[0mindex\u001b[0m \u001b[0;34m=\u001b[0m \u001b[0mensure_index\u001b[0m\u001b[0;34m(\u001b[0m\u001b[0mindex\u001b[0m\u001b[0;34m)\u001b[0m\u001b[0;34m\u001b[0m\u001b[0;34m\u001b[0m\u001b[0m\n",
      "\u001b[0;32m~/workspace/baard_exp2/venv/lib/python3.6/site-packages/pandas/core/internals/construction.py\u001b[0m in \u001b[0;36mextract_index\u001b[0;34m(data)\u001b[0m\n\u001b[1;32m    395\u001b[0m             \u001b[0mlengths\u001b[0m \u001b[0;34m=\u001b[0m \u001b[0mlist\u001b[0m\u001b[0;34m(\u001b[0m\u001b[0mset\u001b[0m\u001b[0;34m(\u001b[0m\u001b[0mraw_lengths\u001b[0m\u001b[0;34m)\u001b[0m\u001b[0;34m)\u001b[0m\u001b[0;34m\u001b[0m\u001b[0;34m\u001b[0m\u001b[0m\n\u001b[1;32m    396\u001b[0m             \u001b[0;32mif\u001b[0m \u001b[0mlen\u001b[0m\u001b[0;34m(\u001b[0m\u001b[0mlengths\u001b[0m\u001b[0;34m)\u001b[0m \u001b[0;34m>\u001b[0m \u001b[0;36m1\u001b[0m\u001b[0;34m:\u001b[0m\u001b[0;34m\u001b[0m\u001b[0;34m\u001b[0m\u001b[0m\n\u001b[0;32m--> 397\u001b[0;31m                 \u001b[0;32mraise\u001b[0m \u001b[0mValueError\u001b[0m\u001b[0;34m(\u001b[0m\u001b[0;34m\"arrays must all be same length\"\u001b[0m\u001b[0;34m)\u001b[0m\u001b[0;34m\u001b[0m\u001b[0;34m\u001b[0m\u001b[0m\n\u001b[0m\u001b[1;32m    398\u001b[0m \u001b[0;34m\u001b[0m\u001b[0m\n\u001b[1;32m    399\u001b[0m             \u001b[0;32mif\u001b[0m \u001b[0mhave_dicts\u001b[0m\u001b[0;34m:\u001b[0m\u001b[0;34m\u001b[0m\u001b[0;34m\u001b[0m\u001b[0m\n",
      "\u001b[0;31mValueError\u001b[0m: arrays must all be same length"
     ]
    }
   ],
   "source": [
    "eps = [0.031, 0.3, 0.6, 1.0, 1.5]\n",
    "att = 'fgsm'\n",
    "fgsm_acc_att_vgg, fgsm_acc_det_vgg, fgsm_acc_att_res, fgsm_acc_det_res = get_transfer(att, eps)"
   ]
  },
  {
   "cell_type": "code",
   "execution_count": 35,
   "metadata": {},
   "outputs": [
    {
     "output_type": "stream",
     "name": "stdout",
     "text": [
      "  Attack  Adv_param  VGG Acc. from ResNet Att.  VGG BAARD Acc.  \\\n0   fgsm      0.031                      0.814           0.831   \n1   fgsm      0.300                      0.152           0.986   \n2   fgsm      0.600                      0.128           1.000   \n3   fgsm      1.000                      0.111           1.000   \n4   fgsm      1.500                      0.111           1.000   \n\n   ResNet Acc. from VGG Att.  ResNet BAARD Acc.  \n0                      0.419              0.451  \n1                      0.121              0.972  \n2                      0.117              1.000  \n3                      0.121              1.000  \n4                      0.121              1.000  \n"
     ]
    }
   ],
   "source": [
    "fgsm_df = get_df(att, eps, fgsm_acc_att_vgg, fgsm_acc_det_vgg, fgsm_acc_att_res, fgsm_acc_det_res)\n",
    "print(fgsm_df)\n",
    "fgsm_df.to_csv('trans_{}.csv'.format(att))"
   ]
  },
  {
   "cell_type": "code",
   "execution_count": null,
   "metadata": {},
   "outputs": [],
   "source": []
  }
 ]
}