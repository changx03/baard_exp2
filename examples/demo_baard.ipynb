{
 "cells": [
  {
   "cell_type": "code",
   "execution_count": 1,
   "metadata": {},
   "outputs": [],
   "source": [
    "# Fix root path\n",
    "import sys\n",
    "sys.path.append('../')"
   ]
  },
  {
   "cell_type": "code",
   "execution_count": 2,
   "metadata": {},
   "outputs": [],
   "source": [
    "import datetime\n",
    "import os\n",
    "import time\n",
    "\n",
    "import matplotlib.pyplot as plt\n",
    "import numpy as np\n",
    "import torch\n",
    "import torch.nn as nn\n",
    "import torch.nn.functional as F\n",
    "import torch.optim as optim\n",
    "import torchvision as tv\n",
    "import torchvision.datasets as datasets\n",
    "from torchvision.utils import make_grid\n",
    "from art.attacks.evasion import BasicIterativeMethod, FastGradientMethod\n",
    "from art.estimators.classification import PyTorchClassifier\n",
    "from sklearn.model_selection import train_test_split\n",
    "from torch.utils.data import DataLoader, TensorDataset\n",
    "\n",
    "from region_based_classifier import RegionBasedClassifier\n",
    "from util import dataset2tensor, get_correct_examples"
   ]
  },
  {
   "cell_type": "code",
   "execution_count": 3,
   "metadata": {},
   "outputs": [],
   "source": [
    "%load_ext autoreload\n",
    "%autoreload 2"
   ]
  },
  {
   "cell_type": "code",
   "execution_count": 4,
   "metadata": {},
   "outputs": [
    {
     "name": "stdout",
     "output_type": "stream",
     "text": [
      "Device: cuda\n",
      "CPU threads: 24\n"
     ]
    }
   ],
   "source": [
    "device = torch.device('cuda' if torch.cuda.is_available() else 'cpu')\n",
    "print('Device: {}'.format(device))\n",
    "\n",
    "n_threads = os.cpu_count()\n",
    "print('CPU threads: {}'.format(n_threads))"
   ]
  },
  {
   "cell_type": "code",
   "execution_count": 5,
   "metadata": {},
   "outputs": [],
   "source": [
    "PATH_DATA = os.path.join('..', 'data')\n",
    "PATH_RESULTS = os.path.join('..', 'results', 'mnist_base_model.pt')\n",
    "BATCH_SIZE = 128\n",
    "EPOCHS = 20\n",
    "N_ADV = 2000"
   ]
  },
  {
   "cell_type": "code",
   "execution_count": 6,
   "metadata": {},
   "outputs": [],
   "source": [
    "# Fetch dataset\n",
    "transforms = tv.transforms.Compose([tv.transforms.ToTensor()])\n",
    "dataset_train = datasets.MNIST(PATH_DATA, train=True, download=True, transform=transforms)\n",
    "dataset_test = datasets.MNIST(PATH_DATA, train=False, download=True, transform=transforms)\n",
    "\n",
    "# From PyTorch dataset to Numpy array\n",
    "tensor_X_train, tensor_y_train = dataset2tensor(dataset_train)\n",
    "X_train = tensor_X_train.cpu().detach().numpy()\n",
    "y_train = tensor_y_train.cpu().detach().numpy()\n",
    "tensor_X_test, tensor_y_test = dataset2tensor(dataset_test)\n",
    "X_test = tensor_X_test.cpu().detach().numpy()\n",
    "y_test = tensor_y_test.cpu().detach().numpy()\n",
    "\n",
    "# Split model training set into training set and validation set\n",
    "X_train, X_val, y_train, y_val = train_test_split(X_train, y_train, test_size=5000)\n",
    "dataset_train = TensorDataset(\n",
    "    torch.tensor(X_train, dtype=torch.float32),\n",
    "    torch.tensor(y_train, dtype=torch.int64))\n",
    "\n",
    "dataloader_train = DataLoader(dataset_train, batch_size=BATCH_SIZE, shuffle=True)\n",
    "dataloader_test = DataLoader(dataset_test, batch_size=BATCH_SIZE, shuffle=True)"
   ]
  },
  {
   "cell_type": "code",
   "execution_count": 7,
   "metadata": {},
   "outputs": [
    {
     "name": "stdout",
     "output_type": "stream",
     "text": [
      "(55000, 1, 28, 28) (5000, 1, 28, 28) (10000, 1, 28, 28)\n"
     ]
    }
   ],
   "source": [
    "# Check sizes\n",
    "print(X_train.shape, X_val.shape, X_test.shape)"
   ]
  },
  {
   "cell_type": "markdown",
   "metadata": {},
   "source": [
    "## Train point-based classifier"
   ]
  },
  {
   "cell_type": "code",
   "execution_count": 8,
   "metadata": {},
   "outputs": [],
   "source": [
    "class BaseModel(nn.Module):\n",
    "    def __init__(self):\n",
    "        super(BaseModel, self).__init__()\n",
    "        self.conv1 = nn.Conv2d(1, 32, 3, 1)\n",
    "        self.relu1 = nn.ReLU()\n",
    "        self.conv2 = nn.Conv2d(32, 64, 3, 1)\n",
    "        self.relu2 = nn.ReLU()\n",
    "        self.pool1 = nn.MaxPool2d(2)\n",
    "        self.flatten = nn.Flatten(1)\n",
    "        self.fc1 = nn.Linear(9216, 200)\n",
    "        self.relu3 = nn.ReLU()\n",
    "        self.fc2 = nn.Linear(200, 10)\n",
    "        self.softmax = nn.Softmax(dim=1)\n",
    "\n",
    "    def before_softmax(self, x):\n",
    "        x = self.relu1(self.conv1(x))\n",
    "        x = self.relu2(self.conv2(x))\n",
    "        x = self.pool1(x)\n",
    "        x = self.flatten(x)\n",
    "        x = self.relu3(self.fc1(x))\n",
    "        x = self.fc2(x)\n",
    "        return x\n",
    "\n",
    "    def forward(self, x):\n",
    "        x = self.before_softmax(x)\n",
    "        x = self.softmax(x)\n",
    "        return x"
   ]
  },
  {
   "cell_type": "code",
   "execution_count": 9,
   "metadata": {},
   "outputs": [
    {
     "name": "stdout",
     "output_type": "stream",
     "text": [
      "Number of layers: 10\n"
     ]
    }
   ],
   "source": [
    "# Create Neural Network model\n",
    "model = BaseModel()\n",
    "model.to(device)\n",
    "print('Number of layers: {}'.format(len(list(model.children()))))"
   ]
  },
  {
   "cell_type": "code",
   "execution_count": 10,
   "metadata": {},
   "outputs": [],
   "source": [
    "def train(model, loader, loss, optimizer):\n",
    "    model.train()\n",
    "    total_loss = 0.\n",
    "    corrects = 0.\n",
    "    \n",
    "    for x, y in loader:\n",
    "        x = x.to(device)\n",
    "        y = y.to(device)\n",
    "        batch_size = x.size(0)\n",
    "        \n",
    "        optimizer.zero_grad()\n",
    "        outputs = model(x)\n",
    "        l = loss(outputs, y)\n",
    "        l.backward()\n",
    "        optimizer.step()\n",
    "\n",
    "        # for display\n",
    "        total_loss += l.item() * batch_size\n",
    "        preds = outputs.max(1, keepdim=True)[1]\n",
    "        corrects += preds.eq(y.view_as(preds)).sum().item()\n",
    "    \n",
    "    n = len(loader.dataset)\n",
    "    total_loss = total_loss / n\n",
    "    accuracy = corrects / n\n",
    "    return total_loss, accuracy"
   ]
  },
  {
   "cell_type": "code",
   "execution_count": 11,
   "metadata": {},
   "outputs": [],
   "source": [
    "def validate(model, loader, loss, device=device):\n",
    "    model.eval()\n",
    "    total_loss = 0.\n",
    "    corrects = 0.\n",
    "    \n",
    "    with torch.no_grad():\n",
    "        for x, y in loader:\n",
    "            x = x.to(device)\n",
    "            y = y.to(device)\n",
    "            batch_size = x.size(0)\n",
    "            outputs = model(x)\n",
    "            l = loss(outputs, y)\n",
    "            total_loss += l.item() * batch_size\n",
    "            preds = outputs.max(1, keepdim=True)[1]\n",
    "            corrects += preds.eq(y.view_as(preds)).sum().item()\n",
    "    \n",
    "    n = len(loader.dataset)\n",
    "    total_loss = total_loss / n\n",
    "    accuracy = corrects / n\n",
    "    return total_loss, accuracy"
   ]
  },
  {
   "cell_type": "code",
   "execution_count": 12,
   "metadata": {},
   "outputs": [],
   "source": [
    "def predict(model, X, batch_size=BATCH_SIZE, device=device):\n",
    "    model.eval()\n",
    "    dataset = TensorDataset(X)\n",
    "    loader = DataLoader(dataset, batch_size=batch_size, shuffle=False)\n",
    "    tensor_pred = -torch.ones(len(X), dtype=torch.int64)\n",
    "    \n",
    "    start = 0\n",
    "    with torch.no_grad():\n",
    "        for x in loader:\n",
    "            x = x[0].to(device)\n",
    "            n = x.size(0)\n",
    "            end = start + n\n",
    "            outputs = model(x)\n",
    "            tensor_pred[start:end] = outputs.max(1)[1].type(torch.int64)\n",
    "            start += n\n",
    "\n",
    "    return tensor_pred"
   ]
  },
  {
   "cell_type": "code",
   "execution_count": 13,
   "metadata": {},
   "outputs": [],
   "source": [
    "optimizer = optim.SGD(model.parameters(), lr=0.01, momentum=0.9)\n",
    "loss=nn.CrossEntropyLoss()"
   ]
  },
  {
   "cell_type": "code",
   "execution_count": 14,
   "metadata": {
    "tags": []
   },
   "outputs": [],
   "source": [
    "# DO NOT RUN THIS IF YOU DON'T NEED RETRAIN!\n",
    "# since = time.time()\n",
    "# for epoch in range(EPOCHS):\n",
    "#     start = time.time()\n",
    "#     tr_loss, tr_acc = train(model, dataloader_train, loss, optimizer)\n",
    "#     va_loss, va_acc = validate(model, dataloader_test, loss)\n",
    "    \n",
    "#     time_elapsed = time.time() - start\n",
    "#     print(('{:2d}/{:d}[{:s}] Train Loss: {:.4f} Acc: {:.4f}%, ' +\n",
    "#         'Test Loss: {:.4f} Acc: {:.4f}%').format(\n",
    "#             epoch+1, EPOCHS, str(datetime.timedelta(seconds=time_elapsed)),\n",
    "#             tr_loss, tr_acc*100.,\n",
    "#             va_loss, va_acc*100.))\n",
    "    \n",
    "# time_elapsed = time.time() - since\n",
    "# print('Total run time: {:.0f}m {:.1f}s'.format(\n",
    "#     time_elapsed // 60,\n",
    "#     time_elapsed % 60))\n",
    "\n",
    "# if not os.path.exists('results'):\n",
    "#     os.makedirs('results')\n",
    "\n",
    "# torch.save(model.state_dict(), PATH_RESULTS)"
   ]
  },
  {
   "cell_type": "code",
   "execution_count": 15,
   "metadata": {},
   "outputs": [
    {
     "name": "stdout",
     "output_type": "stream",
     "text": [
      "Test set accuracy: 97.5800\n"
     ]
    }
   ],
   "source": [
    "# Load model from saved file\n",
    "model.load_state_dict(torch.load(PATH_RESULTS))\n",
    "\n",
    "_, acc_test = validate(model, dataloader_test, loss)\n",
    "print('Test set accuracy: {:.4f}'.format(acc_test*100))"
   ]
  },
  {
   "cell_type": "markdown",
   "metadata": {},
   "source": [
    "## Remove missclassified samples"
   ]
  },
  {
   "cell_type": "code",
   "execution_count": 16,
   "metadata": {},
   "outputs": [
    {
     "name": "stdout",
     "output_type": "stream",
     "text": [
      "Training set: 55000\n",
      "Accuracy on 53978 filtered training examples: 100.0000%\n",
      "Test set: 10000\n",
      "Accuracy on 9758 filtered test examples: 100.0000%\n"
     ]
    }
   ],
   "source": [
    "print('Training set: {}'.format(len(dataset_train)))\n",
    "tensor_train_X, tensor_train_y = get_correct_examples(model, dataset_train, device=device, return_tensor=True)\n",
    "dataset_train_perfect = TensorDataset(tensor_train_X, tensor_train_y)\n",
    "dataloader_train_perfect = DataLoader(dataset_train_perfect, batch_size=512, shuffle=True)\n",
    "_, acc = validate(model, dataloader_train_perfect, loss)\n",
    "print('Accuracy on {} filtered training examples: {:.4f}%'.format(len(dataloader_train_perfect.dataset), acc*100))\n",
    "\n",
    "print('Test set: {}'.format(len(dataset_test)))\n",
    "tensor_test_X, tensor_test_y = get_correct_examples(model, dataset_test, device=device, return_tensor=True)\n",
    "dataset_test_perfect = TensorDataset(tensor_test_X, tensor_test_y)\n",
    "dataloader_test_perfect = DataLoader(dataset_test_perfect, batch_size=512, shuffle=True)\n",
    "_, acc = validate(model, dataloader_test_perfect, loss)\n",
    "print('Accuracy on {} filtered test examples: {:.4f}%'.format(len(dataloader_test_perfect.dataset), acc*100))"
   ]
  },
  {
   "cell_type": "markdown",
   "metadata": {},
   "source": [
    "## Create adversarial examples "
   ]
  },
  {
   "cell_type": "code",
   "execution_count": 17,
   "metadata": {},
   "outputs": [],
   "source": [
    "classifier = PyTorchClassifier(\n",
    "    model=model, \n",
    "    loss=loss, \n",
    "    input_shape=(1, 28, 28), \n",
    "    optimizer=optimizer,\n",
    "    nb_classes=10,\n",
    "    clip_values=(0.0, 1.0),\n",
    "    device_type=device\n",
    ")\n",
    "\n",
    "# attack = FastGradientMethod(estimator=classifier, eps=0.2)\n",
    "attack = BasicIterativeMethod(estimator=classifier, eps=0.2)"
   ]
  },
  {
   "cell_type": "code",
   "execution_count": 18,
   "metadata": {},
   "outputs": [],
   "source": [
    "# Prepare dataset for adversarial examples\n",
    "n = len(dataset_test_perfect)\n",
    "indices = torch.randperm(n)[:N_ADV]\n",
    "\n",
    "pt_subset_X = tensor_test_X[indices]  # PyTorch Tensor\n",
    "pt_subset_y = tensor_test_y[indices]\n",
    "\n",
    "subset_X = pt_subset_X.cpu().detach().numpy()\n",
    "subset_y = pt_subset_y.cpu().detach().numpy()"
   ]
  },
  {
   "cell_type": "code",
   "execution_count": 19,
   "metadata": {},
   "outputs": [
    {
     "name": "stderr",
     "output_type": "stream",
     "text": [
      "PGD - Batches:   0%|          | 0/63 [00:00<?, ?it/s]"
     ]
    },
    {
     "name": "stdout",
     "output_type": "stream",
     "text": [
      "Model accuracy on clean examples: 100.0000%\n"
     ]
    },
    {
     "name": "stderr",
     "output_type": "stream",
     "text": [
      "/home/lukec/.local/lib/python3.6/site-packages/art/estimators/classification/pytorch.py:525: UserWarning: To copy construct from a tensor, it is recommended to use sourceTensor.clone().detach() or sourceTensor.clone().detach().requires_grad_(True), rather than torch.tensor(sourceTensor).\n",
      "  x_grad = torch.tensor(x).to(self._device)\n",
      "/home/lukec/.local/lib/python3.6/site-packages/art/estimators/classification/pytorch.py:526: UserWarning: To copy construct from a tensor, it is recommended to use sourceTensor.clone().detach() or sourceTensor.clone().detach().requires_grad_(True), rather than torch.tensor(sourceTensor).\n",
      "  y_grad = torch.tensor(y).to(self._device)\n",
      "                                                              \r"
     ]
    },
    {
     "name": "stdout",
     "output_type": "stream",
     "text": [
      "Model accuracy on adversarial examples: 6.4500%\n"
     ]
    }
   ],
   "source": [
    "# Create adversarial examples\n",
    "subset_pred = np.argmax(classifier.predict(subset_X), axis=1)\n",
    "accuracy = np.sum(subset_pred == subset_y) / float(len(subset_pred))\n",
    "print(\"Model accuracy on clean examples: {:.4f}%\".format(accuracy * 100))\n",
    "\n",
    "# Generate adversarial examples\n",
    "subset_adv = attack.generate(x=subset_X)\n",
    "subset_pred = np.argmax(classifier.predict(subset_adv), axis=1)\n",
    "\n",
    "accuracy = np.sum(subset_pred == subset_y) / float(len(subset_pred))\n",
    "print(\"Model accuracy on adversarial examples: {:.4f}%\".format(accuracy * 100))"
   ]
  },
  {
   "cell_type": "markdown",
   "metadata": {},
   "source": [
    "## BAARD"
   ]
  },
  {
   "cell_type": "code",
   "execution_count": 20,
   "metadata": {},
   "outputs": [],
   "source": [
    "from baard import ApplicabilityStage, flatten\n",
    "from util import merge_and_generate_labels"
   ]
  },
  {
   "cell_type": "markdown",
   "metadata": {},
   "source": [
    "## Applicability Stage"
   ]
  },
  {
   "cell_type": "code",
   "execution_count": 21,
   "metadata": {},
   "outputs": [],
   "source": [
    "# Use the 2nd half 1000 samples for validation\n",
    "X_val, labels_val = merge_and_generate_labels(subset_adv[1000:], subset_X[1000:])\n",
    "pred_val = np.concatenate((subset_pred[1000:], subset_y[1000:]))\n",
    "\n",
    "X_test_2, labels_test_2 = merge_and_generate_labels(subset_adv[:1000], subset_X[:1000])\n",
    "pred_test_2 = np.concatenate((subset_pred[:1000], subset_y[:1000]))"
   ]
  },
  {
   "cell_type": "markdown",
   "metadata": {},
   "source": [
    "### Testing MNIST"
   ]
  },
  {
   "cell_type": "code",
   "execution_count": 22,
   "metadata": {},
   "outputs": [
    {
     "data": {
      "text/plain": [
       "0.016618181818181817"
      ]
     },
     "execution_count": 22,
     "metadata": {},
     "output_type": "execute_result"
    }
   ],
   "source": [
    "stage1 = ApplicabilityStage(quantile=0.9999)\n",
    "stage1.fit(X_train, y_train)\n",
    "len(np.where(stage1.predict(X_train, y_train))[0]) / len(X_train)"
   ]
  },
  {
   "cell_type": "code",
   "execution_count": 23,
   "metadata": {},
   "outputs": [
    {
     "name": "stdout",
     "output_type": "stream",
     "text": [
      "(2000, 784) (2000,)\n"
     ]
    },
    {
     "data": {
      "text/plain": [
       "0.508"
      ]
     },
     "execution_count": 23,
     "metadata": {},
     "output_type": "execute_result"
    }
   ],
   "source": [
    "# Validation set\n",
    "print(X_val.shape, pred_val.shape)\n",
    "len(np.where(stage1.predict(X_val, pred_val))[0]) / len(X_val)"
   ]
  },
  {
   "cell_type": "code",
   "execution_count": 24,
   "metadata": {},
   "outputs": [
    {
     "data": {
      "text/plain": [
       "0.0165"
      ]
     },
     "execution_count": 24,
     "metadata": {},
     "output_type": "execute_result"
    }
   ],
   "source": [
    "len(np.where(stage1.predict(subset_X, subset_y))[0]) / len(subset_X)"
   ]
  },
  {
   "cell_type": "code",
   "execution_count": 25,
   "metadata": {},
   "outputs": [
    {
     "data": {
      "text/plain": [
       "1.0"
      ]
     },
     "execution_count": 25,
     "metadata": {},
     "output_type": "execute_result"
    }
   ],
   "source": [
    "len(np.where(stage1.predict(subset_adv, subset_pred))[0]) / len(subset_adv)"
   ]
  },
  {
   "cell_type": "code",
   "execution_count": 26,
   "metadata": {},
   "outputs": [],
   "source": [
    "X_mix, labels_adv_mix = merge_and_generate_labels(subset_adv, subset_X)\n",
    "pred_mix = np.concatenate((subset_pred, subset_y))"
   ]
  },
  {
   "cell_type": "code",
   "execution_count": 27,
   "metadata": {},
   "outputs": [
    {
     "data": {
      "text/plain": [
       "0.50825"
      ]
     },
     "execution_count": 27,
     "metadata": {},
     "output_type": "execute_result"
    }
   ],
   "source": [
    "len(np.where(stage1.predict(X_mix, pred_mix))[0]) / len(X_mix)"
   ]
  },
  {
   "cell_type": "code",
   "execution_count": 28,
   "metadata": {},
   "outputs": [
    {
     "data": {
      "text/plain": [
       "0.99175"
      ]
     },
     "execution_count": 28,
     "metadata": {},
     "output_type": "execute_result"
    }
   ],
   "source": [
    "stage1.score(X_mix, pred_mix, labels_adv_mix)"
   ]
  },
  {
   "cell_type": "markdown",
   "metadata": {},
   "source": [
    "## Reliability Stage"
   ]
  },
  {
   "cell_type": "code",
   "execution_count": 29,
   "metadata": {},
   "outputs": [],
   "source": [
    "from baard import ReliabilityStage\n",
    "from util import get_roc"
   ]
  },
  {
   "cell_type": "code",
   "execution_count": 30,
   "metadata": {},
   "outputs": [],
   "source": [
    "k = 10\n",
    "stage2 = ReliabilityStage(n_classes=10, k=k)"
   ]
  },
  {
   "cell_type": "code",
   "execution_count": 31,
   "metadata": {},
   "outputs": [
    {
     "data": {
      "text/plain": [
       "<baard.ReliabilityStage at 0x7f0bc044b780>"
      ]
     },
     "execution_count": 31,
     "metadata": {},
     "output_type": "execute_result"
    }
   ],
   "source": [
    "stage2.fit(X_train, y_train)"
   ]
  },
  {
   "cell_type": "code",
   "execution_count": 32,
   "metadata": {},
   "outputs": [
    {
     "name": "stdout",
     "output_type": "stream",
     "text": [
      "ReliabilityStage.search_thresholds\n"
     ]
    }
   ],
   "source": [
    "stage2.search_thresholds(X_val, pred_val, labels_val)"
   ]
  },
  {
   "cell_type": "code",
   "execution_count": 33,
   "metadata": {},
   "outputs": [
    {
     "name": "stdout",
     "output_type": "stream",
     "text": [
      "[1 1 1 1 1] [0 0 1 0 0]\n"
     ]
    }
   ],
   "source": [
    "pred = stage2.predict(X_test_2, pred_test_2)\n",
    "print(pred[:5], pred[-5:])"
   ]
  },
  {
   "cell_type": "code",
   "execution_count": 34,
   "metadata": {},
   "outputs": [
    {
     "data": {
      "text/plain": [
       "0.92452"
      ]
     },
     "execution_count": 34,
     "metadata": {},
     "output_type": "execute_result"
    }
   ],
   "source": [
    "stage2.score(X_test_2, pred_test_2, labels_test_2)"
   ]
  },
  {
   "cell_type": "code",
   "execution_count": 35,
   "metadata": {},
   "outputs": [
    {
     "data": {
      "image/png": "[encoded data removed]",
      "text/plain": [
       "<Figure size 432x432 with 1 Axes>"
      ]
     },
     "metadata": {
      "needs_background": "light"
     },
     "output_type": "display_data"
    }
   ],
   "source": [
    "# On validation set\n",
    "probs = stage2.predict_proba(X_val, pred_val)\n",
    "_, _, auc_score, _ = get_roc(labels_val, probs[:, 1], show_plot=True)"
   ]
  },
  {
   "cell_type": "code",
   "execution_count": 36,
   "metadata": {},
   "outputs": [
    {
     "data": {
      "image/png": "[encoded data removed]",
      "text/plain": [
       "<Figure size 432x432 with 1 Axes>"
      ]
     },
     "metadata": {
      "needs_background": "light"
     },
     "output_type": "display_data"
    }
   ],
   "source": [
    "# On test set\n",
    "probs = stage2.predict_proba(X_test_2, pred_test_2)\n",
    "_, _, auc_score, _ = get_roc(labels_test_2, probs[:, 1], show_plot=True)"
   ]
  },
  {
   "cell_type": "markdown",
   "metadata": {},
   "source": [
    "## Testing Decidability Stage"
   ]
  },
  {
   "cell_type": "code",
   "execution_count": 37,
   "metadata": {},
   "outputs": [],
   "source": [
    "# X_tain, y_train\n",
    "# X_val, pred_val, labels_val\n",
    "# X_test_2, pred_test_2, labels_test_2"
   ]
  },
  {
   "cell_type": "code",
   "execution_count": 38,
   "metadata": {},
   "outputs": [],
   "source": [
    "from baard import DecidabilityStage"
   ]
  },
  {
   "cell_type": "code",
   "execution_count": 135,
   "metadata": {},
   "outputs": [],
   "source": [
    "k = 100\n",
    "stage3 = DecidabilityStage(n_classes=10, k=k, n_bins=2)"
   ]
  },
  {
   "cell_type": "code",
   "execution_count": 136,
   "metadata": {},
   "outputs": [
    {
     "data": {
      "text/plain": [
       "<baard.DecidabilityStage at 0x7f0b8b4f2780>"
      ]
     },
     "execution_count": 136,
     "metadata": {},
     "output_type": "execute_result"
    }
   ],
   "source": [
    "# Using a subset\n",
    "# indices = np.random.permutation(X_train.shape[0])[:5000]\n",
    "# stage3.fit(X_train[indices], y_train[indices])\n",
    "\n",
    "# Using the full training set\n",
    "stage3.fit(X_train, y_train)"
   ]
  },
  {
   "cell_type": "code",
   "execution_count": 137,
   "metadata": {},
   "outputs": [],
   "source": [
    "stage3.search_thresholds(X_val, pred_val, labels_val)"
   ]
  },
  {
   "cell_type": "code",
   "execution_count": 138,
   "metadata": {},
   "outputs": [],
   "source": [
    "# pred = stage3.predict(X_test_2, pred_test_2)\n",
    "# print(pred[:5], pred[-5:])"
   ]
  },
  {
   "cell_type": "code",
   "execution_count": 139,
   "metadata": {},
   "outputs": [],
   "source": [
    "# stage3.score(X_test_2, pred_test_2, labels_test_2)"
   ]
  },
  {
   "cell_type": "code",
   "execution_count": 140,
   "metadata": {},
   "outputs": [],
   "source": [
    "# # On validation set\n",
    "# probs = stage3.predict_proba(X_val, pred_val)\n",
    "# _, _, auc_score, _ = get_roc(labels_val, probs[:, 1], show_plot=True)"
   ]
  },
  {
   "cell_type": "code",
   "execution_count": 141,
   "metadata": {},
   "outputs": [
    {
     "data": {
      "image/png": "[encoded data removed]",
      "text/plain": [
       "<Figure size 432x432 with 1 Axes>"
      ]
     },
     "metadata": {
      "needs_background": "light"
     },
     "output_type": "display_data"
    }
   ],
   "source": [
    "# On test set\n",
    "probs = stage3.predict_proba(X_test_2, pred_test_2)\n",
    "_, _, auc_score, _ = get_roc(labels_test_2, probs[:, 1], show_plot=True)"
   ]
  },
  {
   "cell_type": "markdown",
   "metadata": {},
   "source": [
    "## Testing BAARD Operator"
   ]
  },
  {
   "cell_type": "code",
   "execution_count": 46,
   "metadata": {},
   "outputs": [],
   "source": [
    "from baard import BAARDOperator"
   ]
  },
  {
   "cell_type": "code",
   "execution_count": 47,
   "metadata": {},
   "outputs": [],
   "source": [
    "stages = []\n",
    "stages.append(ApplicabilityStage(n_classes=10, quantile=0.999))\n",
    "stages.append(ReliabilityStage(n_classes=10, k=10))\n",
    "stages.append(DecidabilityStage(n_classes=10, k=100, n_bins=2))\n",
    "\n",
    "baard = BAARDOperator(stages=stages)"
   ]
  },
  {
   "cell_type": "code",
   "execution_count": 48,
   "metadata": {},
   "outputs": [
    {
     "name": "stdout",
     "output_type": "stream",
     "text": [
      "(55000, 1, 28, 28) (55000,)\n"
     ]
    }
   ],
   "source": [
    "print(X_train.shape, y_train.shape)"
   ]
  },
  {
   "cell_type": "code",
   "execution_count": 49,
   "metadata": {},
   "outputs": [
    {
     "data": {
      "text/plain": [
       "<baard.BAARDOperator at 0x7f0bc00ea978>"
      ]
     },
     "execution_count": 49,
     "metadata": {},
     "output_type": "execute_result"
    }
   ],
   "source": [
    "baard.fit(X_train, y_train)"
   ]
  },
  {
   "cell_type": "code",
   "execution_count": 50,
   "metadata": {},
   "outputs": [
    {
     "name": "stdout",
     "output_type": "stream",
     "text": [
      "(2000, 784) (2000,) (2000,)\n"
     ]
    }
   ],
   "source": [
    "print(X_val.shape, pred_val.shape, labels_val.shape)"
   ]
  },
  {
   "cell_type": "code",
   "execution_count": 51,
   "metadata": {},
   "outputs": [
    {
     "name": "stdout",
     "output_type": "stream",
     "text": [
      "True\n"
     ]
    }
   ],
   "source": [
    "# We already filter the misclassified samples. \n",
    "# 1st 1000 samples are adversarial examples, 2nd half are benign samples.\n",
    "pred = np.argmax(classifier.predict(X_val.reshape(2000,1,28,28)), axis=1)\n",
    "print(np.all(pred == pred_val))"
   ]
  },
  {
   "cell_type": "code",
   "execution_count": 52,
   "metadata": {},
   "outputs": [
    {
     "name": "stdout",
     "output_type": "stream",
     "text": [
      "3\n",
      "ReliabilityStage.search_thresholds\n",
      "DecidabilityStage.search_thresholds\n"
     ]
    }
   ],
   "source": [
    "baard.search_thresholds(X_val, pred_val, labels_val)"
   ]
  },
  {
   "cell_type": "code",
   "execution_count": 59,
   "metadata": {},
   "outputs": [
    {
     "name": "stdout",
     "output_type": "stream",
     "text": [
      "False\n",
      "True\n",
      "True\n",
      "True\n",
      "(2000, 784) (2000,) (2000,) (2000,)\n"
     ]
    }
   ],
   "source": [
    "y_test_2 = np.concatenate((subset_y[:1000], subset_y[:1000]))\n",
    "\n",
    "print(np.all(y_test_2[:1000] == pred_test_2[:1000]))\n",
    "print(np.all(y_test_2[1000:] == pred_test_2[1000:]))\n",
    "print(np.all(labels_test_2 == labels_val))\n",
    "pred = np.argmax(classifier.predict(X_test_2.reshape(2000,1,28,28)), axis=1)\n",
    "print(np.all(pred == pred_test_2))\n",
    "\n",
    "print(X_test_2.shape, y_test_2.shape, pred_test_2.shape, labels_test_2.shape)"
   ]
  },
  {
   "cell_type": "code",
   "execution_count": 54,
   "metadata": {},
   "outputs": [
    {
     "name": "stdout",
     "output_type": "stream",
     "text": [
      "(2000, 784) (2000,)\n",
      "(959, 784) (959,)\n",
      "(855, 784) (855,)\n",
      "1313\n"
     ]
    }
   ],
   "source": [
    "results = baard.detect(X_test_2, pred_test_2)\n",
    "# Should be 1000 samples\n",
    "print(np.sum(results))"
   ]
  },
  {
   "cell_type": "code",
   "execution_count": 69,
   "metadata": {},
   "outputs": [
    {
     "name": "stdout",
     "output_type": "stream",
     "text": [
      "(2000, 784) (2000,)\n",
      "(959, 784) (959,)\n",
      "(855, 784) (855,)\n",
      "[]\n"
     ]
    },
    {
     "data": {
      "text/plain": [
       "0.8435"
      ]
     },
     "execution_count": 69,
     "metadata": {},
     "output_type": "execute_result"
    }
   ],
   "source": [
    "accuracy = baard.score(X_test_2, y_test_2, pred_test_2, labels_test_2)\n",
    "accuracy"
   ]
  },
  {
   "cell_type": "markdown",
   "metadata": {},
   "source": [
    "## Run different combinations of stages"
   ]
  },
  {
   "cell_type": "code",
   "execution_count": 94,
   "metadata": {},
   "outputs": [
    {
     "data": {
      "text/plain": [
       "0.9795"
      ]
     },
     "execution_count": 94,
     "metadata": {},
     "output_type": "execute_result"
    }
   ],
   "source": [
    "baard = BAARDOperator(stages=stages[0:1])\n",
    "baard.score(X_test_2, y_test_2, pred_test_2, labels_test_2)"
   ]
  },
  {
   "cell_type": "code",
   "execution_count": 95,
   "metadata": {},
   "outputs": [
    {
     "data": {
      "text/plain": [
       "0.888"
      ]
     },
     "execution_count": 95,
     "metadata": {},
     "output_type": "execute_result"
    }
   ],
   "source": [
    "baard = BAARDOperator(stages=stages[1:2])\n",
    "baard.score(X_test_2, y_test_2, pred_test_2, labels_test_2)"
   ]
  },
  {
   "cell_type": "code",
   "execution_count": 96,
   "metadata": {},
   "outputs": [
    {
     "data": {
      "text/plain": [
       "0.8225"
      ]
     },
     "execution_count": 96,
     "metadata": {},
     "output_type": "execute_result"
    }
   ],
   "source": [
    "baard = BAARDOperator(stages=stages[1:])\n",
    "baard.score(X_test_2, y_test_2, pred_test_2, labels_test_2)"
   ]
  },
  {
   "cell_type": "code",
   "execution_count": 97,
   "metadata": {},
   "outputs": [
    {
     "data": {
      "text/plain": [
       "0.9275"
      ]
     },
     "execution_count": 97,
     "metadata": {},
     "output_type": "execute_result"
    }
   ],
   "source": [
    "baard = BAARDOperator(stages=stages[0:2])\n",
    "baard.score(X_test_2, y_test_2, pred_test_2, labels_test_2)"
   ]
  },
  {
   "cell_type": "code",
   "execution_count": 98,
   "metadata": {},
   "outputs": [
    {
     "data": {
      "text/plain": [
       "0.647"
      ]
     },
     "execution_count": 98,
     "metadata": {},
     "output_type": "execute_result"
    }
   ],
   "source": [
    "baard = BAARDOperator(stages=stages[2:])\n",
    "baard.score(X_test_2, y_test_2, pred_test_2, labels_test_2)"
   ]
  },
  {
   "cell_type": "code",
   "execution_count": null,
   "metadata": {},
   "outputs": [],
   "source": []
  }
 ],
 "metadata": {
  "kernelspec": {
   "display_name": "Python 3.6.9 64-bit",
   "language": "python",
   "name": "python36964bit4ada1bcfcd0f4caa95e946f583001e1b"
  },
  "language_info": {
   "codemirror_mode": {
    "name": "ipython",
    "version": 3
   },
   "file_extension": ".py",
   "mimetype": "text/x-python",
   "name": "python",
   "nbconvert_exporter": "python",
   "pygments_lexer": "ipython3",
   "version": "3.6.9"
  }
 },
 "nbformat": 4,
 "nbformat_minor": 4
}
