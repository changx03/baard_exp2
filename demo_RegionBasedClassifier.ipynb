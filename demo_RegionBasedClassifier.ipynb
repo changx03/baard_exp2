{
 "cells": [
  {
   "cell_type": "code",
   "execution_count": 1,
   "metadata": {},
   "outputs": [],
   "source": [
    "import os\n",
    "import time\n",
    "\n",
    "import matplotlib.pyplot as plt\n",
    "import numpy as np\n",
    "import torch\n",
    "import torch.nn as nn\n",
    "import torch.nn.functional as F\n",
    "import torch.optim as optim\n",
    "import torchvision as tv\n",
    "import torchvision.datasets as datasets\n",
    "from art.attacks.evasion import BasicIterativeMethod\n",
    "from art.estimators.classification import PyTorchClassifier\n",
    "from sklearn.model_selection import train_test_split\n",
    "from torch.utils.data import DataLoader, TensorDataset\n",
    "\n",
    "from region_based_classifier import RegionBasedClassifier\n",
    "from util import dataset2tensor, get_correct_examples"
   ]
  },
  {
   "cell_type": "code",
   "execution_count": 2,
   "metadata": {},
   "outputs": [],
   "source": [
    "%load_ext autoreload\n",
    "%autoreload 2"
   ]
  },
  {
   "cell_type": "code",
   "execution_count": 3,
   "metadata": {},
   "outputs": [
    {
     "name": "stdout",
     "output_type": "stream",
     "text": [
      "Device: cuda\n",
      "CPU threads: 24\n"
     ]
    }
   ],
   "source": [
    "device = torch.device('cuda' if torch.cuda.is_available() else 'cpu')\n",
    "print('Device: {}'.format(device))\n",
    "\n",
    "n_threads = os.cpu_count()\n",
    "print('CPU threads: {}'.format(n_threads))"
   ]
  },
  {
   "cell_type": "code",
   "execution_count": 4,
   "metadata": {},
   "outputs": [],
   "source": [
    "PATH = 'data'\n",
    "BATCH_SIZE = 128\n",
    "EPOCHS = 20\n",
    "N_ADV = 2000"
   ]
  },
  {
   "cell_type": "code",
   "execution_count": 5,
   "metadata": {},
   "outputs": [],
   "source": [
    "# Fetch dataset\n",
    "transforms = tv.transforms.Compose([tv.transforms.ToTensor()])\n",
    "dataset_train = datasets.MNIST(PATH, train=True, download=True, transform=transforms)\n",
    "dataset_test = datasets.MNIST(PATH, train=False, download=True, transform=transforms)\n",
    "\n",
    "# From PyTorch dataset to Numpy array\n",
    "tensor_X_train, tensor_y_train = dataset2tensor(dataset_train)\n",
    "X_train = tensor_X_train.cpu().detach().numpy()\n",
    "y_train = tensor_y_train.cpu().detach().numpy()\n",
    "\n",
    "# Split model training set into training set and validation set\n",
    "X_train, X_val, y_train, y_val = train_test_split(X_train, y_train, test_size=5000)\n",
    "dataset_train = TensorDataset(\n",
    "    torch.tensor(X_train, dtype=torch.float32),\n",
    "    torch.tensor(y_train, dtype=torch.int64))\n",
    "\n",
    "dataloader_train = DataLoader(dataset_train, batch_size=BATCH_SIZE, shuffle=True)\n",
    "dataloader_test = DataLoader(dataset_test, batch_size=BATCH_SIZE, shuffle=True)"
   ]
  },
  {
   "cell_type": "code",
   "execution_count": 6,
   "metadata": {},
   "outputs": [
    {
     "name": "stdout",
     "output_type": "stream",
     "text": [
      "55000\n",
      "torch.Size([10000, 28, 28])\n"
     ]
    }
   ],
   "source": [
    "print(len(dataset_train))\n",
    "print(dataset_test.data.size())"
   ]
  },
  {
   "cell_type": "markdown",
   "metadata": {},
   "source": [
    "## Train point-based classifier"
   ]
  },
  {
   "cell_type": "code",
   "execution_count": 7,
   "metadata": {},
   "outputs": [
    {
     "name": "stdout",
     "output_type": "stream",
     "text": [
      "Number of layers: 10\n"
     ]
    }
   ],
   "source": [
    "# Create Neural Network model\n",
    "model = nn.Sequential(\n",
    "    nn.Conv2d(1, 32, 3, 1),\n",
    "    nn.ReLU(),\n",
    "    nn.Conv2d(32, 64, 3, 1),\n",
    "    nn.ReLU(),\n",
    "    nn.MaxPool2d(2),\n",
    "    nn.Flatten(),\n",
    "    nn.Linear(9216, 200),\n",
    "    nn.ReLU(),\n",
    "    nn.Linear(200, 10),\n",
    "    nn.LogSoftmax(dim=1)\n",
    ")\n",
    "model.to(device)\n",
    "print('Number of layers: {}'.format(len(list(model.children()))))"
   ]
  },
  {
   "cell_type": "code",
   "execution_count": 8,
   "metadata": {},
   "outputs": [],
   "source": [
    "def train(model, loader, loss, optimizer):\n",
    "    model.train()\n",
    "    total_loss = 0.\n",
    "    corrects = 0.\n",
    "    \n",
    "    for x, y in loader:\n",
    "        x = x.to(device)\n",
    "        y = y.to(device)\n",
    "        batch_size = x.size(0)\n",
    "        \n",
    "        optimizer.zero_grad()\n",
    "        outputs = model(x)\n",
    "        l = loss(outputs, y)\n",
    "        l.backward()\n",
    "        optimizer.step()\n",
    "\n",
    "        # for display\n",
    "        total_loss += l.item() * batch_size\n",
    "        preds = outputs.max(1, keepdim=True)[1]\n",
    "        corrects += preds.eq(y.view_as(preds)).sum().item()\n",
    "    \n",
    "    n = len(loader.dataset)\n",
    "    total_loss = total_loss / n\n",
    "    accuracy = corrects / n\n",
    "    return total_loss, accuracy"
   ]
  },
  {
   "cell_type": "code",
   "execution_count": 9,
   "metadata": {},
   "outputs": [],
   "source": [
    "def validate(model, loader, loss, device=device):\n",
    "    model.eval()\n",
    "    total_loss = 0.\n",
    "    corrects = 0.\n",
    "    \n",
    "    with torch.no_grad():\n",
    "        for x, y in loader:\n",
    "            x = x.to(device)\n",
    "            y = y.to(device)\n",
    "            batch_size = x.size(0)\n",
    "            outputs = model(x)\n",
    "            l = loss(outputs, y)\n",
    "            total_loss += l.item() * batch_size\n",
    "            preds = outputs.max(1, keepdim=True)[1]\n",
    "            corrects += preds.eq(y.view_as(preds)).sum().item()\n",
    "    \n",
    "    n = len(loader.dataset)\n",
    "    total_loss = total_loss / n\n",
    "    accuracy = corrects / n\n",
    "    return total_loss, accuracy"
   ]
  },
  {
   "cell_type": "code",
   "execution_count": 10,
   "metadata": {},
   "outputs": [],
   "source": [
    "def predict(model, X, batch_size=BATCH_SIZE, device=device):\n",
    "    model.eval()\n",
    "    dataset = TensorDataset(X)\n",
    "    loader = DataLoader(dataset, batch_size=batch_size, shuffle=False)\n",
    "    predictions = -torch.ones(len(X), dtype=torch.int64)\n",
    "    \n",
    "    start = 0\n",
    "    with torch.no_grad():\n",
    "        for x in loader:\n",
    "            x = x[0].to(device)\n",
    "            n = x.size(0)\n",
    "            end = start + n\n",
    "            outputs = model(x)\n",
    "            preds = outputs.max(1)[1].type(torch.int64)\n",
    "            predictions[start:end] = preds\n",
    "            start += n\n",
    "\n",
    "    return predictions"
   ]
  },
  {
   "cell_type": "code",
   "execution_count": 11,
   "metadata": {},
   "outputs": [],
   "source": [
    "optimizer = optim.SGD(model.parameters(), lr=0.01, momentum=0.9)\n",
    "loss=nn.NLLLoss()"
   ]
  },
  {
   "cell_type": "code",
   "execution_count": 12,
   "metadata": {},
   "outputs": [
    {
     "name": "stdout",
     "output_type": "stream",
     "text": [
      "[ 1] 0m 2.1s Train Loss: 0.4378 Accuracy: 86.4000%, Test Loss: 0.1425 Accuracy: 95.3600%\n",
      "[ 2] 0m 2.0s Train Loss: 0.1233 Accuracy: 96.1473%, Test Loss: 0.0852 Accuracy: 97.4200%\n",
      "[ 3] 0m 2.1s Train Loss: 0.0789 Accuracy: 97.5582%, Test Loss: 0.0587 Accuracy: 98.1200%\n",
      "[ 4] 0m 2.0s Train Loss: 0.0549 Accuracy: 98.2764%, Test Loss: 0.0600 Accuracy: 98.1400%\n",
      "[ 5] 0m 2.0s Train Loss: 0.0422 Accuracy: 98.7255%, Test Loss: 0.0529 Accuracy: 98.3600%\n",
      "[ 6] 0m 2.0s Train Loss: 0.0330 Accuracy: 98.9636%, Test Loss: 0.0421 Accuracy: 98.7100%\n",
      "[ 7] 0m 2.0s Train Loss: 0.0257 Accuracy: 99.2382%, Test Loss: 0.0408 Accuracy: 98.6500%\n",
      "[ 8] 0m 2.0s Train Loss: 0.0201 Accuracy: 99.3727%, Test Loss: 0.0443 Accuracy: 98.5500%\n",
      "[ 9] 0m 2.0s Train Loss: 0.0172 Accuracy: 99.4873%, Test Loss: 0.0426 Accuracy: 98.6300%\n",
      "[10] 0m 2.0s Train Loss: 0.0129 Accuracy: 99.6127%, Test Loss: 0.0414 Accuracy: 98.7000%\n",
      "[11] 0m 2.0s Train Loss: 0.0096 Accuracy: 99.7182%, Test Loss: 0.0375 Accuracy: 98.7700%\n",
      "[12] 0m 2.0s Train Loss: 0.0081 Accuracy: 99.7836%, Test Loss: 0.0378 Accuracy: 98.8100%\n",
      "[13] 0m 2.0s Train Loss: 0.0078 Accuracy: 99.7655%, Test Loss: 0.0449 Accuracy: 98.6400%\n",
      "[14] 0m 2.0s Train Loss: 0.0057 Accuracy: 99.8618%, Test Loss: 0.0443 Accuracy: 98.7500%\n",
      "[15] 0m 2.0s Train Loss: 0.0036 Accuracy: 99.9382%, Test Loss: 0.0395 Accuracy: 98.9100%\n",
      "[16] 0m 2.0s Train Loss: 0.0029 Accuracy: 99.9455%, Test Loss: 0.0445 Accuracy: 98.8000%\n",
      "[17] 0m 2.0s Train Loss: 0.0025 Accuracy: 99.9436%, Test Loss: 0.0422 Accuracy: 98.9400%\n",
      "[18] 0m 2.0s Train Loss: 0.0021 Accuracy: 99.9545%, Test Loss: 0.0451 Accuracy: 98.8500%\n",
      "[19] 0m 2.0s Train Loss: 0.0012 Accuracy: 99.9818%, Test Loss: 0.0426 Accuracy: 98.8500%\n",
      "[20] 0m 2.0s Train Loss: 0.0010 Accuracy: 99.9873%, Test Loss: 0.0435 Accuracy: 98.8600%\n",
      "Total run time: 0m 40.4s\n"
     ]
    }
   ],
   "source": [
    "since = time.time()\n",
    "for epoch in range(EPOCHS):\n",
    "    start = time.time()\n",
    "    tr_loss, tr_acc = train(model, dataloader_train, loss, optimizer)\n",
    "    va_loss, va_acc = validate(model, dataloader_test, loss)\n",
    "    \n",
    "    time_elapsed = time.time() - start\n",
    "    print(('[{:2d}] {:.0f}m {:.1f}s Train Loss: {:.4f} Accuracy: {:.4f}%, ' +\n",
    "        'Test Loss: {:.4f} Accuracy: {:.4f}%').format(\n",
    "            epoch+1, time_elapsed // 60, time_elapsed % 60,\n",
    "            tr_loss, tr_acc*100.,\n",
    "            va_loss, va_acc*100.))\n",
    "    \n",
    "time_elapsed = time.time() - since\n",
    "print('Total run time: {:.0f}m {:.1f}s'.format(\n",
    "    time_elapsed // 60,\n",
    "    time_elapsed % 60))"
   ]
  },
  {
   "cell_type": "markdown",
   "metadata": {},
   "source": [
    "## Remove missclassified samples"
   ]
  },
  {
   "cell_type": "code",
   "execution_count": 13,
   "metadata": {},
   "outputs": [
    {
     "name": "stdout",
     "output_type": "stream",
     "text": [
      "Training set: 55000\n",
      "Accuracy on 54982 filtered training examples: 100.0000%\n",
      "Test set: 10000\n",
      "Accuracy on 9886 filtered test examples: 100.0000%\n"
     ]
    }
   ],
   "source": [
    "print('Training set: {}'.format(len(dataset_train)))\n",
    "tensor_train_X, tensor_train_y = get_correct_examples(model, dataset_train, device=device, return_tensor=True)\n",
    "dataset_train_perfect = TensorDataset(tensor_train_X, tensor_train_y)\n",
    "dataloader_train_perfect = DataLoader(dataset_train_perfect, batch_size=512, shuffle=True)\n",
    "_, acc = validate(model, dataloader_train_perfect, loss)\n",
    "print('Accuracy on {} filtered training examples: {:.4f}%'.format(len(dataloader_train_perfect.dataset), acc*100))\n",
    "\n",
    "print('Test set: {}'.format(len(dataset_test)))\n",
    "tensor_test_X, tensor_test_y = get_correct_examples(model, dataset_test, device=device, return_tensor=True)\n",
    "dataset_test_perfect = TensorDataset(tensor_test_X, tensor_test_y)\n",
    "dataloader_test_perfect = DataLoader(dataset_test_perfect, batch_size=512, shuffle=True)\n",
    "_, acc = validate(model, dataloader_test_perfect, loss)\n",
    "print('Accuracy on {} filtered test examples: {:.4f}%'.format(len(dataloader_test_perfect.dataset), acc*100))"
   ]
  },
  {
   "cell_type": "markdown",
   "metadata": {},
   "source": [
    "## Create adversarial examples "
   ]
  },
  {
   "cell_type": "code",
   "execution_count": 14,
   "metadata": {},
   "outputs": [],
   "source": [
    "classifier = PyTorchClassifier(\n",
    "    model=model, \n",
    "    loss=loss, \n",
    "    input_shape=(1, 28, 28), \n",
    "    optimizer=optimizer,\n",
    "    nb_classes=10,\n",
    "    clip_values=(0.0, 1.0),\n",
    "    device_type=device\n",
    ")\n",
    "\n",
    "# attack = FastGradientMethod(estimator=classifier, eps=0.2)\n",
    "attack = BasicIterativeMethod(estimator=classifier, eps=0.2)"
   ]
  },
  {
   "cell_type": "code",
   "execution_count": 15,
   "metadata": {},
   "outputs": [],
   "source": [
    "# Prepare dataset for adversarial examples\n",
    "n = len(dataset_test_perfect)\n",
    "indices = torch.randperm(n)[:N_ADV]\n",
    "\n",
    "pt_subset_X = tensor_test_X[indices]  # PyTorch Tensor\n",
    "pt_subset_y = tensor_test_y[indices]\n",
    "\n",
    "subset_X = pt_subset_X.cpu().detach().numpy()\n",
    "subset_y = pt_subset_y.cpu().detach().numpy()"
   ]
  },
  {
   "cell_type": "code",
   "execution_count": 16,
   "metadata": {},
   "outputs": [
    {
     "name": "stderr",
     "output_type": "stream",
     "text": [
      "PGD - Batches:   0%|          | 0/63 [00:00<?, ?it/s]"
     ]
    },
    {
     "name": "stdout",
     "output_type": "stream",
     "text": [
      "Model accuracy on clean examples: 100.0000%\n"
     ]
    },
    {
     "name": "stderr",
     "output_type": "stream",
     "text": [
      "/home/lukec/.local/lib/python3.6/site-packages/art/estimators/classification/pytorch.py:525: UserWarning: To copy construct from a tensor, it is recommended to use sourceTensor.clone().detach() or sourceTensor.clone().detach().requires_grad_(True), rather than torch.tensor(sourceTensor).\n",
      "  x_grad = torch.tensor(x).to(self._device)\n",
      "/home/lukec/.local/lib/python3.6/site-packages/art/estimators/classification/pytorch.py:526: UserWarning: To copy construct from a tensor, it is recommended to use sourceTensor.clone().detach() or sourceTensor.clone().detach().requires_grad_(True), rather than torch.tensor(sourceTensor).\n",
      "  y_grad = torch.tensor(y).to(self._device)\n",
      "                                                              \r"
     ]
    },
    {
     "name": "stdout",
     "output_type": "stream",
     "text": [
      "Model accuracy on adversarial examples: 7.8000%\n"
     ]
    }
   ],
   "source": [
    "# Create adversarial examples\n",
    "subset_pred = np.argmax(classifier.predict(subset_X), axis=1)\n",
    "accuracy = np.sum(subset_pred == subset_y) / float(len(subset_pred))\n",
    "print(\"Model accuracy on clean examples: {:.4f}%\".format(accuracy * 100))\n",
    "\n",
    "# Generate adversarial examples\n",
    "subset_adv = attack.generate(x=subset_X)\n",
    "subset_pred = np.argmax(classifier.predict(subset_adv), axis=1)\n",
    "\n",
    "accuracy = np.sum(subset_pred == subset_y) / float(len(subset_pred))\n",
    "print(\"Model accuracy on adversarial examples: {:.4f}%\".format(accuracy * 100))"
   ]
  },
  {
   "cell_type": "markdown",
   "metadata": {},
   "source": [
    "## Region-based classification"
   ]
  },
  {
   "cell_type": "code",
   "execution_count": 17,
   "metadata": {},
   "outputs": [
    {
     "name": "stdout",
     "output_type": "stream",
     "text": [
      "Test set (Adversarial examples): (1000, 1, 28, 28)\n",
      "Test set (True labels) : (1000,)\n",
      "Validation set (Benign samples): (5000, 1, 28, 28)\n",
      "Validation set (True labels) : (5000,)\n"
     ]
    }
   ],
   "source": [
    "X_benign = subset_X[:1000]\n",
    "X_adv = subset_adv[:1000]\n",
    "y_true = subset_y[:1000]\n",
    "\n",
    "print('Test set (Adversarial examples):', X_adv.shape)\n",
    "print('Test set (True labels) :', y_true.shape)\n",
    "\n",
    "print('Validation set (Benign samples):', X_val.shape)\n",
    "print('Validation set (True labels) :', y_val.shape)"
   ]
  },
  {
   "cell_type": "code",
   "execution_count": 18,
   "metadata": {},
   "outputs": [],
   "source": [
    "rb_classifier = RegionBasedClassifier(\n",
    "    model=model,\n",
    "    r=0.3,\n",
    "    sample_size=1000,\n",
    "    n_class=10,\n",
    "    clip_values=(0.0, 1.0),\n",
    "    batch_size=128,\n",
    "    device=device)"
   ]
  },
  {
   "cell_type": "markdown",
   "metadata": {},
   "source": [
    "## Learn hyper-parameter r"
   ]
  },
  {
   "cell_type": "code",
   "execution_count": 19,
   "metadata": {},
   "outputs": [
    {
     "name": "stdout",
     "output_type": "stream",
     "text": [
      "[0:01:29.862208] Accuracy point-based: 0.9880, region-based: 0.9880, r: 0.04\n",
      "[0:01:29.846269] Accuracy point-based: 0.9880, region-based: 0.9880, r: 0.06\n",
      "[0:01:31.714025] Accuracy point-based: 0.9880, region-based: 0.9880, r: 0.08\n",
      "[0:01:34.126470] Accuracy point-based: 0.9880, region-based: 0.9880, r: 0.10\n",
      "[0:01:32.155784] Accuracy point-based: 0.9880, region-based: 0.9880, r: 0.12\n",
      "[0:01:33.199335] Accuracy point-based: 0.9880, region-based: 0.9880, r: 0.14\n",
      "[0:01:34.080633] Accuracy point-based: 0.9880, region-based: 0.9880, r: 0.16\n",
      "[0:01:32.661083] Accuracy point-based: 0.9880, region-based: 0.9882, r: 0.18\n",
      "[0:01:32.176945] Accuracy point-based: 0.9880, region-based: 0.9884, r: 0.20\n",
      "[0:01:32.054415] Accuracy point-based: 0.9880, region-based: 0.9880, r: 0.22\n",
      "[0:01:32.601382] Accuracy point-based: 0.9880, region-based: 0.9880, r: 0.24\n",
      "[0:01:32.914175] Accuracy point-based: 0.9880, region-based: 0.9882, r: 0.26\n",
      "[0:01:30.543124] Accuracy point-based: 0.9880, region-based: 0.9880, r: 0.28\n",
      "[0:01:33.045991] Accuracy point-based: 0.9880, region-based: 0.9882, r: 0.30\n",
      "[0:01:32.144068] Accuracy point-based: 0.9880, region-based: 0.9880, r: 0.32\n",
      "[0:01:33.599742] Accuracy point-based: 0.9880, region-based: 0.9880, r: 0.34\n",
      "[0:01:34.042218] Accuracy point-based: 0.9880, region-based: 0.9880, r: 0.36\n",
      "[0:01:34.424189] Accuracy point-based: 0.9880, region-based: 0.9866, r: 0.38\n"
     ]
    }
   ],
   "source": [
    "r_best, r_history = rb_classifier.search_r(X_val, y_val, r0=0.04, step_size=0.02, stop=0.36, update=False, verbose=1)"
   ]
  },
  {
   "cell_type": "code",
   "execution_count": 25,
   "metadata": {},
   "outputs": [
    {
     "data": {
      "image/png": "[encoded data removed]",
      "text/plain": [
       "<Figure size 576x432 with 1 Axes>"
      ]
     },
     "metadata": {
      "needs_background": "light"
     },
     "output_type": "display_data"
    }
   ],
   "source": [
    "plt.figure(figsize=(8, 6))\n",
    "plt.hlines([0.9880], xmin=0.04, xmax=0.36, linestyles='dashed', label='Point-based classifier')\n",
    "plt.plot(r_history[:, 0], r_history[:, 1], c='red', label='Region-based classifier')\n",
    "plt.xlim(0.04, 0.4)\n",
    "plt.xlabel('r')\n",
    "plt.ylabel('Accuracy')\n",
    "plt.legend()\n",
    "plt.show()"
   ]
  },
  {
   "cell_type": "markdown",
   "metadata": {},
   "source": [
    "## Test region-based classifier"
   ]
  },
  {
   "cell_type": "code",
   "execution_count": 21,
   "metadata": {},
   "outputs": [
    {
     "name": "stdout",
     "output_type": "stream",
     "text": [
      "True labels:                              [9 4 7 9 0 5 8 8 1 7]\n",
      "Predictions from point-based classifier:  [4 7 1 4 2 3 2 5 9 3]\n",
      "Predictions from region-based classifier: [4 7 1 4 0 5 2 8 9 3]\n"
     ]
    }
   ],
   "source": [
    "pred_adv = np.argmax(classifier.predict(X_adv), axis=1)\n",
    "pred_rb = rb_classifier.predict(X_adv)\n",
    "pred_benign = rb_classifier.predict(X_benign)\n",
    "\n",
    "print('True labels:                             ', y_true[:10])\n",
    "print('Predictions from point-based classifier: ', pred_adv[:10])\n",
    "print('Predictions from region-based classifier:', pred_rb[:10])"
   ]
  },
  {
   "cell_type": "code",
   "execution_count": 22,
   "metadata": {},
   "outputs": [
    {
     "name": "stdout",
     "output_type": "stream",
     "text": [
      "Model accuracy of adversarial examples on point-based classifier: 7.8000%\n",
      "Model accuracy of adversarial examples on regin-based classifier: 19.5000%\n",
      "Model accuracy of benign samples on regin-based classifier: 99.8000%\n"
     ]
    }
   ],
   "source": [
    "accuracy = np.sum(pred_adv == y_true) / float(len(X_adv))\n",
    "print(\"Model accuracy of adversarial examples on point-based classifier: {:.4f}%\".format(accuracy * 100))\n",
    "\n",
    "accuracy = np.sum(pred_rb == y_true) / float(len(X_adv))\n",
    "print(\"Model accuracy of adversarial examples on regin-based classifier: {:.4f}%\".format(accuracy * 100))\n",
    "\n",
    "accuracy = np.sum(pred_benign == y_true) / float(len(X_adv))\n",
    "print(\"Model accuracy of benign samples on regin-based classifier: {:.4f}%\".format(accuracy * 100))"
   ]
  },
  {
   "cell_type": "code",
   "execution_count": 23,
   "metadata": {},
   "outputs": [
    {
     "name": "stdout",
     "output_type": "stream",
     "text": [
      "[[0.    0.    0.    0.    1.    0.    0.    0.    0.    0.   ]\n",
      " [0.    0.    0.    0.    0.071 0.    0.    0.929 0.    0.   ]\n",
      " [0.    1.    0.    0.    0.    0.    0.    0.    0.    0.   ]\n",
      " [0.    0.    0.    0.    0.999 0.    0.    0.    0.    0.001]\n",
      " [0.892 0.    0.108 0.    0.    0.    0.    0.    0.    0.   ]\n",
      " [0.    0.    0.    0.138 0.    0.862 0.    0.    0.    0.   ]\n",
      " [0.    0.    0.954 0.    0.    0.    0.    0.    0.046 0.   ]\n",
      " [0.    0.    0.    0.    0.    0.196 0.    0.    0.804 0.   ]\n",
      " [0.    0.105 0.    0.    0.    0.    0.    0.    0.034 0.861]\n",
      " [0.    0.    0.    0.574 0.    0.    0.    0.426 0.    0.   ]]\n"
     ]
    }
   ],
   "source": [
    "prob_rb = rb_classifier.predict_proba(X_adv[:10])\n",
    "print(prob_rb)"
   ]
  },
  {
   "cell_type": "code",
   "execution_count": null,
   "metadata": {},
   "outputs": [],
   "source": []
  }
 ],
 "metadata": {
  "kernelspec": {
   "display_name": "Python 3.6.9 64-bit",
   "language": "python",
   "name": "python36964bit4ada1bcfcd0f4caa95e946f583001e1b"
  },
  "language_info": {
   "codemirror_mode": {
    "name": "ipython",
    "version": 3
   },
   "file_extension": ".py",
   "mimetype": "text/x-python",
   "name": "python",
   "nbconvert_exporter": "python",
   "pygments_lexer": "ipython3",
   "version": "3.6.9"
  }
 },
 "nbformat": 4,
 "nbformat_minor": 4
}
