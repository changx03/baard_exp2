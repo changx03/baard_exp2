{
 "cells": [
  {
   "cell_type": "code",
   "execution_count": 1,
   "metadata": {},
   "outputs": [],
   "source": [
    "import sys\n",
    "sys.path.append('..')"
   ]
  },
  {
   "cell_type": "code",
   "execution_count": 2,
   "metadata": {},
   "outputs": [],
   "source": [
    "import datetime\n",
    "import os\n",
    "import time\n",
    "\n",
    "import matplotlib.pyplot as plt\n",
    "import numpy as np\n",
    "import torch\n",
    "import torch.nn as nn\n",
    "import torch.nn.functional as F\n",
    "import torch.optim as optim\n",
    "import torchvision as tv\n",
    "import torchvision.datasets as datasets\n",
    "from art.attacks.evasion import BasicIterativeMethod\n",
    "from art.estimators.classification import PyTorchClassifier\n",
    "from sklearn.model_selection import train_test_split\n",
    "from torch.utils.data import DataLoader, TensorDataset\n",
    "\n",
    "from defences.region_based_classifier import RegionBasedClassifier\n",
    "from defences.util import dataset2tensor, get_correct_examples"
   ]
  },
  {
   "cell_type": "code",
   "execution_count": 3,
   "metadata": {},
   "outputs": [],
   "source": [
    "%load_ext autoreload\n",
    "%autoreload 2"
   ]
  },
  {
   "cell_type": "code",
   "execution_count": 4,
   "metadata": {},
   "outputs": [
    {
     "name": "stdout",
     "output_type": "stream",
     "text": [
      "Device: cuda\n",
      "CPU threads: 24\n"
     ]
    }
   ],
   "source": [
    "device = torch.device('cuda' if torch.cuda.is_available() else 'cpu')\n",
    "print('Device: {}'.format(device))\n",
    "\n",
    "n_threads = os.cpu_count()\n",
    "print('CPU threads: {}'.format(n_threads))"
   ]
  },
  {
   "cell_type": "code",
   "execution_count": 5,
   "metadata": {},
   "outputs": [],
   "source": [
    "PATH_DATA = os.path.join('..', 'data')\n",
    "PATH_RESULTS = os.path.join('..', 'results', 'mnist_base_model.pt')\n",
    "BATCH_SIZE = 128\n",
    "EPOCHS = 50\n",
    "N_ADV = 2000"
   ]
  },
  {
   "cell_type": "code",
   "execution_count": 6,
   "metadata": {},
   "outputs": [],
   "source": [
    "# Fetch dataset\n",
    "transforms = tv.transforms.Compose([tv.transforms.ToTensor()])\n",
    "dataset_train = datasets.MNIST(PATH_DATA, train=True, download=True, transform=transforms)\n",
    "dataset_test = datasets.MNIST(PATH_DATA, train=False, download=True, transform=transforms)\n",
    "\n",
    "# From PyTorch dataset to Numpy array\n",
    "tensor_X_train, tensor_y_train = dataset2tensor(dataset_train)\n",
    "X_train = tensor_X_train.cpu().detach().numpy()\n",
    "y_train = tensor_y_train.cpu().detach().numpy()\n",
    "tensor_X_test, tensor_y_test = dataset2tensor(dataset_test)\n",
    "X_test = tensor_X_test.cpu().detach().numpy()\n",
    "y_test = tensor_y_test.cpu().detach().numpy()\n",
    "\n",
    "# Split model training set into training set and validation set\n",
    "X_train, X_val, y_train, y_val = train_test_split(X_train, y_train, test_size=5000)\n",
    "dataset_train = TensorDataset(\n",
    "    torch.tensor(X_train, dtype=torch.float32),\n",
    "    torch.tensor(y_train, dtype=torch.int64))\n",
    "\n",
    "dataloader_train = DataLoader(dataset_train, batch_size=BATCH_SIZE, shuffle=True)\n",
    "dataloader_test = DataLoader(dataset_test, batch_size=BATCH_SIZE, shuffle=True)"
   ]
  },
  {
   "cell_type": "code",
   "execution_count": 7,
   "metadata": {},
   "outputs": [
    {
     "name": "stdout",
     "output_type": "stream",
     "text": [
      "(55000, 1, 28, 28) (5000, 1, 28, 28) (10000, 1, 28, 28)\n"
     ]
    }
   ],
   "source": [
    "# Check sizes\n",
    "print(X_train.shape, X_val.shape, X_test.shape)"
   ]
  },
  {
   "cell_type": "markdown",
   "metadata": {},
   "source": [
    "## Train classifier"
   ]
  },
  {
   "cell_type": "code",
   "execution_count": 8,
   "metadata": {},
   "outputs": [],
   "source": [
    "# Create Neural Network model\n",
    "class BaseModel(nn.Module):\n",
    "    def __init__(self):\n",
    "        super(BaseModel, self).__init__()\n",
    "        self.conv1 = nn.Conv2d(1, 32, 3, 1)\n",
    "        self.relu1 = nn.ReLU()\n",
    "        self.conv2 = nn.Conv2d(32, 64, 3, 1)\n",
    "        self.relu2 = nn.ReLU()\n",
    "        self.pool1 = nn.MaxPool2d(2)\n",
    "        self.flatten = nn.Flatten(1)\n",
    "        self.fc1 = nn.Linear(9216, 200)\n",
    "        self.relu3 = nn.ReLU()\n",
    "        self.fc2 = nn.Linear(200, 10)\n",
    "        self.softmax = nn.Softmax(dim=1)\n",
    "\n",
    "    def before_softmax(self, x):\n",
    "        x = self.relu1(self.conv1(x))\n",
    "        x = self.relu2(self.conv2(x))\n",
    "        x = self.pool1(x)\n",
    "        x = self.flatten(x)\n",
    "        x = self.relu3(self.fc1(x))\n",
    "        x = self.fc2(x)\n",
    "        return x\n",
    "\n",
    "    def forward(self, x):\n",
    "        x = self.before_softmax(x)\n",
    "        x = self.softmax(x)\n",
    "        return x\n",
    "    \n",
    "    "
   ]
  },
  {
   "cell_type": "code",
   "execution_count": 9,
   "metadata": {},
   "outputs": [
    {
     "name": "stdout",
     "output_type": "stream",
     "text": [
      "torch.Size([128, 10])\n",
      "tensor([1.0000, 1.0000, 1.0000, 1.0000, 1.0000], device='cuda:0',\n",
      "       grad_fn=<SumBackward1>)\n"
     ]
    }
   ],
   "source": [
    "# Testing outputs\n",
    "model = BaseModel().to(device)\n",
    "model.eval()\n",
    "it = iter(dataloader_train)\n",
    "x, y = next(it)\n",
    "x = x.to(device)\n",
    "output0 = model(x)\n",
    "print(output0.size())\n",
    "\n",
    "# The outputs are probabilities (sum to 1)\n",
    "print(output0[:5].sum(dim=1))"
   ]
  },
  {
   "cell_type": "code",
   "execution_count": 10,
   "metadata": {},
   "outputs": [],
   "source": [
    "def train(model, loader, loss, optimizer):\n",
    "    model.train()\n",
    "    total_loss = 0.\n",
    "    corrects = 0.\n",
    "    \n",
    "    for x, y in loader:\n",
    "        x = x.to(device)\n",
    "        y = y.to(device)\n",
    "        batch_size = x.size(0)\n",
    "        \n",
    "        optimizer.zero_grad()\n",
    "        outputs = model(x)\n",
    "        l = loss(outputs, y)\n",
    "        l.backward()\n",
    "        optimizer.step()\n",
    "\n",
    "        # for display\n",
    "        total_loss += l.item() * batch_size\n",
    "        preds = outputs.max(1, keepdim=True)[1]\n",
    "        corrects += preds.eq(y.view_as(preds)).sum().item()\n",
    "    \n",
    "    n = len(loader.dataset)\n",
    "    total_loss = total_loss / n\n",
    "    accuracy = corrects / n\n",
    "    return total_loss, accuracy"
   ]
  },
  {
   "cell_type": "code",
   "execution_count": 11,
   "metadata": {},
   "outputs": [],
   "source": [
    "def validate(model, loader, loss, device=device):\n",
    "    model.eval()\n",
    "    total_loss = 0.\n",
    "    corrects = 0.\n",
    "    \n",
    "    with torch.no_grad():\n",
    "        for x, y in loader:\n",
    "            x = x.to(device)\n",
    "            y = y.to(device)\n",
    "            batch_size = x.size(0)\n",
    "            outputs = model(x)\n",
    "            l = loss(outputs, y)\n",
    "            total_loss += l.item() * batch_size\n",
    "            preds = outputs.max(1, keepdim=True)[1]\n",
    "            corrects += preds.eq(y.view_as(preds)).sum().item()\n",
    "    \n",
    "    n = len(loader.dataset)\n",
    "    total_loss = total_loss / n\n",
    "    accuracy = corrects / n\n",
    "    return total_loss, accuracy"
   ]
  },
  {
   "cell_type": "code",
   "execution_count": 12,
   "metadata": {},
   "outputs": [],
   "source": [
    "def predict(model, X, batch_size=BATCH_SIZE, device=device):\n",
    "    model.eval()\n",
    "    dataset = TensorDataset(X)\n",
    "    loader = DataLoader(dataset, batch_size=batch_size, shuffle=False)\n",
    "    tensor_pred = -torch.ones(len(X), dtype=torch.int64)\n",
    "    \n",
    "    start = 0\n",
    "    with torch.no_grad():\n",
    "        for x in loader:\n",
    "            x = x[0].to(device)\n",
    "            n = x.size(0)\n",
    "            end = start + n\n",
    "            outputs = model(x)\n",
    "            tensor_pred[start:end] = outputs.max(1)[1].type(torch.int64)\n",
    "            start += n\n",
    "\n",
    "    return tensor_pred"
   ]
  },
  {
   "cell_type": "code",
   "execution_count": 13,
   "metadata": {},
   "outputs": [],
   "source": [
    "optimizer = optim.SGD(model.parameters(), lr=0.01, momentum=0.9)\n",
    "loss=nn.CrossEntropyLoss()"
   ]
  },
  {
   "cell_type": "code",
   "execution_count": 14,
   "metadata": {},
   "outputs": [
    {
     "name": "stdout",
     "output_type": "stream",
     "text": [
      " 1/50[0:00:02.236618] Train Loss: 1.8517 Acc: 63.7000%, Test Loss: 1.5776 Acc: 88.9000%\n",
      " 2/50[0:00:02.218079] Train Loss: 1.5541 Acc: 91.0382%, Test Loss: 1.5354 Acc: 92.8800%\n",
      " 3/50[0:00:02.099967] Train Loss: 1.5324 Acc: 93.0691%, Test Loss: 1.5195 Acc: 94.2900%\n",
      " 4/50[0:00:02.083629] Train Loss: 1.5193 Acc: 94.3473%, Test Loss: 1.5088 Acc: 95.4300%\n",
      " 5/50[0:00:02.087244] Train Loss: 1.5098 Acc: 95.3073%, Test Loss: 1.5047 Acc: 95.7600%\n",
      " 6/50[0:00:02.133378] Train Loss: 1.5048 Acc: 95.7655%, Test Loss: 1.5044 Acc: 95.7100%\n",
      " 7/50[0:00:02.066036] Train Loss: 1.5010 Acc: 96.1491%, Test Loss: 1.4987 Acc: 96.3100%\n",
      " 8/50[0:00:02.097043] Train Loss: 1.4992 Acc: 96.2727%, Test Loss: 1.4990 Acc: 96.2900%\n",
      " 9/50[0:00:02.084354] Train Loss: 1.4967 Acc: 96.4964%, Test Loss: 1.4934 Acc: 96.8900%\n",
      "10/50[0:00:02.067537] Train Loss: 1.4936 Acc: 96.8382%, Test Loss: 1.4929 Acc: 96.9200%\n",
      "11/50[0:00:02.049922] Train Loss: 1.4922 Acc: 96.9600%, Test Loss: 1.4931 Acc: 96.8500%\n",
      "12/50[0:00:02.131986] Train Loss: 1.4906 Acc: 97.1273%, Test Loss: 1.4947 Acc: 96.6800%\n",
      "13/50[0:00:02.073792] Train Loss: 1.4884 Acc: 97.3327%, Test Loss: 1.4890 Acc: 97.2300%\n",
      "14/50[0:00:02.060176] Train Loss: 1.4871 Acc: 97.4655%, Test Loss: 1.4900 Acc: 97.2200%\n",
      "15/50[0:00:02.060222] Train Loss: 1.4869 Acc: 97.4636%, Test Loss: 1.4885 Acc: 97.2500%\n",
      "16/50[0:00:02.094011] Train Loss: 1.4848 Acc: 97.7255%, Test Loss: 1.4883 Acc: 97.3400%\n",
      "17/50[0:00:02.114588] Train Loss: 1.4856 Acc: 97.6073%, Test Loss: 1.4939 Acc: 96.7100%\n",
      "18/50[0:00:02.141267] Train Loss: 1.4827 Acc: 97.9218%, Test Loss: 1.4858 Acc: 97.5500%\n",
      "19/50[0:00:02.081746] Train Loss: 1.4821 Acc: 97.9745%, Test Loss: 1.4879 Acc: 97.3000%\n",
      "20/50[0:00:02.069684] Train Loss: 1.4825 Acc: 97.9055%, Test Loss: 1.4891 Acc: 97.2500%\n",
      "21/50[0:00:02.048567] Train Loss: 1.4821 Acc: 97.9673%, Test Loss: 1.4878 Acc: 97.3400%\n",
      "22/50[0:00:02.121174] Train Loss: 1.4808 Acc: 98.0873%, Test Loss: 1.4868 Acc: 97.4600%\n",
      "23/50[0:00:02.113432] Train Loss: 1.4804 Acc: 98.1309%, Test Loss: 1.4848 Acc: 97.6200%\n",
      "24/50[0:00:02.091146] Train Loss: 1.4783 Acc: 98.3509%, Test Loss: 1.4883 Acc: 97.3200%\n",
      "25/50[0:00:02.102229] Train Loss: 1.4785 Acc: 98.3073%, Test Loss: 1.4881 Acc: 97.3200%\n",
      "26/50[0:00:02.091834] Train Loss: 1.4784 Acc: 98.3236%, Test Loss: 1.4829 Acc: 97.8200%\n",
      "27/50[0:00:02.147355] Train Loss: 1.4775 Acc: 98.4164%, Test Loss: 1.4848 Acc: 97.6600%\n",
      "28/50[0:00:02.146190] Train Loss: 1.4766 Acc: 98.5018%, Test Loss: 1.4843 Acc: 97.7500%\n",
      "29/50[0:00:02.164232] Train Loss: 1.4772 Acc: 98.4182%, Test Loss: 1.4860 Acc: 97.4800%\n",
      "30/50[0:00:02.180187] Train Loss: 1.4758 Acc: 98.5964%, Test Loss: 1.4831 Acc: 97.8200%\n",
      "31/50[0:00:02.111417] Train Loss: 1.4759 Acc: 98.5618%, Test Loss: 1.4825 Acc: 97.9400%\n",
      "32/50[0:00:02.086346] Train Loss: 1.4755 Acc: 98.5927%, Test Loss: 1.4849 Acc: 97.6800%\n",
      "33/50[0:00:02.089477] Train Loss: 1.4746 Acc: 98.6982%, Test Loss: 1.4822 Acc: 97.9200%\n",
      "34/50[0:00:02.100870] Train Loss: 1.4739 Acc: 98.7818%, Test Loss: 1.4833 Acc: 97.7400%\n",
      "35/50[0:00:02.113681] Train Loss: 1.4742 Acc: 98.7200%, Test Loss: 1.4854 Acc: 97.5800%\n",
      "36/50[0:00:02.097566] Train Loss: 1.4741 Acc: 98.7618%, Test Loss: 1.4856 Acc: 97.5600%\n",
      "37/50[0:00:02.103454] Train Loss: 1.4730 Acc: 98.8673%, Test Loss: 1.4818 Acc: 97.9600%\n",
      "38/50[0:00:02.102657] Train Loss: 1.4726 Acc: 98.8982%, Test Loss: 1.4857 Acc: 97.6300%\n",
      "39/50[0:00:02.106943] Train Loss: 1.4728 Acc: 98.8800%, Test Loss: 1.4828 Acc: 97.8500%\n",
      "40/50[0:00:02.108723] Train Loss: 1.4719 Acc: 98.9673%, Test Loss: 1.4822 Acc: 97.9200%\n",
      "41/50[0:00:02.107147] Train Loss: 1.4716 Acc: 99.0091%, Test Loss: 1.4825 Acc: 97.8300%\n",
      "42/50[0:00:02.100263] Train Loss: 1.4711 Acc: 99.0418%, Test Loss: 1.4811 Acc: 97.9700%\n",
      "43/50[0:00:02.102313] Train Loss: 1.4713 Acc: 99.0273%, Test Loss: 1.4805 Acc: 98.0600%\n",
      "44/50[0:00:02.101211] Train Loss: 1.4710 Acc: 99.0545%, Test Loss: 1.4815 Acc: 97.9500%\n",
      "45/50[0:00:02.108815] Train Loss: 1.4707 Acc: 99.0818%, Test Loss: 1.4813 Acc: 98.0400%\n",
      "46/50[0:00:02.102489] Train Loss: 1.4701 Acc: 99.1364%, Test Loss: 1.4807 Acc: 98.0900%\n",
      "47/50[0:00:02.099702] Train Loss: 1.4704 Acc: 99.1164%, Test Loss: 1.4789 Acc: 98.2900%\n",
      "48/50[0:00:02.100708] Train Loss: 1.4698 Acc: 99.1691%, Test Loss: 1.4805 Acc: 98.0600%\n",
      "49/50[0:00:02.095145] Train Loss: 1.4696 Acc: 99.1945%, Test Loss: 1.4824 Acc: 97.8500%\n",
      "50/50[0:00:02.095055] Train Loss: 1.4692 Acc: 99.2345%, Test Loss: 1.4803 Acc: 98.1500%\n",
      "Total run time: 1m 45.3s\n"
     ]
    }
   ],
   "source": [
    "since = time.time()\n",
    "for epoch in range(EPOCHS):\n",
    "    start = time.time()\n",
    "    tr_loss, tr_acc = train(model, dataloader_train, loss, optimizer)\n",
    "    va_loss, va_acc = validate(model, dataloader_test, loss)\n",
    "    \n",
    "    time_elapsed = time.time() - start\n",
    "    print(('{:2d}/{:d}[{:s}] Train Loss: {:.4f} Acc: {:.4f}%, ' +\n",
    "        'Test Loss: {:.4f} Acc: {:.4f}%').format(\n",
    "            epoch+1, EPOCHS, str(datetime.timedelta(seconds=time_elapsed)),\n",
    "            tr_loss, tr_acc*100.,\n",
    "            va_loss, va_acc*100.))\n",
    "    \n",
    "time_elapsed = time.time() - since\n",
    "print('Total run time: {:.0f}m {:.1f}s'.format(\n",
    "    time_elapsed // 60,\n",
    "    time_elapsed % 60))\n",
    "\n",
    "# if not os.path.exists('results'):\n",
    "#     os.makedirs('results')\n",
    "\n",
    "# torch.save(model.state_dict(), PATH_RESULTS)"
   ]
  },
  {
   "cell_type": "code",
   "execution_count": 15,
   "metadata": {},
   "outputs": [],
   "source": [
    "# Load model from saved file\n",
    "# model.load_state_dict(torch.load(PATH_RESULTS))\n",
    "\n",
    "# _, acc_test = validate(model, dataloader_test, loss)\n",
    "# print('Test set accuracy: {:.4f}'.format(acc_test*100))"
   ]
  },
  {
   "cell_type": "markdown",
   "metadata": {},
   "source": [
    "## Remove missclassified samples"
   ]
  },
  {
   "cell_type": "code",
   "execution_count": 16,
   "metadata": {},
   "outputs": [
    {
     "name": "stdout",
     "output_type": "stream",
     "text": [
      "Training set: 55000\n",
      "Accuracy on 54588 filtered training examples: 100.0000%\n",
      "Test set: 10000\n",
      "Accuracy on 9815 filtered test examples: 100.0000%\n"
     ]
    }
   ],
   "source": [
    "print('Training set: {}'.format(len(dataset_train)))\n",
    "tensor_train_X, tensor_train_y = get_correct_examples(model, dataset_train, device=device, return_tensor=True)\n",
    "dataset_train_perfect = TensorDataset(tensor_train_X, tensor_train_y)\n",
    "dataloader_train_perfect = DataLoader(dataset_train_perfect, batch_size=512, shuffle=True)\n",
    "_, acc = validate(model, dataloader_train_perfect, loss)\n",
    "print('Accuracy on {} filtered training examples: {:.4f}%'.format(len(dataloader_train_perfect.dataset), acc*100))\n",
    "\n",
    "print('Test set: {}'.format(len(dataset_test)))\n",
    "tensor_test_X, tensor_test_y = get_correct_examples(model, dataset_test, device=device, return_tensor=True)\n",
    "dataset_test_perfect = TensorDataset(tensor_test_X, tensor_test_y)\n",
    "dataloader_test_perfect = DataLoader(dataset_test_perfect, batch_size=512, shuffle=True)\n",
    "_, acc = validate(model, dataloader_test_perfect, loss)\n",
    "print('Accuracy on {} filtered test examples: {:.4f}%'.format(len(dataloader_test_perfect.dataset), acc*100))"
   ]
  },
  {
   "cell_type": "markdown",
   "metadata": {},
   "source": [
    "## Create adversarial examples "
   ]
  },
  {
   "cell_type": "code",
   "execution_count": 17,
   "metadata": {},
   "outputs": [],
   "source": [
    "classifier = PyTorchClassifier(\n",
    "    model=model, \n",
    "    loss=loss, \n",
    "    input_shape=(1, 28, 28), \n",
    "    optimizer=optimizer,\n",
    "    nb_classes=10,\n",
    "    clip_values=(0.0, 1.0),\n",
    "    device_type=device\n",
    ")\n",
    "\n",
    "# attack = FastGradientMethod(estimator=classifier, eps=0.3)\n",
    "attack = BasicIterativeMethod(estimator=classifier, eps=0.3)"
   ]
  },
  {
   "cell_type": "code",
   "execution_count": 18,
   "metadata": {},
   "outputs": [],
   "source": [
    "# Prepare dataset for adversarial examples\n",
    "n = len(dataset_test_perfect)\n",
    "indices = torch.randperm(n)[:N_ADV]\n",
    "\n",
    "X_benign = tensor_test_X[indices].cpu().detach().numpy()\n",
    "y_true = tensor_test_y[indices].cpu().detach().numpy()"
   ]
  },
  {
   "cell_type": "code",
   "execution_count": 19,
   "metadata": {},
   "outputs": [
    {
     "name": "stderr",
     "output_type": "stream",
     "text": [
      "PGD - Batches:   0%|          | 0/63 [00:00<?, ?it/s]/home/lukec/.local/lib/python3.6/site-packages/art/estimators/classification/pytorch.py:525: UserWarning: To copy construct from a tensor, it is recommended to use sourceTensor.clone().detach() or sourceTensor.clone().detach().requires_grad_(True), rather than torch.tensor(sourceTensor).\n",
      "  x_grad = torch.tensor(x).to(self._device)\n",
      "/home/lukec/.local/lib/python3.6/site-packages/art/estimators/classification/pytorch.py:526: UserWarning: To copy construct from a tensor, it is recommended to use sourceTensor.clone().detach() or sourceTensor.clone().detach().requires_grad_(True), rather than torch.tensor(sourceTensor).\n",
      "  y_grad = torch.tensor(y).to(self._device)\n",
      "                                                              \r"
     ]
    }
   ],
   "source": [
    "# Predictions from benign samples\n",
    "pred_benign = np.argmax(classifier.predict(X_benign), axis=1)\n",
    "\n",
    "# Generate adversarial examples\n",
    "X_adv = attack.generate(x=X_benign)\n",
    "pred_adv = np.argmax(classifier.predict(X_adv), axis=1)"
   ]
  },
  {
   "cell_type": "code",
   "execution_count": 20,
   "metadata": {},
   "outputs": [
    {
     "name": "stdout",
     "output_type": "stream",
     "text": [
      "Model accuracy on clean examples: 100.0000%\n",
      "Model accuracy on adversarial examples: 3.1500%\n"
     ]
    }
   ],
   "source": [
    "accuracy = np.sum(pred_benign == y_true) / float(len(pred_benign))\n",
    "print(\"Model accuracy on clean examples: {:.4f}%\".format(accuracy * 100))\n",
    "\n",
    "accuracy = np.sum(pred_adv == y_true) / float(len(pred_adv))\n",
    "print(\"Model accuracy on adversarial examples: {:.4f}%\".format(accuracy * 100))"
   ]
  },
  {
   "cell_type": "markdown",
   "metadata": {},
   "source": [
    "## MagNet"
   ]
  },
  {
   "cell_type": "code",
   "execution_count": 21,
   "metadata": {},
   "outputs": [],
   "source": [
    "from torchvision.utils import make_grid\n",
    "from defences.magnet import (Autoencoder1, Autoencoder2, MagNetDetector, \n",
    "                    MagNetAutoencoderReformer, MagNetNoiseReformer, MagNetOperator)"
   ]
  },
  {
   "cell_type": "code",
   "execution_count": 22,
   "metadata": {},
   "outputs": [],
   "source": [
    "PATH_DETECTOR = os.path.join('..', 'results', 'detector1.pt')"
   ]
  },
  {
   "cell_type": "code",
   "execution_count": 23,
   "metadata": {},
   "outputs": [],
   "source": [
    "autoencoder1 = Autoencoder1(n_channel=1)\n",
    "detector1 = MagNetDetector(\n",
    "    encoder=autoencoder1,\n",
    "    classifier=model,\n",
    "    lr=0.001,\n",
    "    batch_size=256,\n",
    "    weight_decay=1e-09,\n",
    "    x_min=0.0,\n",
    "    x_max=1.0,\n",
    "    noise_strength=0.025,\n",
    "    algorithm='error',\n",
    "    p=1,\n",
    "    device=device)"
   ]
  },
  {
   "cell_type": "code",
   "execution_count": 24,
   "metadata": {},
   "outputs": [
    {
     "name": "stderr",
     "output_type": "stream",
     "text": [
      "100%|██████████| 50/50 [00:54<00:00,  1.09s/it]\n"
     ]
    },
    {
     "data": {
      "text/plain": [
       "<defences.magnet.MagNetDetector at 0x7f8b63af53c8>"
      ]
     },
     "execution_count": 24,
     "metadata": {},
     "output_type": "execute_result"
    }
   ],
   "source": [
    "detector1.fit(X_train, epochs=50, disable_progress_bar=False)"
   ]
  },
  {
   "cell_type": "code",
   "execution_count": 25,
   "metadata": {},
   "outputs": [
    {
     "data": {
      "image/png": "[encoded data removed]",
      "text/plain": [
       "<Figure size 576x432 with 1 Axes>"
      ]
     },
     "metadata": {
      "needs_background": "light"
     },
     "output_type": "display_data"
    }
   ],
   "source": [
    "hitstory_loss = detector1.history_train_loss\n",
    "n = len(hitstory_loss)\n",
    "\n",
    "plt.figure(figsize=(8, 6))\n",
    "x = np.arange(1, n+1)\n",
    "plt.plot(x, hitstory_loss, c='blue', label='Training loss')\n",
    "plt.legend()\n",
    "plt.xlabel('Epoch')\n",
    "plt.ylabel('MSE')\n",
    "plt.show()"
   ]
  },
  {
   "cell_type": "code",
   "execution_count": 26,
   "metadata": {},
   "outputs": [
    {
     "name": "stderr",
     "output_type": "stream",
     "text": [
      "100%|██████████| 50/50 [00:39<00:00,  1.26it/s]\n"
     ]
    },
    {
     "data": {
      "text/plain": [
       "<defences.magnet.MagNetDetector at 0x7f8b5ba80ac8>"
      ]
     },
     "execution_count": 26,
     "metadata": {},
     "output_type": "execute_result"
    }
   ],
   "source": [
    "autoencoder2 = Autoencoder2(n_channel=1)\n",
    "detector2 = MagNetDetector(\n",
    "    encoder=autoencoder2,\n",
    "    classifier=model,\n",
    "    lr=0.001,\n",
    "    batch_size=256,\n",
    "    weight_decay=1e-09,\n",
    "    x_min=0.0,\n",
    "    x_max=1.0,\n",
    "    noise_strength=0.025,\n",
    "    algorithm='error',\n",
    "    p=2,\n",
    "    device=device)\n",
    "detector2.fit(X_train, epochs=50, disable_progress_bar=False)"
   ]
  },
  {
   "cell_type": "code",
   "execution_count": 27,
   "metadata": {},
   "outputs": [
    {
     "data": {
      "image/png": "[encoded data removed]",
      "text/plain": [
       "<Figure size 576x432 with 1 Axes>"
      ]
     },
     "metadata": {
      "needs_background": "light"
     },
     "output_type": "display_data"
    }
   ],
   "source": [
    "hitstory_loss = detector2.history_train_loss\n",
    "n = len(hitstory_loss)\n",
    "\n",
    "plt.figure(figsize=(8, 6))\n",
    "x = np.arange(1, n+1)\n",
    "plt.plot(x, hitstory_loss, c='blue', label='Training loss')\n",
    "plt.legend()\n",
    "plt.xlabel('Epoch')\n",
    "plt.ylabel('MSE')\n",
    "plt.show()"
   ]
  },
  {
   "cell_type": "code",
   "execution_count": 28,
   "metadata": {},
   "outputs": [
    {
     "name": "stdout",
     "output_type": "stream",
     "text": [
      "MSE training set: 0.001561, validation set: 0.001518\n",
      "MSE training set: 0.000539, validation set: 0.000480\n"
     ]
    }
   ],
   "source": [
    "mse = detector1.score(X_val)\n",
    "print('MSE training set: {:.6f}, validation set: {:.6f}'.format(detector1.history_train_loss[-1], mse))\n",
    "\n",
    "mse = detector2.score(X_val)\n",
    "print('MSE training set: {:.6f}, validation set: {:.6f}'.format(detector2.history_train_loss[-1], mse))"
   ]
  },
  {
   "cell_type": "code",
   "execution_count": 29,
   "metadata": {},
   "outputs": [
    {
     "data": {
      "image/png": "[encoded data removed]",
      "text/plain": [
       "<Figure size 1008x288 with 1 Axes>"
      ]
     },
     "metadata": {
      "needs_background": "light"
     },
     "output_type": "display_data"
    },
    {
     "data": {
      "image/png": "[encoded data removed]",
      "text/plain": [
       "<Figure size 1008x288 with 1 Axes>"
      ]
     },
     "metadata": {
      "needs_background": "light"
     },
     "output_type": "display_data"
    }
   ],
   "source": [
    "X_test_ae = detector1.predict(X_test)\n",
    "\n",
    "grid_image = make_grid(torch.from_numpy(X_test[:16])).permute(1, 2, 0).detach().numpy()\n",
    "plt.figure(figsize=(14, 4))\n",
    "plt.imshow(grid_image)\n",
    "plt.axis('off')\n",
    "plt.show()\n",
    "\n",
    "grid_image_ae = make_grid(torch.from_numpy(X_test_ae[:16])).permute(1, 2, 0).detach().numpy()\n",
    "plt.figure(figsize=(14, 4))\n",
    "plt.imshow(grid_image_ae)\n",
    "plt.axis('off')\n",
    "plt.show()"
   ]
  },
  {
   "cell_type": "code",
   "execution_count": 30,
   "metadata": {},
   "outputs": [
    {
     "data": {
      "image/png": "[encoded data removed]",
      "text/plain": [
       "<Figure size 1008x288 with 1 Axes>"
      ]
     },
     "metadata": {
      "needs_background": "light"
     },
     "output_type": "display_data"
    },
    {
     "data": {
      "image/png": "[encoded data removed]",
      "text/plain": [
       "<Figure size 1008x288 with 1 Axes>"
      ]
     },
     "metadata": {
      "needs_background": "light"
     },
     "output_type": "display_data"
    }
   ],
   "source": [
    "X_test_ae = detector2.predict(X_test)\n",
    "\n",
    "grid_image = make_grid(torch.from_numpy(X_test[:16])).permute(1, 2, 0).detach().numpy()\n",
    "plt.figure(figsize=(14, 4))\n",
    "plt.imshow(grid_image)\n",
    "plt.axis('off')\n",
    "plt.show()\n",
    "\n",
    "grid_image_ae = make_grid(torch.from_numpy(X_test_ae[:16])).permute(1, 2, 0).detach().numpy()\n",
    "plt.figure(figsize=(14, 4))\n",
    "plt.imshow(grid_image_ae)\n",
    "plt.axis('off')\n",
    "plt.show()"
   ]
  },
  {
   "cell_type": "code",
   "execution_count": 31,
   "metadata": {},
   "outputs": [
    {
     "data": {
      "text/plain": [
       "0.025404984"
      ]
     },
     "execution_count": 31,
     "metadata": {},
     "output_type": "execute_result"
    }
   ],
   "source": [
    "detector1.search_threshold(X_val, fp=0.001, update=True)"
   ]
  },
  {
   "cell_type": "code",
   "execution_count": 32,
   "metadata": {},
   "outputs": [],
   "source": [
    "X_ae = detector1.predict(X_val)"
   ]
  },
  {
   "cell_type": "code",
   "execution_count": 33,
   "metadata": {},
   "outputs": [
    {
     "data": {
      "text/plain": [
       "0.025404984"
      ]
     },
     "execution_count": 33,
     "metadata": {},
     "output_type": "execute_result"
    }
   ],
   "source": [
    "diff = np.abs(X_val - X_ae)\n",
    "diff = diff.reshape(diff.shape[0], -1)\n",
    "scores = np.mean(diff, axis=1)\n",
    "scores = np.sort(scores)\n",
    "fp = 0.001\n",
    "index = int(np.round((1-fp) * len(X_val)))\n",
    "scores[index]"
   ]
  },
  {
   "cell_type": "code",
   "execution_count": 34,
   "metadata": {},
   "outputs": [
    {
     "data": {
      "image/png": "[encoded data removed]",
      "text/plain": [
       "<Figure size 576x432 with 1 Axes>"
      ]
     },
     "metadata": {
      "needs_background": "light"
     },
     "output_type": "display_data"
    }
   ],
   "source": [
    "plt.figure(figsize=(8, 6))\n",
    "y_ = np.arange(1, len(scores)+1)\n",
    "plt.plot(scores, y_, c='blue', label='Error')\n",
    "plt.vlines(scores[index], 0, 5000, colors='red', linestyles='dashed')\n",
    "plt.legend()\n",
    "plt.xlabel('L1 Error')\n",
    "plt.ylabel('Sorted sample')\n",
    "plt.show()"
   ]
  },
  {
   "cell_type": "code",
   "execution_count": 35,
   "metadata": {},
   "outputs": [
    {
     "data": {
      "text/plain": [
       "0.0012907735"
      ]
     },
     "execution_count": 35,
     "metadata": {},
     "output_type": "execute_result"
    }
   ],
   "source": [
    "detector2.search_threshold(X_val, fp=0.001, update=True)"
   ]
  },
  {
   "cell_type": "code",
   "execution_count": 36,
   "metadata": {},
   "outputs": [],
   "source": [
    "X_ae = detector2.predict(X_val)"
   ]
  },
  {
   "cell_type": "code",
   "execution_count": 37,
   "metadata": {},
   "outputs": [
    {
     "data": {
      "text/plain": [
       "0.0012907735"
      ]
     },
     "execution_count": 37,
     "metadata": {},
     "output_type": "execute_result"
    }
   ],
   "source": [
    "diff = np.abs(X_val - X_ae)\n",
    "diff = diff.reshape(diff.shape[0], -1)\n",
    "scores = np.mean(np.power(diff, 2), axis=1)\n",
    "scores = np.sort(scores)\n",
    "fp = 0.001\n",
    "index = int(np.round((1-fp) * len(X_val)))\n",
    "scores[index]"
   ]
  },
  {
   "cell_type": "code",
   "execution_count": 38,
   "metadata": {},
   "outputs": [
    {
     "data": {
      "image/png": "[encoded data removed]",
      "text/plain": [
       "<Figure size 576x432 with 1 Axes>"
      ]
     },
     "metadata": {
      "needs_background": "light"
     },
     "output_type": "display_data"
    }
   ],
   "source": [
    "plt.figure(figsize=(8, 6))\n",
    "y_ = np.arange(1, len(scores)+1)\n",
    "plt.plot(scores, y_, c='blue', label='Error')\n",
    "plt.vlines(scores[index], 0, 5000, colors='red', linestyles='dashed')\n",
    "plt.legend()\n",
    "plt.xlabel('L1 Error')\n",
    "plt.ylabel('Sorted sample')\n",
    "plt.show()"
   ]
  },
  {
   "cell_type": "code",
   "execution_count": 39,
   "metadata": {},
   "outputs": [
    {
     "name": "stdout",
     "output_type": "stream",
     "text": [
      "5000\n",
      "False positive in validation set 4\n",
      "2000\n",
      "False positive in test set 2\n",
      "Blocked adversarial examples 1996\n"
     ]
    }
   ],
   "source": [
    "print(len(X_val))\n",
    "results = detector1.detect(X_val)\n",
    "print('False positive in validation set', len(np.where(results == True)[0]))\n",
    "\n",
    "print(len(X_benign))\n",
    "results = detector1.detect(X_benign)\n",
    "print('False positive in test set', len(np.where(results == True)[0]))\n",
    "\n",
    "results = detector1.detect(X_adv)\n",
    "print('Blocked adversarial examples', len(np.where(results == True)[0]))"
   ]
  },
  {
   "cell_type": "code",
   "execution_count": 40,
   "metadata": {},
   "outputs": [
    {
     "name": "stdout",
     "output_type": "stream",
     "text": [
      "5000\n",
      "False positive in validation set 4\n",
      "2000\n",
      "False positive in test set 2\n",
      "Blocked adversarial examples 1996\n"
     ]
    }
   ],
   "source": [
    "print(len(X_val))\n",
    "results = detector2.detect(X_val)\n",
    "print('False positive in validation set', len(np.where(results == True)[0]))\n",
    "\n",
    "print(len(X_benign))\n",
    "results = detector2.detect(X_benign)\n",
    "print('False positive in test set', len(np.where(results == True)[0]))\n",
    "\n",
    "results = detector2.detect(X_adv)\n",
    "print('Blocked adversarial examples', len(np.where(results == True)[0]))"
   ]
  },
  {
   "cell_type": "code",
   "execution_count": 41,
   "metadata": {},
   "outputs": [
    {
     "name": "stderr",
     "output_type": "stream",
     "text": [
      "100%|██████████| 50/50 [00:38<00:00,  1.31it/s]\n"
     ]
    },
    {
     "data": {
      "text/plain": [
       "<defences.magnet.MagNetDetector at 0x7f8b5b781a20>"
      ]
     },
     "execution_count": 41,
     "metadata": {},
     "output_type": "execute_result"
    }
   ],
   "source": [
    "autoencoder3 = Autoencoder2(n_channel=1)\n",
    "detector3 = MagNetDetector(\n",
    "    encoder=autoencoder3,\n",
    "    classifier=model,\n",
    "    lr=0.001,\n",
    "    batch_size=256,\n",
    "    weight_decay=1e-09,\n",
    "    x_min=0.0,\n",
    "    x_max=1.0,\n",
    "    noise_strength=0.025,\n",
    "    algorithm='prob',\n",
    "    p=None,\n",
    "    device=device)\n",
    "detector3.fit(X_train, epochs=50, disable_progress_bar=False)"
   ]
  },
  {
   "cell_type": "code",
   "execution_count": 42,
   "metadata": {},
   "outputs": [
    {
     "data": {
      "text/plain": [
       "0.0052914573"
      ]
     },
     "execution_count": 42,
     "metadata": {},
     "output_type": "execute_result"
    }
   ],
   "source": [
    "detector3.search_threshold(X_val, fp=0.001, update=True)"
   ]
  },
  {
   "cell_type": "code",
   "execution_count": 43,
   "metadata": {},
   "outputs": [
    {
     "name": "stdout",
     "output_type": "stream",
     "text": [
      "5000\n",
      "False positive in validation set 4\n",
      "2000\n",
      "False positive in test set 1\n",
      "Blocked adversarial examples 1990\n"
     ]
    }
   ],
   "source": [
    "print(len(X_val))\n",
    "results = detector3.detect(X_val)\n",
    "print('False positive in validation set', len(np.where(results == True)[0]))\n",
    "\n",
    "print(len(X_benign))\n",
    "results = detector3.detect(X_benign)\n",
    "print('False positive in test set', len(np.where(results == True)[0]))\n",
    "\n",
    "results = detector3.detect(X_adv)\n",
    "print('Blocked adversarial examples', len(np.where(results == True)[0]))"
   ]
  },
  {
   "cell_type": "code",
   "execution_count": 44,
   "metadata": {},
   "outputs": [
    {
     "name": "stdout",
     "output_type": "stream",
     "text": [
      "Model accuracy on advsarial examples: 3.1500%\n",
      "Model accuracy on noisy samples: 3.2500%\n"
     ]
    }
   ],
   "source": [
    "reformer1 = MagNetNoiseReformer(noise_strength=0.025)\n",
    "X_noisy = reformer1.reform(X_adv)\n",
    "pred_noisy = np.argmax(classifier.predict(X_noisy), axis=1)\n",
    "\n",
    "accuracy = np.sum(pred_adv == y_true) / float(len(pred_adv))\n",
    "print(\"Model accuracy on advsarial examples: {:.4f}%\".format(accuracy * 100))\n",
    "\n",
    "accuracy = np.sum(pred_noisy == y_true) / float(len(pred_noisy))\n",
    "print(\"Model accuracy on noisy samples: {:.4f}%\".format(accuracy * 100))"
   ]
  },
  {
   "cell_type": "code",
   "execution_count": 45,
   "metadata": {},
   "outputs": [
    {
     "name": "stdout",
     "output_type": "stream",
     "text": [
      "Model accuracy on advsarial examples: 3.1500%\n",
      "Model accuracy on encoded samples: 3.2500%\n"
     ]
    }
   ],
   "source": [
    "reformer2 = MagNetAutoencoderReformer(encoder=autoencoder1, batch_size=512, device=device)\n",
    "X_reformed = reformer2.reform(X_adv)\n",
    "\n",
    "pred_reformed = np.argmax(classifier.predict(X_reformed), axis=1)\n",
    "\n",
    "accuracy = np.sum(pred_adv == y_true) / float(len(pred_adv))\n",
    "print(\"Model accuracy on advsarial examples: {:.4f}%\".format(accuracy * 100))\n",
    "\n",
    "accuracy = np.sum(pred_noisy == y_true) / float(len(pred_reformed))\n",
    "print(\"Model accuracy on encoded samples: {:.4f}%\".format(accuracy * 100))"
   ]
  },
  {
   "cell_type": "code",
   "execution_count": 46,
   "metadata": {},
   "outputs": [],
   "source": [
    "# Testing save and load\n",
    "detector1.save(PATH_DETECTOR)"
   ]
  },
  {
   "cell_type": "code",
   "execution_count": 47,
   "metadata": {},
   "outputs": [],
   "source": [
    "autoencoder = Autoencoder1(n_channel=1)\n",
    "detector = MagNetDetector(encoder=autoencoder)\n",
    "detector.load(PATH_DETECTOR)"
   ]
  },
  {
   "cell_type": "code",
   "execution_count": 48,
   "metadata": {},
   "outputs": [
    {
     "name": "stdout",
     "output_type": "stream",
     "text": [
      "2000\n",
      "False positive in test set 2\n",
      "Blocked adversarial examples 1996\n"
     ]
    }
   ],
   "source": [
    "print(len(X_benign))\n",
    "results = detector.detect(X_benign)\n",
    "print('False positive in test set', len(np.where(results == True)[0]))\n",
    "\n",
    "results = detector.detect(X_adv)\n",
    "print('Blocked adversarial examples', len(np.where(results == True)[0]))"
   ]
  },
  {
   "cell_type": "code",
   "execution_count": 49,
   "metadata": {},
   "outputs": [],
   "source": [
    "# Testing MagNetOperator\n",
    "operator = MagNetOperator(\n",
    "    classifier=model,\n",
    "    detectors=[detector1, detector2],\n",
    "    reformer=reformer1,\n",
    "    batch_size=512,\n",
    "    device=device)"
   ]
  },
  {
   "cell_type": "code",
   "execution_count": 50,
   "metadata": {},
   "outputs": [
    {
     "name": "stdout",
     "output_type": "stream",
     "text": [
      "(2000, 1, 28, 28) (2000,)\n",
      "Model accuracy on reformed samples: 3.2000%\n",
      "Blocked samples: 1996\n"
     ]
    }
   ],
   "source": [
    "# Testing on adversarial examples\n",
    "X_reformed, labels = operator.detect(X_adv)\n",
    "pred = np.argmax(classifier.predict(X_reformed), axis=1)\n",
    "accuracy = np.sum(pred == y_true) / float(len(pred))\n",
    "\n",
    "print(X_reformed.shape, labels.shape)\n",
    "print(\"Model accuracy on reformed samples: {:.4f}%\".format(accuracy * 100))\n",
    "print('Blocked samples:', len(np.where(labels == True)[0]))"
   ]
  },
  {
   "cell_type": "code",
   "execution_count": 51,
   "metadata": {},
   "outputs": [
    {
     "name": "stdout",
     "output_type": "stream",
     "text": [
      "(2000, 1, 28, 28) (2000,)\n",
      "Model accuracy on reformed samples: 99.9500%\n",
      "Blocked samples: 2\n"
     ]
    }
   ],
   "source": [
    "# Testing on benign samples\n",
    "X_reformed, labels = operator.detect(X_benign)\n",
    "pred = np.argmax(classifier.predict(X_reformed), axis=1)\n",
    "accuracy = np.sum(pred == y_true) / float(len(pred))\n",
    "\n",
    "print(X_reformed.shape, labels.shape)\n",
    "print(\"Model accuracy on reformed samples: {:.4f}%\".format(accuracy * 100))\n",
    "print('Blocked samples:', len(np.where(labels == True)[0]))"
   ]
  },
  {
   "cell_type": "code",
   "execution_count": 52,
   "metadata": {},
   "outputs": [
    {
     "name": "stdout",
     "output_type": "stream",
     "text": [
      "(4000, 1, 28, 28) (4000,) (4000,)\n"
     ]
    }
   ],
   "source": [
    "# Create a test set by combining adversarial examples and benign samples\n",
    "X_mixed = np.concatenate((X_adv, X_benign))\n",
    "y_label_mixed = np.concatenate((y_true, y_true))\n",
    "# adversarial examples = 1, benign samples = 0\n",
    "y_adv_mixed = np.concatenate((np.ones_like(y_true), np.zeros_like(y_true)))\n",
    "\n",
    "print(X_mixed.shape, y_label_mixed.shape, y_adv_mixed.shape)"
   ]
  },
  {
   "cell_type": "code",
   "execution_count": 53,
   "metadata": {},
   "outputs": [
    {
     "name": "stdout",
     "output_type": "stream",
     "text": [
      "(4000, 1, 28, 28) (4000,)\n",
      "Model accuracy on reformed samples: 51.6000%\n",
      "Blocked samples: 1998\n"
     ]
    }
   ],
   "source": [
    "X_reformed, labels = operator.detect(X_mixed)\n",
    "pred = np.argmax(classifier.predict(X_reformed), axis=1)\n",
    "accuracy = np.sum(pred == y_label_mixed) / float(len(pred))\n",
    "\n",
    "print(X_reformed.shape, labels.shape)\n",
    "print(\"Model accuracy on reformed samples: {:.4f}%\".format(accuracy * 100))\n",
    "print('Blocked samples:', len(np.where(labels == True)[0]))"
   ]
  },
  {
   "cell_type": "code",
   "execution_count": 54,
   "metadata": {},
   "outputs": [
    {
     "name": "stdout",
     "output_type": "stream",
     "text": [
      "0.999\n",
      "1.0\n",
      "0.9995\n"
     ]
    }
   ],
   "source": [
    "print(operator.score(X_benign, y_true, np.zeros_like(y_true)))\n",
    "print(operator.score(X_adv, y_true, np.ones_like(y_true)))\n",
    "print(operator.score(X_mixed, y_label_mixed, y_adv_mixed))"
   ]
  },
  {
   "cell_type": "code",
   "execution_count": null,
   "metadata": {},
   "outputs": [],
   "source": []
  }
 ],
 "metadata": {
  "kernelspec": {
   "display_name": "Python 3.6.9 64-bit",
   "language": "python",
   "name": "python36964bit4ada1bcfcd0f4caa95e946f583001e1b"
  },
  "language_info": {
   "codemirror_mode": {
    "name": "ipython",
    "version": 3
   },
   "file_extension": ".py",
   "mimetype": "text/x-python",
   "name": "python",
   "nbconvert_exporter": "python",
   "pygments_lexer": "ipython3",
   "version": "3.6.9"
  }
 },
 "nbformat": 4,
 "nbformat_minor": 4
}
