{
 "cells": [
  {
   "cell_type": "code",
   "execution_count": null,
   "metadata": {},
   "outputs": [],
   "source": [
    "import os\n",
    "import sys\n",
    "\n",
    "sys.path.append('..')"
   ]
  },
  {
   "cell_type": "code",
   "execution_count": 2,
   "metadata": {},
   "outputs": [],
   "source": [
    "%load_ext autoreload\n",
    "%autoreload 2"
   ]
  },
  {
   "cell_type": "code",
   "execution_count": 34,
   "metadata": {},
   "outputs": [],
   "source": [
    "import matplotlib.pyplot as plt\n",
    "import numpy as np\n",
    "import torch\n",
    "import torchvision.datasets as datasets\n",
    "import torchvision as tv\n",
    "from sklearn.metrics import roc_auc_score, roc_curve, auc\n",
    "from tqdm import tqdm\n",
    "\n",
    "from defences.baard import ApplicabilityStage, ReliabilityStage, DecidabilityStage, BAARDOperator\n",
    "from models.mnist import BaseModel\n",
    "from models.cifar10 import Resnet\n",
    "from models.torch_util import predict_numpy\n",
    "from defences.util import get_correct_examples"
   ]
  },
  {
   "cell_type": "code",
   "execution_count": 4,
   "metadata": {},
   "outputs": [],
   "source": [
    "PATH_DATA = os.path.join('..', 'data')\n",
    "PATH = os.path.join('..', 'result_1')\n",
    "N_CLASSES = 10\n",
    "DATA = 'mnist'\n",
    "MODEL_NAME = 'dnn'\n",
    "# DATA = 'cifar10'\n",
    "# MODEL_NAME = 'resnet'\n",
    "\n",
    "ATTACK = 'apgd2'\n",
    "EPS = 2.0"
   ]
  },
  {
   "cell_type": "code",
   "execution_count": 5,
   "metadata": {},
   "outputs": [
    {
     "data": {
      "text/plain": [
       "<All keys matched successfully>"
      ]
     },
     "execution_count": 5,
     "metadata": {},
     "output_type": "execute_result"
    }
   ],
   "source": [
    "# Load model\n",
    "transform = tv.transforms.Compose([tv.transforms.ToTensor()])\n",
    "device = torch.device('cuda' if torch.cuda.is_available() else 'cpu')\n",
    "if DATA == 'mnist':\n",
    "    model = BaseModel(use_prob=True).to(device)\n",
    "    dataset_train = datasets.MNIST(PATH_DATA, train=True, download=True, transform=transform)\n",
    "else:\n",
    "    model = Resnet(use_prob=True).to(device)\n",
    "    dataset_train = datasets.CIFAR10(PATH_DATA, train=True, download=True, transform=transform)\n",
    "file_model = os.path.join(PATH, '{}_{}_model.pt'.format(DATA, MODEL_NAME))\n",
    "model.load_state_dict(torch.load(file_model))"
   ]
  },
  {
   "cell_type": "code",
   "execution_count": 6,
   "metadata": {},
   "outputs": [],
   "source": [
    "\n",
    "tensor_X, tensor_y = get_correct_examples(model, dataset_train, device=device, return_tensor=True)\n",
    "X_train = tensor_X.detach().numpy()\n",
    "y_train = tensor_y.detach().numpy()"
   ]
  },
  {
   "cell_type": "code",
   "execution_count": 7,
   "metadata": {},
   "outputs": [],
   "source": [
    "# Initialize BAARD\n",
    "stages = []\n",
    "stages.append(ApplicabilityStage(n_classes=N_CLASSES))\n",
    "stages.append(ReliabilityStage(n_classes=N_CLASSES))\n",
    "stages.append(DecidabilityStage(n_classes=N_CLASSES))\n",
    "detector = BAARDOperator(stages=stages)"
   ]
  },
  {
   "cell_type": "code",
   "execution_count": 8,
   "metadata": {},
   "outputs": [],
   "source": [
    "# Load training data\n",
    "file_baard_train = os.path.join(PATH, '{}_{}_baard_s1_train_data.pt'.format(DATA, MODEL_NAME))\n",
    "obj = torch.load(file_baard_train)\n",
    "X_baard_train = obj['X']\n",
    "y_baard_train = obj['y']"
   ]
  },
  {
   "cell_type": "code",
   "execution_count": 9,
   "metadata": {},
   "outputs": [
    {
     "name": "stdout",
     "output_type": "stream",
     "text": [
      "Load from: ../result_1/mnist_dnn_baard_threshold.pt\n"
     ]
    }
   ],
   "source": [
    "# Load thresholds\n",
    "file_baard_threshold = os.path.join(PATH, '{}_{}_baard_threshold.pt'.format(DATA, MODEL_NAME))\n",
    "detector.load(file_baard_threshold)"
   ]
  },
  {
   "cell_type": "code",
   "execution_count": 10,
   "metadata": {},
   "outputs": [],
   "source": [
    "stages[0].fit(X_baard_train, y_baard_train)\n",
    "stages[1].fit(X_train, y_train)\n",
    "stages[2].fit(X_train, y_train)\n",
    "\n",
    "dataset_train = datasets.MNIST(PATH_DATA, train=True, download=True, transform=transform)\n"
   ]
  },
  {
   "cell_type": "code",
   "execution_count": 11,
   "metadata": {},
   "outputs": [
    {
     "name": "stdout",
     "output_type": "stream",
     "text": [
      "(6000, 1, 28, 28) (6000,) (6000, 1, 28, 28)\n"
     ]
    }
   ],
   "source": [
    "file_data = os.path.join(PATH, '{}_{}_{}_{}.pt'.format(DATA, MODEL_NAME, ATTACK, EPS))\n",
    "obj = torch.load(file_data)\n",
    "X = obj['X']\n",
    "y = obj['y']\n",
    "adv = obj['adv']\n",
    "\n",
    "print(X.shape, y.shape, adv.shape)"
   ]
  },
  {
   "cell_type": "code",
   "execution_count": 12,
   "metadata": {},
   "outputs": [
    {
     "data": {
      "text/plain": [
       "0.1445"
      ]
     },
     "execution_count": 12,
     "metadata": {},
     "output_type": "execute_result"
    }
   ],
   "source": [
    "pred_adv = predict_numpy(model, adv, device)\n",
    "\n",
    "np.mean(pred_adv == y)"
   ]
  },
  {
   "cell_type": "code",
   "execution_count": 13,
   "metadata": {},
   "outputs": [],
   "source": [
    "X_def_test = (X[:1000])[:100]\n",
    "y_def_test = (y[:1000])[:100]\n",
    "adv_def_test = (adv[:1000])[:100]\n",
    "pred_adv_def_test = (pred_adv[:1000])[:100]\n",
    "    \n",
    "X_def_val = (X[1000:2000])[:100]\n",
    "y_def_val = (y[1000:2000])[:100]\n",
    "adv_def_val = (adv[1000:2000])[:100]\n",
    "pred_adv_def_val = (pred_adv[1000:2000])[:100]"
   ]
  },
  {
   "cell_type": "code",
   "execution_count": 14,
   "metadata": {},
   "outputs": [
    {
     "name": "stderr",
     "output_type": "stream",
     "text": [
      "Applicability: 100%|██████████| 10/10 [00:00<00:00, 20600.71it/s]\n",
      "Applicability: 100%|██████████| 10/10 [00:00<00:00, 21087.50it/s]"
     ]
    },
    {
     "name": "stdout",
     "output_type": "stream",
     "text": [
      "TPR 100 FPR: 3\n"
     ]
    },
    {
     "name": "stderr",
     "output_type": "stream",
     "text": [
      "\n"
     ]
    }
   ],
   "source": [
    "stage = 0\n",
    "output_adv = stages[stage].predict(adv_def_val, pred_adv_def_val)\n",
    "output_X = stages[stage].predict(X_def_val, y_def_val)\n",
    "print('TPR', np.sum(output_adv), 'FPR:', np.sum(output_X))"
   ]
  },
  {
   "cell_type": "code",
   "execution_count": 15,
   "metadata": {},
   "outputs": [
    {
     "name": "stderr",
     "output_type": "stream",
     "text": [
      "Reliability: 100%|██████████| 10/10 [00:00<00:00, 29.81it/s]\n",
      "Reliability: 100%|██████████| 10/10 [00:00<00:00, 29.12it/s]"
     ]
    },
    {
     "name": "stdout",
     "output_type": "stream",
     "text": [
      "TPR 14 FPR: 3\n"
     ]
    },
    {
     "name": "stderr",
     "output_type": "stream",
     "text": [
      "\n"
     ]
    }
   ],
   "source": [
    "stage = 1\n",
    "output_adv = stages[stage].predict(adv_def_val, pred_adv_def_val)\n",
    "output_X = stages[stage].predict(X_def_val, y_def_val)\n",
    "print('TPR', np.sum(output_adv), 'FPR:', np.sum(output_X))"
   ]
  },
  {
   "cell_type": "code",
   "execution_count": 16,
   "metadata": {},
   "outputs": [
    {
     "name": "stderr",
     "output_type": "stream",
     "text": [
      "Decidability: 100%|██████████| 10/10 [00:03<00:00,  3.01it/s]\n",
      "Decidability: 100%|██████████| 10/10 [00:03<00:00,  3.02it/s]"
     ]
    },
    {
     "name": "stdout",
     "output_type": "stream",
     "text": [
      "TPR 67 FPR: 2\n"
     ]
    },
    {
     "name": "stderr",
     "output_type": "stream",
     "text": [
      "\n"
     ]
    }
   ],
   "source": [
    "stage = 2\n",
    "output_adv = stages[stage].predict(adv_def_val, pred_adv_def_val)\n",
    "output_X = stages[stage].predict(X_def_val, y_def_val)\n",
    "print('TPR', np.sum(output_adv), 'FPR:', np.sum(output_X))"
   ]
  },
  {
   "cell_type": "code",
   "execution_count": 17,
   "metadata": {},
   "outputs": [
    {
     "name": "stderr",
     "output_type": "stream",
     "text": [
      "Applicability: 100%|██████████| 10/10 [00:00<00:00, 20410.24it/s]\n",
      "Applicability: 100%|██████████| 10/10 [00:00<00:00, 24385.49it/s]\n",
      "Reliability: 100%|██████████| 10/10 [00:00<00:00, 29.83it/s]\n",
      "Decidability: 100%|██████████| 10/10 [00:03<00:00,  3.17it/s]"
     ]
    },
    {
     "name": "stdout",
     "output_type": "stream",
     "text": [
      "TPR 100 FPR: 6\n"
     ]
    },
    {
     "name": "stderr",
     "output_type": "stream",
     "text": [
      "\n"
     ]
    }
   ],
   "source": [
    "output_adv = detector.detect(adv_def_val, pred_adv_def_val)\n",
    "output_X = detector.detect(X_def_val, y_def_val)\n",
    "print('TPR', np.sum(output_adv), 'FPR:', np.sum(output_X))"
   ]
  },
  {
   "cell_type": "code",
   "execution_count": 38,
   "metadata": {},
   "outputs": [
    {
     "data": {
      "text/plain": [
       "<defences.baard.ApplicabilityStage at 0x7f6a4ee97b38>"
      ]
     },
     "execution_count": 38,
     "metadata": {},
     "output_type": "execute_result"
    }
   ],
   "source": [
    "s1 = stages[0]\n",
    "s1.verbose = 0\n",
    "s1.quantile = 1.0\n",
    "s1.fit(X_baard_train, y_baard_train)"
   ]
  },
  {
   "cell_type": "code",
   "execution_count": 44,
   "metadata": {},
   "outputs": [
    {
     "data": {
      "text/plain": [
       "1.0"
      ]
     },
     "execution_count": 44,
     "metadata": {},
     "output_type": "execute_result"
    }
   ],
   "source": [
    "s1.quantile = 0.8\n",
    "s1.fit(X_baard_train, y_baard_train)\n",
    "output_X = s1.predict(X_def_val, y_def_val)\n",
    "fpr = np.mean(output_X)\n",
    "fpr"
   ]
  },
  {
   "cell_type": "code",
   "execution_count": null,
   "metadata": {},
   "outputs": [],
   "source": [
    "output_adv = s1.predict(adv_def_val, pred_adv_def_val)\n",
    "output_X = s1.predict(X_def_val, y_def_val)\n",
    "print('TPR', np.sum(output_adv), 'FPR:', np.sum(output_X))"
   ]
  },
  {
   "cell_type": "code",
   "execution_count": 51,
   "metadata": {},
   "outputs": [
    {
     "name": "stderr",
     "output_type": "stream",
     "text": [
      "100%|██████████| 50/50 [00:14<00:00,  3.52it/s]\n"
     ]
    }
   ],
   "source": [
    "tprs1 = []\n",
    "fprs1 = []\n",
    "\n",
    "for q in tqdm(np.linspace(1, 0.8, num=50)):\n",
    "    s1.quantile = q\n",
    "    s1.fit(X_baard_train, y_baard_train)\n",
    "    output_adv = s1.predict(adv_def_val, pred_adv_def_val)\n",
    "    output_X = s1.predict(X_def_val, y_def_val)\n",
    "    tpr = np.mean(output_adv)\n",
    "    fpr = np.mean(output_X)\n",
    "    tprs1.append(tpr)\n",
    "    fprs1.append(fpr)\n",
    "\n",
    "auc_score = auc(fprs, tprs)"
   ]
  },
  {
   "cell_type": "code",
   "execution_count": 60,
   "metadata": {},
   "outputs": [
    {
     "data": {
      "image/png": "[encoded data removed]",
      "text/plain": [
       "<Figure size 432x432 with 1 Axes>"
      ]
     },
     "metadata": {
      "needs_background": "light"
     },
     "output_type": "display_data"
    }
   ],
   "source": [
    "plt.figure(figsize=(6, 6))\n",
    "plt.plot(fprs, tprs, color='blue', label='ROC (AUC = %0.4f)' % auc_score)\n",
    "plt.xlim(0., 1.01)\n",
    "plt.ylim(0., 1.01)\n",
    "plt.legend(loc='lower right')\n",
    "plt.xlabel('FPR')\n",
    "plt.ylabel('TPR')\n",
    "plt.title('ROC Curve')\n",
    "plt.show()"
   ]
  },
  {
   "cell_type": "code",
   "execution_count": 53,
   "metadata": {},
   "outputs": [],
   "source": [
    "s2 =stages[1]"
   ]
  },
  {
   "cell_type": "code",
   "execution_count": 54,
   "metadata": {},
   "outputs": [
    {
     "data": {
      "text/plain": [
       "array([6.198775 , 3.7121754, 7.140877 , 7.1944737, 6.9155507, 7.179375 ,\n",
       "       6.4525256, 6.3686037, 7.106399 , 6.6865797], dtype=float32)"
      ]
     },
     "execution_count": 54,
     "metadata": {},
     "output_type": "execute_result"
    }
   ],
   "source": [
    "s2.thresholds_"
   ]
  },
  {
   "cell_type": "code",
   "execution_count": 55,
   "metadata": {},
   "outputs": [
    {
     "name": "stderr",
     "output_type": "stream",
     "text": [
      "Reliability: 100%|██████████| 10/10 [00:00<00:00, 14.59it/s]\n"
     ]
    }
   ],
   "source": [
    "# Let's combine\n",
    "X_comb_val = np.concatenate((X_def_val, adv_def_val))\n",
    "pred_comb_val = np.concatenate((y_def_val, pred_adv_def_val))\n",
    "label_comb_val = np.concatenate((np.zeros_like(y_def_val), np.ones_like(pred_adv_def_val)))\n",
    "labelled_as_adv = s2.predict_proba(X_comb_val, pred_comb_val)"
   ]
  },
  {
   "cell_type": "code",
   "execution_count": 59,
   "metadata": {},
   "outputs": [
    {
     "data": {
      "image/png": "[encoded data removed]",
      "text/plain": [
       "<Figure size 432x432 with 1 Axes>"
      ]
     },
     "metadata": {
      "needs_background": "light"
     },
     "output_type": "display_data"
    }
   ],
   "source": [
    "fpr, tpr, threshold = roc_curve(label_comb_val, labelled_as_adv)\n",
    "auc_score = roc_auc_score(label_comb_val, labelled_as_adv)\n",
    "\n",
    "plt.figure(figsize=(6, 6))\n",
    "plt.xlim(0., 1.01)\n",
    "plt.ylim(0., 1.01)\n",
    "plt.plot(fpr, tpr, color='blue', label='ROC (AUC = %0.4f)' % auc_score)\n",
    "plt.legend(loc='lower right')\n",
    "plt.title(\"ROC Curve\")\n",
    "plt.xlabel(\"FPR\")\n",
    "plt.ylabel(\"TPR\")\n",
    "plt.show()"
   ]
  },
  {
   "cell_type": "code",
   "execution_count": 32,
   "metadata": {},
   "outputs": [
    {
     "data": {
      "text/plain": [
       "array([9.130512 , 8.130512 , 7.6207795, 7.5138927, 7.453552 , 7.3566036,\n",
       "       6.9835396, 6.906995 , 6.8975606, 6.8880415, 6.672817 , 6.651941 ,\n",
       "       6.533016 , 6.516126 , 6.4771276, 6.4744964, 6.371209 , 6.365042 ,\n",
       "       6.3507934, 6.324317 , 6.216223 , 6.2144885, 6.204424 , 6.1854587,\n",
       "       6.143692 , 6.1117935, 6.105612 , 6.0983477, 6.080734 , 6.068292 ,\n",
       "       6.009271 , 6.0064273, 5.930493 , 5.8879128, 5.830012 , 5.816812 ,\n",
       "       5.810652 , 5.809812 , 5.793768 , 5.743516 , 5.6735215, 5.6412416,\n",
       "       5.6241307, 5.606846 , 5.5570836, 5.529444 , 5.525679 , 5.467637 ,\n",
       "       5.463081 , 5.4452634, 5.430025 , 5.4014516, 5.383599 , 5.3466325,\n",
       "       5.322301 , 5.313639 , 5.309786 , 5.303362 , 5.2433157, 5.2297525,\n",
       "       5.127401 , 5.125446 , 5.0566764, 5.0160055, 4.9692254, 4.919749 ,\n",
       "       4.9101243, 4.8838186, 4.8712564, 4.861193 , 4.8483458, 4.820459 ,\n",
       "       4.701686 , 4.67559  , 4.669491 , 4.4294024, 4.4284873, 4.382    ,\n",
       "       4.377814 , 4.2993574, 4.2683454, 4.267817 , 4.1636763, 3.9330165,\n",
       "       3.9278736, 1.5022401], dtype=float32)"
      ]
     },
     "execution_count": 32,
     "metadata": {},
     "output_type": "execute_result"
    }
   ],
   "source": [
    "threshold"
   ]
  },
  {
   "cell_type": "code",
   "execution_count": 33,
   "metadata": {},
   "outputs": [
    {
     "data": {
      "text/plain": [
       "array([0.  , 0.  , 0.  , 0.01, 0.01, 0.02, 0.02, 0.03, 0.03, 0.04, 0.04,\n",
       "       0.05, 0.05, 0.06, 0.06, 0.07, 0.07, 0.08, 0.08, 0.09, 0.09, 0.11,\n",
       "       0.11, 0.13, 0.13, 0.14, 0.14, 0.15, 0.15, 0.17, 0.17, 0.18, 0.18,\n",
       "       0.2 , 0.2 , 0.21, 0.21, 0.22, 0.22, 0.24, 0.24, 0.26, 0.26, 0.28,\n",
       "       0.28, 0.29, 0.29, 0.3 , 0.3 , 0.31, 0.31, 0.34, 0.34, 0.36, 0.36,\n",
       "       0.37, 0.37, 0.38, 0.38, 0.4 , 0.4 , 0.41, 0.41, 0.43, 0.43, 0.46,\n",
       "       0.46, 0.5 , 0.5 , 0.52, 0.52, 0.55, 0.55, 0.57, 0.57, 0.64, 0.64,\n",
       "       0.65, 0.65, 0.68, 0.68, 0.69, 0.69, 0.76, 0.76, 1.  ])"
      ]
     },
     "execution_count": 33,
     "metadata": {},
     "output_type": "execute_result"
    }
   ],
   "source": [
    "fpr"
   ]
  },
  {
   "cell_type": "code",
   "execution_count": 28,
   "metadata": {},
   "outputs": [
    {
     "name": "stderr",
     "output_type": "stream",
     "text": [
      "Reliability: 100%|██████████| 10/10 [00:00<00:00, 14.46it/s]\n"
     ]
    },
    {
     "data": {
      "image/png": "[encoded data removed]",
      "text/plain": [
       "<Figure size 432x432 with 1 Axes>"
      ]
     },
     "metadata": {
      "needs_background": "light"
     },
     "output_type": "display_data"
    }
   ],
   "source": [
    "s3 =stages[1]\n",
    "labelled_as_adv = s3.predict_proba(X_comb_val, pred_comb_val)\n",
    "\n",
    "fpr, tpr, threshold = roc_curve(label_comb_val, labelled_as_adv)\n",
    "auc_score = roc_auc_score(label_comb_val, labelled_as_adv)\n",
    "\n",
    "plt.figure(figsize=(6, 6))\n",
    "plt.xlim(0., 1.1)\n",
    "plt.ylim(0., 1.1)\n",
    "plt.plot(fpr, tpr, color='blue', label='ROC (AUC = %0.4f)' % auc_score)\n",
    "plt.legend(loc='lower right')\n",
    "plt.title(\"ROC Curve\")\n",
    "plt.xlabel(\"FPR\")\n",
    "plt.ylabel(\"TPR\")\n",
    "plt.show()"
   ]
  },
  {
   "cell_type": "code",
   "execution_count": null,
   "metadata": {},
   "outputs": [],
   "source": []
  }
 ],
 "metadata": {
  "kernelspec": {
   "display_name": "Python 3",
   "language": "python",
   "name": "python3"
  },
  "language_info": {
   "codemirror_mode": {
    "name": "ipython",
    "version": 3
   },
   "file_extension": ".py",
   "mimetype": "text/x-python",
   "name": "python",
   "nbconvert_exporter": "python",
   "pygments_lexer": "ipython3",
   "version": "3.6.9"
  }
 },
 "nbformat": 4,
 "nbformat_minor": 4
}
