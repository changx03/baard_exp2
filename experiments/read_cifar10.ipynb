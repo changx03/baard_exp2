{
 "cells": [
  {
   "cell_type": "code",
   "execution_count": 1,
   "metadata": {},
   "outputs": [],
   "source": [
    "import sys\n",
    "sys.path.append('..')"
   ]
  },
  {
   "cell_type": "code",
   "execution_count": 2,
   "metadata": {},
   "outputs": [],
   "source": [
    "import os\n",
    "import csv\n",
    "\n",
    "import matplotlib.pyplot as plt\n",
    "import numpy as np\n",
    "import torch\n",
    "from torch.utils.data.dataloader import DataLoader\n",
    "from torch.utils.data.dataset import TensorDataset\n",
    "import pandas as pd\n",
    "\n",
    "from models.cifar10 import Resnet, Vgg\n",
    "from models.torch_util import predict_numpy\n",
    "from experiments.result_util import get_dataframe"
   ]
  },
  {
   "cell_type": "code",
   "execution_count": 3,
   "metadata": {},
   "outputs": [],
   "source": [
    "%load_ext autoreload\n",
    "%autoreload 2"
   ]
  },
  {
   "cell_type": "code",
   "execution_count": 4,
   "metadata": {},
   "outputs": [],
   "source": [
    "PATH_OUTPUTS = os.path.join('..', 'csv')\n",
    "if not os.path.exists(PATH_OUTPUTS):\n",
    "    os.makedirs(PATH_OUTPUTS)"
   ]
  },
  {
   "cell_type": "code",
   "execution_count": 5,
   "metadata": {},
   "outputs": [
    {
     "output_type": "stream",
     "name": "stdout",
     "text": [
      "device: cuda\n"
     ]
    }
   ],
   "source": [
    "device = torch.device('cuda' if torch.cuda.is_available() else 'cpu')\n",
    "print('device:', device)"
   ]
  },
  {
   "source": [
    "## CIFAR10"
   ],
   "cell_type": "markdown",
   "metadata": {}
  },
  {
   "cell_type": "code",
   "execution_count": 6,
   "metadata": {},
   "outputs": [],
   "source": [
    "\n",
    "name_data = 'cifar10'\n",
    "name_model = 'resnet'\n",
    "name_attacks = [\n",
    "    'apgd_0.031',\n",
    "    'apgd_0.3',\n",
    "    'apgd_0.6',\n",
    "    'apgd_1.0',\n",
    "    'apgd_1.5',\n",
    "    'apgd1_0.3',\n",
    "    'apgd1_0.6',\n",
    "    'apgd1_1.0',\n",
    "    'apgd1_1.5',\n",
    "    'apgd1_2.0',\n",
    "    'apgd1_3.0',\n",
    "    'apgd1_5.0',\n",
    "    'apgd2_0.3',\n",
    "    'apgd2_0.6',\n",
    "    'apgd2_1.0',\n",
    "    'apgd2_1.5',\n",
    "    'apgd2_2.0',\n",
    "    'apgd2_3.0',\n",
    "    'apgd2_5.0',\n",
    "    'cw2_0.0',\n",
    "    'cw2_10.0',\n",
    "    'cw2_5.0',\n",
    "    'cwinf_0.0',\n",
    "    'cwinf_5.0',\n",
    "    'deepfool_1e-06',\n",
    "    'fgsm_0.031',\n",
    "    'fgsm_0.3',\n",
    "    'fgsm_0.6',\n",
    "    'fgsm_1.0',\n",
    "    'fgsm_1.5',\n",
    "    'line_0.0',\n",
    "    'line_0.5',\n",
    "    'line_1.0',\n",
    "    'watermark_0.1',\n",
    "    'watermark_0.3',\n",
    "    'watermark_0.6',\n",
    "    'watermark_1.0',\n",
    "]\n",
    "name_defences = [\n",
    "    'baard_2stage',\n",
    "    'baard_3stage',\n",
    "    'fs',\n",
    "    'lid',\n",
    "    'rc',\n",
    "    'magnet',\n",
    "]"
   ]
  },
  {
   "cell_type": "code",
   "execution_count": 7,
   "metadata": {},
   "outputs": [],
   "source": [
    "COLUMNS = ['Attack', 'Adv_param', 'Defence', 'FPR', 'Acc_on_adv']"
   ]
  },
  {
   "cell_type": "code",
   "execution_count": 8,
   "metadata": {},
   "outputs": [],
   "source": [
    "NAME_MODEL_FILE = 'cifar10_resnet_200.pt'\n",
    "model = Resnet(use_prob=True)\n",
    "path_model = os.path.join('..', 'results', NAME_MODEL_FILE)\n",
    "model.load_state_dict(torch.load(path_model))\n",
    "model = model.to(device)"
   ]
  },
  {
   "cell_type": "code",
   "execution_count": 9,
   "metadata": {
    "tags": []
   },
   "outputs": [],
   "source": [
    "df = pd.DataFrame(columns=COLUMNS)\n",
    "\n",
    "for attack in name_attacks:\n",
    "    for defence in name_defences:\n",
    "        try:\n",
    "            df = get_dataframe(df, model, name_data, name_model, attack, defence, device)\n",
    "        except FileNotFoundError:\n",
    "            continue    "
   ]
  },
  {
   "cell_type": "code",
   "execution_count": 10,
   "metadata": {},
   "outputs": [],
   "source": [
    "df.to_csv(os.path.join(PATH_OUTPUTS, '{}_{}_3.csv'.format(name_data, name_model)))"
   ]
  },
  {
   "source": [
    "## VGG"
   ],
   "cell_type": "markdown",
   "metadata": {}
  },
  {
   "cell_type": "code",
   "execution_count": 11,
   "metadata": {},
   "outputs": [],
   "source": [
    "name_model = 'vgg'\n",
    "NAME_MODEL_FILE = 'cifar10_vgg_200.pt'\n",
    "\n",
    "model = Vgg(use_prob=True)\n",
    "path_model = os.path.join('..', 'results', NAME_MODEL_FILE)\n",
    "model.load_state_dict(torch.load(path_model))\n",
    "model = model.to(device)"
   ]
  },
  {
   "cell_type": "code",
   "execution_count": 12,
   "metadata": {},
   "outputs": [],
   "source": [
    "df = pd.DataFrame(columns=COLUMNS)\n",
    "\n",
    "for attack in name_attacks:\n",
    "    for defence in name_defences:\n",
    "        try:\n",
    "            df = get_dataframe(df, model, name_data, name_model, attack, defence, device)\n",
    "        except FileNotFoundError:\n",
    "            continue   "
   ]
  },
  {
   "cell_type": "code",
   "execution_count": 13,
   "metadata": {},
   "outputs": [],
   "source": [
    "df.to_csv(os.path.join(PATH_OUTPUTS, '{}_{}_3.csv'.format(name_data, name_model)))"
   ]
  },
  {
   "cell_type": "code",
   "execution_count": null,
   "metadata": {},
   "outputs": [],
   "source": []
  }
 ],
 "metadata": {
  "kernelspec": {
   "name": "python36964bit4ada1bcfcd0f4caa95e946f583001e1b",
   "display_name": "Python 3.6.9 64-bit",
   "language": "python"
  },
  "language_info": {
   "codemirror_mode": {
    "name": "ipython",
    "version": 3
   },
   "file_extension": ".py",
   "mimetype": "text/x-python",
   "name": "python",
   "nbconvert_exporter": "python",
   "pygments_lexer": "ipython3",
   "version": "3.6.9-final"
  }
 },
 "nbformat": 4,
 "nbformat_minor": 4
}