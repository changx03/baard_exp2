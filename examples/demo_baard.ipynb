{
 "cells": [
  {
   "cell_type": "code",
   "execution_count": 1,
   "metadata": {},
   "outputs": [],
   "source": [
    "# Fix root path\n",
    "import sys\n",
    "sys.path.append('..')"
   ]
  },
  {
   "cell_type": "code",
   "execution_count": 2,
   "metadata": {},
   "outputs": [],
   "source": [
    "import datetime\n",
    "import os\n",
    "import time\n",
    "\n",
    "import matplotlib.pyplot as plt\n",
    "import numpy as np\n",
    "import torch\n",
    "import torch.nn as nn\n",
    "import torch.nn.functional as F\n",
    "import torch.optim as optim\n",
    "import torchvision as tv\n",
    "import torchvision.datasets as datasets\n",
    "from torchvision.utils import make_grid\n",
    "from art.attacks.evasion import BasicIterativeMethod, FastGradientMethod\n",
    "from art.estimators.classification import PyTorchClassifier\n",
    "from sklearn.model_selection import train_test_split\n",
    "from torch.utils.data import DataLoader, TensorDataset\n",
    "\n",
    "from defences.region_based_classifier import RegionBasedClassifier\n",
    "from defences.util import dataset2tensor, get_correct_examples, merge_and_generate_labels, get_roc\n",
    "from defences.baard import ApplicabilityStage, ReliabilityStage, DecidabilityStage, BAARDOperator, flatten"
   ]
  },
  {
   "cell_type": "code",
   "execution_count": 3,
   "metadata": {},
   "outputs": [],
   "source": [
    "%load_ext autoreload\n",
    "%autoreload 2"
   ]
  },
  {
   "cell_type": "code",
   "execution_count": 4,
   "metadata": {},
   "outputs": [
    {
     "output_type": "stream",
     "name": "stdout",
     "text": [
      "Device: cuda\nCPU threads: 24\n"
     ]
    }
   ],
   "source": [
    "device = torch.device('cuda' if torch.cuda.is_available() else 'cpu')\n",
    "print('Device: {}'.format(device))\n",
    "\n",
    "n_threads = os.cpu_count()\n",
    "print('CPU threads: {}'.format(n_threads))"
   ]
  },
  {
   "cell_type": "code",
   "execution_count": 5,
   "metadata": {},
   "outputs": [],
   "source": [
    "PATH_DATA = os.path.join('..', 'data')\n",
    "PATH_RESULTS = os.path.join('..', 'results', 'mnist_base_model.pt')\n",
    "BATCH_SIZE = 128\n",
    "EPOCHS = 20\n",
    "N_ADV = 2000"
   ]
  },
  {
   "cell_type": "code",
   "execution_count": 6,
   "metadata": {},
   "outputs": [],
   "source": [
    "# Fetch dataset\n",
    "transforms = tv.transforms.Compose([tv.transforms.ToTensor()])\n",
    "dataset_train = datasets.MNIST(PATH_DATA, train=True, download=True, transform=transforms)\n",
    "dataset_test = datasets.MNIST(PATH_DATA, train=False, download=True, transform=transforms)\n",
    "\n",
    "# From PyTorch dataset to Numpy array\n",
    "tensor_X_train, tensor_y_train = dataset2tensor(dataset_train)\n",
    "X_train = tensor_X_train.cpu().detach().numpy()\n",
    "y_train = tensor_y_train.cpu().detach().numpy()\n",
    "tensor_X_test, tensor_y_test = dataset2tensor(dataset_test)\n",
    "X_test = tensor_X_test.cpu().detach().numpy()\n",
    "y_test = tensor_y_test.cpu().detach().numpy()\n",
    "\n",
    "# Split model training set into training set and validation set\n",
    "X_train, X_val, y_train, y_val = train_test_split(X_train, y_train, test_size=5000)\n",
    "dataset_train = TensorDataset(\n",
    "    torch.tensor(X_train, dtype=torch.float32),\n",
    "    torch.tensor(y_train, dtype=torch.long))\n",
    "\n",
    "dataloader_train = DataLoader(dataset_train, batch_size=BATCH_SIZE, shuffle=True)\n",
    "dataloader_test = DataLoader(dataset_test, batch_size=BATCH_SIZE, shuffle=True)"
   ]
  },
  {
   "cell_type": "code",
   "execution_count": 7,
   "metadata": {},
   "outputs": [
    {
     "output_type": "stream",
     "name": "stdout",
     "text": [
      "(55000, 1, 28, 28) (5000, 1, 28, 28) (10000, 1, 28, 28)\n"
     ]
    }
   ],
   "source": [
    "# Check sizes\n",
    "print(X_train.shape, X_val.shape, X_test.shape)"
   ]
  },
  {
   "cell_type": "markdown",
   "metadata": {},
   "source": [
    "## Train point-based classifier"
   ]
  },
  {
   "cell_type": "code",
   "execution_count": 8,
   "metadata": {},
   "outputs": [],
   "source": [
    "class BaseModel(nn.Module):\n",
    "    def __init__(self):\n",
    "        super(BaseModel, self).__init__()\n",
    "        self.conv1 = nn.Conv2d(1, 32, 3, 1)\n",
    "        self.relu1 = nn.ReLU()\n",
    "        self.conv2 = nn.Conv2d(32, 64, 3, 1)\n",
    "        self.relu2 = nn.ReLU()\n",
    "        self.pool1 = nn.MaxPool2d(2)\n",
    "        self.flatten = nn.Flatten(1)\n",
    "        self.fc1 = nn.Linear(9216, 200)\n",
    "        self.relu3 = nn.ReLU()\n",
    "        self.fc2 = nn.Linear(200, 10)\n",
    "        self.softmax = nn.Softmax(dim=1)\n",
    "\n",
    "    def before_softmax(self, x):\n",
    "        x = self.relu1(self.conv1(x))\n",
    "        x = self.relu2(self.conv2(x))\n",
    "        x = self.pool1(x)\n",
    "        x = self.flatten(x)\n",
    "        x = self.relu3(self.fc1(x))\n",
    "        x = self.fc2(x)\n",
    "        return x\n",
    "\n",
    "    def forward(self, x):\n",
    "        x = self.before_softmax(x)\n",
    "        x = self.softmax(x)\n",
    "        return x"
   ]
  },
  {
   "cell_type": "code",
   "execution_count": 9,
   "metadata": {},
   "outputs": [
    {
     "output_type": "stream",
     "name": "stdout",
     "text": [
      "Number of layers: 10\n"
     ]
    }
   ],
   "source": [
    "# Create Neural Network model\n",
    "model = BaseModel()\n",
    "model.to(device)\n",
    "print('Number of layers: {}'.format(len(list(model.children()))))"
   ]
  },
  {
   "cell_type": "code",
   "execution_count": 10,
   "metadata": {},
   "outputs": [],
   "source": [
    "def train(model, loader, loss, optimizer):\n",
    "    model.train()\n",
    "    total_loss = 0.\n",
    "    corrects = 0.\n",
    "    \n",
    "    for x, y in loader:\n",
    "        x = x.to(device)\n",
    "        y = y.to(device)\n",
    "        batch_size = x.size(0)\n",
    "        \n",
    "        optimizer.zero_grad()\n",
    "        outputs = model(x)\n",
    "        l = loss(outputs, y)\n",
    "        l.backward()\n",
    "        optimizer.step()\n",
    "\n",
    "        # for display\n",
    "        total_loss += l.item() * batch_size\n",
    "        preds = outputs.max(1, keepdim=True)[1]\n",
    "        corrects += preds.eq(y.view_as(preds)).sum().item()\n",
    "    \n",
    "    n = len(loader.dataset)\n",
    "    total_loss = total_loss / n\n",
    "    accuracy = corrects / n\n",
    "    return total_loss, accuracy"
   ]
  },
  {
   "cell_type": "code",
   "execution_count": 11,
   "metadata": {},
   "outputs": [],
   "source": [
    "def validate(model, loader, loss, device=device):\n",
    "    model.eval()\n",
    "    total_loss = 0.\n",
    "    corrects = 0.\n",
    "    \n",
    "    with torch.no_grad():\n",
    "        for x, y in loader:\n",
    "            x = x.to(device)\n",
    "            y = y.to(device)\n",
    "            batch_size = x.size(0)\n",
    "            outputs = model(x)\n",
    "            l = loss(outputs, y)\n",
    "            total_loss += l.item() * batch_size\n",
    "            preds = outputs.max(1, keepdim=True)[1]\n",
    "            corrects += preds.eq(y.view_as(preds)).sum().item()\n",
    "    \n",
    "    n = len(loader.dataset)\n",
    "    total_loss = total_loss / n\n",
    "    accuracy = corrects / n\n",
    "    return total_loss, accuracy"
   ]
  },
  {
   "cell_type": "code",
   "execution_count": 12,
   "metadata": {},
   "outputs": [],
   "source": [
    "def predict(model, X, batch_size=BATCH_SIZE, device=device):\n",
    "    model.eval()\n",
    "    dataset = TensorDataset(X)\n",
    "    loader = DataLoader(dataset, batch_size=batch_size, shuffle=False)\n",
    "    tensor_pred = -torch.ones(len(X), dtype=torch.long)\n",
    "    \n",
    "    start = 0\n",
    "    with torch.no_grad():\n",
    "        for x in loader:\n",
    "            x = x[0].to(device)\n",
    "            n = x.size(0)\n",
    "            end = start + n\n",
    "            outputs = model(x)\n",
    "            tensor_pred[start:end] = outputs.max(1)[1].type(torch.long)\n",
    "            start += n\n",
    "\n",
    "    return tensor_pred"
   ]
  },
  {
   "cell_type": "code",
   "execution_count": 13,
   "metadata": {},
   "outputs": [],
   "source": [
    "optimizer = optim.SGD(model.parameters(), lr=0.01, momentum=0.9)\n",
    "loss=nn.CrossEntropyLoss()"
   ]
  },
  {
   "cell_type": "code",
   "execution_count": 14,
   "metadata": {
    "tags": []
   },
   "outputs": [
    {
     "output_type": "stream",
     "name": "stdout",
     "text": [
      " 1/20[0:00:02.182491] Train Loss: 1.8794 Acc: 63.7291%, Test Loss: 1.6462 Acc: 81.7000%\n",
      " 2/20[0:00:02.152731] Train Loss: 1.6118 Acc: 85.1382%, Test Loss: 1.5468 Acc: 91.6500%\n",
      " 3/20[0:00:02.137407] Train Loss: 1.5418 Acc: 92.3073%, Test Loss: 1.5304 Acc: 93.2600%\n",
      " 4/20[0:00:02.160982] Train Loss: 1.5244 Acc: 93.9164%, Test Loss: 1.5228 Acc: 94.1000%\n",
      " 5/20[0:00:02.145597] Train Loss: 1.5146 Acc: 94.8364%, Test Loss: 1.5073 Acc: 95.6600%\n",
      " 6/20[0:00:02.139364] Train Loss: 1.5059 Acc: 95.6873%, Test Loss: 1.5013 Acc: 96.0300%\n",
      " 7/20[0:00:02.114150] Train Loss: 1.5026 Acc: 95.9473%, Test Loss: 1.5008 Acc: 96.0700%\n",
      " 8/20[0:00:02.122438] Train Loss: 1.4994 Acc: 96.3182%, Test Loss: 1.5007 Acc: 96.1200%\n",
      " 9/20[0:00:02.127906] Train Loss: 1.4967 Acc: 96.5073%, Test Loss: 1.4946 Acc: 96.8200%\n",
      "10/20[0:00:02.128530] Train Loss: 1.4947 Acc: 96.7291%, Test Loss: 1.4978 Acc: 96.5200%\n",
      "11/20[0:00:02.132614] Train Loss: 1.4928 Acc: 96.8982%, Test Loss: 1.4916 Acc: 97.0100%\n",
      "12/20[0:00:02.131196] Train Loss: 1.4904 Acc: 97.1964%, Test Loss: 1.4923 Acc: 96.9200%\n",
      "13/20[0:00:02.133984] Train Loss: 1.4888 Acc: 97.3145%, Test Loss: 1.4936 Acc: 96.7700%\n",
      "14/20[0:00:02.134298] Train Loss: 1.4881 Acc: 97.3709%, Test Loss: 1.4904 Acc: 97.0800%\n",
      "15/20[0:00:02.124426] Train Loss: 1.4885 Acc: 97.3145%, Test Loss: 1.4934 Acc: 96.7600%\n",
      "16/20[0:00:02.119849] Train Loss: 1.4860 Acc: 97.5673%, Test Loss: 1.4894 Acc: 97.2400%\n",
      "17/20[0:00:02.129899] Train Loss: 1.4840 Acc: 97.7655%, Test Loss: 1.4884 Acc: 97.2900%\n",
      "18/20[0:00:02.107749] Train Loss: 1.4829 Acc: 97.8800%, Test Loss: 1.4872 Acc: 97.4200%\n",
      "19/20[0:00:02.122463] Train Loss: 1.4825 Acc: 97.9055%, Test Loss: 1.4861 Acc: 97.5400%\n",
      "20/20[0:00:02.131008] Train Loss: 1.4814 Acc: 98.0200%, Test Loss: 1.4867 Acc: 97.4900%\n",
      "Total run time: 0m 42.7s\n"
     ]
    }
   ],
   "source": [
    "since = time.time()\n",
    "for epoch in range(EPOCHS):\n",
    "    start = time.time()\n",
    "    tr_loss, tr_acc = train(model, dataloader_train, loss, optimizer)\n",
    "    va_loss, va_acc = validate(model, dataloader_test, loss)\n",
    "    \n",
    "    time_elapsed = time.time() - start\n",
    "    print(('{:2d}/{:d}[{:s}] Train Loss: {:.4f} Acc: {:.4f}%, ' +\n",
    "        'Test Loss: {:.4f} Acc: {:.4f}%').format(\n",
    "            epoch+1, EPOCHS, str(datetime.timedelta(seconds=time_elapsed)),\n",
    "            tr_loss, tr_acc*100.,\n",
    "            va_loss, va_acc*100.))\n",
    "    \n",
    "time_elapsed = time.time() - since\n",
    "print('Total run time: {:.0f}m {:.1f}s'.format(\n",
    "    time_elapsed // 60,\n",
    "    time_elapsed % 60))\n",
    "\n",
    "# if not os.path.exists('results'):\n",
    "#     os.makedirs('results')\n",
    "\n",
    "# torch.save(model.state_dict(), PATH_RESULTS)"
   ]
  },
  {
   "cell_type": "code",
   "execution_count": 15,
   "metadata": {},
   "outputs": [],
   "source": [
    "# Load model from saved file\n",
    "# model.load_state_dict(torch.load(PATH_RESULTS))\n",
    "\n",
    "# _, acc_test = validate(model, dataloader_test, loss)\n",
    "# print('Test set accuracy: {:.4f}'.format(acc_test*100))"
   ]
  },
  {
   "cell_type": "markdown",
   "metadata": {},
   "source": [
    "## Remove missclassified samples"
   ]
  },
  {
   "cell_type": "code",
   "execution_count": 16,
   "metadata": {},
   "outputs": [
    {
     "output_type": "stream",
     "name": "stdout",
     "text": [
      "Training set: 55000\n",
      "Accuracy on 53953 filtered training examples: 100.0000%\n",
      "Test set: 10000\n",
      "Accuracy on 9749 filtered test examples: 100.0000%\n"
     ]
    }
   ],
   "source": [
    "print('Training set: {}'.format(len(dataset_train)))\n",
    "tensor_train_X, tensor_train_y = get_correct_examples(model, dataset_train, device=device, return_tensor=True)\n",
    "dataset_train_perfect = TensorDataset(tensor_train_X, tensor_train_y)\n",
    "dataloader_train_perfect = DataLoader(dataset_train_perfect, batch_size=512, shuffle=True)\n",
    "_, acc = validate(model, dataloader_train_perfect, loss)\n",
    "print('Accuracy on {} filtered training examples: {:.4f}%'.format(len(dataloader_train_perfect.dataset), acc*100))\n",
    "\n",
    "print('Test set: {}'.format(len(dataset_test)))\n",
    "tensor_test_X, tensor_test_y = get_correct_examples(model, dataset_test, device=device, return_tensor=True)\n",
    "dataset_test_perfect = TensorDataset(tensor_test_X, tensor_test_y)\n",
    "dataloader_test_perfect = DataLoader(dataset_test_perfect, batch_size=512, shuffle=True)\n",
    "_, acc = validate(model, dataloader_test_perfect, loss)\n",
    "print('Accuracy on {} filtered test examples: {:.4f}%'.format(len(dataloader_test_perfect.dataset), acc*100))"
   ]
  },
  {
   "cell_type": "markdown",
   "metadata": {},
   "source": [
    "## Create adversarial examples "
   ]
  },
  {
   "cell_type": "code",
   "execution_count": 17,
   "metadata": {},
   "outputs": [],
   "source": [
    "classifier = PyTorchClassifier(\n",
    "    model=model, \n",
    "    loss=loss, \n",
    "    input_shape=(1, 28, 28), \n",
    "    optimizer=optimizer,\n",
    "    nb_classes=10,\n",
    "    clip_values=(0.0, 1.0),\n",
    "    device_type=device\n",
    ")\n",
    "\n",
    "# attack = FastGradientMethod(estimator=classifier, eps=0.2)\n",
    "attack = BasicIterativeMethod(estimator=classifier, eps=0.2)"
   ]
  },
  {
   "cell_type": "code",
   "execution_count": 18,
   "metadata": {},
   "outputs": [],
   "source": [
    "# Prepare dataset for adversarial examples\n",
    "n = len(dataset_test_perfect)\n",
    "indices = torch.randperm(n)[:N_ADV]\n",
    "\n",
    "pt_subset_X = tensor_test_X[indices]  # PyTorch Tensor\n",
    "pt_subset_y = tensor_test_y[indices]\n",
    "\n",
    "subset_X = pt_subset_X.cpu().detach().numpy()\n",
    "subset_y = pt_subset_y.cpu().detach().numpy()"
   ]
  },
  {
   "cell_type": "code",
   "execution_count": 19,
   "metadata": {},
   "outputs": [
    {
     "output_type": "stream",
     "name": "stderr",
     "text": [
      "PGD - Batches:   0%|          | 0/63 [00:00<?, ?it/s]Model accuracy on clean examples: 100.0000%\n",
      "Model accuracy on adversarial examples: 5.9500%\n"
     ]
    }
   ],
   "source": [
    "# Create adversarial examples\n",
    "subset_pred = np.argmax(classifier.predict(subset_X), axis=1)\n",
    "accuracy = np.sum(subset_pred == subset_y) / float(len(subset_pred))\n",
    "print(\"Model accuracy on clean examples: {:.4f}%\".format(accuracy * 100))\n",
    "\n",
    "# Generate adversarial examples\n",
    "subset_adv = attack.generate(x=subset_X)\n",
    "subset_pred = np.argmax(classifier.predict(subset_adv), axis=1)\n",
    "\n",
    "accuracy = np.sum(subset_pred == subset_y) / float(len(subset_pred))\n",
    "print(\"Model accuracy on adversarial examples: {:.4f}%\".format(accuracy * 100))"
   ]
  },
  {
   "cell_type": "markdown",
   "metadata": {},
   "source": [
    "## BAARD"
   ]
  },
  {
   "cell_type": "markdown",
   "metadata": {},
   "source": [
    "## Applicability Stage"
   ]
  },
  {
   "cell_type": "code",
   "execution_count": 20,
   "metadata": {},
   "outputs": [],
   "source": [
    "# Use the 2nd half 1000 samples for validation\n",
    "X_val, labels_val = merge_and_generate_labels(subset_adv[1000:], subset_X[1000:])\n",
    "pred_val = np.concatenate((subset_pred[1000:], subset_y[1000:]))\n",
    "\n",
    "X_test_2, labels_test_2 = merge_and_generate_labels(subset_adv[:1000], subset_X[:1000])\n",
    "pred_test_2 = np.concatenate((subset_pred[:1000], subset_y[:1000]))"
   ]
  },
  {
   "cell_type": "markdown",
   "metadata": {},
   "source": [
    "### Testing MNIST"
   ]
  },
  {
   "cell_type": "code",
   "execution_count": 21,
   "metadata": {},
   "outputs": [
    {
     "output_type": "execute_result",
     "data": {
      "text/plain": [
       "0.016236363636363636"
      ]
     },
     "metadata": {},
     "execution_count": 21
    }
   ],
   "source": [
    "stage1 = ApplicabilityStage(quantile=0.9999)\n",
    "stage1.fit(X_train, y_train)\n",
    "len(np.where(stage1.predict(X_train, y_train))[0]) / len(X_train)"
   ]
  },
  {
   "cell_type": "code",
   "execution_count": 22,
   "metadata": {},
   "outputs": [
    {
     "output_type": "stream",
     "name": "stdout",
     "text": [
      "(2000, 784) (2000,)\n"
     ]
    },
    {
     "output_type": "execute_result",
     "data": {
      "text/plain": [
       "0.5125"
      ]
     },
     "metadata": {},
     "execution_count": 22
    }
   ],
   "source": [
    "# Validation set\n",
    "print(X_val.shape, pred_val.shape)\n",
    "len(np.where(stage1.predict(X_val, pred_val))[0]) / len(X_val)"
   ]
  },
  {
   "cell_type": "code",
   "execution_count": 23,
   "metadata": {},
   "outputs": [
    {
     "output_type": "execute_result",
     "data": {
      "text/plain": [
       "0.0225"
      ]
     },
     "metadata": {},
     "execution_count": 23
    }
   ],
   "source": [
    "len(np.where(stage1.predict(subset_X, subset_y))[0]) / len(subset_X)"
   ]
  },
  {
   "cell_type": "code",
   "execution_count": 24,
   "metadata": {},
   "outputs": [
    {
     "output_type": "execute_result",
     "data": {
      "text/plain": [
       "1.0"
      ]
     },
     "metadata": {},
     "execution_count": 24
    }
   ],
   "source": [
    "len(np.where(stage1.predict(subset_adv, subset_pred))[0]) / len(subset_adv)"
   ]
  },
  {
   "cell_type": "code",
   "execution_count": 25,
   "metadata": {},
   "outputs": [],
   "source": [
    "X_mix, labels_adv_mix = merge_and_generate_labels(subset_adv, subset_X)\n",
    "pred_mix = np.concatenate((subset_pred, subset_y))"
   ]
  },
  {
   "cell_type": "code",
   "execution_count": 26,
   "metadata": {},
   "outputs": [
    {
     "output_type": "execute_result",
     "data": {
      "text/plain": [
       "0.51125"
      ]
     },
     "metadata": {},
     "execution_count": 26
    }
   ],
   "source": [
    "len(np.where(stage1.predict(X_mix, pred_mix))[0]) / len(X_mix)"
   ]
  },
  {
   "cell_type": "markdown",
   "metadata": {},
   "source": [
    "## Reliability Stage"
   ]
  },
  {
   "cell_type": "code",
   "execution_count": 28,
   "metadata": {},
   "outputs": [],
   "source": [
    "k = 10\n",
    "stage2 = ReliabilityStage(n_classes=10, k=k)"
   ]
  },
  {
   "cell_type": "code",
   "execution_count": 29,
   "metadata": {},
   "outputs": [
    {
     "output_type": "execute_result",
     "data": {
      "text/plain": [
       "<defences.baard.ReliabilityStage at 0x7fe33106f6d8>"
      ]
     },
     "metadata": {},
     "execution_count": 29
    }
   ],
   "source": [
    "stage2.fit(X_train, y_train)"
   ]
  },
  {
   "cell_type": "code",
   "execution_count": 30,
   "metadata": {},
   "outputs": [],
   "source": [
    "stage2.search_thresholds(X_val, pred_val, labels_val)"
   ]
  },
  {
   "cell_type": "code",
   "execution_count": 31,
   "metadata": {},
   "outputs": [
    {
     "output_type": "stream",
     "name": "stdout",
     "text": [
      "[1 0 0 0 1] [0 0 0 0 0]\n"
     ]
    }
   ],
   "source": [
    "pred = stage2.predict(X_test_2, pred_test_2)\n",
    "print(pred[:5], pred[-5:])"
   ]
  },
  {
   "cell_type": "code",
   "execution_count": 33,
   "metadata": {},
   "outputs": [
    {
     "output_type": "display_data",
     "data": {
      "text/plain": "<Figure size 432x432 with 1 Axes>",
      "image/svg+xml": "<?xml version=\"1.0\" encoding=\"utf-8\" standalone=\"no\"?>\n<!DOCTYPE svg PUBLIC \"-//W3C//DTD SVG 1.1//EN\"\n  \"http://www.w3.org/Graphics/SVG/1.1/DTD/svg11.dtd\">\n<!-- Created with matplotlib (https://matplotlib.org/) -->\n<svg height=\"386.034375pt\" version=\"1.1\" viewBox=\"0 0 385.78125 386.034375\" width=\"385.78125pt\" xmlns=\"http://www.w3.org/2000/svg\" xmlns:xlink=\"http://www.w3.org/1999/xlink\">\n <metadata>\n  <rdf:RDF xmlns:cc=\"http://creativecommons.org/ns#\" xmlns:dc=\"http://purl.org/dc/elements/1.1/\" xmlns:rdf=\"http://www.w3.org/1999/02/22-rdf-syntax-ns#\">\n   <cc:Work>\n    <dc:type rdf:resource=\"http://purl.org/dc/dcmitype/StillImage\"/>\n    <dc:date>2021-01-10T15:46:58.941483</dc:date>\n    <dc:format>image/svg+xml</dc:format>\n    <dc:creator>\n     <cc:Agent>\n      <dc:title>Matplotlib v3.3.3, https://matplotlib.org/</dc:title>\n     </cc:Agent>\n    </dc:creator>\n   </cc:Work>\n  </rdf:RDF>\n </metadata>\n <defs>\n  <style type=\"text/css\">*{stroke-linecap:butt;stroke-linejoin:round;}</style>\n </defs>\n <g id=\"figure_1\">\n  <g id=\"patch_1\">\n   <path d=\"M 0 386.034375 \nL 385.78125 386.034375 \nL 385.78125 0 \nL 0 0 \nz\n\" style=\"fill:none;\"/>\n  </g>\n  <g id=\"axes_1\">\n   <g id=\"patch_2\">\n    <path d=\"M 43.78125 348.478125 \nL 378.58125 348.478125 \nL 378.58125 22.318125 \nL 43.78125 22.318125 \nz\n\" style=\"fill:#ffffff;\"/>\n   </g>\n   <g id=\"matplotlib.axis_1\">\n    <g id=\"xtick_1\">\n     <g id=\"line2d_1\">\n      <defs>\n       <path d=\"M 0 0 \nL 0 3.5 \n\" id=\"m2d0a2ec725\" style=\"stroke:#000000;stroke-width:0.8;\"/>\n      </defs>\n      <g>\n       <use style=\"stroke:#000000;stroke-width:0.8;\" x=\"58.999432\" xlink:href=\"#m2d0a2ec725\" y=\"348.478125\"/>\n      </g>\n     </g>\n     <g id=\"text_1\">\n      <!-- 0.0 -->\n      <g transform=\"translate(51.047869 363.076562)scale(0.1 -0.1)\">\n       <defs>\n        <path d=\"M 31.78125 66.40625 \nQ 24.171875 66.40625 20.328125 58.90625 \nQ 16.5 51.421875 16.5 36.375 \nQ 16.5 21.390625 20.328125 13.890625 \nQ 24.171875 6.390625 31.78125 6.390625 \nQ 39.453125 6.390625 43.28125 13.890625 \nQ 47.125 21.390625 47.125 36.375 \nQ 47.125 51.421875 43.28125 58.90625 \nQ 39.453125 66.40625 31.78125 66.40625 \nz\nM 31.78125 74.21875 \nQ 44.046875 74.21875 50.515625 64.515625 \nQ 56.984375 54.828125 56.984375 36.375 \nQ 56.984375 17.96875 50.515625 8.265625 \nQ 44.046875 -1.421875 31.78125 -1.421875 \nQ 19.53125 -1.421875 13.0625 8.265625 \nQ 6.59375 17.96875 6.59375 36.375 \nQ 6.59375 54.828125 13.0625 64.515625 \nQ 19.53125 74.21875 31.78125 74.21875 \nz\n\" id=\"DejaVuSans-48\"/>\n        <path d=\"M 10.6875 12.40625 \nL 21 12.40625 \nL 21 0 \nL 10.6875 0 \nz\n\" id=\"DejaVuSans-46\"/>\n       </defs>\n       <use xlink:href=\"#DejaVuSans-48\"/>\n       <use x=\"63.623047\" xlink:href=\"#DejaVuSans-46\"/>\n       <use x=\"95.410156\" xlink:href=\"#DejaVuSans-48\"/>\n      </g>\n     </g>\n    </g>\n    <g id=\"xtick_2\">\n     <g id=\"line2d_2\">\n      <g>\n       <use style=\"stroke:#000000;stroke-width:0.8;\" x=\"119.872159\" xlink:href=\"#m2d0a2ec725\" y=\"348.478125\"/>\n      </g>\n     </g>\n     <g id=\"text_2\">\n      <!-- 0.2 -->\n      <g transform=\"translate(111.920597 363.076562)scale(0.1 -0.1)\">\n       <defs>\n        <path d=\"M 19.1875 8.296875 \nL 53.609375 8.296875 \nL 53.609375 0 \nL 7.328125 0 \nL 7.328125 8.296875 \nQ 12.9375 14.109375 22.625 23.890625 \nQ 32.328125 33.6875 34.8125 36.53125 \nQ 39.546875 41.84375 41.421875 45.53125 \nQ 43.3125 49.21875 43.3125 52.78125 \nQ 43.3125 58.59375 39.234375 62.25 \nQ 35.15625 65.921875 28.609375 65.921875 \nQ 23.96875 65.921875 18.8125 64.3125 \nQ 13.671875 62.703125 7.8125 59.421875 \nL 7.8125 69.390625 \nQ 13.765625 71.78125 18.9375 73 \nQ 24.125 74.21875 28.421875 74.21875 \nQ 39.75 74.21875 46.484375 68.546875 \nQ 53.21875 62.890625 53.21875 53.421875 \nQ 53.21875 48.921875 51.53125 44.890625 \nQ 49.859375 40.875 45.40625 35.40625 \nQ 44.1875 33.984375 37.640625 27.21875 \nQ 31.109375 20.453125 19.1875 8.296875 \nz\n\" id=\"DejaVuSans-50\"/>\n       </defs>\n       <use xlink:href=\"#DejaVuSans-48\"/>\n       <use x=\"63.623047\" xlink:href=\"#DejaVuSans-46\"/>\n       <use x=\"95.410156\" xlink:href=\"#DejaVuSans-50\"/>\n      </g>\n     </g>\n    </g>\n    <g id=\"xtick_3\">\n     <g id=\"line2d_3\">\n      <g>\n       <use style=\"stroke:#000000;stroke-width:0.8;\" x=\"180.744886\" xlink:href=\"#m2d0a2ec725\" y=\"348.478125\"/>\n      </g>\n     </g>\n     <g id=\"text_3\">\n      <!-- 0.4 -->\n      <g transform=\"translate(172.793324 363.076562)scale(0.1 -0.1)\">\n       <defs>\n        <path d=\"M 37.796875 64.3125 \nL 12.890625 25.390625 \nL 37.796875 25.390625 \nz\nM 35.203125 72.90625 \nL 47.609375 72.90625 \nL 47.609375 25.390625 \nL 58.015625 25.390625 \nL 58.015625 17.1875 \nL 47.609375 17.1875 \nL 47.609375 0 \nL 37.796875 0 \nL 37.796875 17.1875 \nL 4.890625 17.1875 \nL 4.890625 26.703125 \nz\n\" id=\"DejaVuSans-52\"/>\n       </defs>\n       <use xlink:href=\"#DejaVuSans-48\"/>\n       <use x=\"63.623047\" xlink:href=\"#DejaVuSans-46\"/>\n       <use x=\"95.410156\" xlink:href=\"#DejaVuSans-52\"/>\n      </g>\n     </g>\n    </g>\n    <g id=\"xtick_4\">\n     <g id=\"line2d_4\">\n      <g>\n       <use style=\"stroke:#000000;stroke-width:0.8;\" x=\"241.617614\" xlink:href=\"#m2d0a2ec725\" y=\"348.478125\"/>\n      </g>\n     </g>\n     <g id=\"text_4\">\n      <!-- 0.6 -->\n      <g transform=\"translate(233.666051 363.076562)scale(0.1 -0.1)\">\n       <defs>\n        <path d=\"M 33.015625 40.375 \nQ 26.375 40.375 22.484375 35.828125 \nQ 18.609375 31.296875 18.609375 23.390625 \nQ 18.609375 15.53125 22.484375 10.953125 \nQ 26.375 6.390625 33.015625 6.390625 \nQ 39.65625 6.390625 43.53125 10.953125 \nQ 47.40625 15.53125 47.40625 23.390625 \nQ 47.40625 31.296875 43.53125 35.828125 \nQ 39.65625 40.375 33.015625 40.375 \nz\nM 52.59375 71.296875 \nL 52.59375 62.3125 \nQ 48.875 64.0625 45.09375 64.984375 \nQ 41.3125 65.921875 37.59375 65.921875 \nQ 27.828125 65.921875 22.671875 59.328125 \nQ 17.53125 52.734375 16.796875 39.40625 \nQ 19.671875 43.65625 24.015625 45.921875 \nQ 28.375 48.1875 33.59375 48.1875 \nQ 44.578125 48.1875 50.953125 41.515625 \nQ 57.328125 34.859375 57.328125 23.390625 \nQ 57.328125 12.15625 50.6875 5.359375 \nQ 44.046875 -1.421875 33.015625 -1.421875 \nQ 20.359375 -1.421875 13.671875 8.265625 \nQ 6.984375 17.96875 6.984375 36.375 \nQ 6.984375 53.65625 15.1875 63.9375 \nQ 23.390625 74.21875 37.203125 74.21875 \nQ 40.921875 74.21875 44.703125 73.484375 \nQ 48.484375 72.75 52.59375 71.296875 \nz\n\" id=\"DejaVuSans-54\"/>\n       </defs>\n       <use xlink:href=\"#DejaVuSans-48\"/>\n       <use x=\"63.623047\" xlink:href=\"#DejaVuSans-46\"/>\n       <use x=\"95.410156\" xlink:href=\"#DejaVuSans-54\"/>\n      </g>\n     </g>\n    </g>\n    <g id=\"xtick_5\">\n     <g id=\"line2d_5\">\n      <g>\n       <use style=\"stroke:#000000;stroke-width:0.8;\" x=\"302.490341\" xlink:href=\"#m2d0a2ec725\" y=\"348.478125\"/>\n      </g>\n     </g>\n     <g id=\"text_5\">\n      <!-- 0.8 -->\n      <g transform=\"translate(294.538778 363.076562)scale(0.1 -0.1)\">\n       <defs>\n        <path d=\"M 31.78125 34.625 \nQ 24.75 34.625 20.71875 30.859375 \nQ 16.703125 27.09375 16.703125 20.515625 \nQ 16.703125 13.921875 20.71875 10.15625 \nQ 24.75 6.390625 31.78125 6.390625 \nQ 38.8125 6.390625 42.859375 10.171875 \nQ 46.921875 13.96875 46.921875 20.515625 \nQ 46.921875 27.09375 42.890625 30.859375 \nQ 38.875 34.625 31.78125 34.625 \nz\nM 21.921875 38.8125 \nQ 15.578125 40.375 12.03125 44.71875 \nQ 8.5 49.078125 8.5 55.328125 \nQ 8.5 64.0625 14.71875 69.140625 \nQ 20.953125 74.21875 31.78125 74.21875 \nQ 42.671875 74.21875 48.875 69.140625 \nQ 55.078125 64.0625 55.078125 55.328125 \nQ 55.078125 49.078125 51.53125 44.71875 \nQ 48 40.375 41.703125 38.8125 \nQ 48.828125 37.15625 52.796875 32.3125 \nQ 56.78125 27.484375 56.78125 20.515625 \nQ 56.78125 9.90625 50.3125 4.234375 \nQ 43.84375 -1.421875 31.78125 -1.421875 \nQ 19.734375 -1.421875 13.25 4.234375 \nQ 6.78125 9.90625 6.78125 20.515625 \nQ 6.78125 27.484375 10.78125 32.3125 \nQ 14.796875 37.15625 21.921875 38.8125 \nz\nM 18.3125 54.390625 \nQ 18.3125 48.734375 21.84375 45.5625 \nQ 25.390625 42.390625 31.78125 42.390625 \nQ 38.140625 42.390625 41.71875 45.5625 \nQ 45.3125 48.734375 45.3125 54.390625 \nQ 45.3125 60.0625 41.71875 63.234375 \nQ 38.140625 66.40625 31.78125 66.40625 \nQ 25.390625 66.40625 21.84375 63.234375 \nQ 18.3125 60.0625 18.3125 54.390625 \nz\n\" id=\"DejaVuSans-56\"/>\n       </defs>\n       <use xlink:href=\"#DejaVuSans-48\"/>\n       <use x=\"63.623047\" xlink:href=\"#DejaVuSans-46\"/>\n       <use x=\"95.410156\" xlink:href=\"#DejaVuSans-56\"/>\n      </g>\n     </g>\n    </g>\n    <g id=\"xtick_6\">\n     <g id=\"line2d_6\">\n      <g>\n       <use style=\"stroke:#000000;stroke-width:0.8;\" x=\"363.363068\" xlink:href=\"#m2d0a2ec725\" y=\"348.478125\"/>\n      </g>\n     </g>\n     <g id=\"text_6\">\n      <!-- 1.0 -->\n      <g transform=\"translate(355.411506 363.076562)scale(0.1 -0.1)\">\n       <defs>\n        <path d=\"M 12.40625 8.296875 \nL 28.515625 8.296875 \nL 28.515625 63.921875 \nL 10.984375 60.40625 \nL 10.984375 69.390625 \nL 28.421875 72.90625 \nL 38.28125 72.90625 \nL 38.28125 8.296875 \nL 54.390625 8.296875 \nL 54.390625 0 \nL 12.40625 0 \nz\n\" id=\"DejaVuSans-49\"/>\n       </defs>\n       <use xlink:href=\"#DejaVuSans-49\"/>\n       <use x=\"63.623047\" xlink:href=\"#DejaVuSans-46\"/>\n       <use x=\"95.410156\" xlink:href=\"#DejaVuSans-48\"/>\n      </g>\n     </g>\n    </g>\n    <g id=\"text_7\">\n     <!-- FPR -->\n     <g transform=\"translate(201.816406 376.754687)scale(0.1 -0.1)\">\n      <defs>\n       <path d=\"M 9.8125 72.90625 \nL 51.703125 72.90625 \nL 51.703125 64.59375 \nL 19.671875 64.59375 \nL 19.671875 43.109375 \nL 48.578125 43.109375 \nL 48.578125 34.8125 \nL 19.671875 34.8125 \nL 19.671875 0 \nL 9.8125 0 \nz\n\" id=\"DejaVuSans-70\"/>\n       <path d=\"M 19.671875 64.796875 \nL 19.671875 37.40625 \nL 32.078125 37.40625 \nQ 38.96875 37.40625 42.71875 40.96875 \nQ 46.484375 44.53125 46.484375 51.125 \nQ 46.484375 57.671875 42.71875 61.234375 \nQ 38.96875 64.796875 32.078125 64.796875 \nz\nM 9.8125 72.90625 \nL 32.078125 72.90625 \nQ 44.34375 72.90625 50.609375 67.359375 \nQ 56.890625 61.8125 56.890625 51.125 \nQ 56.890625 40.328125 50.609375 34.8125 \nQ 44.34375 29.296875 32.078125 29.296875 \nL 19.671875 29.296875 \nL 19.671875 0 \nL 9.8125 0 \nz\n\" id=\"DejaVuSans-80\"/>\n       <path d=\"M 44.390625 34.1875 \nQ 47.5625 33.109375 50.5625 29.59375 \nQ 53.5625 26.078125 56.59375 19.921875 \nL 66.609375 0 \nL 56 0 \nL 46.6875 18.703125 \nQ 43.0625 26.03125 39.671875 28.421875 \nQ 36.28125 30.8125 30.421875 30.8125 \nL 19.671875 30.8125 \nL 19.671875 0 \nL 9.8125 0 \nL 9.8125 72.90625 \nL 32.078125 72.90625 \nQ 44.578125 72.90625 50.734375 67.671875 \nQ 56.890625 62.453125 56.890625 51.90625 \nQ 56.890625 45.015625 53.6875 40.46875 \nQ 50.484375 35.9375 44.390625 34.1875 \nz\nM 19.671875 64.796875 \nL 19.671875 38.921875 \nL 32.078125 38.921875 \nQ 39.203125 38.921875 42.84375 42.21875 \nQ 46.484375 45.515625 46.484375 51.90625 \nQ 46.484375 58.296875 42.84375 61.546875 \nQ 39.203125 64.796875 32.078125 64.796875 \nz\n\" id=\"DejaVuSans-82\"/>\n      </defs>\n      <use xlink:href=\"#DejaVuSans-70\"/>\n      <use x=\"57.519531\" xlink:href=\"#DejaVuSans-80\"/>\n      <use x=\"117.822266\" xlink:href=\"#DejaVuSans-82\"/>\n     </g>\n    </g>\n   </g>\n   <g id=\"matplotlib.axis_2\">\n    <g id=\"ytick_1\">\n     <g id=\"line2d_7\">\n      <defs>\n       <path d=\"M 0 0 \nL -3.5 0 \n\" id=\"m2d64920438\" style=\"stroke:#000000;stroke-width:0.8;\"/>\n      </defs>\n      <g>\n       <use style=\"stroke:#000000;stroke-width:0.8;\" x=\"43.78125\" xlink:href=\"#m2d64920438\" y=\"333.65267\"/>\n      </g>\n     </g>\n     <g id=\"text_8\">\n      <!-- 0.0 -->\n      <g transform=\"translate(20.878125 337.451889)scale(0.1 -0.1)\">\n       <use xlink:href=\"#DejaVuSans-48\"/>\n       <use x=\"63.623047\" xlink:href=\"#DejaVuSans-46\"/>\n       <use x=\"95.410156\" xlink:href=\"#DejaVuSans-48\"/>\n      </g>\n     </g>\n    </g>\n    <g id=\"ytick_2\">\n     <g id=\"line2d_8\">\n      <g>\n       <use style=\"stroke:#000000;stroke-width:0.8;\" x=\"43.78125\" xlink:href=\"#m2d64920438\" y=\"274.350852\"/>\n      </g>\n     </g>\n     <g id=\"text_9\">\n      <!-- 0.2 -->\n      <g transform=\"translate(20.878125 278.150071)scale(0.1 -0.1)\">\n       <use xlink:href=\"#DejaVuSans-48\"/>\n       <use x=\"63.623047\" xlink:href=\"#DejaVuSans-46\"/>\n       <use x=\"95.410156\" xlink:href=\"#DejaVuSans-50\"/>\n      </g>\n     </g>\n    </g>\n    <g id=\"ytick_3\">\n     <g id=\"line2d_9\">\n      <g>\n       <use style=\"stroke:#000000;stroke-width:0.8;\" x=\"43.78125\" xlink:href=\"#m2d64920438\" y=\"215.049034\"/>\n      </g>\n     </g>\n     <g id=\"text_10\">\n      <!-- 0.4 -->\n      <g transform=\"translate(20.878125 218.848253)scale(0.1 -0.1)\">\n       <use xlink:href=\"#DejaVuSans-48\"/>\n       <use x=\"63.623047\" xlink:href=\"#DejaVuSans-46\"/>\n       <use x=\"95.410156\" xlink:href=\"#DejaVuSans-52\"/>\n      </g>\n     </g>\n    </g>\n    <g id=\"ytick_4\">\n     <g id=\"line2d_10\">\n      <g>\n       <use style=\"stroke:#000000;stroke-width:0.8;\" x=\"43.78125\" xlink:href=\"#m2d64920438\" y=\"155.747216\"/>\n      </g>\n     </g>\n     <g id=\"text_11\">\n      <!-- 0.6 -->\n      <g transform=\"translate(20.878125 159.546435)scale(0.1 -0.1)\">\n       <use xlink:href=\"#DejaVuSans-48\"/>\n       <use x=\"63.623047\" xlink:href=\"#DejaVuSans-46\"/>\n       <use x=\"95.410156\" xlink:href=\"#DejaVuSans-54\"/>\n      </g>\n     </g>\n    </g>\n    <g id=\"ytick_5\">\n     <g id=\"line2d_11\">\n      <g>\n       <use style=\"stroke:#000000;stroke-width:0.8;\" x=\"43.78125\" xlink:href=\"#m2d64920438\" y=\"96.445398\"/>\n      </g>\n     </g>\n     <g id=\"text_12\">\n      <!-- 0.8 -->\n      <g transform=\"translate(20.878125 100.244616)scale(0.1 -0.1)\">\n       <use xlink:href=\"#DejaVuSans-48\"/>\n       <use x=\"63.623047\" xlink:href=\"#DejaVuSans-46\"/>\n       <use x=\"95.410156\" xlink:href=\"#DejaVuSans-56\"/>\n      </g>\n     </g>\n    </g>\n    <g id=\"ytick_6\">\n     <g id=\"line2d_12\">\n      <g>\n       <use style=\"stroke:#000000;stroke-width:0.8;\" x=\"43.78125\" xlink:href=\"#m2d64920438\" y=\"37.14358\"/>\n      </g>\n     </g>\n     <g id=\"text_13\">\n      <!-- 1.0 -->\n      <g transform=\"translate(20.878125 40.942798)scale(0.1 -0.1)\">\n       <use xlink:href=\"#DejaVuSans-49\"/>\n       <use x=\"63.623047\" xlink:href=\"#DejaVuSans-46\"/>\n       <use x=\"95.410156\" xlink:href=\"#DejaVuSans-48\"/>\n      </g>\n     </g>\n    </g>\n    <g id=\"text_14\">\n     <!-- TPR -->\n     <g transform=\"translate(14.798438 194.941094)rotate(-90)scale(0.1 -0.1)\">\n      <defs>\n       <path d=\"M -0.296875 72.90625 \nL 61.375 72.90625 \nL 61.375 64.59375 \nL 35.5 64.59375 \nL 35.5 0 \nL 25.59375 0 \nL 25.59375 64.59375 \nL -0.296875 64.59375 \nz\n\" id=\"DejaVuSans-84\"/>\n      </defs>\n      <use xlink:href=\"#DejaVuSans-84\"/>\n      <use x=\"61.083984\" xlink:href=\"#DejaVuSans-80\"/>\n      <use x=\"121.386719\" xlink:href=\"#DejaVuSans-82\"/>\n     </g>\n    </g>\n   </g>\n   <g id=\"line2d_13\">\n    <path clip-path=\"url(#pc9a8987378)\" d=\"M 58.999432 333.65267 \nL 58.999432 327.12947 \nL 59.303795 327.12947 \nL 59.303795 325.943434 \nL 59.608159 325.943434 \nL 59.608159 318.530707 \nL 59.912523 318.530707 \nL 59.912523 313.490052 \nL 60.52125 313.490052 \nL 60.52125 309.338925 \nL 60.825614 309.338925 \nL 60.825614 294.51347 \nL 61.129977 294.51347 \nL 61.129977 268.71718 \nL 61.434341 268.71718 \nL 61.434341 267.827652 \nL 61.738705 267.827652 \nL 61.738705 255.37427 \nL 62.043068 255.37427 \nL 62.043068 237.880234 \nL 62.347432 237.880234 \nL 62.347432 226.01987 \nL 62.651795 226.01987 \nL 62.651795 225.426852 \nL 62.956159 225.426852 \nL 62.956159 220.682707 \nL 63.260523 220.682707 \nL 63.260523 217.717616 \nL 63.564886 217.717616 \nL 63.564886 216.53158 \nL 63.86925 216.53158 \nL 63.86925 211.787434 \nL 64.173614 211.787434 \nL 64.173614 207.339798 \nL 64.477977 207.339798 \nL 64.477977 205.857252 \nL 64.782341 205.857252 \nL 64.782341 205.560743 \nL 65.086705 205.560743 \nL 65.086705 201.409616 \nL 65.391068 201.409616 \nL 65.391068 198.444525 \nL 65.695432 198.444525 \nL 65.695432 195.775943 \nL 65.999795 195.775943 \nL 65.999795 195.479434 \nL 66.304159 195.479434 \nL 66.304159 192.514343 \nL 66.608523 192.514343 \nL 66.608523 184.212089 \nL 66.912886 184.212089 \nL 66.912886 181.840016 \nL 67.825977 181.840016 \nL 67.825977 180.060961 \nL 68.130341 180.060961 \nL 68.130341 175.909834 \nL 68.434705 175.909834 \nL 68.434705 175.316816 \nL 68.739068 175.316816 \nL 68.739068 173.241252 \nL 69.043432 173.241252 \nL 69.043432 170.86918 \nL 69.652159 170.86918 \nL 69.652159 170.57267 \nL 69.956523 170.57267 \nL 69.956523 169.090125 \nL 70.260886 169.090125 \nL 70.260886 167.31107 \nL 70.56525 167.31107 \nL 70.56525 166.125034 \nL 71.478341 166.125034 \nL 71.478341 161.380889 \nL 71.782705 161.380889 \nL 71.782705 160.78787 \nL 72.391432 160.78787 \nL 72.391432 159.305325 \nL 72.695795 159.305325 \nL 72.695795 157.229761 \nL 73.000159 157.229761 \nL 73.000159 151.892598 \nL 73.304523 151.892598 \nL 73.304523 149.520525 \nL 73.608886 149.520525 \nL 73.608886 148.03798 \nL 73.91325 148.03798 \nL 73.91325 146.555434 \nL 74.826341 146.555434 \nL 74.826341 145.665907 \nL 75.130705 145.665907 \nL 75.130705 143.886852 \nL 75.435068 143.886852 \nL 75.435068 143.590343 \nL 75.739432 143.590343 \nL 75.739432 142.404307 \nL 76.043795 142.404307 \nL 76.043795 142.107798 \nL 76.348159 142.107798 \nL 76.348159 141.21827 \nL 76.652523 141.21827 \nL 76.652523 140.921761 \nL 76.956886 140.921761 \nL 76.956886 138.846198 \nL 77.26125 138.846198 \nL 77.26125 138.25318 \nL 77.565614 138.25318 \nL 77.565614 137.95667 \nL 77.869977 137.95667 \nL 77.869977 137.363652 \nL 78.174341 137.363652 \nL 78.174341 136.177616 \nL 78.783068 136.177616 \nL 78.783068 135.584598 \nL 79.087432 135.584598 \nL 79.087432 132.619507 \nL 79.391795 132.619507 \nL 79.391795 132.322998 \nL 79.696159 132.322998 \nL 79.696159 131.72998 \nL 80.000523 131.72998 \nL 80.000523 130.840452 \nL 80.60925 130.840452 \nL 80.60925 130.543943 \nL 80.913614 130.543943 \nL 80.913614 129.950925 \nL 81.217977 129.950925 \nL 81.217977 129.061398 \nL 81.522341 129.061398 \nL 81.522341 127.578852 \nL 82.131068 127.578852 \nL 82.131068 123.131216 \nL 82.435432 123.131216 \nL 82.435432 122.241689 \nL 82.739795 122.241689 \nL 82.739795 120.462634 \nL 83.044159 120.462634 \nL 83.044159 119.869616 \nL 83.348523 119.869616 \nL 83.348523 117.794052 \nL 83.95725 117.794052 \nL 83.95725 116.014998 \nL 84.261614 116.014998 \nL 84.261614 115.12547 \nL 84.870341 115.12547 \nL 84.870341 114.828961 \nL 85.174705 114.828961 \nL 85.174705 113.642925 \nL 85.783432 113.642925 \nL 85.783432 112.753398 \nL 86.087795 112.753398 \nL 86.087795 112.16038 \nL 86.392159 112.16038 \nL 86.392159 110.677834 \nL 86.696523 110.677834 \nL 86.696523 109.491798 \nL 87.609614 109.491798 \nL 87.609614 108.89878 \nL 87.913977 108.89878 \nL 87.913977 105.933689 \nL 88.218341 105.933689 \nL 88.218341 104.747652 \nL 88.522705 104.747652 \nL 88.522705 102.07907 \nL 88.827068 102.07907 \nL 88.827068 100.893034 \nL 89.131432 100.893034 \nL 89.131432 99.706998 \nL 89.435795 99.706998 \nL 89.435795 99.410489 \nL 89.740159 99.410489 \nL 89.740159 99.11398 \nL 90.044523 99.11398 \nL 90.044523 98.224452 \nL 90.348886 98.224452 \nL 90.348886 94.666343 \nL 90.65325 94.666343 \nL 90.65325 94.073325 \nL 91.566341 94.073325 \nL 91.566341 93.776816 \nL 91.870705 93.776816 \nL 91.870705 92.29427 \nL 92.479432 92.29427 \nL 92.479432 91.404743 \nL 92.783795 91.404743 \nL 92.783795 91.108234 \nL 93.088159 91.108234 \nL 93.088159 89.922198 \nL 93.392523 89.922198 \nL 93.392523 89.625689 \nL 94.00125 89.625689 \nL 94.00125 88.439652 \nL 94.305614 88.439652 \nL 94.305614 87.253616 \nL 94.914341 87.253616 \nL 94.914341 85.77107 \nL 95.218705 85.77107 \nL 95.218705 85.474561 \nL 95.523068 85.474561 \nL 95.523068 84.288525 \nL 95.827432 84.288525 \nL 95.827432 82.50947 \nL 96.436159 82.50947 \nL 96.436159 81.916452 \nL 97.044886 81.916452 \nL 97.044886 81.026925 \nL 97.34925 81.026925 \nL 97.34925 80.730416 \nL 97.653614 80.730416 \nL 97.653614 80.433907 \nL 97.957977 80.433907 \nL 97.957977 79.54438 \nL 98.262341 79.54438 \nL 98.262341 78.951361 \nL 98.566705 78.951361 \nL 98.566705 76.875798 \nL 99.175432 76.875798 \nL 99.175432 76.28278 \nL 99.479795 76.28278 \nL 99.479795 75.689761 \nL 100.088523 75.689761 \nL 100.088523 75.393252 \nL 100.392886 75.393252 \nL 100.392886 75.096743 \nL 101.001614 75.096743 \nL 101.001614 74.503725 \nL 101.305977 74.503725 \nL 101.305977 73.614198 \nL 101.914705 73.614198 \nL 101.914705 73.02118 \nL 102.219068 73.02118 \nL 102.219068 71.835143 \nL 102.523432 71.835143 \nL 102.523432 71.538634 \nL 102.827795 71.538634 \nL 102.827795 70.649107 \nL 103.436523 70.649107 \nL 103.436523 69.166561 \nL 103.740886 69.166561 \nL 103.740886 65.311943 \nL 104.04525 65.311943 \nL 104.04525 64.125907 \nL 104.653977 64.125907 \nL 104.653977 63.829398 \nL 104.958341 63.829398 \nL 104.958341 62.643361 \nL 106.480159 62.643361 \nL 106.480159 62.050343 \nL 107.088886 62.050343 \nL 107.088886 61.753834 \nL 107.697614 61.753834 \nL 107.697614 61.457325 \nL 108.306341 61.457325 \nL 108.306341 61.160816 \nL 108.915068 61.160816 \nL 108.915068 60.864307 \nL 109.828159 60.864307 \nL 109.828159 60.567798 \nL 110.436886 60.567798 \nL 110.436886 60.271289 \nL 110.74125 60.271289 \nL 110.74125 59.97478 \nL 111.045614 59.97478 \nL 111.045614 59.67827 \nL 111.349977 59.67827 \nL 111.349977 59.381761 \nL 112.263068 59.381761 \nL 112.263068 59.085252 \nL 112.871795 59.085252 \nL 112.871795 58.492234 \nL 114.393614 58.492234 \nL 114.393614 58.195725 \nL 115.915432 58.195725 \nL 115.915432 57.899216 \nL 116.524159 57.899216 \nL 116.524159 57.602707 \nL 116.828523 57.602707 \nL 116.828523 57.009689 \nL 117.43725 57.009689 \nL 117.43725 56.71318 \nL 118.350341 56.71318 \nL 118.350341 56.41667 \nL 118.654705 56.41667 \nL 118.654705 56.120161 \nL 121.089614 56.120161 \nL 121.089614 55.823652 \nL 121.393977 55.823652 \nL 121.393977 55.527143 \nL 122.307068 55.527143 \nL 122.307068 55.230634 \nL 122.915795 55.230634 \nL 122.915795 54.341107 \nL 123.220159 54.341107 \nL 123.220159 53.748089 \nL 123.524523 53.748089 \nL 123.524523 53.15507 \nL 124.437614 53.15507 \nL 124.437614 52.562052 \nL 124.741977 52.562052 \nL 124.741977 52.265543 \nL 125.046341 52.265543 \nL 125.046341 51.969034 \nL 125.350705 51.969034 \nL 125.350705 51.672525 \nL 126.872523 51.672525 \nL 126.872523 51.376016 \nL 127.176886 51.376016 \nL 127.176886 51.079507 \nL 129.611795 51.079507 \nL 129.611795 50.782998 \nL 129.916159 50.782998 \nL 129.916159 50.486489 \nL 130.220523 50.486489 \nL 130.220523 50.18998 \nL 131.133614 50.18998 \nL 131.133614 49.89347 \nL 131.437977 49.89347 \nL 131.437977 49.596961 \nL 132.351068 49.596961 \nL 132.351068 49.300452 \nL 132.959795 49.300452 \nL 132.959795 49.003943 \nL 133.264159 49.003943 \nL 133.264159 48.707434 \nL 133.872886 48.707434 \nL 133.872886 48.410925 \nL 135.394705 48.410925 \nL 135.394705 48.114416 \nL 136.612159 48.114416 \nL 136.612159 47.817907 \nL 137.52525 47.817907 \nL 137.52525 47.224889 \nL 138.742705 47.224889 \nL 138.742705 46.92838 \nL 139.047068 46.92838 \nL 139.047068 46.63187 \nL 139.960159 46.63187 \nL 139.960159 46.335361 \nL 140.264523 46.335361 \nL 140.264523 45.742343 \nL 140.568886 45.742343 \nL 140.568886 45.445834 \nL 140.87325 45.445834 \nL 140.87325 44.852816 \nL 142.090705 44.852816 \nL 142.090705 44.556307 \nL 144.22125 44.556307 \nL 144.22125 44.259798 \nL 146.656159 44.259798 \nL 146.656159 43.963289 \nL 147.56925 43.963289 \nL 147.56925 43.66678 \nL 150.004159 43.66678 \nL 150.004159 43.37027 \nL 153.047795 43.37027 \nL 153.047795 42.480743 \nL 154.26525 42.480743 \nL 154.26525 42.184234 \nL 157.61325 42.184234 \nL 157.61325 41.887725 \nL 161.874341 41.887725 \nL 161.874341 41.591216 \nL 164.613614 41.591216 \nL 164.613614 41.294707 \nL 167.048523 41.294707 \nL 167.048523 40.998198 \nL 174.35325 40.998198 \nL 174.35325 40.701689 \nL 177.092523 40.701689 \nL 177.092523 40.40518 \nL 184.092886 40.40518 \nL 184.092886 40.10867 \nL 187.136523 40.10867 \nL 187.136523 39.812161 \nL 197.484886 39.812161 \nL 197.484886 39.515652 \nL 198.702341 39.515652 \nL 198.702341 39.219143 \nL 200.224159 39.219143 \nL 200.224159 38.922634 \nL 207.83325 38.922634 \nL 207.83325 38.626125 \nL 210.572523 38.626125 \nL 210.572523 38.329616 \nL 225.181977 38.329616 \nL 225.181977 38.033107 \nL 243.139432 38.033107 \nL 243.139432 37.736598 \nL 253.792159 37.736598 \nL 253.792159 37.440089 \nL 288.793977 37.440089 \nL 288.793977 37.14358 \nL 363.363068 37.14358 \nL 363.363068 37.14358 \n\" style=\"fill:none;stroke:#0000ff;stroke-linecap:square;stroke-width:1.5;\"/>\n   </g>\n   <g id=\"patch_3\">\n    <path d=\"M 43.78125 348.478125 \nL 43.78125 22.318125 \n\" style=\"fill:none;stroke:#000000;stroke-linecap:square;stroke-linejoin:miter;stroke-width:0.8;\"/>\n   </g>\n   <g id=\"patch_4\">\n    <path d=\"M 378.58125 348.478125 \nL 378.58125 22.318125 \n\" style=\"fill:none;stroke:#000000;stroke-linecap:square;stroke-linejoin:miter;stroke-width:0.8;\"/>\n   </g>\n   <g id=\"patch_5\">\n    <path d=\"M 43.78125 348.478125 \nL 378.58125 348.478125 \n\" style=\"fill:none;stroke:#000000;stroke-linecap:square;stroke-linejoin:miter;stroke-width:0.8;\"/>\n   </g>\n   <g id=\"patch_6\">\n    <path d=\"M 43.78125 22.318125 \nL 378.58125 22.318125 \n\" style=\"fill:none;stroke:#000000;stroke-linecap:square;stroke-linejoin:miter;stroke-width:0.8;\"/>\n   </g>\n   <g id=\"text_15\">\n    <!-- ROC Curve -->\n    <g transform=\"translate(178.490625 16.318125)scale(0.12 -0.12)\">\n     <defs>\n      <path d=\"M 39.40625 66.21875 \nQ 28.65625 66.21875 22.328125 58.203125 \nQ 16.015625 50.203125 16.015625 36.375 \nQ 16.015625 22.609375 22.328125 14.59375 \nQ 28.65625 6.59375 39.40625 6.59375 \nQ 50.140625 6.59375 56.421875 14.59375 \nQ 62.703125 22.609375 62.703125 36.375 \nQ 62.703125 50.203125 56.421875 58.203125 \nQ 50.140625 66.21875 39.40625 66.21875 \nz\nM 39.40625 74.21875 \nQ 54.734375 74.21875 63.90625 63.9375 \nQ 73.09375 53.65625 73.09375 36.375 \nQ 73.09375 19.140625 63.90625 8.859375 \nQ 54.734375 -1.421875 39.40625 -1.421875 \nQ 24.03125 -1.421875 14.8125 8.828125 \nQ 5.609375 19.09375 5.609375 36.375 \nQ 5.609375 53.65625 14.8125 63.9375 \nQ 24.03125 74.21875 39.40625 74.21875 \nz\n\" id=\"DejaVuSans-79\"/>\n      <path d=\"M 64.40625 67.28125 \nL 64.40625 56.890625 \nQ 59.421875 61.53125 53.78125 63.8125 \nQ 48.140625 66.109375 41.796875 66.109375 \nQ 29.296875 66.109375 22.65625 58.46875 \nQ 16.015625 50.828125 16.015625 36.375 \nQ 16.015625 21.96875 22.65625 14.328125 \nQ 29.296875 6.6875 41.796875 6.6875 \nQ 48.140625 6.6875 53.78125 8.984375 \nQ 59.421875 11.28125 64.40625 15.921875 \nL 64.40625 5.609375 \nQ 59.234375 2.09375 53.4375 0.328125 \nQ 47.65625 -1.421875 41.21875 -1.421875 \nQ 24.65625 -1.421875 15.125 8.703125 \nQ 5.609375 18.84375 5.609375 36.375 \nQ 5.609375 53.953125 15.125 64.078125 \nQ 24.65625 74.21875 41.21875 74.21875 \nQ 47.75 74.21875 53.53125 72.484375 \nQ 59.328125 70.75 64.40625 67.28125 \nz\n\" id=\"DejaVuSans-67\"/>\n      <path id=\"DejaVuSans-32\"/>\n      <path d=\"M 8.5 21.578125 \nL 8.5 54.6875 \nL 17.484375 54.6875 \nL 17.484375 21.921875 \nQ 17.484375 14.15625 20.5 10.265625 \nQ 23.53125 6.390625 29.59375 6.390625 \nQ 36.859375 6.390625 41.078125 11.03125 \nQ 45.3125 15.671875 45.3125 23.6875 \nL 45.3125 54.6875 \nL 54.296875 54.6875 \nL 54.296875 0 \nL 45.3125 0 \nL 45.3125 8.40625 \nQ 42.046875 3.421875 37.71875 1 \nQ 33.40625 -1.421875 27.6875 -1.421875 \nQ 18.265625 -1.421875 13.375 4.4375 \nQ 8.5 10.296875 8.5 21.578125 \nz\nM 31.109375 56 \nz\n\" id=\"DejaVuSans-117\"/>\n      <path d=\"M 41.109375 46.296875 \nQ 39.59375 47.171875 37.8125 47.578125 \nQ 36.03125 48 33.890625 48 \nQ 26.265625 48 22.1875 43.046875 \nQ 18.109375 38.09375 18.109375 28.8125 \nL 18.109375 0 \nL 9.078125 0 \nL 9.078125 54.6875 \nL 18.109375 54.6875 \nL 18.109375 46.1875 \nQ 20.953125 51.171875 25.484375 53.578125 \nQ 30.03125 56 36.53125 56 \nQ 37.453125 56 38.578125 55.875 \nQ 39.703125 55.765625 41.0625 55.515625 \nz\n\" id=\"DejaVuSans-114\"/>\n      <path d=\"M 2.984375 54.6875 \nL 12.5 54.6875 \nL 29.59375 8.796875 \nL 46.6875 54.6875 \nL 56.203125 54.6875 \nL 35.6875 0 \nL 23.484375 0 \nz\n\" id=\"DejaVuSans-118\"/>\n      <path d=\"M 56.203125 29.59375 \nL 56.203125 25.203125 \nL 14.890625 25.203125 \nQ 15.484375 15.921875 20.484375 11.0625 \nQ 25.484375 6.203125 34.421875 6.203125 \nQ 39.59375 6.203125 44.453125 7.46875 \nQ 49.3125 8.734375 54.109375 11.28125 \nL 54.109375 2.78125 \nQ 49.265625 0.734375 44.1875 -0.34375 \nQ 39.109375 -1.421875 33.890625 -1.421875 \nQ 20.796875 -1.421875 13.15625 6.1875 \nQ 5.515625 13.8125 5.515625 26.8125 \nQ 5.515625 40.234375 12.765625 48.109375 \nQ 20.015625 56 32.328125 56 \nQ 43.359375 56 49.78125 48.890625 \nQ 56.203125 41.796875 56.203125 29.59375 \nz\nM 47.21875 32.234375 \nQ 47.125 39.59375 43.09375 43.984375 \nQ 39.0625 48.390625 32.421875 48.390625 \nQ 24.90625 48.390625 20.390625 44.140625 \nQ 15.875 39.890625 15.1875 32.171875 \nz\n\" id=\"DejaVuSans-101\"/>\n     </defs>\n     <use xlink:href=\"#DejaVuSans-82\"/>\n     <use x=\"69.482422\" xlink:href=\"#DejaVuSans-79\"/>\n     <use x=\"148.193359\" xlink:href=\"#DejaVuSans-67\"/>\n     <use x=\"218.017578\" xlink:href=\"#DejaVuSans-32\"/>\n     <use x=\"249.804688\" xlink:href=\"#DejaVuSans-67\"/>\n     <use x=\"319.628906\" xlink:href=\"#DejaVuSans-117\"/>\n     <use x=\"383.007812\" xlink:href=\"#DejaVuSans-114\"/>\n     <use x=\"424.121094\" xlink:href=\"#DejaVuSans-118\"/>\n     <use x=\"483.300781\" xlink:href=\"#DejaVuSans-101\"/>\n    </g>\n   </g>\n   <g id=\"legend_1\">\n    <g id=\"patch_7\">\n     <path d=\"M 235.928125 343.478125 \nL 371.58125 343.478125 \nQ 373.58125 343.478125 373.58125 341.478125 \nL 373.58125 327.8 \nQ 373.58125 325.8 371.58125 325.8 \nL 235.928125 325.8 \nQ 233.928125 325.8 233.928125 327.8 \nL 233.928125 341.478125 \nQ 233.928125 343.478125 235.928125 343.478125 \nz\n\" style=\"fill:#ffffff;opacity:0.8;stroke:#cccccc;stroke-linejoin:miter;\"/>\n    </g>\n    <g id=\"line2d_14\">\n     <path d=\"M 237.928125 333.898437 \nL 257.928125 333.898437 \n\" style=\"fill:none;stroke:#0000ff;stroke-linecap:square;stroke-width:1.5;\"/>\n    </g>\n    <g id=\"line2d_15\"/>\n    <g id=\"text_16\">\n     <!-- ROC (AUC = 0.9386) -->\n     <g transform=\"translate(265.928125 337.398437)scale(0.1 -0.1)\">\n      <defs>\n       <path d=\"M 31 75.875 \nQ 24.46875 64.65625 21.28125 53.65625 \nQ 18.109375 42.671875 18.109375 31.390625 \nQ 18.109375 20.125 21.3125 9.0625 \nQ 24.515625 -2 31 -13.1875 \nL 23.1875 -13.1875 \nQ 15.875 -1.703125 12.234375 9.375 \nQ 8.59375 20.453125 8.59375 31.390625 \nQ 8.59375 42.28125 12.203125 53.3125 \nQ 15.828125 64.359375 23.1875 75.875 \nz\n\" id=\"DejaVuSans-40\"/>\n       <path d=\"M 34.1875 63.1875 \nL 20.796875 26.90625 \nL 47.609375 26.90625 \nz\nM 28.609375 72.90625 \nL 39.796875 72.90625 \nL 67.578125 0 \nL 57.328125 0 \nL 50.6875 18.703125 \nL 17.828125 18.703125 \nL 11.1875 0 \nL 0.78125 0 \nz\n\" id=\"DejaVuSans-65\"/>\n       <path d=\"M 8.6875 72.90625 \nL 18.609375 72.90625 \nL 18.609375 28.609375 \nQ 18.609375 16.890625 22.84375 11.734375 \nQ 27.09375 6.59375 36.625 6.59375 \nQ 46.09375 6.59375 50.34375 11.734375 \nQ 54.59375 16.890625 54.59375 28.609375 \nL 54.59375 72.90625 \nL 64.5 72.90625 \nL 64.5 27.390625 \nQ 64.5 13.140625 57.4375 5.859375 \nQ 50.390625 -1.421875 36.625 -1.421875 \nQ 22.796875 -1.421875 15.734375 5.859375 \nQ 8.6875 13.140625 8.6875 27.390625 \nz\n\" id=\"DejaVuSans-85\"/>\n       <path d=\"M 10.59375 45.40625 \nL 73.1875 45.40625 \nL 73.1875 37.203125 \nL 10.59375 37.203125 \nz\nM 10.59375 25.484375 \nL 73.1875 25.484375 \nL 73.1875 17.1875 \nL 10.59375 17.1875 \nz\n\" id=\"DejaVuSans-61\"/>\n       <path d=\"M 10.984375 1.515625 \nL 10.984375 10.5 \nQ 14.703125 8.734375 18.5 7.8125 \nQ 22.3125 6.890625 25.984375 6.890625 \nQ 35.75 6.890625 40.890625 13.453125 \nQ 46.046875 20.015625 46.78125 33.40625 \nQ 43.953125 29.203125 39.59375 26.953125 \nQ 35.25 24.703125 29.984375 24.703125 \nQ 19.046875 24.703125 12.671875 31.3125 \nQ 6.296875 37.9375 6.296875 49.421875 \nQ 6.296875 60.640625 12.9375 67.421875 \nQ 19.578125 74.21875 30.609375 74.21875 \nQ 43.265625 74.21875 49.921875 64.515625 \nQ 56.59375 54.828125 56.59375 36.375 \nQ 56.59375 19.140625 48.40625 8.859375 \nQ 40.234375 -1.421875 26.421875 -1.421875 \nQ 22.703125 -1.421875 18.890625 -0.6875 \nQ 15.09375 0.046875 10.984375 1.515625 \nz\nM 30.609375 32.421875 \nQ 37.25 32.421875 41.125 36.953125 \nQ 45.015625 41.5 45.015625 49.421875 \nQ 45.015625 57.28125 41.125 61.84375 \nQ 37.25 66.40625 30.609375 66.40625 \nQ 23.96875 66.40625 20.09375 61.84375 \nQ 16.21875 57.28125 16.21875 49.421875 \nQ 16.21875 41.5 20.09375 36.953125 \nQ 23.96875 32.421875 30.609375 32.421875 \nz\n\" id=\"DejaVuSans-57\"/>\n       <path d=\"M 40.578125 39.3125 \nQ 47.65625 37.796875 51.625 33 \nQ 55.609375 28.21875 55.609375 21.1875 \nQ 55.609375 10.40625 48.1875 4.484375 \nQ 40.765625 -1.421875 27.09375 -1.421875 \nQ 22.515625 -1.421875 17.65625 -0.515625 \nQ 12.796875 0.390625 7.625 2.203125 \nL 7.625 11.71875 \nQ 11.71875 9.328125 16.59375 8.109375 \nQ 21.484375 6.890625 26.8125 6.890625 \nQ 36.078125 6.890625 40.9375 10.546875 \nQ 45.796875 14.203125 45.796875 21.1875 \nQ 45.796875 27.640625 41.28125 31.265625 \nQ 36.765625 34.90625 28.71875 34.90625 \nL 20.21875 34.90625 \nL 20.21875 43.015625 \nL 29.109375 43.015625 \nQ 36.375 43.015625 40.234375 45.921875 \nQ 44.09375 48.828125 44.09375 54.296875 \nQ 44.09375 59.90625 40.109375 62.90625 \nQ 36.140625 65.921875 28.71875 65.921875 \nQ 24.65625 65.921875 20.015625 65.03125 \nQ 15.375 64.15625 9.8125 62.3125 \nL 9.8125 71.09375 \nQ 15.4375 72.65625 20.34375 73.4375 \nQ 25.25 74.21875 29.59375 74.21875 \nQ 40.828125 74.21875 47.359375 69.109375 \nQ 53.90625 64.015625 53.90625 55.328125 \nQ 53.90625 49.265625 50.4375 45.09375 \nQ 46.96875 40.921875 40.578125 39.3125 \nz\n\" id=\"DejaVuSans-51\"/>\n       <path d=\"M 8.015625 75.875 \nL 15.828125 75.875 \nQ 23.140625 64.359375 26.78125 53.3125 \nQ 30.421875 42.28125 30.421875 31.390625 \nQ 30.421875 20.453125 26.78125 9.375 \nQ 23.140625 -1.703125 15.828125 -13.1875 \nL 8.015625 -13.1875 \nQ 14.5 -2 17.703125 9.0625 \nQ 20.90625 20.125 20.90625 31.390625 \nQ 20.90625 42.671875 17.703125 53.65625 \nQ 14.5 64.65625 8.015625 75.875 \nz\n\" id=\"DejaVuSans-41\"/>\n      </defs>\n      <use xlink:href=\"#DejaVuSans-82\"/>\n      <use x=\"69.482422\" xlink:href=\"#DejaVuSans-79\"/>\n      <use x=\"148.193359\" xlink:href=\"#DejaVuSans-67\"/>\n      <use x=\"218.017578\" xlink:href=\"#DejaVuSans-32\"/>\n      <use x=\"249.804688\" xlink:href=\"#DejaVuSans-40\"/>\n      <use x=\"288.818359\" xlink:href=\"#DejaVuSans-65\"/>\n      <use x=\"357.226562\" xlink:href=\"#DejaVuSans-85\"/>\n      <use x=\"430.419922\" xlink:href=\"#DejaVuSans-67\"/>\n      <use x=\"500.244141\" xlink:href=\"#DejaVuSans-32\"/>\n      <use x=\"532.03125\" xlink:href=\"#DejaVuSans-61\"/>\n      <use x=\"615.820312\" xlink:href=\"#DejaVuSans-32\"/>\n      <use x=\"647.607422\" xlink:href=\"#DejaVuSans-48\"/>\n      <use x=\"711.230469\" xlink:href=\"#DejaVuSans-46\"/>\n      <use x=\"743.017578\" xlink:href=\"#DejaVuSans-57\"/>\n      <use x=\"806.640625\" xlink:href=\"#DejaVuSans-51\"/>\n      <use x=\"870.263672\" xlink:href=\"#DejaVuSans-56\"/>\n      <use x=\"933.886719\" xlink:href=\"#DejaVuSans-54\"/>\n      <use x=\"997.509766\" xlink:href=\"#DejaVuSans-41\"/>\n     </g>\n    </g>\n   </g>\n  </g>\n </g>\n <defs>\n  <clipPath id=\"pc9a8987378\">\n   <rect height=\"326.16\" width=\"334.8\" x=\"43.78125\" y=\"22.318125\"/>\n  </clipPath>\n </defs>\n</svg>\n",
      "image/png": "[encoded data removed]"
     },
     "metadata": {
      "needs_background": "light"
     }
    }
   ],
   "source": [
    "# On validation set\n",
    "probs = stage2.predict_proba(X_val, pred_val)\n",
    "_, _, auc_score, _ = get_roc(labels_val, probs[:, 1], show_plot=True)"
   ]
  },
  {
   "cell_type": "code",
   "execution_count": 34,
   "metadata": {},
   "outputs": [
    {
     "output_type": "display_data",
     "data": {
      "text/plain": "<Figure size 432x432 with 1 Axes>",
      "image/svg+xml": "<?xml version=\"1.0\" encoding=\"utf-8\" standalone=\"no\"?>\n<!DOCTYPE svg PUBLIC \"-//W3C//DTD SVG 1.1//EN\"\n  \"http://www.w3.org/Graphics/SVG/1.1/DTD/svg11.dtd\">\n<!-- Created with matplotlib (https://matplotlib.org/) -->\n<svg height=\"386.034375pt\" version=\"1.1\" viewBox=\"0 0 385.78125 386.034375\" width=\"385.78125pt\" xmlns=\"http://www.w3.org/2000/svg\" xmlns:xlink=\"http://www.w3.org/1999/xlink\">\n <metadata>\n  <rdf:RDF xmlns:cc=\"http://creativecommons.org/ns#\" xmlns:dc=\"http://purl.org/dc/elements/1.1/\" xmlns:rdf=\"http://www.w3.org/1999/02/22-rdf-syntax-ns#\">\n   <cc:Work>\n    <dc:type rdf:resource=\"http://purl.org/dc/dcmitype/StillImage\"/>\n    <dc:date>2021-01-10T15:47:05.040079</dc:date>\n    <dc:format>image/svg+xml</dc:format>\n    <dc:creator>\n     <cc:Agent>\n      <dc:title>Matplotlib v3.3.3, https://matplotlib.org/</dc:title>\n     </cc:Agent>\n    </dc:creator>\n   </cc:Work>\n  </rdf:RDF>\n </metadata>\n <defs>\n  <style type=\"text/css\">*{stroke-linecap:butt;stroke-linejoin:round;}</style>\n </defs>\n <g id=\"figure_1\">\n  <g id=\"patch_1\">\n   <path d=\"M 0 386.034375 \nL 385.78125 386.034375 \nL 385.78125 0 \nL 0 0 \nz\n\" style=\"fill:none;\"/>\n  </g>\n  <g id=\"axes_1\">\n   <g id=\"patch_2\">\n    <path d=\"M 43.78125 348.478125 \nL 378.58125 348.478125 \nL 378.58125 22.318125 \nL 43.78125 22.318125 \nz\n\" style=\"fill:#ffffff;\"/>\n   </g>\n   <g id=\"matplotlib.axis_1\">\n    <g id=\"xtick_1\">\n     <g id=\"line2d_1\">\n      <defs>\n       <path d=\"M 0 0 \nL 0 3.5 \n\" id=\"mc7ca1076cb\" style=\"stroke:#000000;stroke-width:0.8;\"/>\n      </defs>\n      <g>\n       <use style=\"stroke:#000000;stroke-width:0.8;\" x=\"58.999432\" xlink:href=\"#mc7ca1076cb\" y=\"348.478125\"/>\n      </g>\n     </g>\n     <g id=\"text_1\">\n      <!-- 0.0 -->\n      <g transform=\"translate(51.047869 363.076562)scale(0.1 -0.1)\">\n       <defs>\n        <path d=\"M 31.78125 66.40625 \nQ 24.171875 66.40625 20.328125 58.90625 \nQ 16.5 51.421875 16.5 36.375 \nQ 16.5 21.390625 20.328125 13.890625 \nQ 24.171875 6.390625 31.78125 6.390625 \nQ 39.453125 6.390625 43.28125 13.890625 \nQ 47.125 21.390625 47.125 36.375 \nQ 47.125 51.421875 43.28125 58.90625 \nQ 39.453125 66.40625 31.78125 66.40625 \nz\nM 31.78125 74.21875 \nQ 44.046875 74.21875 50.515625 64.515625 \nQ 56.984375 54.828125 56.984375 36.375 \nQ 56.984375 17.96875 50.515625 8.265625 \nQ 44.046875 -1.421875 31.78125 -1.421875 \nQ 19.53125 -1.421875 13.0625 8.265625 \nQ 6.59375 17.96875 6.59375 36.375 \nQ 6.59375 54.828125 13.0625 64.515625 \nQ 19.53125 74.21875 31.78125 74.21875 \nz\n\" id=\"DejaVuSans-48\"/>\n        <path d=\"M 10.6875 12.40625 \nL 21 12.40625 \nL 21 0 \nL 10.6875 0 \nz\n\" id=\"DejaVuSans-46\"/>\n       </defs>\n       <use xlink:href=\"#DejaVuSans-48\"/>\n       <use x=\"63.623047\" xlink:href=\"#DejaVuSans-46\"/>\n       <use x=\"95.410156\" xlink:href=\"#DejaVuSans-48\"/>\n      </g>\n     </g>\n    </g>\n    <g id=\"xtick_2\">\n     <g id=\"line2d_2\">\n      <g>\n       <use style=\"stroke:#000000;stroke-width:0.8;\" x=\"119.872159\" xlink:href=\"#mc7ca1076cb\" y=\"348.478125\"/>\n      </g>\n     </g>\n     <g id=\"text_2\">\n      <!-- 0.2 -->\n      <g transform=\"translate(111.920597 363.076562)scale(0.1 -0.1)\">\n       <defs>\n        <path d=\"M 19.1875 8.296875 \nL 53.609375 8.296875 \nL 53.609375 0 \nL 7.328125 0 \nL 7.328125 8.296875 \nQ 12.9375 14.109375 22.625 23.890625 \nQ 32.328125 33.6875 34.8125 36.53125 \nQ 39.546875 41.84375 41.421875 45.53125 \nQ 43.3125 49.21875 43.3125 52.78125 \nQ 43.3125 58.59375 39.234375 62.25 \nQ 35.15625 65.921875 28.609375 65.921875 \nQ 23.96875 65.921875 18.8125 64.3125 \nQ 13.671875 62.703125 7.8125 59.421875 \nL 7.8125 69.390625 \nQ 13.765625 71.78125 18.9375 73 \nQ 24.125 74.21875 28.421875 74.21875 \nQ 39.75 74.21875 46.484375 68.546875 \nQ 53.21875 62.890625 53.21875 53.421875 \nQ 53.21875 48.921875 51.53125 44.890625 \nQ 49.859375 40.875 45.40625 35.40625 \nQ 44.1875 33.984375 37.640625 27.21875 \nQ 31.109375 20.453125 19.1875 8.296875 \nz\n\" id=\"DejaVuSans-50\"/>\n       </defs>\n       <use xlink:href=\"#DejaVuSans-48\"/>\n       <use x=\"63.623047\" xlink:href=\"#DejaVuSans-46\"/>\n       <use x=\"95.410156\" xlink:href=\"#DejaVuSans-50\"/>\n      </g>\n     </g>\n    </g>\n    <g id=\"xtick_3\">\n     <g id=\"line2d_3\">\n      <g>\n       <use style=\"stroke:#000000;stroke-width:0.8;\" x=\"180.744886\" xlink:href=\"#mc7ca1076cb\" y=\"348.478125\"/>\n      </g>\n     </g>\n     <g id=\"text_3\">\n      <!-- 0.4 -->\n      <g transform=\"translate(172.793324 363.076562)scale(0.1 -0.1)\">\n       <defs>\n        <path d=\"M 37.796875 64.3125 \nL 12.890625 25.390625 \nL 37.796875 25.390625 \nz\nM 35.203125 72.90625 \nL 47.609375 72.90625 \nL 47.609375 25.390625 \nL 58.015625 25.390625 \nL 58.015625 17.1875 \nL 47.609375 17.1875 \nL 47.609375 0 \nL 37.796875 0 \nL 37.796875 17.1875 \nL 4.890625 17.1875 \nL 4.890625 26.703125 \nz\n\" id=\"DejaVuSans-52\"/>\n       </defs>\n       <use xlink:href=\"#DejaVuSans-48\"/>\n       <use x=\"63.623047\" xlink:href=\"#DejaVuSans-46\"/>\n       <use x=\"95.410156\" xlink:href=\"#DejaVuSans-52\"/>\n      </g>\n     </g>\n    </g>\n    <g id=\"xtick_4\">\n     <g id=\"line2d_4\">\n      <g>\n       <use style=\"stroke:#000000;stroke-width:0.8;\" x=\"241.617614\" xlink:href=\"#mc7ca1076cb\" y=\"348.478125\"/>\n      </g>\n     </g>\n     <g id=\"text_4\">\n      <!-- 0.6 -->\n      <g transform=\"translate(233.666051 363.076562)scale(0.1 -0.1)\">\n       <defs>\n        <path d=\"M 33.015625 40.375 \nQ 26.375 40.375 22.484375 35.828125 \nQ 18.609375 31.296875 18.609375 23.390625 \nQ 18.609375 15.53125 22.484375 10.953125 \nQ 26.375 6.390625 33.015625 6.390625 \nQ 39.65625 6.390625 43.53125 10.953125 \nQ 47.40625 15.53125 47.40625 23.390625 \nQ 47.40625 31.296875 43.53125 35.828125 \nQ 39.65625 40.375 33.015625 40.375 \nz\nM 52.59375 71.296875 \nL 52.59375 62.3125 \nQ 48.875 64.0625 45.09375 64.984375 \nQ 41.3125 65.921875 37.59375 65.921875 \nQ 27.828125 65.921875 22.671875 59.328125 \nQ 17.53125 52.734375 16.796875 39.40625 \nQ 19.671875 43.65625 24.015625 45.921875 \nQ 28.375 48.1875 33.59375 48.1875 \nQ 44.578125 48.1875 50.953125 41.515625 \nQ 57.328125 34.859375 57.328125 23.390625 \nQ 57.328125 12.15625 50.6875 5.359375 \nQ 44.046875 -1.421875 33.015625 -1.421875 \nQ 20.359375 -1.421875 13.671875 8.265625 \nQ 6.984375 17.96875 6.984375 36.375 \nQ 6.984375 53.65625 15.1875 63.9375 \nQ 23.390625 74.21875 37.203125 74.21875 \nQ 40.921875 74.21875 44.703125 73.484375 \nQ 48.484375 72.75 52.59375 71.296875 \nz\n\" id=\"DejaVuSans-54\"/>\n       </defs>\n       <use xlink:href=\"#DejaVuSans-48\"/>\n       <use x=\"63.623047\" xlink:href=\"#DejaVuSans-46\"/>\n       <use x=\"95.410156\" xlink:href=\"#DejaVuSans-54\"/>\n      </g>\n     </g>\n    </g>\n    <g id=\"xtick_5\">\n     <g id=\"line2d_5\">\n      <g>\n       <use style=\"stroke:#000000;stroke-width:0.8;\" x=\"302.490341\" xlink:href=\"#mc7ca1076cb\" y=\"348.478125\"/>\n      </g>\n     </g>\n     <g id=\"text_5\">\n      <!-- 0.8 -->\n      <g transform=\"translate(294.538778 363.076562)scale(0.1 -0.1)\">\n       <defs>\n        <path d=\"M 31.78125 34.625 \nQ 24.75 34.625 20.71875 30.859375 \nQ 16.703125 27.09375 16.703125 20.515625 \nQ 16.703125 13.921875 20.71875 10.15625 \nQ 24.75 6.390625 31.78125 6.390625 \nQ 38.8125 6.390625 42.859375 10.171875 \nQ 46.921875 13.96875 46.921875 20.515625 \nQ 46.921875 27.09375 42.890625 30.859375 \nQ 38.875 34.625 31.78125 34.625 \nz\nM 21.921875 38.8125 \nQ 15.578125 40.375 12.03125 44.71875 \nQ 8.5 49.078125 8.5 55.328125 \nQ 8.5 64.0625 14.71875 69.140625 \nQ 20.953125 74.21875 31.78125 74.21875 \nQ 42.671875 74.21875 48.875 69.140625 \nQ 55.078125 64.0625 55.078125 55.328125 \nQ 55.078125 49.078125 51.53125 44.71875 \nQ 48 40.375 41.703125 38.8125 \nQ 48.828125 37.15625 52.796875 32.3125 \nQ 56.78125 27.484375 56.78125 20.515625 \nQ 56.78125 9.90625 50.3125 4.234375 \nQ 43.84375 -1.421875 31.78125 -1.421875 \nQ 19.734375 -1.421875 13.25 4.234375 \nQ 6.78125 9.90625 6.78125 20.515625 \nQ 6.78125 27.484375 10.78125 32.3125 \nQ 14.796875 37.15625 21.921875 38.8125 \nz\nM 18.3125 54.390625 \nQ 18.3125 48.734375 21.84375 45.5625 \nQ 25.390625 42.390625 31.78125 42.390625 \nQ 38.140625 42.390625 41.71875 45.5625 \nQ 45.3125 48.734375 45.3125 54.390625 \nQ 45.3125 60.0625 41.71875 63.234375 \nQ 38.140625 66.40625 31.78125 66.40625 \nQ 25.390625 66.40625 21.84375 63.234375 \nQ 18.3125 60.0625 18.3125 54.390625 \nz\n\" id=\"DejaVuSans-56\"/>\n       </defs>\n       <use xlink:href=\"#DejaVuSans-48\"/>\n       <use x=\"63.623047\" xlink:href=\"#DejaVuSans-46\"/>\n       <use x=\"95.410156\" xlink:href=\"#DejaVuSans-56\"/>\n      </g>\n     </g>\n    </g>\n    <g id=\"xtick_6\">\n     <g id=\"line2d_6\">\n      <g>\n       <use style=\"stroke:#000000;stroke-width:0.8;\" x=\"363.363068\" xlink:href=\"#mc7ca1076cb\" y=\"348.478125\"/>\n      </g>\n     </g>\n     <g id=\"text_6\">\n      <!-- 1.0 -->\n      <g transform=\"translate(355.411506 363.076562)scale(0.1 -0.1)\">\n       <defs>\n        <path d=\"M 12.40625 8.296875 \nL 28.515625 8.296875 \nL 28.515625 63.921875 \nL 10.984375 60.40625 \nL 10.984375 69.390625 \nL 28.421875 72.90625 \nL 38.28125 72.90625 \nL 38.28125 8.296875 \nL 54.390625 8.296875 \nL 54.390625 0 \nL 12.40625 0 \nz\n\" id=\"DejaVuSans-49\"/>\n       </defs>\n       <use xlink:href=\"#DejaVuSans-49\"/>\n       <use x=\"63.623047\" xlink:href=\"#DejaVuSans-46\"/>\n       <use x=\"95.410156\" xlink:href=\"#DejaVuSans-48\"/>\n      </g>\n     </g>\n    </g>\n    <g id=\"text_7\">\n     <!-- FPR -->\n     <g transform=\"translate(201.816406 376.754687)scale(0.1 -0.1)\">\n      <defs>\n       <path d=\"M 9.8125 72.90625 \nL 51.703125 72.90625 \nL 51.703125 64.59375 \nL 19.671875 64.59375 \nL 19.671875 43.109375 \nL 48.578125 43.109375 \nL 48.578125 34.8125 \nL 19.671875 34.8125 \nL 19.671875 0 \nL 9.8125 0 \nz\n\" id=\"DejaVuSans-70\"/>\n       <path d=\"M 19.671875 64.796875 \nL 19.671875 37.40625 \nL 32.078125 37.40625 \nQ 38.96875 37.40625 42.71875 40.96875 \nQ 46.484375 44.53125 46.484375 51.125 \nQ 46.484375 57.671875 42.71875 61.234375 \nQ 38.96875 64.796875 32.078125 64.796875 \nz\nM 9.8125 72.90625 \nL 32.078125 72.90625 \nQ 44.34375 72.90625 50.609375 67.359375 \nQ 56.890625 61.8125 56.890625 51.125 \nQ 56.890625 40.328125 50.609375 34.8125 \nQ 44.34375 29.296875 32.078125 29.296875 \nL 19.671875 29.296875 \nL 19.671875 0 \nL 9.8125 0 \nz\n\" id=\"DejaVuSans-80\"/>\n       <path d=\"M 44.390625 34.1875 \nQ 47.5625 33.109375 50.5625 29.59375 \nQ 53.5625 26.078125 56.59375 19.921875 \nL 66.609375 0 \nL 56 0 \nL 46.6875 18.703125 \nQ 43.0625 26.03125 39.671875 28.421875 \nQ 36.28125 30.8125 30.421875 30.8125 \nL 19.671875 30.8125 \nL 19.671875 0 \nL 9.8125 0 \nL 9.8125 72.90625 \nL 32.078125 72.90625 \nQ 44.578125 72.90625 50.734375 67.671875 \nQ 56.890625 62.453125 56.890625 51.90625 \nQ 56.890625 45.015625 53.6875 40.46875 \nQ 50.484375 35.9375 44.390625 34.1875 \nz\nM 19.671875 64.796875 \nL 19.671875 38.921875 \nL 32.078125 38.921875 \nQ 39.203125 38.921875 42.84375 42.21875 \nQ 46.484375 45.515625 46.484375 51.90625 \nQ 46.484375 58.296875 42.84375 61.546875 \nQ 39.203125 64.796875 32.078125 64.796875 \nz\n\" id=\"DejaVuSans-82\"/>\n      </defs>\n      <use xlink:href=\"#DejaVuSans-70\"/>\n      <use x=\"57.519531\" xlink:href=\"#DejaVuSans-80\"/>\n      <use x=\"117.822266\" xlink:href=\"#DejaVuSans-82\"/>\n     </g>\n    </g>\n   </g>\n   <g id=\"matplotlib.axis_2\">\n    <g id=\"ytick_1\">\n     <g id=\"line2d_7\">\n      <defs>\n       <path d=\"M 0 0 \nL -3.5 0 \n\" id=\"mb2de8c342a\" style=\"stroke:#000000;stroke-width:0.8;\"/>\n      </defs>\n      <g>\n       <use style=\"stroke:#000000;stroke-width:0.8;\" x=\"43.78125\" xlink:href=\"#mb2de8c342a\" y=\"333.65267\"/>\n      </g>\n     </g>\n     <g id=\"text_8\">\n      <!-- 0.0 -->\n      <g transform=\"translate(20.878125 337.451889)scale(0.1 -0.1)\">\n       <use xlink:href=\"#DejaVuSans-48\"/>\n       <use x=\"63.623047\" xlink:href=\"#DejaVuSans-46\"/>\n       <use x=\"95.410156\" xlink:href=\"#DejaVuSans-48\"/>\n      </g>\n     </g>\n    </g>\n    <g id=\"ytick_2\">\n     <g id=\"line2d_8\">\n      <g>\n       <use style=\"stroke:#000000;stroke-width:0.8;\" x=\"43.78125\" xlink:href=\"#mb2de8c342a\" y=\"274.350852\"/>\n      </g>\n     </g>\n     <g id=\"text_9\">\n      <!-- 0.2 -->\n      <g transform=\"translate(20.878125 278.150071)scale(0.1 -0.1)\">\n       <use xlink:href=\"#DejaVuSans-48\"/>\n       <use x=\"63.623047\" xlink:href=\"#DejaVuSans-46\"/>\n       <use x=\"95.410156\" xlink:href=\"#DejaVuSans-50\"/>\n      </g>\n     </g>\n    </g>\n    <g id=\"ytick_3\">\n     <g id=\"line2d_9\">\n      <g>\n       <use style=\"stroke:#000000;stroke-width:0.8;\" x=\"43.78125\" xlink:href=\"#mb2de8c342a\" y=\"215.049034\"/>\n      </g>\n     </g>\n     <g id=\"text_10\">\n      <!-- 0.4 -->\n      <g transform=\"translate(20.878125 218.848253)scale(0.1 -0.1)\">\n       <use xlink:href=\"#DejaVuSans-48\"/>\n       <use x=\"63.623047\" xlink:href=\"#DejaVuSans-46\"/>\n       <use x=\"95.410156\" xlink:href=\"#DejaVuSans-52\"/>\n      </g>\n     </g>\n    </g>\n    <g id=\"ytick_4\">\n     <g id=\"line2d_10\">\n      <g>\n       <use style=\"stroke:#000000;stroke-width:0.8;\" x=\"43.78125\" xlink:href=\"#mb2de8c342a\" y=\"155.747216\"/>\n      </g>\n     </g>\n     <g id=\"text_11\">\n      <!-- 0.6 -->\n      <g transform=\"translate(20.878125 159.546435)scale(0.1 -0.1)\">\n       <use xlink:href=\"#DejaVuSans-48\"/>\n       <use x=\"63.623047\" xlink:href=\"#DejaVuSans-46\"/>\n       <use x=\"95.410156\" xlink:href=\"#DejaVuSans-54\"/>\n      </g>\n     </g>\n    </g>\n    <g id=\"ytick_5\">\n     <g id=\"line2d_11\">\n      <g>\n       <use style=\"stroke:#000000;stroke-width:0.8;\" x=\"43.78125\" xlink:href=\"#mb2de8c342a\" y=\"96.445398\"/>\n      </g>\n     </g>\n     <g id=\"text_12\">\n      <!-- 0.8 -->\n      <g transform=\"translate(20.878125 100.244616)scale(0.1 -0.1)\">\n       <use xlink:href=\"#DejaVuSans-48\"/>\n       <use x=\"63.623047\" xlink:href=\"#DejaVuSans-46\"/>\n       <use x=\"95.410156\" xlink:href=\"#DejaVuSans-56\"/>\n      </g>\n     </g>\n    </g>\n    <g id=\"ytick_6\">\n     <g id=\"line2d_12\">\n      <g>\n       <use style=\"stroke:#000000;stroke-width:0.8;\" x=\"43.78125\" xlink:href=\"#mb2de8c342a\" y=\"37.14358\"/>\n      </g>\n     </g>\n     <g id=\"text_13\">\n      <!-- 1.0 -->\n      <g transform=\"translate(20.878125 40.942798)scale(0.1 -0.1)\">\n       <use xlink:href=\"#DejaVuSans-49\"/>\n       <use x=\"63.623047\" xlink:href=\"#DejaVuSans-46\"/>\n       <use x=\"95.410156\" xlink:href=\"#DejaVuSans-48\"/>\n      </g>\n     </g>\n    </g>\n    <g id=\"text_14\">\n     <!-- TPR -->\n     <g transform=\"translate(14.798438 194.941094)rotate(-90)scale(0.1 -0.1)\">\n      <defs>\n       <path d=\"M -0.296875 72.90625 \nL 61.375 72.90625 \nL 61.375 64.59375 \nL 35.5 64.59375 \nL 35.5 0 \nL 25.59375 0 \nL 25.59375 64.59375 \nL -0.296875 64.59375 \nz\n\" id=\"DejaVuSans-84\"/>\n      </defs>\n      <use xlink:href=\"#DejaVuSans-84\"/>\n      <use x=\"61.083984\" xlink:href=\"#DejaVuSans-80\"/>\n      <use x=\"121.386719\" xlink:href=\"#DejaVuSans-82\"/>\n     </g>\n    </g>\n   </g>\n   <g id=\"line2d_13\">\n    <path clip-path=\"url(#pa0ba3ba12d)\" d=\"M 58.999432 333.65267 \nL 58.999432 320.90278 \nL 59.303795 320.90278 \nL 59.303795 276.426416 \nL 59.608159 276.426416 \nL 59.608159 274.054343 \nL 59.912523 274.054343 \nL 59.912523 271.385761 \nL 60.216886 271.385761 \nL 60.216886 269.013689 \nL 60.52125 269.013689 \nL 60.52125 265.752089 \nL 60.825614 265.752089 \nL 60.825614 259.525398 \nL 61.129977 259.525398 \nL 61.129977 255.077761 \nL 61.434341 255.077761 \nL 61.434341 254.781252 \nL 62.043068 254.781252 \nL 62.043068 250.926634 \nL 62.347432 250.926634 \nL 62.347432 248.554561 \nL 62.651795 248.554561 \nL 62.651795 230.170998 \nL 62.956159 230.170998 \nL 62.956159 223.647798 \nL 63.260523 223.647798 \nL 63.260523 220.979216 \nL 63.564886 220.979216 \nL 63.564886 219.200161 \nL 63.86925 219.200161 \nL 63.86925 212.97347 \nL 64.173614 212.97347 \nL 64.173614 211.194416 \nL 64.477977 211.194416 \nL 64.477977 210.601398 \nL 64.782341 210.601398 \nL 64.782341 208.822343 \nL 65.086705 208.822343 \nL 65.086705 204.967725 \nL 65.391068 204.967725 \nL 65.391068 203.781689 \nL 65.695432 203.781689 \nL 65.695432 202.892161 \nL 65.999795 202.892161 \nL 65.999795 194.589907 \nL 66.304159 194.589907 \nL 66.304159 188.956234 \nL 66.608523 188.956234 \nL 66.608523 187.17718 \nL 66.912886 187.17718 \nL 66.912886 186.88067 \nL 67.21725 186.88067 \nL 67.21725 183.61907 \nL 67.521614 183.61907 \nL 67.521614 163.752961 \nL 67.825977 163.752961 \nL 67.825977 161.677398 \nL 68.434705 161.677398 \nL 68.434705 159.305325 \nL 69.043432 159.305325 \nL 69.043432 153.671652 \nL 69.347795 153.671652 \nL 69.347795 153.375143 \nL 69.652159 153.375143 \nL 69.652159 152.782125 \nL 70.56525 152.782125 \nL 70.56525 151.892598 \nL 70.869614 151.892598 \nL 70.869614 151.596089 \nL 71.173977 151.596089 \nL 71.173977 151.00307 \nL 71.478341 151.00307 \nL 71.478341 150.410052 \nL 71.782705 150.410052 \nL 71.782705 149.817034 \nL 72.391432 149.817034 \nL 72.391432 148.03798 \nL 72.695795 148.03798 \nL 72.695795 147.444961 \nL 73.000159 147.444961 \nL 73.000159 144.47987 \nL 73.608886 144.47987 \nL 73.608886 142.700816 \nL 73.91325 142.700816 \nL 73.91325 141.811289 \nL 74.521977 141.811289 \nL 74.521977 139.735725 \nL 75.130705 139.735725 \nL 75.130705 139.142707 \nL 75.435068 139.142707 \nL 75.435068 137.067143 \nL 75.739432 137.067143 \nL 75.739432 135.288089 \nL 76.043795 135.288089 \nL 76.043795 134.398561 \nL 76.652523 134.398561 \nL 76.652523 134.102052 \nL 77.26125 134.102052 \nL 77.26125 133.212525 \nL 77.565614 133.212525 \nL 77.565614 132.322998 \nL 77.869977 132.322998 \nL 77.869977 130.840452 \nL 78.478705 130.840452 \nL 78.478705 130.247434 \nL 78.783068 130.247434 \nL 78.783068 129.357907 \nL 79.087432 129.357907 \nL 79.087432 127.282343 \nL 79.391795 127.282343 \nL 79.391795 125.799798 \nL 79.696159 125.799798 \nL 79.696159 125.503289 \nL 80.000523 125.503289 \nL 80.000523 121.94518 \nL 80.304886 121.94518 \nL 80.304886 121.64867 \nL 80.60925 121.64867 \nL 80.60925 121.055652 \nL 80.913614 121.055652 \nL 80.913614 119.276598 \nL 81.217977 119.276598 \nL 81.217977 118.68358 \nL 81.522341 118.68358 \nL 81.522341 117.497543 \nL 81.826705 117.497543 \nL 81.826705 115.42198 \nL 82.131068 115.42198 \nL 82.131068 115.12547 \nL 82.435432 115.12547 \nL 82.435432 114.828961 \nL 82.739795 114.828961 \nL 82.739795 114.532452 \nL 83.044159 114.532452 \nL 83.044159 113.939434 \nL 83.348523 113.939434 \nL 83.348523 113.642925 \nL 83.652886 113.642925 \nL 83.652886 112.753398 \nL 83.95725 112.753398 \nL 83.95725 112.16038 \nL 84.261614 112.16038 \nL 84.261614 111.86387 \nL 85.479068 111.86387 \nL 85.479068 107.119725 \nL 85.783432 107.119725 \nL 85.783432 105.933689 \nL 86.087795 105.933689 \nL 86.087795 105.34067 \nL 86.392159 105.34067 \nL 86.392159 103.858125 \nL 87.000886 103.858125 \nL 87.000886 102.07907 \nL 87.30525 102.07907 \nL 87.30525 101.782561 \nL 87.609614 101.782561 \nL 87.609614 100.003507 \nL 88.218341 100.003507 \nL 88.218341 98.81747 \nL 88.827068 98.81747 \nL 88.827068 97.927943 \nL 89.131432 97.927943 \nL 89.131432 95.55587 \nL 89.435795 95.55587 \nL 89.435795 94.962852 \nL 89.740159 94.962852 \nL 89.740159 94.666343 \nL 90.044523 94.666343 \nL 90.044523 94.369834 \nL 90.957614 94.369834 \nL 90.957614 93.776816 \nL 91.261977 93.776816 \nL 91.261977 92.59078 \nL 91.566341 92.59078 \nL 91.566341 91.404743 \nL 92.479432 91.404743 \nL 92.479432 91.108234 \nL 92.783795 91.108234 \nL 92.783795 90.515216 \nL 93.088159 90.515216 \nL 93.088159 89.625689 \nL 93.392523 89.625689 \nL 93.392523 89.03267 \nL 93.696886 89.03267 \nL 93.696886 88.736161 \nL 94.00125 88.736161 \nL 94.00125 88.143143 \nL 94.305614 88.143143 \nL 94.305614 87.846634 \nL 94.914341 87.846634 \nL 94.914341 87.253616 \nL 95.218705 87.253616 \nL 95.218705 86.660598 \nL 95.523068 86.660598 \nL 95.523068 85.77107 \nL 96.436159 85.77107 \nL 96.436159 85.474561 \nL 96.740523 85.474561 \nL 96.740523 84.881543 \nL 97.957977 84.881543 \nL 97.957977 81.916452 \nL 98.262341 81.916452 \nL 98.262341 81.619943 \nL 98.871068 81.619943 \nL 98.871068 80.730416 \nL 100.088523 80.730416 \nL 100.088523 80.137398 \nL 100.392886 80.137398 \nL 100.392886 79.54438 \nL 100.69725 79.54438 \nL 100.69725 78.951361 \nL 101.001614 78.951361 \nL 101.001614 77.468816 \nL 101.305977 77.468816 \nL 101.305977 77.172307 \nL 101.610341 77.172307 \nL 101.610341 76.875798 \nL 101.914705 76.875798 \nL 101.914705 75.689761 \nL 102.219068 75.689761 \nL 102.219068 75.393252 \nL 102.523432 75.393252 \nL 102.523432 72.72467 \nL 102.827795 72.72467 \nL 102.827795 72.131652 \nL 103.436523 72.131652 \nL 103.436523 71.242125 \nL 103.740886 71.242125 \nL 103.740886 70.056089 \nL 104.04525 70.056089 \nL 104.04525 69.46307 \nL 104.349614 69.46307 \nL 104.349614 68.277034 \nL 104.653977 68.277034 \nL 104.653977 67.684016 \nL 105.262705 67.684016 \nL 105.262705 67.090998 \nL 105.871432 67.090998 \nL 105.871432 66.794489 \nL 107.088886 66.794489 \nL 107.088886 65.904961 \nL 107.697614 65.904961 \nL 107.697614 65.608452 \nL 108.001977 65.608452 \nL 108.001977 64.718925 \nL 108.306341 64.718925 \nL 108.306341 64.125907 \nL 108.610705 64.125907 \nL 108.610705 63.829398 \nL 108.915068 63.829398 \nL 108.915068 63.23638 \nL 109.523795 63.23638 \nL 109.523795 62.93987 \nL 110.436886 62.93987 \nL 110.436886 62.346852 \nL 110.74125 62.346852 \nL 110.74125 62.050343 \nL 111.045614 62.050343 \nL 111.045614 61.457325 \nL 111.349977 61.457325 \nL 111.349977 61.160816 \nL 111.958705 61.160816 \nL 111.958705 60.864307 \nL 112.263068 60.864307 \nL 112.263068 60.567798 \nL 112.871795 60.567798 \nL 112.871795 60.271289 \nL 113.176159 60.271289 \nL 113.176159 59.67827 \nL 113.480523 59.67827 \nL 113.480523 58.788743 \nL 114.697977 58.788743 \nL 114.697977 58.492234 \nL 115.915432 58.492234 \nL 115.915432 58.195725 \nL 116.524159 58.195725 \nL 116.524159 57.602707 \nL 116.828523 57.602707 \nL 116.828523 57.306198 \nL 117.132886 57.306198 \nL 117.132886 57.009689 \nL 118.045977 57.009689 \nL 118.045977 56.71318 \nL 118.959068 56.71318 \nL 118.959068 56.41667 \nL 119.263432 56.41667 \nL 119.263432 55.527143 \nL 119.872159 55.527143 \nL 119.872159 54.934125 \nL 120.78525 54.934125 \nL 120.78525 53.748089 \nL 123.524523 53.748089 \nL 123.524523 52.858561 \nL 124.13325 52.858561 \nL 124.13325 52.562052 \nL 125.655068 52.562052 \nL 125.655068 51.969034 \nL 126.263795 51.969034 \nL 126.263795 51.672525 \nL 127.785614 51.672525 \nL 127.785614 51.376016 \nL 128.089977 51.376016 \nL 128.089977 50.486489 \nL 129.003068 50.486489 \nL 129.003068 50.18998 \nL 129.307432 50.18998 \nL 129.307432 49.89347 \nL 129.916159 49.89347 \nL 129.916159 49.596961 \nL 131.437977 49.596961 \nL 131.437977 49.300452 \nL 132.351068 49.300452 \nL 132.351068 49.003943 \nL 132.655432 49.003943 \nL 132.655432 48.707434 \nL 132.959795 48.707434 \nL 132.959795 48.410925 \nL 133.568523 48.410925 \nL 133.568523 48.114416 \nL 133.872886 48.114416 \nL 133.872886 47.817907 \nL 135.394705 47.817907 \nL 135.394705 47.224889 \nL 136.612159 47.224889 \nL 136.612159 46.038852 \nL 137.829614 46.038852 \nL 137.829614 45.742343 \nL 139.960159 45.742343 \nL 139.960159 45.445834 \nL 141.481977 45.445834 \nL 141.481977 45.149325 \nL 142.699432 45.149325 \nL 142.699432 44.852816 \nL 148.786705 44.852816 \nL 148.786705 44.556307 \nL 149.699795 44.556307 \nL 149.699795 44.259798 \nL 151.221614 44.259798 \nL 151.221614 43.963289 \nL 152.743432 43.963289 \nL 152.743432 43.66678 \nL 153.047795 43.66678 \nL 153.047795 43.37027 \nL 158.221977 43.37027 \nL 158.221977 43.073761 \nL 158.830705 43.073761 \nL 158.830705 42.777252 \nL 159.135068 42.777252 \nL 159.135068 42.480743 \nL 161.265614 42.480743 \nL 161.265614 42.184234 \nL 161.874341 42.184234 \nL 161.874341 41.887725 \nL 164.004886 41.887725 \nL 164.004886 41.591216 \nL 167.65725 41.591216 \nL 167.65725 41.294707 \nL 170.396523 41.294707 \nL 170.396523 40.998198 \nL 171.309614 40.998198 \nL 171.309614 40.701689 \nL 180.744886 40.701689 \nL 180.744886 40.40518 \nL 185.614705 40.40518 \nL 185.614705 40.10867 \nL 190.484523 40.10867 \nL 190.484523 39.812161 \nL 196.267432 39.812161 \nL 196.267432 39.515652 \nL 197.78925 39.515652 \nL 197.78925 39.219143 \nL 198.397977 39.219143 \nL 198.397977 38.922634 \nL 200.224159 38.922634 \nL 200.224159 38.626125 \nL 200.528523 38.626125 \nL 200.528523 38.329616 \nL 201.13725 38.329616 \nL 201.13725 38.033107 \nL 208.441977 38.033107 \nL 208.441977 37.736598 \nL 210.876886 37.736598 \nL 210.876886 37.440089 \nL 223.964523 37.440089 \nL 223.964523 37.14358 \nL 363.363068 37.14358 \nL 363.363068 37.14358 \n\" style=\"fill:none;stroke:#0000ff;stroke-linecap:square;stroke-width:1.5;\"/>\n   </g>\n   <g id=\"patch_3\">\n    <path d=\"M 43.78125 348.478125 \nL 43.78125 22.318125 \n\" style=\"fill:none;stroke:#000000;stroke-linecap:square;stroke-linejoin:miter;stroke-width:0.8;\"/>\n   </g>\n   <g id=\"patch_4\">\n    <path d=\"M 378.58125 348.478125 \nL 378.58125 22.318125 \n\" style=\"fill:none;stroke:#000000;stroke-linecap:square;stroke-linejoin:miter;stroke-width:0.8;\"/>\n   </g>\n   <g id=\"patch_5\">\n    <path d=\"M 43.78125 348.478125 \nL 378.58125 348.478125 \n\" style=\"fill:none;stroke:#000000;stroke-linecap:square;stroke-linejoin:miter;stroke-width:0.8;\"/>\n   </g>\n   <g id=\"patch_6\">\n    <path d=\"M 43.78125 22.318125 \nL 378.58125 22.318125 \n\" style=\"fill:none;stroke:#000000;stroke-linecap:square;stroke-linejoin:miter;stroke-width:0.8;\"/>\n   </g>\n   <g id=\"text_15\">\n    <!-- ROC Curve -->\n    <g transform=\"translate(178.490625 16.318125)scale(0.12 -0.12)\">\n     <defs>\n      <path d=\"M 39.40625 66.21875 \nQ 28.65625 66.21875 22.328125 58.203125 \nQ 16.015625 50.203125 16.015625 36.375 \nQ 16.015625 22.609375 22.328125 14.59375 \nQ 28.65625 6.59375 39.40625 6.59375 \nQ 50.140625 6.59375 56.421875 14.59375 \nQ 62.703125 22.609375 62.703125 36.375 \nQ 62.703125 50.203125 56.421875 58.203125 \nQ 50.140625 66.21875 39.40625 66.21875 \nz\nM 39.40625 74.21875 \nQ 54.734375 74.21875 63.90625 63.9375 \nQ 73.09375 53.65625 73.09375 36.375 \nQ 73.09375 19.140625 63.90625 8.859375 \nQ 54.734375 -1.421875 39.40625 -1.421875 \nQ 24.03125 -1.421875 14.8125 8.828125 \nQ 5.609375 19.09375 5.609375 36.375 \nQ 5.609375 53.65625 14.8125 63.9375 \nQ 24.03125 74.21875 39.40625 74.21875 \nz\n\" id=\"DejaVuSans-79\"/>\n      <path d=\"M 64.40625 67.28125 \nL 64.40625 56.890625 \nQ 59.421875 61.53125 53.78125 63.8125 \nQ 48.140625 66.109375 41.796875 66.109375 \nQ 29.296875 66.109375 22.65625 58.46875 \nQ 16.015625 50.828125 16.015625 36.375 \nQ 16.015625 21.96875 22.65625 14.328125 \nQ 29.296875 6.6875 41.796875 6.6875 \nQ 48.140625 6.6875 53.78125 8.984375 \nQ 59.421875 11.28125 64.40625 15.921875 \nL 64.40625 5.609375 \nQ 59.234375 2.09375 53.4375 0.328125 \nQ 47.65625 -1.421875 41.21875 -1.421875 \nQ 24.65625 -1.421875 15.125 8.703125 \nQ 5.609375 18.84375 5.609375 36.375 \nQ 5.609375 53.953125 15.125 64.078125 \nQ 24.65625 74.21875 41.21875 74.21875 \nQ 47.75 74.21875 53.53125 72.484375 \nQ 59.328125 70.75 64.40625 67.28125 \nz\n\" id=\"DejaVuSans-67\"/>\n      <path id=\"DejaVuSans-32\"/>\n      <path d=\"M 8.5 21.578125 \nL 8.5 54.6875 \nL 17.484375 54.6875 \nL 17.484375 21.921875 \nQ 17.484375 14.15625 20.5 10.265625 \nQ 23.53125 6.390625 29.59375 6.390625 \nQ 36.859375 6.390625 41.078125 11.03125 \nQ 45.3125 15.671875 45.3125 23.6875 \nL 45.3125 54.6875 \nL 54.296875 54.6875 \nL 54.296875 0 \nL 45.3125 0 \nL 45.3125 8.40625 \nQ 42.046875 3.421875 37.71875 1 \nQ 33.40625 -1.421875 27.6875 -1.421875 \nQ 18.265625 -1.421875 13.375 4.4375 \nQ 8.5 10.296875 8.5 21.578125 \nz\nM 31.109375 56 \nz\n\" id=\"DejaVuSans-117\"/>\n      <path d=\"M 41.109375 46.296875 \nQ 39.59375 47.171875 37.8125 47.578125 \nQ 36.03125 48 33.890625 48 \nQ 26.265625 48 22.1875 43.046875 \nQ 18.109375 38.09375 18.109375 28.8125 \nL 18.109375 0 \nL 9.078125 0 \nL 9.078125 54.6875 \nL 18.109375 54.6875 \nL 18.109375 46.1875 \nQ 20.953125 51.171875 25.484375 53.578125 \nQ 30.03125 56 36.53125 56 \nQ 37.453125 56 38.578125 55.875 \nQ 39.703125 55.765625 41.0625 55.515625 \nz\n\" id=\"DejaVuSans-114\"/>\n      <path d=\"M 2.984375 54.6875 \nL 12.5 54.6875 \nL 29.59375 8.796875 \nL 46.6875 54.6875 \nL 56.203125 54.6875 \nL 35.6875 0 \nL 23.484375 0 \nz\n\" id=\"DejaVuSans-118\"/>\n      <path d=\"M 56.203125 29.59375 \nL 56.203125 25.203125 \nL 14.890625 25.203125 \nQ 15.484375 15.921875 20.484375 11.0625 \nQ 25.484375 6.203125 34.421875 6.203125 \nQ 39.59375 6.203125 44.453125 7.46875 \nQ 49.3125 8.734375 54.109375 11.28125 \nL 54.109375 2.78125 \nQ 49.265625 0.734375 44.1875 -0.34375 \nQ 39.109375 -1.421875 33.890625 -1.421875 \nQ 20.796875 -1.421875 13.15625 6.1875 \nQ 5.515625 13.8125 5.515625 26.8125 \nQ 5.515625 40.234375 12.765625 48.109375 \nQ 20.015625 56 32.328125 56 \nQ 43.359375 56 49.78125 48.890625 \nQ 56.203125 41.796875 56.203125 29.59375 \nz\nM 47.21875 32.234375 \nQ 47.125 39.59375 43.09375 43.984375 \nQ 39.0625 48.390625 32.421875 48.390625 \nQ 24.90625 48.390625 20.390625 44.140625 \nQ 15.875 39.890625 15.1875 32.171875 \nz\n\" id=\"DejaVuSans-101\"/>\n     </defs>\n     <use xlink:href=\"#DejaVuSans-82\"/>\n     <use x=\"69.482422\" xlink:href=\"#DejaVuSans-79\"/>\n     <use x=\"148.193359\" xlink:href=\"#DejaVuSans-67\"/>\n     <use x=\"218.017578\" xlink:href=\"#DejaVuSans-32\"/>\n     <use x=\"249.804688\" xlink:href=\"#DejaVuSans-67\"/>\n     <use x=\"319.628906\" xlink:href=\"#DejaVuSans-117\"/>\n     <use x=\"383.007812\" xlink:href=\"#DejaVuSans-114\"/>\n     <use x=\"424.121094\" xlink:href=\"#DejaVuSans-118\"/>\n     <use x=\"483.300781\" xlink:href=\"#DejaVuSans-101\"/>\n    </g>\n   </g>\n   <g id=\"legend_1\">\n    <g id=\"patch_7\">\n     <path d=\"M 235.928125 343.478125 \nL 371.58125 343.478125 \nQ 373.58125 343.478125 373.58125 341.478125 \nL 373.58125 327.8 \nQ 373.58125 325.8 371.58125 325.8 \nL 235.928125 325.8 \nQ 233.928125 325.8 233.928125 327.8 \nL 233.928125 341.478125 \nQ 233.928125 343.478125 235.928125 343.478125 \nz\n\" style=\"fill:#ffffff;opacity:0.8;stroke:#cccccc;stroke-linejoin:miter;\"/>\n    </g>\n    <g id=\"line2d_14\">\n     <path d=\"M 237.928125 333.898437 \nL 257.928125 333.898437 \n\" style=\"fill:none;stroke:#0000ff;stroke-linecap:square;stroke-width:1.5;\"/>\n    </g>\n    <g id=\"line2d_15\"/>\n    <g id=\"text_16\">\n     <!-- ROC (AUC = 0.9413) -->\n     <g transform=\"translate(265.928125 337.398437)scale(0.1 -0.1)\">\n      <defs>\n       <path d=\"M 31 75.875 \nQ 24.46875 64.65625 21.28125 53.65625 \nQ 18.109375 42.671875 18.109375 31.390625 \nQ 18.109375 20.125 21.3125 9.0625 \nQ 24.515625 -2 31 -13.1875 \nL 23.1875 -13.1875 \nQ 15.875 -1.703125 12.234375 9.375 \nQ 8.59375 20.453125 8.59375 31.390625 \nQ 8.59375 42.28125 12.203125 53.3125 \nQ 15.828125 64.359375 23.1875 75.875 \nz\n\" id=\"DejaVuSans-40\"/>\n       <path d=\"M 34.1875 63.1875 \nL 20.796875 26.90625 \nL 47.609375 26.90625 \nz\nM 28.609375 72.90625 \nL 39.796875 72.90625 \nL 67.578125 0 \nL 57.328125 0 \nL 50.6875 18.703125 \nL 17.828125 18.703125 \nL 11.1875 0 \nL 0.78125 0 \nz\n\" id=\"DejaVuSans-65\"/>\n       <path d=\"M 8.6875 72.90625 \nL 18.609375 72.90625 \nL 18.609375 28.609375 \nQ 18.609375 16.890625 22.84375 11.734375 \nQ 27.09375 6.59375 36.625 6.59375 \nQ 46.09375 6.59375 50.34375 11.734375 \nQ 54.59375 16.890625 54.59375 28.609375 \nL 54.59375 72.90625 \nL 64.5 72.90625 \nL 64.5 27.390625 \nQ 64.5 13.140625 57.4375 5.859375 \nQ 50.390625 -1.421875 36.625 -1.421875 \nQ 22.796875 -1.421875 15.734375 5.859375 \nQ 8.6875 13.140625 8.6875 27.390625 \nz\n\" id=\"DejaVuSans-85\"/>\n       <path d=\"M 10.59375 45.40625 \nL 73.1875 45.40625 \nL 73.1875 37.203125 \nL 10.59375 37.203125 \nz\nM 10.59375 25.484375 \nL 73.1875 25.484375 \nL 73.1875 17.1875 \nL 10.59375 17.1875 \nz\n\" id=\"DejaVuSans-61\"/>\n       <path d=\"M 10.984375 1.515625 \nL 10.984375 10.5 \nQ 14.703125 8.734375 18.5 7.8125 \nQ 22.3125 6.890625 25.984375 6.890625 \nQ 35.75 6.890625 40.890625 13.453125 \nQ 46.046875 20.015625 46.78125 33.40625 \nQ 43.953125 29.203125 39.59375 26.953125 \nQ 35.25 24.703125 29.984375 24.703125 \nQ 19.046875 24.703125 12.671875 31.3125 \nQ 6.296875 37.9375 6.296875 49.421875 \nQ 6.296875 60.640625 12.9375 67.421875 \nQ 19.578125 74.21875 30.609375 74.21875 \nQ 43.265625 74.21875 49.921875 64.515625 \nQ 56.59375 54.828125 56.59375 36.375 \nQ 56.59375 19.140625 48.40625 8.859375 \nQ 40.234375 -1.421875 26.421875 -1.421875 \nQ 22.703125 -1.421875 18.890625 -0.6875 \nQ 15.09375 0.046875 10.984375 1.515625 \nz\nM 30.609375 32.421875 \nQ 37.25 32.421875 41.125 36.953125 \nQ 45.015625 41.5 45.015625 49.421875 \nQ 45.015625 57.28125 41.125 61.84375 \nQ 37.25 66.40625 30.609375 66.40625 \nQ 23.96875 66.40625 20.09375 61.84375 \nQ 16.21875 57.28125 16.21875 49.421875 \nQ 16.21875 41.5 20.09375 36.953125 \nQ 23.96875 32.421875 30.609375 32.421875 \nz\n\" id=\"DejaVuSans-57\"/>\n       <path d=\"M 40.578125 39.3125 \nQ 47.65625 37.796875 51.625 33 \nQ 55.609375 28.21875 55.609375 21.1875 \nQ 55.609375 10.40625 48.1875 4.484375 \nQ 40.765625 -1.421875 27.09375 -1.421875 \nQ 22.515625 -1.421875 17.65625 -0.515625 \nQ 12.796875 0.390625 7.625 2.203125 \nL 7.625 11.71875 \nQ 11.71875 9.328125 16.59375 8.109375 \nQ 21.484375 6.890625 26.8125 6.890625 \nQ 36.078125 6.890625 40.9375 10.546875 \nQ 45.796875 14.203125 45.796875 21.1875 \nQ 45.796875 27.640625 41.28125 31.265625 \nQ 36.765625 34.90625 28.71875 34.90625 \nL 20.21875 34.90625 \nL 20.21875 43.015625 \nL 29.109375 43.015625 \nQ 36.375 43.015625 40.234375 45.921875 \nQ 44.09375 48.828125 44.09375 54.296875 \nQ 44.09375 59.90625 40.109375 62.90625 \nQ 36.140625 65.921875 28.71875 65.921875 \nQ 24.65625 65.921875 20.015625 65.03125 \nQ 15.375 64.15625 9.8125 62.3125 \nL 9.8125 71.09375 \nQ 15.4375 72.65625 20.34375 73.4375 \nQ 25.25 74.21875 29.59375 74.21875 \nQ 40.828125 74.21875 47.359375 69.109375 \nQ 53.90625 64.015625 53.90625 55.328125 \nQ 53.90625 49.265625 50.4375 45.09375 \nQ 46.96875 40.921875 40.578125 39.3125 \nz\n\" id=\"DejaVuSans-51\"/>\n       <path d=\"M 8.015625 75.875 \nL 15.828125 75.875 \nQ 23.140625 64.359375 26.78125 53.3125 \nQ 30.421875 42.28125 30.421875 31.390625 \nQ 30.421875 20.453125 26.78125 9.375 \nQ 23.140625 -1.703125 15.828125 -13.1875 \nL 8.015625 -13.1875 \nQ 14.5 -2 17.703125 9.0625 \nQ 20.90625 20.125 20.90625 31.390625 \nQ 20.90625 42.671875 17.703125 53.65625 \nQ 14.5 64.65625 8.015625 75.875 \nz\n\" id=\"DejaVuSans-41\"/>\n      </defs>\n      <use xlink:href=\"#DejaVuSans-82\"/>\n      <use x=\"69.482422\" xlink:href=\"#DejaVuSans-79\"/>\n      <use x=\"148.193359\" xlink:href=\"#DejaVuSans-67\"/>\n      <use x=\"218.017578\" xlink:href=\"#DejaVuSans-32\"/>\n      <use x=\"249.804688\" xlink:href=\"#DejaVuSans-40\"/>\n      <use x=\"288.818359\" xlink:href=\"#DejaVuSans-65\"/>\n      <use x=\"357.226562\" xlink:href=\"#DejaVuSans-85\"/>\n      <use x=\"430.419922\" xlink:href=\"#DejaVuSans-67\"/>\n      <use x=\"500.244141\" xlink:href=\"#DejaVuSans-32\"/>\n      <use x=\"532.03125\" xlink:href=\"#DejaVuSans-61\"/>\n      <use x=\"615.820312\" xlink:href=\"#DejaVuSans-32\"/>\n      <use x=\"647.607422\" xlink:href=\"#DejaVuSans-48\"/>\n      <use x=\"711.230469\" xlink:href=\"#DejaVuSans-46\"/>\n      <use x=\"743.017578\" xlink:href=\"#DejaVuSans-57\"/>\n      <use x=\"806.640625\" xlink:href=\"#DejaVuSans-52\"/>\n      <use x=\"870.263672\" xlink:href=\"#DejaVuSans-49\"/>\n      <use x=\"933.886719\" xlink:href=\"#DejaVuSans-51\"/>\n      <use x=\"997.509766\" xlink:href=\"#DejaVuSans-41\"/>\n     </g>\n    </g>\n   </g>\n  </g>\n </g>\n <defs>\n  <clipPath id=\"pa0ba3ba12d\">\n   <rect height=\"326.16\" width=\"334.8\" x=\"43.78125\" y=\"22.318125\"/>\n  </clipPath>\n </defs>\n</svg>\n",
      "image/png": "[encoded data removed]"
     },
     "metadata": {
      "needs_background": "light"
     }
    }
   ],
   "source": [
    "# On test set\n",
    "probs = stage2.predict_proba(X_test_2, pred_test_2)\n",
    "_, _, auc_score, _ = get_roc(labels_test_2, probs[:, 1], show_plot=True)"
   ]
  },
  {
   "cell_type": "markdown",
   "metadata": {},
   "source": [
    "## Testing Decidability Stage"
   ]
  },
  {
   "cell_type": "code",
   "execution_count": 35,
   "metadata": {},
   "outputs": [],
   "source": [
    "# X_tain, y_train\n",
    "# X_val, pred_val, labels_val\n",
    "# X_test_2, pred_test_2, labels_test_2"
   ]
  },
  {
   "cell_type": "code",
   "execution_count": 36,
   "metadata": {},
   "outputs": [],
   "source": [
    "k = 100\n",
    "stage3 = DecidabilityStage(n_classes=10, k=k, n_bins=5)"
   ]
  },
  {
   "cell_type": "code",
   "execution_count": 37,
   "metadata": {},
   "outputs": [
    {
     "output_type": "execute_result",
     "data": {
      "text/plain": [
       "<defences.baard.DecidabilityStage at 0x7fe33106f4a8>"
      ]
     },
     "metadata": {},
     "execution_count": 37
    }
   ],
   "source": [
    "stage3.fit(X_train, y_train)"
   ]
  },
  {
   "cell_type": "code",
   "execution_count": 38,
   "metadata": {},
   "outputs": [],
   "source": [
    "stage3.search_thresholds(X_val, pred_val, labels_val)"
   ]
  },
  {
   "cell_type": "code",
   "execution_count": 40,
   "metadata": {},
   "outputs": [
    {
     "output_type": "display_data",
     "data": {
      "text/plain": "<Figure size 432x432 with 1 Axes>",
      "image/svg+xml": "<?xml version=\"1.0\" encoding=\"utf-8\" standalone=\"no\"?>\n<!DOCTYPE svg PUBLIC \"-//W3C//DTD SVG 1.1//EN\"\n  \"http://www.w3.org/Graphics/SVG/1.1/DTD/svg11.dtd\">\n<!-- Created with matplotlib (https://matplotlib.org/) -->\n<svg height=\"386.034375pt\" version=\"1.1\" viewBox=\"0 0 385.78125 386.034375\" width=\"385.78125pt\" xmlns=\"http://www.w3.org/2000/svg\" xmlns:xlink=\"http://www.w3.org/1999/xlink\">\n <metadata>\n  <rdf:RDF xmlns:cc=\"http://creativecommons.org/ns#\" xmlns:dc=\"http://purl.org/dc/elements/1.1/\" xmlns:rdf=\"http://www.w3.org/1999/02/22-rdf-syntax-ns#\">\n   <cc:Work>\n    <dc:type rdf:resource=\"http://purl.org/dc/dcmitype/StillImage\"/>\n    <dc:date>2021-01-10T15:50:11.851571</dc:date>\n    <dc:format>image/svg+xml</dc:format>\n    <dc:creator>\n     <cc:Agent>\n      <dc:title>Matplotlib v3.3.3, https://matplotlib.org/</dc:title>\n     </cc:Agent>\n    </dc:creator>\n   </cc:Work>\n  </rdf:RDF>\n </metadata>\n <defs>\n  <style type=\"text/css\">*{stroke-linecap:butt;stroke-linejoin:round;}</style>\n </defs>\n <g id=\"figure_1\">\n  <g id=\"patch_1\">\n   <path d=\"M 0 386.034375 \nL 385.78125 386.034375 \nL 385.78125 0 \nL 0 0 \nz\n\" style=\"fill:none;\"/>\n  </g>\n  <g id=\"axes_1\">\n   <g id=\"patch_2\">\n    <path d=\"M 43.78125 348.478125 \nL 378.58125 348.478125 \nL 378.58125 22.318125 \nL 43.78125 22.318125 \nz\n\" style=\"fill:#ffffff;\"/>\n   </g>\n   <g id=\"matplotlib.axis_1\">\n    <g id=\"xtick_1\">\n     <g id=\"line2d_1\">\n      <defs>\n       <path d=\"M 0 0 \nL 0 3.5 \n\" id=\"m07e84948e8\" style=\"stroke:#000000;stroke-width:0.8;\"/>\n      </defs>\n      <g>\n       <use style=\"stroke:#000000;stroke-width:0.8;\" x=\"58.999432\" xlink:href=\"#m07e84948e8\" y=\"348.478125\"/>\n      </g>\n     </g>\n     <g id=\"text_1\">\n      <!-- 0.0 -->\n      <g transform=\"translate(51.047869 363.076562)scale(0.1 -0.1)\">\n       <defs>\n        <path d=\"M 31.78125 66.40625 \nQ 24.171875 66.40625 20.328125 58.90625 \nQ 16.5 51.421875 16.5 36.375 \nQ 16.5 21.390625 20.328125 13.890625 \nQ 24.171875 6.390625 31.78125 6.390625 \nQ 39.453125 6.390625 43.28125 13.890625 \nQ 47.125 21.390625 47.125 36.375 \nQ 47.125 51.421875 43.28125 58.90625 \nQ 39.453125 66.40625 31.78125 66.40625 \nz\nM 31.78125 74.21875 \nQ 44.046875 74.21875 50.515625 64.515625 \nQ 56.984375 54.828125 56.984375 36.375 \nQ 56.984375 17.96875 50.515625 8.265625 \nQ 44.046875 -1.421875 31.78125 -1.421875 \nQ 19.53125 -1.421875 13.0625 8.265625 \nQ 6.59375 17.96875 6.59375 36.375 \nQ 6.59375 54.828125 13.0625 64.515625 \nQ 19.53125 74.21875 31.78125 74.21875 \nz\n\" id=\"DejaVuSans-48\"/>\n        <path d=\"M 10.6875 12.40625 \nL 21 12.40625 \nL 21 0 \nL 10.6875 0 \nz\n\" id=\"DejaVuSans-46\"/>\n       </defs>\n       <use xlink:href=\"#DejaVuSans-48\"/>\n       <use x=\"63.623047\" xlink:href=\"#DejaVuSans-46\"/>\n       <use x=\"95.410156\" xlink:href=\"#DejaVuSans-48\"/>\n      </g>\n     </g>\n    </g>\n    <g id=\"xtick_2\">\n     <g id=\"line2d_2\">\n      <g>\n       <use style=\"stroke:#000000;stroke-width:0.8;\" x=\"119.872159\" xlink:href=\"#m07e84948e8\" y=\"348.478125\"/>\n      </g>\n     </g>\n     <g id=\"text_2\">\n      <!-- 0.2 -->\n      <g transform=\"translate(111.920597 363.076562)scale(0.1 -0.1)\">\n       <defs>\n        <path d=\"M 19.1875 8.296875 \nL 53.609375 8.296875 \nL 53.609375 0 \nL 7.328125 0 \nL 7.328125 8.296875 \nQ 12.9375 14.109375 22.625 23.890625 \nQ 32.328125 33.6875 34.8125 36.53125 \nQ 39.546875 41.84375 41.421875 45.53125 \nQ 43.3125 49.21875 43.3125 52.78125 \nQ 43.3125 58.59375 39.234375 62.25 \nQ 35.15625 65.921875 28.609375 65.921875 \nQ 23.96875 65.921875 18.8125 64.3125 \nQ 13.671875 62.703125 7.8125 59.421875 \nL 7.8125 69.390625 \nQ 13.765625 71.78125 18.9375 73 \nQ 24.125 74.21875 28.421875 74.21875 \nQ 39.75 74.21875 46.484375 68.546875 \nQ 53.21875 62.890625 53.21875 53.421875 \nQ 53.21875 48.921875 51.53125 44.890625 \nQ 49.859375 40.875 45.40625 35.40625 \nQ 44.1875 33.984375 37.640625 27.21875 \nQ 31.109375 20.453125 19.1875 8.296875 \nz\n\" id=\"DejaVuSans-50\"/>\n       </defs>\n       <use xlink:href=\"#DejaVuSans-48\"/>\n       <use x=\"63.623047\" xlink:href=\"#DejaVuSans-46\"/>\n       <use x=\"95.410156\" xlink:href=\"#DejaVuSans-50\"/>\n      </g>\n     </g>\n    </g>\n    <g id=\"xtick_3\">\n     <g id=\"line2d_3\">\n      <g>\n       <use style=\"stroke:#000000;stroke-width:0.8;\" x=\"180.744886\" xlink:href=\"#m07e84948e8\" y=\"348.478125\"/>\n      </g>\n     </g>\n     <g id=\"text_3\">\n      <!-- 0.4 -->\n      <g transform=\"translate(172.793324 363.076562)scale(0.1 -0.1)\">\n       <defs>\n        <path d=\"M 37.796875 64.3125 \nL 12.890625 25.390625 \nL 37.796875 25.390625 \nz\nM 35.203125 72.90625 \nL 47.609375 72.90625 \nL 47.609375 25.390625 \nL 58.015625 25.390625 \nL 58.015625 17.1875 \nL 47.609375 17.1875 \nL 47.609375 0 \nL 37.796875 0 \nL 37.796875 17.1875 \nL 4.890625 17.1875 \nL 4.890625 26.703125 \nz\n\" id=\"DejaVuSans-52\"/>\n       </defs>\n       <use xlink:href=\"#DejaVuSans-48\"/>\n       <use x=\"63.623047\" xlink:href=\"#DejaVuSans-46\"/>\n       <use x=\"95.410156\" xlink:href=\"#DejaVuSans-52\"/>\n      </g>\n     </g>\n    </g>\n    <g id=\"xtick_4\">\n     <g id=\"line2d_4\">\n      <g>\n       <use style=\"stroke:#000000;stroke-width:0.8;\" x=\"241.617614\" xlink:href=\"#m07e84948e8\" y=\"348.478125\"/>\n      </g>\n     </g>\n     <g id=\"text_4\">\n      <!-- 0.6 -->\n      <g transform=\"translate(233.666051 363.076562)scale(0.1 -0.1)\">\n       <defs>\n        <path d=\"M 33.015625 40.375 \nQ 26.375 40.375 22.484375 35.828125 \nQ 18.609375 31.296875 18.609375 23.390625 \nQ 18.609375 15.53125 22.484375 10.953125 \nQ 26.375 6.390625 33.015625 6.390625 \nQ 39.65625 6.390625 43.53125 10.953125 \nQ 47.40625 15.53125 47.40625 23.390625 \nQ 47.40625 31.296875 43.53125 35.828125 \nQ 39.65625 40.375 33.015625 40.375 \nz\nM 52.59375 71.296875 \nL 52.59375 62.3125 \nQ 48.875 64.0625 45.09375 64.984375 \nQ 41.3125 65.921875 37.59375 65.921875 \nQ 27.828125 65.921875 22.671875 59.328125 \nQ 17.53125 52.734375 16.796875 39.40625 \nQ 19.671875 43.65625 24.015625 45.921875 \nQ 28.375 48.1875 33.59375 48.1875 \nQ 44.578125 48.1875 50.953125 41.515625 \nQ 57.328125 34.859375 57.328125 23.390625 \nQ 57.328125 12.15625 50.6875 5.359375 \nQ 44.046875 -1.421875 33.015625 -1.421875 \nQ 20.359375 -1.421875 13.671875 8.265625 \nQ 6.984375 17.96875 6.984375 36.375 \nQ 6.984375 53.65625 15.1875 63.9375 \nQ 23.390625 74.21875 37.203125 74.21875 \nQ 40.921875 74.21875 44.703125 73.484375 \nQ 48.484375 72.75 52.59375 71.296875 \nz\n\" id=\"DejaVuSans-54\"/>\n       </defs>\n       <use xlink:href=\"#DejaVuSans-48\"/>\n       <use x=\"63.623047\" xlink:href=\"#DejaVuSans-46\"/>\n       <use x=\"95.410156\" xlink:href=\"#DejaVuSans-54\"/>\n      </g>\n     </g>\n    </g>\n    <g id=\"xtick_5\">\n     <g id=\"line2d_5\">\n      <g>\n       <use style=\"stroke:#000000;stroke-width:0.8;\" x=\"302.490341\" xlink:href=\"#m07e84948e8\" y=\"348.478125\"/>\n      </g>\n     </g>\n     <g id=\"text_5\">\n      <!-- 0.8 -->\n      <g transform=\"translate(294.538778 363.076562)scale(0.1 -0.1)\">\n       <defs>\n        <path d=\"M 31.78125 34.625 \nQ 24.75 34.625 20.71875 30.859375 \nQ 16.703125 27.09375 16.703125 20.515625 \nQ 16.703125 13.921875 20.71875 10.15625 \nQ 24.75 6.390625 31.78125 6.390625 \nQ 38.8125 6.390625 42.859375 10.171875 \nQ 46.921875 13.96875 46.921875 20.515625 \nQ 46.921875 27.09375 42.890625 30.859375 \nQ 38.875 34.625 31.78125 34.625 \nz\nM 21.921875 38.8125 \nQ 15.578125 40.375 12.03125 44.71875 \nQ 8.5 49.078125 8.5 55.328125 \nQ 8.5 64.0625 14.71875 69.140625 \nQ 20.953125 74.21875 31.78125 74.21875 \nQ 42.671875 74.21875 48.875 69.140625 \nQ 55.078125 64.0625 55.078125 55.328125 \nQ 55.078125 49.078125 51.53125 44.71875 \nQ 48 40.375 41.703125 38.8125 \nQ 48.828125 37.15625 52.796875 32.3125 \nQ 56.78125 27.484375 56.78125 20.515625 \nQ 56.78125 9.90625 50.3125 4.234375 \nQ 43.84375 -1.421875 31.78125 -1.421875 \nQ 19.734375 -1.421875 13.25 4.234375 \nQ 6.78125 9.90625 6.78125 20.515625 \nQ 6.78125 27.484375 10.78125 32.3125 \nQ 14.796875 37.15625 21.921875 38.8125 \nz\nM 18.3125 54.390625 \nQ 18.3125 48.734375 21.84375 45.5625 \nQ 25.390625 42.390625 31.78125 42.390625 \nQ 38.140625 42.390625 41.71875 45.5625 \nQ 45.3125 48.734375 45.3125 54.390625 \nQ 45.3125 60.0625 41.71875 63.234375 \nQ 38.140625 66.40625 31.78125 66.40625 \nQ 25.390625 66.40625 21.84375 63.234375 \nQ 18.3125 60.0625 18.3125 54.390625 \nz\n\" id=\"DejaVuSans-56\"/>\n       </defs>\n       <use xlink:href=\"#DejaVuSans-48\"/>\n       <use x=\"63.623047\" xlink:href=\"#DejaVuSans-46\"/>\n       <use x=\"95.410156\" xlink:href=\"#DejaVuSans-56\"/>\n      </g>\n     </g>\n    </g>\n    <g id=\"xtick_6\">\n     <g id=\"line2d_6\">\n      <g>\n       <use style=\"stroke:#000000;stroke-width:0.8;\" x=\"363.363068\" xlink:href=\"#m07e84948e8\" y=\"348.478125\"/>\n      </g>\n     </g>\n     <g id=\"text_6\">\n      <!-- 1.0 -->\n      <g transform=\"translate(355.411506 363.076562)scale(0.1 -0.1)\">\n       <defs>\n        <path d=\"M 12.40625 8.296875 \nL 28.515625 8.296875 \nL 28.515625 63.921875 \nL 10.984375 60.40625 \nL 10.984375 69.390625 \nL 28.421875 72.90625 \nL 38.28125 72.90625 \nL 38.28125 8.296875 \nL 54.390625 8.296875 \nL 54.390625 0 \nL 12.40625 0 \nz\n\" id=\"DejaVuSans-49\"/>\n       </defs>\n       <use xlink:href=\"#DejaVuSans-49\"/>\n       <use x=\"63.623047\" xlink:href=\"#DejaVuSans-46\"/>\n       <use x=\"95.410156\" xlink:href=\"#DejaVuSans-48\"/>\n      </g>\n     </g>\n    </g>\n    <g id=\"text_7\">\n     <!-- FPR -->\n     <g transform=\"translate(201.816406 376.754687)scale(0.1 -0.1)\">\n      <defs>\n       <path d=\"M 9.8125 72.90625 \nL 51.703125 72.90625 \nL 51.703125 64.59375 \nL 19.671875 64.59375 \nL 19.671875 43.109375 \nL 48.578125 43.109375 \nL 48.578125 34.8125 \nL 19.671875 34.8125 \nL 19.671875 0 \nL 9.8125 0 \nz\n\" id=\"DejaVuSans-70\"/>\n       <path d=\"M 19.671875 64.796875 \nL 19.671875 37.40625 \nL 32.078125 37.40625 \nQ 38.96875 37.40625 42.71875 40.96875 \nQ 46.484375 44.53125 46.484375 51.125 \nQ 46.484375 57.671875 42.71875 61.234375 \nQ 38.96875 64.796875 32.078125 64.796875 \nz\nM 9.8125 72.90625 \nL 32.078125 72.90625 \nQ 44.34375 72.90625 50.609375 67.359375 \nQ 56.890625 61.8125 56.890625 51.125 \nQ 56.890625 40.328125 50.609375 34.8125 \nQ 44.34375 29.296875 32.078125 29.296875 \nL 19.671875 29.296875 \nL 19.671875 0 \nL 9.8125 0 \nz\n\" id=\"DejaVuSans-80\"/>\n       <path d=\"M 44.390625 34.1875 \nQ 47.5625 33.109375 50.5625 29.59375 \nQ 53.5625 26.078125 56.59375 19.921875 \nL 66.609375 0 \nL 56 0 \nL 46.6875 18.703125 \nQ 43.0625 26.03125 39.671875 28.421875 \nQ 36.28125 30.8125 30.421875 30.8125 \nL 19.671875 30.8125 \nL 19.671875 0 \nL 9.8125 0 \nL 9.8125 72.90625 \nL 32.078125 72.90625 \nQ 44.578125 72.90625 50.734375 67.671875 \nQ 56.890625 62.453125 56.890625 51.90625 \nQ 56.890625 45.015625 53.6875 40.46875 \nQ 50.484375 35.9375 44.390625 34.1875 \nz\nM 19.671875 64.796875 \nL 19.671875 38.921875 \nL 32.078125 38.921875 \nQ 39.203125 38.921875 42.84375 42.21875 \nQ 46.484375 45.515625 46.484375 51.90625 \nQ 46.484375 58.296875 42.84375 61.546875 \nQ 39.203125 64.796875 32.078125 64.796875 \nz\n\" id=\"DejaVuSans-82\"/>\n      </defs>\n      <use xlink:href=\"#DejaVuSans-70\"/>\n      <use x=\"57.519531\" xlink:href=\"#DejaVuSans-80\"/>\n      <use x=\"117.822266\" xlink:href=\"#DejaVuSans-82\"/>\n     </g>\n    </g>\n   </g>\n   <g id=\"matplotlib.axis_2\">\n    <g id=\"ytick_1\">\n     <g id=\"line2d_7\">\n      <defs>\n       <path d=\"M 0 0 \nL -3.5 0 \n\" id=\"m0dfe20038b\" style=\"stroke:#000000;stroke-width:0.8;\"/>\n      </defs>\n      <g>\n       <use style=\"stroke:#000000;stroke-width:0.8;\" x=\"43.78125\" xlink:href=\"#m0dfe20038b\" y=\"333.65267\"/>\n      </g>\n     </g>\n     <g id=\"text_8\">\n      <!-- 0.0 -->\n      <g transform=\"translate(20.878125 337.451889)scale(0.1 -0.1)\">\n       <use xlink:href=\"#DejaVuSans-48\"/>\n       <use x=\"63.623047\" xlink:href=\"#DejaVuSans-46\"/>\n       <use x=\"95.410156\" xlink:href=\"#DejaVuSans-48\"/>\n      </g>\n     </g>\n    </g>\n    <g id=\"ytick_2\">\n     <g id=\"line2d_8\">\n      <g>\n       <use style=\"stroke:#000000;stroke-width:0.8;\" x=\"43.78125\" xlink:href=\"#m0dfe20038b\" y=\"274.350852\"/>\n      </g>\n     </g>\n     <g id=\"text_9\">\n      <!-- 0.2 -->\n      <g transform=\"translate(20.878125 278.150071)scale(0.1 -0.1)\">\n       <use xlink:href=\"#DejaVuSans-48\"/>\n       <use x=\"63.623047\" xlink:href=\"#DejaVuSans-46\"/>\n       <use x=\"95.410156\" xlink:href=\"#DejaVuSans-50\"/>\n      </g>\n     </g>\n    </g>\n    <g id=\"ytick_3\">\n     <g id=\"line2d_9\">\n      <g>\n       <use style=\"stroke:#000000;stroke-width:0.8;\" x=\"43.78125\" xlink:href=\"#m0dfe20038b\" y=\"215.049034\"/>\n      </g>\n     </g>\n     <g id=\"text_10\">\n      <!-- 0.4 -->\n      <g transform=\"translate(20.878125 218.848253)scale(0.1 -0.1)\">\n       <use xlink:href=\"#DejaVuSans-48\"/>\n       <use x=\"63.623047\" xlink:href=\"#DejaVuSans-46\"/>\n       <use x=\"95.410156\" xlink:href=\"#DejaVuSans-52\"/>\n      </g>\n     </g>\n    </g>\n    <g id=\"ytick_4\">\n     <g id=\"line2d_10\">\n      <g>\n       <use style=\"stroke:#000000;stroke-width:0.8;\" x=\"43.78125\" xlink:href=\"#m0dfe20038b\" y=\"155.747216\"/>\n      </g>\n     </g>\n     <g id=\"text_11\">\n      <!-- 0.6 -->\n      <g transform=\"translate(20.878125 159.546435)scale(0.1 -0.1)\">\n       <use xlink:href=\"#DejaVuSans-48\"/>\n       <use x=\"63.623047\" xlink:href=\"#DejaVuSans-46\"/>\n       <use x=\"95.410156\" xlink:href=\"#DejaVuSans-54\"/>\n      </g>\n     </g>\n    </g>\n    <g id=\"ytick_5\">\n     <g id=\"line2d_11\">\n      <g>\n       <use style=\"stroke:#000000;stroke-width:0.8;\" x=\"43.78125\" xlink:href=\"#m0dfe20038b\" y=\"96.445398\"/>\n      </g>\n     </g>\n     <g id=\"text_12\">\n      <!-- 0.8 -->\n      <g transform=\"translate(20.878125 100.244616)scale(0.1 -0.1)\">\n       <use xlink:href=\"#DejaVuSans-48\"/>\n       <use x=\"63.623047\" xlink:href=\"#DejaVuSans-46\"/>\n       <use x=\"95.410156\" xlink:href=\"#DejaVuSans-56\"/>\n      </g>\n     </g>\n    </g>\n    <g id=\"ytick_6\">\n     <g id=\"line2d_12\">\n      <g>\n       <use style=\"stroke:#000000;stroke-width:0.8;\" x=\"43.78125\" xlink:href=\"#m0dfe20038b\" y=\"37.14358\"/>\n      </g>\n     </g>\n     <g id=\"text_13\">\n      <!-- 1.0 -->\n      <g transform=\"translate(20.878125 40.942798)scale(0.1 -0.1)\">\n       <use xlink:href=\"#DejaVuSans-49\"/>\n       <use x=\"63.623047\" xlink:href=\"#DejaVuSans-46\"/>\n       <use x=\"95.410156\" xlink:href=\"#DejaVuSans-48\"/>\n      </g>\n     </g>\n    </g>\n    <g id=\"text_14\">\n     <!-- TPR -->\n     <g transform=\"translate(14.798438 194.941094)rotate(-90)scale(0.1 -0.1)\">\n      <defs>\n       <path d=\"M -0.296875 72.90625 \nL 61.375 72.90625 \nL 61.375 64.59375 \nL 35.5 64.59375 \nL 35.5 0 \nL 25.59375 0 \nL 25.59375 64.59375 \nL -0.296875 64.59375 \nz\n\" id=\"DejaVuSans-84\"/>\n      </defs>\n      <use xlink:href=\"#DejaVuSans-84\"/>\n      <use x=\"61.083984\" xlink:href=\"#DejaVuSans-80\"/>\n      <use x=\"121.386719\" xlink:href=\"#DejaVuSans-82\"/>\n     </g>\n    </g>\n   </g>\n   <g id=\"line2d_13\">\n    <path clip-path=\"url(#p8520aa9385)\" d=\"M 58.999432 333.65267 \nL 58.999432 331.873616 \nL 59.303795 331.873616 \nL 59.303795 330.984089 \nL 59.608159 330.984089 \nL 59.608159 329.205034 \nL 60.216886 329.205034 \nL 60.216886 328.612016 \nL 60.825614 328.612016 \nL 60.825614 327.722489 \nL 61.129977 327.722489 \nL 61.129977 327.42598 \nL 61.434341 327.42598 \nL 61.434341 325.943434 \nL 62.043068 325.943434 \nL 62.043068 320.013252 \nL 62.956159 320.013252 \nL 62.956159 317.937689 \nL 63.260523 317.937689 \nL 63.260523 317.34467 \nL 63.564886 317.34467 \nL 63.564886 315.269107 \nL 63.86925 315.269107 \nL 63.86925 312.304016 \nL 64.477977 312.304016 \nL 64.477977 311.414489 \nL 64.782341 311.414489 \nL 64.782341 310.524961 \nL 65.086705 310.524961 \nL 65.086705 310.228452 \nL 65.391068 310.228452 \nL 65.391068 308.745907 \nL 65.695432 308.745907 \nL 65.999795 308.152889 \nL 65.999795 304.891289 \nL 66.304159 304.891289 \nL 66.304159 303.112234 \nL 66.608523 303.112234 \nL 66.608523 302.815725 \nL 66.912886 302.815725 \nL 66.912886 302.519216 \nL 67.21725 302.222707 \nL 67.21725 301.03667 \nL 67.521614 301.03667 \nL 67.521614 300.443652 \nL 67.825977 300.443652 \nL 67.825977 299.850634 \nL 68.130341 299.850634 \nL 68.130341 298.961107 \nL 68.434705 298.961107 \nL 68.434705 298.664598 \nL 68.739068 298.664598 \nL 68.739068 297.478561 \nL 69.043432 297.478561 \nL 69.043432 296.885543 \nL 69.347795 296.589034 \nL 69.347795 295.106489 \nL 70.260886 295.106489 \nL 70.260886 294.216961 \nL 70.869614 294.216961 \nL 70.869614 292.141398 \nL 71.478341 292.141398 \nL 71.478341 290.362343 \nL 71.782705 290.362343 \nL 71.782705 290.065834 \nL 72.087068 289.769325 \nL 72.391432 289.769325 \nL 72.391432 289.472816 \nL 72.695795 289.472816 \nL 73.000159 289.176307 \nL 73.000159 288.879798 \nL 73.608886 288.879798 \nL 73.608886 286.507725 \nL 73.91325 286.507725 \nL 73.91325 284.432161 \nL 74.217614 284.432161 \nL 74.521977 284.135652 \nL 74.826341 284.135652 \nL 74.826341 279.688016 \nL 75.130705 279.688016 \nL 75.130705 277.908961 \nL 75.435068 277.908961 \nL 75.435068 276.722925 \nL 76.043795 276.722925 \nL 76.043795 273.461325 \nL 76.348159 273.164816 \nL 76.348159 266.048598 \nL 77.565614 266.048598 \nL 77.565614 265.45558 \nL 77.869977 265.45558 \nL 77.869977 264.862561 \nL 78.174341 264.566052 \nL 78.174341 261.304452 \nL 78.783068 261.304452 \nL 78.783068 260.711434 \nL 79.696159 260.711434 \nL 79.696159 259.228889 \nL 80.000523 258.93238 \nL 80.000523 257.746343 \nL 80.304886 257.746343 \nL 80.60925 256.263798 \nL 81.217977 256.263798 \nL 81.522341 255.967289 \nL 81.522341 255.67078 \nL 81.826705 255.67078 \nL 81.826705 255.37427 \nL 82.131068 254.484743 \nL 82.435432 254.484743 \nL 82.739795 253.891725 \nL 82.739795 252.705689 \nL 83.044159 252.40918 \nL 83.652886 252.40918 \nL 83.652886 251.816161 \nL 83.95725 251.223143 \nL 83.95725 250.926634 \nL 84.261614 250.630125 \nL 84.261614 249.740598 \nL 84.870341 249.740598 \nL 85.783432 248.85107 \nL 85.783432 248.554561 \nL 86.087795 248.554561 \nL 86.392159 247.665034 \nL 86.696523 247.665034 \nL 86.696523 247.072016 \nL 87.000886 247.072016 \nL 87.30525 246.775507 \nL 88.827068 246.775507 \nL 89.131432 246.478998 \nL 89.435795 246.478998 \nL 90.348886 245.58947 \nL 94.00125 245.58947 \nL 94.609977 244.996452 \nL 94.914341 244.996452 \nL 94.914341 244.699943 \nL 96.436159 243.810416 \nL 97.34925 242.62438 \nL 100.088523 239.955798 \nL 101.305977 239.955798 \nL 104.349614 237.287216 \nL 106.175795 228.391943 \nL 106.175795 227.205907 \nL 106.784523 227.205907 \nL 106.784523 226.909398 \nL 107.088886 226.909398 \nL 107.088886 225.723361 \nL 107.39325 225.723361 \nL 107.39325 221.572234 \nL 108.001977 221.572234 \nL 108.001977 221.275725 \nL 108.306341 221.275725 \nL 108.306341 218.607143 \nL 109.828159 218.607143 \nL 109.828159 217.717616 \nL 110.132523 217.717616 \nL 110.132523 217.421107 \nL 110.74125 217.421107 \nL 110.74125 217.124598 \nL 111.349977 217.124598 \nL 111.349977 215.049034 \nL 111.654341 215.049034 \nL 111.654341 214.752525 \nL 111.958705 214.752525 \nL 111.958705 214.456016 \nL 112.567432 214.456016 \nL 112.567432 212.676961 \nL 112.871795 212.676961 \nL 112.871795 211.787434 \nL 113.176159 211.787434 \nL 113.176159 211.490925 \nL 113.480523 211.490925 \nL 113.480523 210.897907 \nL 113.784886 210.897907 \nL 113.784886 210.601398 \nL 114.393614 210.601398 \nL 114.393614 210.00838 \nL 115.002341 210.00838 \nL 115.002341 209.71187 \nL 115.306705 209.118852 \nL 115.306705 208.229325 \nL 115.915432 208.229325 \nL 115.915432 207.339798 \nL 120.480886 197.554998 \nL 122.307068 196.368961 \nL 122.915795 195.775943 \nL 124.437614 195.479434 \nL 124.741977 195.182925 \nL 125.655068 194.589907 \nL 126.872523 194.589907 \nL 126.872523 193.107361 \nL 127.176886 192.810852 \nL 127.785614 192.810852 \nL 128.394341 192.514343 \nL 129.003068 191.921325 \nL 129.307432 191.921325 \nL 129.611795 191.328307 \nL 129.611795 190.735289 \nL 130.220523 190.43878 \nL 130.82925 190.43878 \nL 130.82925 190.14227 \nL 131.437977 189.845761 \nL 131.437977 188.363216 \nL 131.742341 188.363216 \nL 131.742341 187.770198 \nL 133.264159 187.770198 \nL 133.264159 187.473689 \nL 133.872886 187.473689 \nL 133.872886 186.584161 \nL 134.17725 186.584161 \nL 134.17725 186.287652 \nL 134.481614 186.287652 \nL 134.481614 185.101616 \nL 134.785977 185.101616 \nL 134.785977 184.508598 \nL 135.090341 184.508598 \nL 135.090341 184.212089 \nL 135.394705 184.212089 \nL 135.394705 183.61907 \nL 135.699068 183.61907 \nL 135.699068 183.026052 \nL 136.307795 183.026052 \nL 136.307795 182.729543 \nL 136.612159 182.729543 \nL 136.612159 182.136525 \nL 136.916523 182.136525 \nL 136.916523 180.65398 \nL 137.220886 180.65398 \nL 137.220886 180.35747 \nL 137.52525 180.35747 \nL 137.52525 179.467943 \nL 137.829614 179.467943 \nL 137.829614 179.171434 \nL 138.133977 179.171434 \nL 138.133977 178.578416 \nL 138.438341 177.985398 \nL 138.438341 177.39238 \nL 138.742705 177.39238 \nL 138.742705 176.502852 \nL 139.655795 176.502852 \nL 139.655795 175.909834 \nL 139.960159 175.909834 \nL 139.960159 175.613325 \nL 140.264523 175.613325 \nL 140.264523 174.427289 \nL 141.177614 174.427289 \nL 141.177614 174.13078 \nL 142.090705 174.13078 \nL 142.090705 173.241252 \nL 142.395068 173.241252 \nL 142.395068 172.055216 \nL 142.699432 172.055216 \nL 142.699432 171.462198 \nL 143.003795 171.462198 \nL 143.003795 170.57267 \nL 143.308159 170.57267 \nL 143.308159 169.979652 \nL 144.829977 169.979652 \nL 144.829977 168.497107 \nL 145.134341 168.497107 \nL 145.134341 168.200598 \nL 145.438705 167.904089 \nL 145.438705 167.60758 \nL 145.743068 167.31107 \nL 145.743068 167.014561 \nL 146.047432 167.014561 \nL 146.047432 166.421543 \nL 146.656159 166.421543 \nL 146.656159 165.828525 \nL 146.960523 165.235507 \nL 147.56925 165.235507 \nL 147.56925 164.642489 \nL 147.873614 164.642489 \nL 147.873614 164.34598 \nL 148.177977 164.34598 \nL 148.177977 164.04947 \nL 148.482341 164.04947 \nL 148.482341 163.159943 \nL 149.395432 163.159943 \nL 149.395432 161.677398 \nL 150.004159 161.677398 \nL 150.004159 161.08438 \nL 150.308523 161.08438 \nL 150.308523 160.194852 \nL 150.612886 160.194852 \nL 150.612886 159.305325 \nL 150.91725 159.305325 \nL 150.91725 159.008816 \nL 151.525977 159.008816 \nL 151.525977 158.712307 \nL 152.134705 158.712307 \nL 152.134705 157.82278 \nL 152.439068 157.52627 \nL 152.743432 157.52627 \nL 152.743432 157.229761 \nL 153.047795 157.229761 \nL 153.047795 156.933252 \nL 153.960886 156.933252 \nL 165.526705 139.142707 \nL 165.831068 139.142707 \nL 165.831068 137.95667 \nL 166.135432 137.95667 \nL 166.135432 137.660161 \nL 168.570341 135.584598 \nL 168.570341 134.99158 \nL 169.483432 134.398561 \nL 169.787795 134.398561 \nL 169.787795 134.102052 \nL 170.092159 134.102052 \nL 170.700886 132.322998 \nL 171.00525 132.026489 \nL 171.00525 131.136961 \nL 171.309614 131.136961 \nL 171.309614 130.543943 \nL 171.613977 129.950925 \nL 171.613977 129.061398 \nL 172.222705 128.764889 \nL 173.135795 128.764889 \nL 173.135795 128.17187 \nL 173.440159 128.17187 \nL 173.440159 127.875361 \nL 173.744523 127.875361 \nL 174.048886 127.578852 \nL 174.048886 127.282343 \nL 174.657614 127.282343 \nL 174.657614 126.985834 \nL 174.961977 126.985834 \nL 174.961977 126.689325 \nL 175.266341 126.689325 \nL 175.570705 126.392816 \nL 175.570705 125.799798 \nL 175.875068 125.799798 \nL 175.875068 125.503289 \nL 176.179432 125.503289 \nL 176.179432 125.20678 \nL 176.788159 125.20678 \nL 176.788159 124.613761 \nL 178.309977 124.613761 \nL 178.309977 123.724234 \nL 178.614341 123.724234 \nL 178.614341 122.834707 \nL 178.918705 122.241689 \nL 178.918705 121.352161 \nL 179.223068 121.352161 \nL 179.223068 121.055652 \nL 179.527432 121.055652 \nL 179.527432 120.166125 \nL 179.831795 120.166125 \nL 179.831795 119.869616 \nL 180.136159 119.869616 \nL 180.136159 118.980089 \nL 180.440523 118.980089 \nL 180.440523 117.794052 \nL 180.744886 117.497543 \nL 181.353614 117.497543 \nL 181.353614 116.904525 \nL 181.657977 116.904525 \nL 181.962341 116.608016 \nL 182.266705 116.608016 \nL 182.875432 116.311507 \nL 182.875432 116.014998 \nL 183.179795 116.014998 \nL 183.179795 115.718489 \nL 183.484159 115.718489 \nL 183.484159 115.42198 \nL 183.788523 115.42198 \nL 184.39725 115.12547 \nL 185.005977 115.12547 \nL 185.310341 114.828961 \nL 185.614705 114.828961 \nL 185.614705 114.532452 \nL 187.136523 114.532452 \nL 187.136523 114.235943 \nL 187.440886 114.235943 \nL 187.440886 113.939434 \nL 187.74525 113.642925 \nL 187.74525 113.049907 \nL 188.049614 113.049907 \nL 190.484523 112.456889 \nL 191.701977 112.456889 \nL 191.701977 112.16038 \nL 192.615068 112.16038 \nL 192.615068 111.86387 \nL 193.528159 111.86387 \nL 193.528159 111.270852 \nL 193.832523 111.270852 \nL 193.832523 110.974343 \nL 194.136886 110.974343 \nL 194.136886 110.381325 \nL 196.267432 107.712743 \nL 196.267432 107.119725 \nL 196.876159 106.823216 \nL 196.876159 106.526707 \nL 197.78925 106.230198 \nL 198.397977 106.230198 \nL 198.702341 105.63718 \nL 198.702341 105.34067 \nL 199.006705 105.044161 \nL 199.006705 104.451143 \nL 199.615432 104.451143 \nL 199.615432 104.154634 \nL 200.528523 104.154634 \nL 200.528523 103.265107 \nL 201.441614 103.265107 \nL 202.050341 102.37558 \nL 218.790341 89.625689 \nL 218.790341 89.32918 \nL 219.094705 89.32918 \nL 219.094705 88.439652 \nL 219.703432 86.06758 \nL 220.007795 86.06758 \nL 220.007795 85.474561 \nL 220.616523 85.474561 \nL 220.616523 84.881543 \nL 221.22525 84.288525 \nL 222.442705 83.992016 \nL 222.442705 83.398998 \nL 223.051432 83.398998 \nL 223.051432 83.102489 \nL 226.399432 79.54438 \nL 228.529977 79.54438 \nL 228.529977 78.358343 \nL 229.443068 77.765325 \nL 230.660523 77.468816 \nL 230.660523 77.172307 \nL 231.26925 77.172307 \nL 240.095795 73.614198 \nL 240.704523 73.614198 \nL 240.704523 73.317689 \nL 241.008886 73.317689 \nL 241.008886 72.131652 \nL 245.269977 70.056089 \nL 245.574341 70.056089 \nL 246.183068 69.75958 \nL 246.487432 69.75958 \nL 246.487432 69.46307 \nL 247.096159 69.46307 \nL 247.096159 68.870052 \nL 247.704886 68.870052 \nL 247.704886 67.684016 \nL 255.313977 64.718925 \nL 255.313977 64.422416 \nL 255.618341 64.125907 \nL 256.227068 63.829398 \nL 257.444523 63.829398 \nL 257.444523 62.93987 \nL 258.966341 62.050343 \nL 259.270705 61.457325 \nL 259.575068 61.457325 \nL 259.575068 61.160816 \nL 263.227432 61.160816 \nL 263.227432 60.864307 \nL 263.531795 60.864307 \nL 263.531795 59.97478 \nL 264.140523 59.97478 \nL 264.140523 59.381761 \nL 265.053614 59.381761 \nL 265.053614 59.085252 \nL 266.271068 59.085252 \nL 266.271068 58.788743 \nL 266.575432 58.788743 \nL 266.575432 58.492234 \nL 266.879795 58.195725 \nL 267.488523 57.009689 \nL 267.488523 56.71318 \nL 268.705977 56.71318 \nL 268.705977 56.41667 \nL 269.010341 56.120161 \nL 269.314705 56.120161 \nL 270.227795 55.527143 \nL 270.532159 55.527143 \nL 272.053977 54.934125 \nL 274.184523 54.341107 \nL 275.097614 54.341107 \nL 275.401977 54.044598 \nL 276.619432 53.45158 \nL 276.923795 53.45158 \nL 276.923795 53.15507 \nL 293.663795 48.707434 \nL 295.489977 47.817907 \nL 296.403068 47.817907 \nL 301.881614 46.038852 \nL 302.185977 45.445834 \nL 302.490341 45.445834 \nL 302.794705 45.149325 \nL 302.794705 44.259798 \nL 303.707795 43.963289 \nL 305.838341 42.777252 \nL 329.274341 37.736598 \nL 330.187432 37.736598 \nL 330.187432 37.440089 \nL 330.491795 37.440089 \nL 330.796159 37.14358 \nL 363.363068 37.14358 \nL 363.363068 37.14358 \n\" style=\"fill:none;stroke:#0000ff;stroke-linecap:square;stroke-width:1.5;\"/>\n   </g>\n   <g id=\"patch_3\">\n    <path d=\"M 43.78125 348.478125 \nL 43.78125 22.318125 \n\" style=\"fill:none;stroke:#000000;stroke-linecap:square;stroke-linejoin:miter;stroke-width:0.8;\"/>\n   </g>\n   <g id=\"patch_4\">\n    <path d=\"M 378.58125 348.478125 \nL 378.58125 22.318125 \n\" style=\"fill:none;stroke:#000000;stroke-linecap:square;stroke-linejoin:miter;stroke-width:0.8;\"/>\n   </g>\n   <g id=\"patch_5\">\n    <path d=\"M 43.78125 348.478125 \nL 378.58125 348.478125 \n\" style=\"fill:none;stroke:#000000;stroke-linecap:square;stroke-linejoin:miter;stroke-width:0.8;\"/>\n   </g>\n   <g id=\"patch_6\">\n    <path d=\"M 43.78125 22.318125 \nL 378.58125 22.318125 \n\" style=\"fill:none;stroke:#000000;stroke-linecap:square;stroke-linejoin:miter;stroke-width:0.8;\"/>\n   </g>\n   <g id=\"text_15\">\n    <!-- ROC Curve -->\n    <g transform=\"translate(178.490625 16.318125)scale(0.12 -0.12)\">\n     <defs>\n      <path d=\"M 39.40625 66.21875 \nQ 28.65625 66.21875 22.328125 58.203125 \nQ 16.015625 50.203125 16.015625 36.375 \nQ 16.015625 22.609375 22.328125 14.59375 \nQ 28.65625 6.59375 39.40625 6.59375 \nQ 50.140625 6.59375 56.421875 14.59375 \nQ 62.703125 22.609375 62.703125 36.375 \nQ 62.703125 50.203125 56.421875 58.203125 \nQ 50.140625 66.21875 39.40625 66.21875 \nz\nM 39.40625 74.21875 \nQ 54.734375 74.21875 63.90625 63.9375 \nQ 73.09375 53.65625 73.09375 36.375 \nQ 73.09375 19.140625 63.90625 8.859375 \nQ 54.734375 -1.421875 39.40625 -1.421875 \nQ 24.03125 -1.421875 14.8125 8.828125 \nQ 5.609375 19.09375 5.609375 36.375 \nQ 5.609375 53.65625 14.8125 63.9375 \nQ 24.03125 74.21875 39.40625 74.21875 \nz\n\" id=\"DejaVuSans-79\"/>\n      <path d=\"M 64.40625 67.28125 \nL 64.40625 56.890625 \nQ 59.421875 61.53125 53.78125 63.8125 \nQ 48.140625 66.109375 41.796875 66.109375 \nQ 29.296875 66.109375 22.65625 58.46875 \nQ 16.015625 50.828125 16.015625 36.375 \nQ 16.015625 21.96875 22.65625 14.328125 \nQ 29.296875 6.6875 41.796875 6.6875 \nQ 48.140625 6.6875 53.78125 8.984375 \nQ 59.421875 11.28125 64.40625 15.921875 \nL 64.40625 5.609375 \nQ 59.234375 2.09375 53.4375 0.328125 \nQ 47.65625 -1.421875 41.21875 -1.421875 \nQ 24.65625 -1.421875 15.125 8.703125 \nQ 5.609375 18.84375 5.609375 36.375 \nQ 5.609375 53.953125 15.125 64.078125 \nQ 24.65625 74.21875 41.21875 74.21875 \nQ 47.75 74.21875 53.53125 72.484375 \nQ 59.328125 70.75 64.40625 67.28125 \nz\n\" id=\"DejaVuSans-67\"/>\n      <path id=\"DejaVuSans-32\"/>\n      <path d=\"M 8.5 21.578125 \nL 8.5 54.6875 \nL 17.484375 54.6875 \nL 17.484375 21.921875 \nQ 17.484375 14.15625 20.5 10.265625 \nQ 23.53125 6.390625 29.59375 6.390625 \nQ 36.859375 6.390625 41.078125 11.03125 \nQ 45.3125 15.671875 45.3125 23.6875 \nL 45.3125 54.6875 \nL 54.296875 54.6875 \nL 54.296875 0 \nL 45.3125 0 \nL 45.3125 8.40625 \nQ 42.046875 3.421875 37.71875 1 \nQ 33.40625 -1.421875 27.6875 -1.421875 \nQ 18.265625 -1.421875 13.375 4.4375 \nQ 8.5 10.296875 8.5 21.578125 \nz\nM 31.109375 56 \nz\n\" id=\"DejaVuSans-117\"/>\n      <path d=\"M 41.109375 46.296875 \nQ 39.59375 47.171875 37.8125 47.578125 \nQ 36.03125 48 33.890625 48 \nQ 26.265625 48 22.1875 43.046875 \nQ 18.109375 38.09375 18.109375 28.8125 \nL 18.109375 0 \nL 9.078125 0 \nL 9.078125 54.6875 \nL 18.109375 54.6875 \nL 18.109375 46.1875 \nQ 20.953125 51.171875 25.484375 53.578125 \nQ 30.03125 56 36.53125 56 \nQ 37.453125 56 38.578125 55.875 \nQ 39.703125 55.765625 41.0625 55.515625 \nz\n\" id=\"DejaVuSans-114\"/>\n      <path d=\"M 2.984375 54.6875 \nL 12.5 54.6875 \nL 29.59375 8.796875 \nL 46.6875 54.6875 \nL 56.203125 54.6875 \nL 35.6875 0 \nL 23.484375 0 \nz\n\" id=\"DejaVuSans-118\"/>\n      <path d=\"M 56.203125 29.59375 \nL 56.203125 25.203125 \nL 14.890625 25.203125 \nQ 15.484375 15.921875 20.484375 11.0625 \nQ 25.484375 6.203125 34.421875 6.203125 \nQ 39.59375 6.203125 44.453125 7.46875 \nQ 49.3125 8.734375 54.109375 11.28125 \nL 54.109375 2.78125 \nQ 49.265625 0.734375 44.1875 -0.34375 \nQ 39.109375 -1.421875 33.890625 -1.421875 \nQ 20.796875 -1.421875 13.15625 6.1875 \nQ 5.515625 13.8125 5.515625 26.8125 \nQ 5.515625 40.234375 12.765625 48.109375 \nQ 20.015625 56 32.328125 56 \nQ 43.359375 56 49.78125 48.890625 \nQ 56.203125 41.796875 56.203125 29.59375 \nz\nM 47.21875 32.234375 \nQ 47.125 39.59375 43.09375 43.984375 \nQ 39.0625 48.390625 32.421875 48.390625 \nQ 24.90625 48.390625 20.390625 44.140625 \nQ 15.875 39.890625 15.1875 32.171875 \nz\n\" id=\"DejaVuSans-101\"/>\n     </defs>\n     <use xlink:href=\"#DejaVuSans-82\"/>\n     <use x=\"69.482422\" xlink:href=\"#DejaVuSans-79\"/>\n     <use x=\"148.193359\" xlink:href=\"#DejaVuSans-67\"/>\n     <use x=\"218.017578\" xlink:href=\"#DejaVuSans-32\"/>\n     <use x=\"249.804688\" xlink:href=\"#DejaVuSans-67\"/>\n     <use x=\"319.628906\" xlink:href=\"#DejaVuSans-117\"/>\n     <use x=\"383.007812\" xlink:href=\"#DejaVuSans-114\"/>\n     <use x=\"424.121094\" xlink:href=\"#DejaVuSans-118\"/>\n     <use x=\"483.300781\" xlink:href=\"#DejaVuSans-101\"/>\n    </g>\n   </g>\n   <g id=\"legend_1\">\n    <g id=\"patch_7\">\n     <path d=\"M 235.928125 343.478125 \nL 371.58125 343.478125 \nQ 373.58125 343.478125 373.58125 341.478125 \nL 373.58125 327.8 \nQ 373.58125 325.8 371.58125 325.8 \nL 235.928125 325.8 \nQ 233.928125 325.8 233.928125 327.8 \nL 233.928125 341.478125 \nQ 233.928125 343.478125 235.928125 343.478125 \nz\n\" style=\"fill:#ffffff;opacity:0.8;stroke:#cccccc;stroke-linejoin:miter;\"/>\n    </g>\n    <g id=\"line2d_14\">\n     <path d=\"M 237.928125 333.898437 \nL 257.928125 333.898437 \n\" style=\"fill:none;stroke:#0000ff;stroke-linecap:square;stroke-width:1.5;\"/>\n    </g>\n    <g id=\"line2d_15\"/>\n    <g id=\"text_16\">\n     <!-- ROC (AUC = 0.7160) -->\n     <g transform=\"translate(265.928125 337.398437)scale(0.1 -0.1)\">\n      <defs>\n       <path d=\"M 31 75.875 \nQ 24.46875 64.65625 21.28125 53.65625 \nQ 18.109375 42.671875 18.109375 31.390625 \nQ 18.109375 20.125 21.3125 9.0625 \nQ 24.515625 -2 31 -13.1875 \nL 23.1875 -13.1875 \nQ 15.875 -1.703125 12.234375 9.375 \nQ 8.59375 20.453125 8.59375 31.390625 \nQ 8.59375 42.28125 12.203125 53.3125 \nQ 15.828125 64.359375 23.1875 75.875 \nz\n\" id=\"DejaVuSans-40\"/>\n       <path d=\"M 34.1875 63.1875 \nL 20.796875 26.90625 \nL 47.609375 26.90625 \nz\nM 28.609375 72.90625 \nL 39.796875 72.90625 \nL 67.578125 0 \nL 57.328125 0 \nL 50.6875 18.703125 \nL 17.828125 18.703125 \nL 11.1875 0 \nL 0.78125 0 \nz\n\" id=\"DejaVuSans-65\"/>\n       <path d=\"M 8.6875 72.90625 \nL 18.609375 72.90625 \nL 18.609375 28.609375 \nQ 18.609375 16.890625 22.84375 11.734375 \nQ 27.09375 6.59375 36.625 6.59375 \nQ 46.09375 6.59375 50.34375 11.734375 \nQ 54.59375 16.890625 54.59375 28.609375 \nL 54.59375 72.90625 \nL 64.5 72.90625 \nL 64.5 27.390625 \nQ 64.5 13.140625 57.4375 5.859375 \nQ 50.390625 -1.421875 36.625 -1.421875 \nQ 22.796875 -1.421875 15.734375 5.859375 \nQ 8.6875 13.140625 8.6875 27.390625 \nz\n\" id=\"DejaVuSans-85\"/>\n       <path d=\"M 10.59375 45.40625 \nL 73.1875 45.40625 \nL 73.1875 37.203125 \nL 10.59375 37.203125 \nz\nM 10.59375 25.484375 \nL 73.1875 25.484375 \nL 73.1875 17.1875 \nL 10.59375 17.1875 \nz\n\" id=\"DejaVuSans-61\"/>\n       <path d=\"M 8.203125 72.90625 \nL 55.078125 72.90625 \nL 55.078125 68.703125 \nL 28.609375 0 \nL 18.3125 0 \nL 43.21875 64.59375 \nL 8.203125 64.59375 \nz\n\" id=\"DejaVuSans-55\"/>\n       <path d=\"M 8.015625 75.875 \nL 15.828125 75.875 \nQ 23.140625 64.359375 26.78125 53.3125 \nQ 30.421875 42.28125 30.421875 31.390625 \nQ 30.421875 20.453125 26.78125 9.375 \nQ 23.140625 -1.703125 15.828125 -13.1875 \nL 8.015625 -13.1875 \nQ 14.5 -2 17.703125 9.0625 \nQ 20.90625 20.125 20.90625 31.390625 \nQ 20.90625 42.671875 17.703125 53.65625 \nQ 14.5 64.65625 8.015625 75.875 \nz\n\" id=\"DejaVuSans-41\"/>\n      </defs>\n      <use xlink:href=\"#DejaVuSans-82\"/>\n      <use x=\"69.482422\" xlink:href=\"#DejaVuSans-79\"/>\n      <use x=\"148.193359\" xlink:href=\"#DejaVuSans-67\"/>\n      <use x=\"218.017578\" xlink:href=\"#DejaVuSans-32\"/>\n      <use x=\"249.804688\" xlink:href=\"#DejaVuSans-40\"/>\n      <use x=\"288.818359\" xlink:href=\"#DejaVuSans-65\"/>\n      <use x=\"357.226562\" xlink:href=\"#DejaVuSans-85\"/>\n      <use x=\"430.419922\" xlink:href=\"#DejaVuSans-67\"/>\n      <use x=\"500.244141\" xlink:href=\"#DejaVuSans-32\"/>\n      <use x=\"532.03125\" xlink:href=\"#DejaVuSans-61\"/>\n      <use x=\"615.820312\" xlink:href=\"#DejaVuSans-32\"/>\n      <use x=\"647.607422\" xlink:href=\"#DejaVuSans-48\"/>\n      <use x=\"711.230469\" xlink:href=\"#DejaVuSans-46\"/>\n      <use x=\"743.017578\" xlink:href=\"#DejaVuSans-55\"/>\n      <use x=\"806.640625\" xlink:href=\"#DejaVuSans-49\"/>\n      <use x=\"870.263672\" xlink:href=\"#DejaVuSans-54\"/>\n      <use x=\"933.886719\" xlink:href=\"#DejaVuSans-48\"/>\n      <use x=\"997.509766\" xlink:href=\"#DejaVuSans-41\"/>\n     </g>\n    </g>\n   </g>\n  </g>\n </g>\n <defs>\n  <clipPath id=\"p8520aa9385\">\n   <rect height=\"326.16\" width=\"334.8\" x=\"43.78125\" y=\"22.318125\"/>\n  </clipPath>\n </defs>\n</svg>\n",
      "image/png": "[encoded data removed]"
     },
     "metadata": {
      "needs_background": "light"
     }
    }
   ],
   "source": [
    "# On test set\n",
    "probs = stage3.predict_proba(X_test_2, pred_test_2)\n",
    "_, _, auc_score, _ = get_roc(labels_test_2, probs[:, 1], show_plot=True)"
   ]
  },
  {
   "cell_type": "markdown",
   "metadata": {},
   "source": [
    "## Testing BAARD Operator"
   ]
  },
  {
   "cell_type": "code",
   "execution_count": 41,
   "metadata": {},
   "outputs": [],
   "source": [
    "stages = []\n",
    "stages.append(ApplicabilityStage(n_classes=10, quantile=0.999))\n",
    "stages.append(ReliabilityStage(n_classes=10, k=10))\n",
    "stages.append(DecidabilityStage(n_classes=10, k=100, n_bins=5))\n",
    "\n",
    "baard = BAARDOperator(stages=stages)"
   ]
  },
  {
   "cell_type": "code",
   "execution_count": 42,
   "metadata": {},
   "outputs": [
    {
     "output_type": "stream",
     "name": "stdout",
     "text": [
      "(55000, 1, 28, 28) (55000,)\n"
     ]
    }
   ],
   "source": [
    "print(X_train.shape, y_train.shape)"
   ]
  },
  {
   "cell_type": "code",
   "execution_count": 43,
   "metadata": {},
   "outputs": [
    {
     "output_type": "execute_result",
     "data": {
      "text/plain": [
       "<defences.baard.BAARDOperator at 0x7fe323e59080>"
      ]
     },
     "metadata": {},
     "execution_count": 43
    }
   ],
   "source": [
    "baard.fit(X_train, y_train)"
   ]
  },
  {
   "cell_type": "code",
   "execution_count": 44,
   "metadata": {},
   "outputs": [
    {
     "output_type": "stream",
     "name": "stdout",
     "text": [
      "(2000, 784) (2000,) (2000,)\n"
     ]
    }
   ],
   "source": [
    "print(X_val.shape, pred_val.shape, labels_val.shape)"
   ]
  },
  {
   "cell_type": "code",
   "execution_count": 45,
   "metadata": {},
   "outputs": [
    {
     "output_type": "stream",
     "name": "stdout",
     "text": [
      "True\n"
     ]
    }
   ],
   "source": [
    "# We already filter the misclassified samples. \n",
    "# 1st 1000 samples are adversarial examples, 2nd half are benign samples.\n",
    "pred = np.argmax(classifier.predict(X_val.reshape(2000,1,28,28)), axis=1)\n",
    "print(np.all(pred == pred_val))"
   ]
  },
  {
   "cell_type": "code",
   "execution_count": 46,
   "metadata": {},
   "outputs": [],
   "source": [
    "baard.search_thresholds(X_val, pred_val, labels_val)"
   ]
  },
  {
   "cell_type": "code",
   "execution_count": 47,
   "metadata": {},
   "outputs": [
    {
     "output_type": "stream",
     "name": "stdout",
     "text": [
      "False\nTrue\nTrue\nTrue\n(2000, 784) (2000,) (2000,) (2000,)\n"
     ]
    }
   ],
   "source": [
    "y_test_2 = np.concatenate((subset_y[:1000], subset_y[:1000]))\n",
    "\n",
    "print(np.all(y_test_2[:1000] == pred_test_2[:1000]))\n",
    "print(np.all(y_test_2[1000:] == pred_test_2[1000:]))\n",
    "print(np.all(labels_test_2 == labels_val))\n",
    "pred = np.argmax(classifier.predict(X_test_2.reshape(2000,1,28,28)), axis=1)\n",
    "print(np.all(pred == pred_test_2))\n",
    "\n",
    "print(X_test_2.shape, y_test_2.shape, pred_test_2.shape, labels_test_2.shape)"
   ]
  },
  {
   "cell_type": "code",
   "execution_count": 48,
   "metadata": {},
   "outputs": [
    {
     "output_type": "stream",
     "name": "stdout",
     "text": [
      "1436\n"
     ]
    }
   ],
   "source": [
    "results = baard.detect(X_test_2, pred_test_2)\n",
    "# Should be 1000 samples\n",
    "print(np.sum(results))"
   ]
  },
  {
   "cell_type": "code",
   "execution_count": 49,
   "metadata": {},
   "outputs": [
    {
     "output_type": "stream",
     "name": "stdout",
     "text": [
      "1000 436\n"
     ]
    }
   ],
   "source": [
    "print(np.sum(results[:1000]), np.sum(results[1000:]))"
   ]
  },
  {
   "cell_type": "code",
   "execution_count": null,
   "metadata": {},
   "outputs": [],
   "source": []
  }
 ],
 "metadata": {
  "kernelspec": {
   "display_name": "Python 3.6.9 64-bit",
   "language": "python",
   "name": "python36964bit4ada1bcfcd0f4caa95e946f583001e1b"
  },
  "language_info": {
   "codemirror_mode": {
    "name": "ipython",
    "version": 3
   },
   "file_extension": ".py",
   "mimetype": "text/x-python",
   "name": "python",
   "nbconvert_exporter": "python",
   "pygments_lexer": "ipython3",
   "version": "3.6.9-final"
  }
 },
 "nbformat": 4,
 "nbformat_minor": 4
}