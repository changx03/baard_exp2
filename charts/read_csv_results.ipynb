{
 "cells": [
  {
   "cell_type": "code",
   "execution_count": 1,
   "id": "driving-ukraine",
   "metadata": {},
   "outputs": [],
   "source": [
    "import os\n",
    "import sys\n",
    "\n",
    "sys.path.append('..')"
   ]
  },
  {
   "cell_type": "code",
   "execution_count": 2,
   "id": "settled-charge",
   "metadata": {},
   "outputs": [],
   "source": [
    "%load_ext autoreload\n",
    "%autoreload 2"
   ]
  },
  {
   "cell_type": "code",
   "execution_count": 3,
   "id": "norwegian-victorian",
   "metadata": {},
   "outputs": [],
   "source": [
    "import matplotlib.pyplot as plt\n",
    "import numpy as np\n",
    "import pandas as pd"
   ]
  },
  {
   "cell_type": "code",
   "execution_count": 4,
   "id": "elementary-arcade",
   "metadata": {},
   "outputs": [],
   "source": [
    "def read_baard_results(data, model, attacks):\n",
    "    list_df = []\n",
    "    for i in range(5):\n",
    "        for a in attacks:\n",
    "            path = os.path.join(\n",
    "                '..','results', 'result_{}'.format(i), '{}_{}'.format(data, model), 'results', \n",
    "                '{}_{}_{}_baard.csv'.format(data, model, a))\n",
    "            df = pd.read_csv(path)\n",
    "            df = df.drop('Unnamed: 0', axis=1)\n",
    "            list_df.append(df)\n",
    "    df = pd.concat(list_df, axis=0, ignore_index=True)\n",
    "    df = df.groupby(['data', 'model', 'attack', 'adv_param'], as_index=False).agg({\n",
    "        'acc_no_def': ['mean', 'std'],\n",
    "        'acc_on_adv_1': ['mean', 'std'],\n",
    "        'fpr_1': ['mean', 'std'],\n",
    "        'acc_on_adv_2': ['mean', 'std'],\n",
    "        'fpr_2': ['mean', 'std'],\n",
    "        'acc_on_adv_3': ['mean', 'std'],\n",
    "        'fpr_3': ['mean', 'std']})\n",
    "    df.columns = [\"_\".join(x) if x[1] != '' else x[0] for x in df.columns]\n",
    "    return df"
   ]
  },
  {
   "cell_type": "code",
   "execution_count": 5,
   "id": "blind-tracker",
   "metadata": {},
   "outputs": [],
   "source": [
    "def reduce_baard(df):\n",
    "    df = df.rename(columns={\n",
    "        'acc_on_adv_3_mean': 'acc_on_adv_mean',\n",
    "        'acc_on_adv_3_std': 'acc_on_adv_std',\n",
    "        'fpr_3_mean': 'fpr_mean',\n",
    "        'fpr_3_std': 'fpr_std',\n",
    "    })\n",
    "    df['defence'] = 'baard'\n",
    "    return df[['data', 'model', 'attack', 'adv_param', 'defence', 'acc_no_def_mean', 'acc_no_def_std', \n",
    "              'acc_on_adv_mean', 'acc_on_adv_std', 'fpr_mean', 'fpr_std']]"
   ]
  },
  {
   "cell_type": "code",
   "execution_count": 6,
   "id": "sonic-camping",
   "metadata": {},
   "outputs": [],
   "source": [
    "def merge_results(data, model, attacks, defences):\n",
    "    list_df = []\n",
    "    for i in range(5):\n",
    "        for a in attacks:\n",
    "            for d in defences:\n",
    "                p_mnist_dnn_apgd2_baard = os.path.join(\n",
    "                    '..', 'results', 'result_{}'.format(i), '{}_{}'.format(data, model), 'results', \n",
    "                    '{}_{}_{}_{}.csv'.format(data, model, a, d))\n",
    "                df = pd.read_csv(p_mnist_dnn_apgd2_baard)\n",
    "                df = df.drop('Unnamed: 0', axis=1)\n",
    "                df['defence'] = d\n",
    "                list_df.append(df)\n",
    "    df = pd.concat(list_df, axis=0, ignore_index=True)\n",
    "    df = df.groupby(['data', 'model', 'attack', 'adv_param', 'defence'], as_index=False).agg({\n",
    "        'acc_no_def': ['mean', 'std'],\n",
    "        'acc_on_adv': ['mean', 'std'],\n",
    "        'fpr': ['mean', 'std']\n",
    "    })\n",
    "    df.columns = [\"_\".join(x) if x[1] != '' else x[0] for x in df.columns]\n",
    "    return df"
   ]
  },
  {
   "cell_type": "markdown",
   "id": "important-petersburg",
   "metadata": {},
   "source": [
    "## MNIST DNN"
   ]
  },
  {
   "cell_type": "code",
   "execution_count": 7,
   "id": "solved-finnish",
   "metadata": {},
   "outputs": [
    {
     "output_type": "execute_result",
     "data": {
      "text/plain": [
       "    data model attack  adv_param  acc_no_def_mean  acc_no_def_std  \\\n",
       "0  mnist   dnn   apgd      0.063           0.8618        0.004817   \n",
       "1  mnist   dnn   apgd      0.100           0.5222        0.022477   \n",
       "2  mnist   dnn   apgd      0.300           0.0000        0.000000   \n",
       "3  mnist   dnn   apgd      0.600           0.0000        0.000000   \n",
       "4  mnist   dnn   apgd      1.000           0.0000        0.000000   \n",
       "\n",
       "   acc_on_adv_1_mean  acc_on_adv_1_std  fpr_1_mean  fpr_1_std  \\\n",
       "0                1.0               0.0       0.006   0.002345   \n",
       "1                1.0               0.0       0.006   0.002345   \n",
       "2                1.0               0.0       0.006   0.002345   \n",
       "3                1.0               0.0       0.006   0.002345   \n",
       "4                1.0               0.0       0.006   0.002345   \n",
       "\n",
       "   acc_on_adv_2_mean  acc_on_adv_2_std  fpr_2_mean  fpr_2_std  \\\n",
       "0                1.0               0.0      0.0176   0.002881   \n",
       "1                1.0               0.0      0.0176   0.002881   \n",
       "2                1.0               0.0      0.0176   0.002881   \n",
       "3                1.0               0.0      0.0176   0.002881   \n",
       "4                1.0               0.0      0.0176   0.002881   \n",
       "\n",
       "   acc_on_adv_3_mean  acc_on_adv_3_std  fpr_3_mean  fpr_3_std  \n",
       "0                1.0               0.0      0.0272   0.003271  \n",
       "1                1.0               0.0      0.0272   0.003271  \n",
       "2                1.0               0.0      0.0272   0.003271  \n",
       "3                1.0               0.0      0.0272   0.003271  \n",
       "4                1.0               0.0      0.0272   0.003271  "
      ],
      "text/html": "<div>\n<style scoped>\n    .dataframe tbody tr th:only-of-type {\n        vertical-align: middle;\n    }\n\n    .dataframe tbody tr th {\n        vertical-align: top;\n    }\n\n    .dataframe thead th {\n        text-align: right;\n    }\n</style>\n<table border=\"1\" class=\"dataframe\">\n  <thead>\n    <tr style=\"text-align: right;\">\n      <th></th>\n      <th>data</th>\n      <th>model</th>\n      <th>attack</th>\n      <th>adv_param</th>\n      <th>acc_no_def_mean</th>\n      <th>acc_no_def_std</th>\n      <th>acc_on_adv_1_mean</th>\n      <th>acc_on_adv_1_std</th>\n      <th>fpr_1_mean</th>\n      <th>fpr_1_std</th>\n      <th>acc_on_adv_2_mean</th>\n      <th>acc_on_adv_2_std</th>\n      <th>fpr_2_mean</th>\n      <th>fpr_2_std</th>\n      <th>acc_on_adv_3_mean</th>\n      <th>acc_on_adv_3_std</th>\n      <th>fpr_3_mean</th>\n      <th>fpr_3_std</th>\n    </tr>\n  </thead>\n  <tbody>\n    <tr>\n      <th>0</th>\n      <td>mnist</td>\n      <td>dnn</td>\n      <td>apgd</td>\n      <td>0.063</td>\n      <td>0.8618</td>\n      <td>0.004817</td>\n      <td>1.0</td>\n      <td>0.0</td>\n      <td>0.006</td>\n      <td>0.002345</td>\n      <td>1.0</td>\n      <td>0.0</td>\n      <td>0.0176</td>\n      <td>0.002881</td>\n      <td>1.0</td>\n      <td>0.0</td>\n      <td>0.0272</td>\n      <td>0.003271</td>\n    </tr>\n    <tr>\n      <th>1</th>\n      <td>mnist</td>\n      <td>dnn</td>\n      <td>apgd</td>\n      <td>0.100</td>\n      <td>0.5222</td>\n      <td>0.022477</td>\n      <td>1.0</td>\n      <td>0.0</td>\n      <td>0.006</td>\n      <td>0.002345</td>\n      <td>1.0</td>\n      <td>0.0</td>\n      <td>0.0176</td>\n      <td>0.002881</td>\n      <td>1.0</td>\n      <td>0.0</td>\n      <td>0.0272</td>\n      <td>0.003271</td>\n    </tr>\n    <tr>\n      <th>2</th>\n      <td>mnist</td>\n      <td>dnn</td>\n      <td>apgd</td>\n      <td>0.300</td>\n      <td>0.0000</td>\n      <td>0.000000</td>\n      <td>1.0</td>\n      <td>0.0</td>\n      <td>0.006</td>\n      <td>0.002345</td>\n      <td>1.0</td>\n      <td>0.0</td>\n      <td>0.0176</td>\n      <td>0.002881</td>\n      <td>1.0</td>\n      <td>0.0</td>\n      <td>0.0272</td>\n      <td>0.003271</td>\n    </tr>\n    <tr>\n      <th>3</th>\n      <td>mnist</td>\n      <td>dnn</td>\n      <td>apgd</td>\n      <td>0.600</td>\n      <td>0.0000</td>\n      <td>0.000000</td>\n      <td>1.0</td>\n      <td>0.0</td>\n      <td>0.006</td>\n      <td>0.002345</td>\n      <td>1.0</td>\n      <td>0.0</td>\n      <td>0.0176</td>\n      <td>0.002881</td>\n      <td>1.0</td>\n      <td>0.0</td>\n      <td>0.0272</td>\n      <td>0.003271</td>\n    </tr>\n    <tr>\n      <th>4</th>\n      <td>mnist</td>\n      <td>dnn</td>\n      <td>apgd</td>\n      <td>1.000</td>\n      <td>0.0000</td>\n      <td>0.000000</td>\n      <td>1.0</td>\n      <td>0.0</td>\n      <td>0.006</td>\n      <td>0.002345</td>\n      <td>1.0</td>\n      <td>0.0</td>\n      <td>0.0176</td>\n      <td>0.002881</td>\n      <td>1.0</td>\n      <td>0.0</td>\n      <td>0.0272</td>\n      <td>0.003271</td>\n    </tr>\n  </tbody>\n</table>\n</div>"
     },
     "metadata": {},
     "execution_count": 7
    }
   ],
   "source": [
    "attacks = ['fgsm', 'apgd', 'apgd2', 'cw2', 'deepfool', 'line']\n",
    "\n",
    "mnist_baard = read_baard_results('mnist', 'dnn', attacks)\n",
    "mnist_baard.head()"
   ]
  },
  {
   "cell_type": "code",
   "execution_count": 8,
   "id": "grateful-bidder",
   "metadata": {},
   "outputs": [
    {
     "output_type": "execute_result",
     "data": {
      "text/plain": [
       "    data model attack  adv_param defence  acc_no_def_mean  acc_no_def_std  \\\n",
       "0  mnist   dnn   apgd      0.063   baard           0.8618        0.004817   \n",
       "1  mnist   dnn   apgd      0.100   baard           0.5222        0.022477   \n",
       "2  mnist   dnn   apgd      0.300   baard           0.0000        0.000000   \n",
       "3  mnist   dnn   apgd      0.600   baard           0.0000        0.000000   \n",
       "4  mnist   dnn   apgd      1.000   baard           0.0000        0.000000   \n",
       "\n",
       "   acc_on_adv_mean  acc_on_adv_std  fpr_mean   fpr_std  \n",
       "0              1.0             0.0    0.0272  0.003271  \n",
       "1              1.0             0.0    0.0272  0.003271  \n",
       "2              1.0             0.0    0.0272  0.003271  \n",
       "3              1.0             0.0    0.0272  0.003271  \n",
       "4              1.0             0.0    0.0272  0.003271  "
      ],
      "text/html": "<div>\n<style scoped>\n    .dataframe tbody tr th:only-of-type {\n        vertical-align: middle;\n    }\n\n    .dataframe tbody tr th {\n        vertical-align: top;\n    }\n\n    .dataframe thead th {\n        text-align: right;\n    }\n</style>\n<table border=\"1\" class=\"dataframe\">\n  <thead>\n    <tr style=\"text-align: right;\">\n      <th></th>\n      <th>data</th>\n      <th>model</th>\n      <th>attack</th>\n      <th>adv_param</th>\n      <th>defence</th>\n      <th>acc_no_def_mean</th>\n      <th>acc_no_def_std</th>\n      <th>acc_on_adv_mean</th>\n      <th>acc_on_adv_std</th>\n      <th>fpr_mean</th>\n      <th>fpr_std</th>\n    </tr>\n  </thead>\n  <tbody>\n    <tr>\n      <th>0</th>\n      <td>mnist</td>\n      <td>dnn</td>\n      <td>apgd</td>\n      <td>0.063</td>\n      <td>baard</td>\n      <td>0.8618</td>\n      <td>0.004817</td>\n      <td>1.0</td>\n      <td>0.0</td>\n      <td>0.0272</td>\n      <td>0.003271</td>\n    </tr>\n    <tr>\n      <th>1</th>\n      <td>mnist</td>\n      <td>dnn</td>\n      <td>apgd</td>\n      <td>0.100</td>\n      <td>baard</td>\n      <td>0.5222</td>\n      <td>0.022477</td>\n      <td>1.0</td>\n      <td>0.0</td>\n      <td>0.0272</td>\n      <td>0.003271</td>\n    </tr>\n    <tr>\n      <th>2</th>\n      <td>mnist</td>\n      <td>dnn</td>\n      <td>apgd</td>\n      <td>0.300</td>\n      <td>baard</td>\n      <td>0.0000</td>\n      <td>0.000000</td>\n      <td>1.0</td>\n      <td>0.0</td>\n      <td>0.0272</td>\n      <td>0.003271</td>\n    </tr>\n    <tr>\n      <th>3</th>\n      <td>mnist</td>\n      <td>dnn</td>\n      <td>apgd</td>\n      <td>0.600</td>\n      <td>baard</td>\n      <td>0.0000</td>\n      <td>0.000000</td>\n      <td>1.0</td>\n      <td>0.0</td>\n      <td>0.0272</td>\n      <td>0.003271</td>\n    </tr>\n    <tr>\n      <th>4</th>\n      <td>mnist</td>\n      <td>dnn</td>\n      <td>apgd</td>\n      <td>1.000</td>\n      <td>baard</td>\n      <td>0.0000</td>\n      <td>0.000000</td>\n      <td>1.0</td>\n      <td>0.0</td>\n      <td>0.0272</td>\n      <td>0.003271</td>\n    </tr>\n  </tbody>\n</table>\n</div>"
     },
     "metadata": {},
     "execution_count": 8
    }
   ],
   "source": [
    "mnist_baard_reduce = reduce_baard(mnist_baard)\n",
    "mnist_baard_reduce.head()"
   ]
  },
  {
   "cell_type": "code",
   "execution_count": 9,
   "id": "promising-notebook",
   "metadata": {},
   "outputs": [
    {
     "output_type": "execute_result",
     "data": {
      "text/plain": [
       "    data model attack  adv_param defence  acc_no_def_mean  acc_no_def_std  \\\n",
       "0  mnist   dnn   apgd      0.063      fs           0.8618        0.004817   \n",
       "1  mnist   dnn   apgd      0.063     lid           0.8618        0.004817   \n",
       "2  mnist   dnn   apgd      0.063  magnet           0.8618        0.004817   \n",
       "3  mnist   dnn   apgd      0.063      rc           0.8618        0.004817   \n",
       "4  mnist   dnn   apgd      0.100      fs           0.5222        0.022477   \n",
       "\n",
       "   acc_on_adv_mean  acc_on_adv_std  fpr_mean   fpr_std  \n",
       "0           0.9138        0.010986    0.0528  0.012558  \n",
       "1           0.8618        0.004817    0.0000  0.000000  \n",
       "2           1.0000        0.000000    0.0028  0.002168  \n",
       "3           0.8952        0.009985    0.0008  0.000837  \n",
       "4           0.9368        0.016619    0.0528  0.012558  "
      ],
      "text/html": "<div>\n<style scoped>\n    .dataframe tbody tr th:only-of-type {\n        vertical-align: middle;\n    }\n\n    .dataframe tbody tr th {\n        vertical-align: top;\n    }\n\n    .dataframe thead th {\n        text-align: right;\n    }\n</style>\n<table border=\"1\" class=\"dataframe\">\n  <thead>\n    <tr style=\"text-align: right;\">\n      <th></th>\n      <th>data</th>\n      <th>model</th>\n      <th>attack</th>\n      <th>adv_param</th>\n      <th>defence</th>\n      <th>acc_no_def_mean</th>\n      <th>acc_no_def_std</th>\n      <th>acc_on_adv_mean</th>\n      <th>acc_on_adv_std</th>\n      <th>fpr_mean</th>\n      <th>fpr_std</th>\n    </tr>\n  </thead>\n  <tbody>\n    <tr>\n      <th>0</th>\n      <td>mnist</td>\n      <td>dnn</td>\n      <td>apgd</td>\n      <td>0.063</td>\n      <td>fs</td>\n      <td>0.8618</td>\n      <td>0.004817</td>\n      <td>0.9138</td>\n      <td>0.010986</td>\n      <td>0.0528</td>\n      <td>0.012558</td>\n    </tr>\n    <tr>\n      <th>1</th>\n      <td>mnist</td>\n      <td>dnn</td>\n      <td>apgd</td>\n      <td>0.063</td>\n      <td>lid</td>\n      <td>0.8618</td>\n      <td>0.004817</td>\n      <td>0.8618</td>\n      <td>0.004817</td>\n      <td>0.0000</td>\n      <td>0.000000</td>\n    </tr>\n    <tr>\n      <th>2</th>\n      <td>mnist</td>\n      <td>dnn</td>\n      <td>apgd</td>\n      <td>0.063</td>\n      <td>magnet</td>\n      <td>0.8618</td>\n      <td>0.004817</td>\n      <td>1.0000</td>\n      <td>0.000000</td>\n      <td>0.0028</td>\n      <td>0.002168</td>\n    </tr>\n    <tr>\n      <th>3</th>\n      <td>mnist</td>\n      <td>dnn</td>\n      <td>apgd</td>\n      <td>0.063</td>\n      <td>rc</td>\n      <td>0.8618</td>\n      <td>0.004817</td>\n      <td>0.8952</td>\n      <td>0.009985</td>\n      <td>0.0008</td>\n      <td>0.000837</td>\n    </tr>\n    <tr>\n      <th>4</th>\n      <td>mnist</td>\n      <td>dnn</td>\n      <td>apgd</td>\n      <td>0.100</td>\n      <td>fs</td>\n      <td>0.5222</td>\n      <td>0.022477</td>\n      <td>0.9368</td>\n      <td>0.016619</td>\n      <td>0.0528</td>\n      <td>0.012558</td>\n    </tr>\n  </tbody>\n</table>\n</div>"
     },
     "metadata": {},
     "execution_count": 9
    }
   ],
   "source": [
    "attacks = ['fgsm', 'apgd', 'apgd2', 'cw2', 'deepfool', 'line']\n",
    "defences = ['fs', 'lid', 'magnet', 'rc']\n",
    "\n",
    "mnist = merge_results('mnist', 'dnn', attacks, defences)\n",
    "mnist.head()"
   ]
  },
  {
   "cell_type": "code",
   "execution_count": 10,
   "id": "hairy-award",
   "metadata": {},
   "outputs": [
    {
     "output_type": "execute_result",
     "data": {
      "text/plain": [
       "     data model attack  adv_param defence  acc_no_def_mean  acc_no_def_std  \\\n",
       "0   mnist   dnn   apgd      0.063   baard           0.8618        0.004817   \n",
       "25  mnist   dnn   apgd      0.063      fs           0.8618        0.004817   \n",
       "26  mnist   dnn   apgd      0.063     lid           0.8618        0.004817   \n",
       "27  mnist   dnn   apgd      0.063  magnet           0.8618        0.004817   \n",
       "28  mnist   dnn   apgd      0.063      rc           0.8618        0.004817   \n",
       "\n",
       "    acc_on_adv_mean  acc_on_adv_std  fpr_mean   fpr_std  \n",
       "0            1.0000        0.000000    0.0272  0.003271  \n",
       "25           0.9138        0.010986    0.0528  0.012558  \n",
       "26           0.8618        0.004817    0.0000  0.000000  \n",
       "27           1.0000        0.000000    0.0028  0.002168  \n",
       "28           0.8952        0.009985    0.0008  0.000837  "
      ],
      "text/html": "<div>\n<style scoped>\n    .dataframe tbody tr th:only-of-type {\n        vertical-align: middle;\n    }\n\n    .dataframe tbody tr th {\n        vertical-align: top;\n    }\n\n    .dataframe thead th {\n        text-align: right;\n    }\n</style>\n<table border=\"1\" class=\"dataframe\">\n  <thead>\n    <tr style=\"text-align: right;\">\n      <th></th>\n      <th>data</th>\n      <th>model</th>\n      <th>attack</th>\n      <th>adv_param</th>\n      <th>defence</th>\n      <th>acc_no_def_mean</th>\n      <th>acc_no_def_std</th>\n      <th>acc_on_adv_mean</th>\n      <th>acc_on_adv_std</th>\n      <th>fpr_mean</th>\n      <th>fpr_std</th>\n    </tr>\n  </thead>\n  <tbody>\n    <tr>\n      <th>0</th>\n      <td>mnist</td>\n      <td>dnn</td>\n      <td>apgd</td>\n      <td>0.063</td>\n      <td>baard</td>\n      <td>0.8618</td>\n      <td>0.004817</td>\n      <td>1.0000</td>\n      <td>0.000000</td>\n      <td>0.0272</td>\n      <td>0.003271</td>\n    </tr>\n    <tr>\n      <th>25</th>\n      <td>mnist</td>\n      <td>dnn</td>\n      <td>apgd</td>\n      <td>0.063</td>\n      <td>fs</td>\n      <td>0.8618</td>\n      <td>0.004817</td>\n      <td>0.9138</td>\n      <td>0.010986</td>\n      <td>0.0528</td>\n      <td>0.012558</td>\n    </tr>\n    <tr>\n      <th>26</th>\n      <td>mnist</td>\n      <td>dnn</td>\n      <td>apgd</td>\n      <td>0.063</td>\n      <td>lid</td>\n      <td>0.8618</td>\n      <td>0.004817</td>\n      <td>0.8618</td>\n      <td>0.004817</td>\n      <td>0.0000</td>\n      <td>0.000000</td>\n    </tr>\n    <tr>\n      <th>27</th>\n      <td>mnist</td>\n      <td>dnn</td>\n      <td>apgd</td>\n      <td>0.063</td>\n      <td>magnet</td>\n      <td>0.8618</td>\n      <td>0.004817</td>\n      <td>1.0000</td>\n      <td>0.000000</td>\n      <td>0.0028</td>\n      <td>0.002168</td>\n    </tr>\n    <tr>\n      <th>28</th>\n      <td>mnist</td>\n      <td>dnn</td>\n      <td>apgd</td>\n      <td>0.063</td>\n      <td>rc</td>\n      <td>0.8618</td>\n      <td>0.004817</td>\n      <td>0.8952</td>\n      <td>0.009985</td>\n      <td>0.0008</td>\n      <td>0.000837</td>\n    </tr>\n  </tbody>\n</table>\n</div>"
     },
     "metadata": {},
     "execution_count": 10
    }
   ],
   "source": [
    "mnist = pd.concat([mnist_baard_reduce, mnist], axis=0, ignore_index=True)\n",
    "# mnist = mnist.sort_values(by=['data', 'model', 'attack', 'adv_param', 'acc_on_adv_mean', 'fpr_mean'], \n",
    "#                ascending=[True, True, True, True, False, True])\n",
    "mnist = mnist.sort_values(by=['data', 'model', 'attack', 'adv_param'], \n",
    "               ascending=[True, True, True, True])\n",
    "mnist.head()"
   ]
  },
  {
   "cell_type": "code",
   "execution_count": 11,
   "id": "legal-theme",
   "metadata": {},
   "outputs": [],
   "source": [
    "mnist_baard.to_csv('mnist_dnn_baard.csv', index=False)\n",
    "mnist.to_csv('mnist_dnn.csv', index=False)"
   ]
  },
  {
   "cell_type": "markdown",
   "id": "tracked-senegal",
   "metadata": {},
   "source": [
    "## CIFAR10 ResNet"
   ]
  },
  {
   "cell_type": "code",
   "execution_count": 12,
   "id": "arranged-apple",
   "metadata": {},
   "outputs": [
    {
     "output_type": "execute_result",
     "data": {
      "text/plain": [
       "      data   model attack  adv_param  acc_no_def_mean  acc_no_def_std  \\\n",
       "0  cifar10  resnet   apgd      0.031           0.0004        0.000548   \n",
       "1  cifar10  resnet   apgd      0.100           0.0000        0.000000   \n",
       "2  cifar10  resnet   apgd      0.300           0.0000        0.000000   \n",
       "3  cifar10  resnet   apgd      0.600           0.0000        0.000000   \n",
       "4  cifar10  resnet   apgd      1.000           0.0000        0.000000   \n",
       "\n",
       "   acc_on_adv_1_mean  acc_on_adv_1_std  fpr_1_mean  fpr_1_std  \\\n",
       "0             0.0322          0.008379      0.0232   0.004382   \n",
       "1             0.0410          0.021459      0.0232   0.004382   \n",
       "2             0.1614          0.099483      0.0232   0.004382   \n",
       "3             0.7612          0.173413      0.0232   0.004382   \n",
       "4             0.8986          0.121587      0.0232   0.004382   \n",
       "\n",
       "   acc_on_adv_2_mean  acc_on_adv_2_std  fpr_2_mean  fpr_2_std  \\\n",
       "0             0.0704          0.014943       0.043   0.011467   \n",
       "1             0.0780          0.026077       0.043   0.011467   \n",
       "2             0.7842          0.058845       0.043   0.011467   \n",
       "3             0.9994          0.000894       0.043   0.011467   \n",
       "4             1.0000          0.000000       0.043   0.011467   \n",
       "\n",
       "   acc_on_adv_3_mean  acc_on_adv_3_std  fpr_3_mean  fpr_3_std  \n",
       "0             0.1554          0.032929      0.0588   0.014342  \n",
       "1             0.1530          0.046109      0.0588   0.014342  \n",
       "2             0.7950          0.060452      0.0588   0.014342  \n",
       "3             0.9994          0.000894      0.0588   0.014342  \n",
       "4             1.0000          0.000000      0.0588   0.014342  "
      ],
      "text/html": "<div>\n<style scoped>\n    .dataframe tbody tr th:only-of-type {\n        vertical-align: middle;\n    }\n\n    .dataframe tbody tr th {\n        vertical-align: top;\n    }\n\n    .dataframe thead th {\n        text-align: right;\n    }\n</style>\n<table border=\"1\" class=\"dataframe\">\n  <thead>\n    <tr style=\"text-align: right;\">\n      <th></th>\n      <th>data</th>\n      <th>model</th>\n      <th>attack</th>\n      <th>adv_param</th>\n      <th>acc_no_def_mean</th>\n      <th>acc_no_def_std</th>\n      <th>acc_on_adv_1_mean</th>\n      <th>acc_on_adv_1_std</th>\n      <th>fpr_1_mean</th>\n      <th>fpr_1_std</th>\n      <th>acc_on_adv_2_mean</th>\n      <th>acc_on_adv_2_std</th>\n      <th>fpr_2_mean</th>\n      <th>fpr_2_std</th>\n      <th>acc_on_adv_3_mean</th>\n      <th>acc_on_adv_3_std</th>\n      <th>fpr_3_mean</th>\n      <th>fpr_3_std</th>\n    </tr>\n  </thead>\n  <tbody>\n    <tr>\n      <th>0</th>\n      <td>cifar10</td>\n      <td>resnet</td>\n      <td>apgd</td>\n      <td>0.031</td>\n      <td>0.0004</td>\n      <td>0.000548</td>\n      <td>0.0322</td>\n      <td>0.008379</td>\n      <td>0.0232</td>\n      <td>0.004382</td>\n      <td>0.0704</td>\n      <td>0.014943</td>\n      <td>0.043</td>\n      <td>0.011467</td>\n      <td>0.1554</td>\n      <td>0.032929</td>\n      <td>0.0588</td>\n      <td>0.014342</td>\n    </tr>\n    <tr>\n      <th>1</th>\n      <td>cifar10</td>\n      <td>resnet</td>\n      <td>apgd</td>\n      <td>0.100</td>\n      <td>0.0000</td>\n      <td>0.000000</td>\n      <td>0.0410</td>\n      <td>0.021459</td>\n      <td>0.0232</td>\n      <td>0.004382</td>\n      <td>0.0780</td>\n      <td>0.026077</td>\n      <td>0.043</td>\n      <td>0.011467</td>\n      <td>0.1530</td>\n      <td>0.046109</td>\n      <td>0.0588</td>\n      <td>0.014342</td>\n    </tr>\n    <tr>\n      <th>2</th>\n      <td>cifar10</td>\n      <td>resnet</td>\n      <td>apgd</td>\n      <td>0.300</td>\n      <td>0.0000</td>\n      <td>0.000000</td>\n      <td>0.1614</td>\n      <td>0.099483</td>\n      <td>0.0232</td>\n      <td>0.004382</td>\n      <td>0.7842</td>\n      <td>0.058845</td>\n      <td>0.043</td>\n      <td>0.011467</td>\n      <td>0.7950</td>\n      <td>0.060452</td>\n      <td>0.0588</td>\n      <td>0.014342</td>\n    </tr>\n    <tr>\n      <th>3</th>\n      <td>cifar10</td>\n      <td>resnet</td>\n      <td>apgd</td>\n      <td>0.600</td>\n      <td>0.0000</td>\n      <td>0.000000</td>\n      <td>0.7612</td>\n      <td>0.173413</td>\n      <td>0.0232</td>\n      <td>0.004382</td>\n      <td>0.9994</td>\n      <td>0.000894</td>\n      <td>0.043</td>\n      <td>0.011467</td>\n      <td>0.9994</td>\n      <td>0.000894</td>\n      <td>0.0588</td>\n      <td>0.014342</td>\n    </tr>\n    <tr>\n      <th>4</th>\n      <td>cifar10</td>\n      <td>resnet</td>\n      <td>apgd</td>\n      <td>1.000</td>\n      <td>0.0000</td>\n      <td>0.000000</td>\n      <td>0.8986</td>\n      <td>0.121587</td>\n      <td>0.0232</td>\n      <td>0.004382</td>\n      <td>1.0000</td>\n      <td>0.000000</td>\n      <td>0.043</td>\n      <td>0.011467</td>\n      <td>1.0000</td>\n      <td>0.000000</td>\n      <td>0.0588</td>\n      <td>0.014342</td>\n    </tr>\n  </tbody>\n</table>\n</div>"
     },
     "metadata": {},
     "execution_count": 12
    }
   ],
   "source": [
    "attacks = ['fgsm', 'apgd', 'apgd2', 'cw2', 'deepfool', 'line']\n",
    "cifar10_resnet_baard = read_baard_results('cifar10', 'resnet', attacks)\n",
    "cifar10_resnet_baard.head()"
   ]
  },
  {
   "cell_type": "code",
   "execution_count": 13,
   "id": "incredible-amateur",
   "metadata": {},
   "outputs": [
    {
     "output_type": "execute_result",
     "data": {
      "text/plain": [
       "      data   model attack  adv_param defence  acc_no_def_mean  acc_no_def_std  \\\n",
       "0  cifar10  resnet   apgd      0.031   baard           0.0004        0.000548   \n",
       "1  cifar10  resnet   apgd      0.100   baard           0.0000        0.000000   \n",
       "2  cifar10  resnet   apgd      0.300   baard           0.0000        0.000000   \n",
       "3  cifar10  resnet   apgd      0.600   baard           0.0000        0.000000   \n",
       "4  cifar10  resnet   apgd      1.000   baard           0.0000        0.000000   \n",
       "\n",
       "   acc_on_adv_mean  acc_on_adv_std  fpr_mean   fpr_std  \n",
       "0           0.1554        0.032929    0.0588  0.014342  \n",
       "1           0.1530        0.046109    0.0588  0.014342  \n",
       "2           0.7950        0.060452    0.0588  0.014342  \n",
       "3           0.9994        0.000894    0.0588  0.014342  \n",
       "4           1.0000        0.000000    0.0588  0.014342  "
      ],
      "text/html": "<div>\n<style scoped>\n    .dataframe tbody tr th:only-of-type {\n        vertical-align: middle;\n    }\n\n    .dataframe tbody tr th {\n        vertical-align: top;\n    }\n\n    .dataframe thead th {\n        text-align: right;\n    }\n</style>\n<table border=\"1\" class=\"dataframe\">\n  <thead>\n    <tr style=\"text-align: right;\">\n      <th></th>\n      <th>data</th>\n      <th>model</th>\n      <th>attack</th>\n      <th>adv_param</th>\n      <th>defence</th>\n      <th>acc_no_def_mean</th>\n      <th>acc_no_def_std</th>\n      <th>acc_on_adv_mean</th>\n      <th>acc_on_adv_std</th>\n      <th>fpr_mean</th>\n      <th>fpr_std</th>\n    </tr>\n  </thead>\n  <tbody>\n    <tr>\n      <th>0</th>\n      <td>cifar10</td>\n      <td>resnet</td>\n      <td>apgd</td>\n      <td>0.031</td>\n      <td>baard</td>\n      <td>0.0004</td>\n      <td>0.000548</td>\n      <td>0.1554</td>\n      <td>0.032929</td>\n      <td>0.0588</td>\n      <td>0.014342</td>\n    </tr>\n    <tr>\n      <th>1</th>\n      <td>cifar10</td>\n      <td>resnet</td>\n      <td>apgd</td>\n      <td>0.100</td>\n      <td>baard</td>\n      <td>0.0000</td>\n      <td>0.000000</td>\n      <td>0.1530</td>\n      <td>0.046109</td>\n      <td>0.0588</td>\n      <td>0.014342</td>\n    </tr>\n    <tr>\n      <th>2</th>\n      <td>cifar10</td>\n      <td>resnet</td>\n      <td>apgd</td>\n      <td>0.300</td>\n      <td>baard</td>\n      <td>0.0000</td>\n      <td>0.000000</td>\n      <td>0.7950</td>\n      <td>0.060452</td>\n      <td>0.0588</td>\n      <td>0.014342</td>\n    </tr>\n    <tr>\n      <th>3</th>\n      <td>cifar10</td>\n      <td>resnet</td>\n      <td>apgd</td>\n      <td>0.600</td>\n      <td>baard</td>\n      <td>0.0000</td>\n      <td>0.000000</td>\n      <td>0.9994</td>\n      <td>0.000894</td>\n      <td>0.0588</td>\n      <td>0.014342</td>\n    </tr>\n    <tr>\n      <th>4</th>\n      <td>cifar10</td>\n      <td>resnet</td>\n      <td>apgd</td>\n      <td>1.000</td>\n      <td>baard</td>\n      <td>0.0000</td>\n      <td>0.000000</td>\n      <td>1.0000</td>\n      <td>0.000000</td>\n      <td>0.0588</td>\n      <td>0.014342</td>\n    </tr>\n  </tbody>\n</table>\n</div>"
     },
     "metadata": {},
     "execution_count": 13
    }
   ],
   "source": [
    "cifar10_resnet_reduce = reduce_baard(cifar10_resnet_baard)\n",
    "cifar10_resnet_reduce.head()"
   ]
  },
  {
   "cell_type": "code",
   "execution_count": 14,
   "id": "motivated-demand",
   "metadata": {},
   "outputs": [
    {
     "output_type": "execute_result",
     "data": {
      "text/plain": [
       "      data   model attack  adv_param defence  acc_no_def_mean  acc_no_def_std  \\\n",
       "0  cifar10  resnet   apgd      0.031      fs           0.0004        0.000548   \n",
       "1  cifar10  resnet   apgd      0.031     lid           0.0004        0.000548   \n",
       "2  cifar10  resnet   apgd      0.031  magnet           0.0004        0.000548   \n",
       "3  cifar10  resnet   apgd      0.031      rc           0.0004        0.000548   \n",
       "4  cifar10  resnet   apgd      0.100      fs           0.0000        0.000000   \n",
       "\n",
       "   acc_on_adv_mean  acc_on_adv_std  fpr_mean   fpr_std  \n",
       "0           0.8940        0.123221    0.0602  0.016962  \n",
       "1           0.0310        0.068202    0.0118  0.026386  \n",
       "2           0.2158        0.148549    0.0020  0.000000  \n",
       "3           0.0012        0.001304    0.0030  0.001225  \n",
       "4           0.9692        0.048365    0.0602  0.016962  "
      ],
      "text/html": "<div>\n<style scoped>\n    .dataframe tbody tr th:only-of-type {\n        vertical-align: middle;\n    }\n\n    .dataframe tbody tr th {\n        vertical-align: top;\n    }\n\n    .dataframe thead th {\n        text-align: right;\n    }\n</style>\n<table border=\"1\" class=\"dataframe\">\n  <thead>\n    <tr style=\"text-align: right;\">\n      <th></th>\n      <th>data</th>\n      <th>model</th>\n      <th>attack</th>\n      <th>adv_param</th>\n      <th>defence</th>\n      <th>acc_no_def_mean</th>\n      <th>acc_no_def_std</th>\n      <th>acc_on_adv_mean</th>\n      <th>acc_on_adv_std</th>\n      <th>fpr_mean</th>\n      <th>fpr_std</th>\n    </tr>\n  </thead>\n  <tbody>\n    <tr>\n      <th>0</th>\n      <td>cifar10</td>\n      <td>resnet</td>\n      <td>apgd</td>\n      <td>0.031</td>\n      <td>fs</td>\n      <td>0.0004</td>\n      <td>0.000548</td>\n      <td>0.8940</td>\n      <td>0.123221</td>\n      <td>0.0602</td>\n      <td>0.016962</td>\n    </tr>\n    <tr>\n      <th>1</th>\n      <td>cifar10</td>\n      <td>resnet</td>\n      <td>apgd</td>\n      <td>0.031</td>\n      <td>lid</td>\n      <td>0.0004</td>\n      <td>0.000548</td>\n      <td>0.0310</td>\n      <td>0.068202</td>\n      <td>0.0118</td>\n      <td>0.026386</td>\n    </tr>\n    <tr>\n      <th>2</th>\n      <td>cifar10</td>\n      <td>resnet</td>\n      <td>apgd</td>\n      <td>0.031</td>\n      <td>magnet</td>\n      <td>0.0004</td>\n      <td>0.000548</td>\n      <td>0.2158</td>\n      <td>0.148549</td>\n      <td>0.0020</td>\n      <td>0.000000</td>\n    </tr>\n    <tr>\n      <th>3</th>\n      <td>cifar10</td>\n      <td>resnet</td>\n      <td>apgd</td>\n      <td>0.031</td>\n      <td>rc</td>\n      <td>0.0004</td>\n      <td>0.000548</td>\n      <td>0.0012</td>\n      <td>0.001304</td>\n      <td>0.0030</td>\n      <td>0.001225</td>\n    </tr>\n    <tr>\n      <th>4</th>\n      <td>cifar10</td>\n      <td>resnet</td>\n      <td>apgd</td>\n      <td>0.100</td>\n      <td>fs</td>\n      <td>0.0000</td>\n      <td>0.000000</td>\n      <td>0.9692</td>\n      <td>0.048365</td>\n      <td>0.0602</td>\n      <td>0.016962</td>\n    </tr>\n  </tbody>\n</table>\n</div>"
     },
     "metadata": {},
     "execution_count": 14
    }
   ],
   "source": [
    "attacks = ['fgsm', 'apgd', 'apgd2', 'cw2', 'deepfool', 'line']\n",
    "defences = ['fs', 'lid', 'magnet', 'rc']\n",
    "\n",
    "cifar10_resnet = merge_results('cifar10', 'resnet', attacks, defences)\n",
    "cifar10_resnet.head()"
   ]
  },
  {
   "cell_type": "code",
   "execution_count": 15,
   "id": "twelve-malawi",
   "metadata": {},
   "outputs": [
    {
     "output_type": "execute_result",
     "data": {
      "text/plain": [
       "       data   model attack  adv_param defence  acc_no_def_mean  \\\n",
       "0   cifar10  resnet   apgd      0.031   baard           0.0004   \n",
       "25  cifar10  resnet   apgd      0.031      fs           0.0004   \n",
       "26  cifar10  resnet   apgd      0.031     lid           0.0004   \n",
       "27  cifar10  resnet   apgd      0.031  magnet           0.0004   \n",
       "28  cifar10  resnet   apgd      0.031      rc           0.0004   \n",
       "\n",
       "    acc_no_def_std  acc_on_adv_mean  acc_on_adv_std  fpr_mean   fpr_std  \n",
       "0         0.000548           0.1554        0.032929    0.0588  0.014342  \n",
       "25        0.000548           0.8940        0.123221    0.0602  0.016962  \n",
       "26        0.000548           0.0310        0.068202    0.0118  0.026386  \n",
       "27        0.000548           0.2158        0.148549    0.0020  0.000000  \n",
       "28        0.000548           0.0012        0.001304    0.0030  0.001225  "
      ],
      "text/html": "<div>\n<style scoped>\n    .dataframe tbody tr th:only-of-type {\n        vertical-align: middle;\n    }\n\n    .dataframe tbody tr th {\n        vertical-align: top;\n    }\n\n    .dataframe thead th {\n        text-align: right;\n    }\n</style>\n<table border=\"1\" class=\"dataframe\">\n  <thead>\n    <tr style=\"text-align: right;\">\n      <th></th>\n      <th>data</th>\n      <th>model</th>\n      <th>attack</th>\n      <th>adv_param</th>\n      <th>defence</th>\n      <th>acc_no_def_mean</th>\n      <th>acc_no_def_std</th>\n      <th>acc_on_adv_mean</th>\n      <th>acc_on_adv_std</th>\n      <th>fpr_mean</th>\n      <th>fpr_std</th>\n    </tr>\n  </thead>\n  <tbody>\n    <tr>\n      <th>0</th>\n      <td>cifar10</td>\n      <td>resnet</td>\n      <td>apgd</td>\n      <td>0.031</td>\n      <td>baard</td>\n      <td>0.0004</td>\n      <td>0.000548</td>\n      <td>0.1554</td>\n      <td>0.032929</td>\n      <td>0.0588</td>\n      <td>0.014342</td>\n    </tr>\n    <tr>\n      <th>25</th>\n      <td>cifar10</td>\n      <td>resnet</td>\n      <td>apgd</td>\n      <td>0.031</td>\n      <td>fs</td>\n      <td>0.0004</td>\n      <td>0.000548</td>\n      <td>0.8940</td>\n      <td>0.123221</td>\n      <td>0.0602</td>\n      <td>0.016962</td>\n    </tr>\n    <tr>\n      <th>26</th>\n      <td>cifar10</td>\n      <td>resnet</td>\n      <td>apgd</td>\n      <td>0.031</td>\n      <td>lid</td>\n      <td>0.0004</td>\n      <td>0.000548</td>\n      <td>0.0310</td>\n      <td>0.068202</td>\n      <td>0.0118</td>\n      <td>0.026386</td>\n    </tr>\n    <tr>\n      <th>27</th>\n      <td>cifar10</td>\n      <td>resnet</td>\n      <td>apgd</td>\n      <td>0.031</td>\n      <td>magnet</td>\n      <td>0.0004</td>\n      <td>0.000548</td>\n      <td>0.2158</td>\n      <td>0.148549</td>\n      <td>0.0020</td>\n      <td>0.000000</td>\n    </tr>\n    <tr>\n      <th>28</th>\n      <td>cifar10</td>\n      <td>resnet</td>\n      <td>apgd</td>\n      <td>0.031</td>\n      <td>rc</td>\n      <td>0.0004</td>\n      <td>0.000548</td>\n      <td>0.0012</td>\n      <td>0.001304</td>\n      <td>0.0030</td>\n      <td>0.001225</td>\n    </tr>\n  </tbody>\n</table>\n</div>"
     },
     "metadata": {},
     "execution_count": 15
    }
   ],
   "source": [
    "cifar10_resnet = pd.concat([cifar10_resnet_reduce, cifar10_resnet], axis=0, ignore_index=True)\n",
    "# cifar10_resnet = cifar10_resnet.sort_values(by=['data', 'model', 'attack', 'adv_param', 'acc_on_adv_mean', 'fpr_mean'], \n",
    "#                ascending=[True, True, True, True, False, True])\n",
    "cifar10_resnet = cifar10_resnet.sort_values(by=['data', 'model', 'attack', 'adv_param'], \n",
    "               ascending=[True, True, True, True])\n",
    "cifar10_resnet.head()"
   ]
  },
  {
   "cell_type": "code",
   "execution_count": 16,
   "id": "equipped-excuse",
   "metadata": {},
   "outputs": [],
   "source": [
    "cifar10_resnet_baard.to_csv('cifar10_resnet_baard.csv', index=False)\n",
    "cifar10_resnet.to_csv('cifar10_resnet.csv', index=False)"
   ]
  },
  {
   "cell_type": "markdown",
   "id": "fatty-syndrome",
   "metadata": {},
   "source": [
    "## CIFAR10 VGG"
   ]
  },
  {
   "cell_type": "code",
   "execution_count": 17,
   "id": "offensive-bumper",
   "metadata": {},
   "outputs": [
    {
     "output_type": "execute_result",
     "data": {
      "text/plain": [
       "       data   model attack  adv_param defence  acc_no_def_mean  \\\n",
       "0   cifar10  resnet   apgd      0.031   baard           0.0004   \n",
       "25  cifar10  resnet   apgd      0.031      fs           0.0004   \n",
       "26  cifar10  resnet   apgd      0.031     lid           0.0004   \n",
       "27  cifar10  resnet   apgd      0.031  magnet           0.0004   \n",
       "28  cifar10  resnet   apgd      0.031      rc           0.0004   \n",
       "\n",
       "    acc_no_def_std  acc_on_adv_mean  acc_on_adv_std  fpr_mean   fpr_std  \n",
       "0         0.000548           0.1554        0.032929    0.0588  0.014342  \n",
       "25        0.000548           0.8940        0.123221    0.0602  0.016962  \n",
       "26        0.000548           0.0310        0.068202    0.0118  0.026386  \n",
       "27        0.000548           0.2158        0.148549    0.0020  0.000000  \n",
       "28        0.000548           0.0012        0.001304    0.0030  0.001225  "
      ],
      "text/html": "<div>\n<style scoped>\n    .dataframe tbody tr th:only-of-type {\n        vertical-align: middle;\n    }\n\n    .dataframe tbody tr th {\n        vertical-align: top;\n    }\n\n    .dataframe thead th {\n        text-align: right;\n    }\n</style>\n<table border=\"1\" class=\"dataframe\">\n  <thead>\n    <tr style=\"text-align: right;\">\n      <th></th>\n      <th>data</th>\n      <th>model</th>\n      <th>attack</th>\n      <th>adv_param</th>\n      <th>defence</th>\n      <th>acc_no_def_mean</th>\n      <th>acc_no_def_std</th>\n      <th>acc_on_adv_mean</th>\n      <th>acc_on_adv_std</th>\n      <th>fpr_mean</th>\n      <th>fpr_std</th>\n    </tr>\n  </thead>\n  <tbody>\n    <tr>\n      <th>0</th>\n      <td>cifar10</td>\n      <td>resnet</td>\n      <td>apgd</td>\n      <td>0.031</td>\n      <td>baard</td>\n      <td>0.0004</td>\n      <td>0.000548</td>\n      <td>0.1554</td>\n      <td>0.032929</td>\n      <td>0.0588</td>\n      <td>0.014342</td>\n    </tr>\n    <tr>\n      <th>25</th>\n      <td>cifar10</td>\n      <td>resnet</td>\n      <td>apgd</td>\n      <td>0.031</td>\n      <td>fs</td>\n      <td>0.0004</td>\n      <td>0.000548</td>\n      <td>0.8940</td>\n      <td>0.123221</td>\n      <td>0.0602</td>\n      <td>0.016962</td>\n    </tr>\n    <tr>\n      <th>26</th>\n      <td>cifar10</td>\n      <td>resnet</td>\n      <td>apgd</td>\n      <td>0.031</td>\n      <td>lid</td>\n      <td>0.0004</td>\n      <td>0.000548</td>\n      <td>0.0310</td>\n      <td>0.068202</td>\n      <td>0.0118</td>\n      <td>0.026386</td>\n    </tr>\n    <tr>\n      <th>27</th>\n      <td>cifar10</td>\n      <td>resnet</td>\n      <td>apgd</td>\n      <td>0.031</td>\n      <td>magnet</td>\n      <td>0.0004</td>\n      <td>0.000548</td>\n      <td>0.2158</td>\n      <td>0.148549</td>\n      <td>0.0020</td>\n      <td>0.000000</td>\n    </tr>\n    <tr>\n      <th>28</th>\n      <td>cifar10</td>\n      <td>resnet</td>\n      <td>apgd</td>\n      <td>0.031</td>\n      <td>rc</td>\n      <td>0.0004</td>\n      <td>0.000548</td>\n      <td>0.0012</td>\n      <td>0.001304</td>\n      <td>0.0030</td>\n      <td>0.001225</td>\n    </tr>\n  </tbody>\n</table>\n</div>"
     },
     "metadata": {},
     "execution_count": 17
    }
   ],
   "source": [
    "attacks = ['fgsm', 'apgd', 'apgd2', 'cw2', 'deepfool', 'line']\n",
    "cifar10_vgg_baard = read_baard_results('cifar10', 'vgg', attacks)\n",
    "cifar10_vgg_reduce = reduce_baard(cifar10_vgg_baard)\n",
    "\n",
    "defences = ['fs', 'lid', 'magnet', 'rc']\n",
    "cifar10_vgg = merge_results('cifar10', 'vgg', attacks, defences)\n",
    "\n",
    "cifar10_vgg = pd.concat([cifar10_vgg_reduce, cifar10_vgg], axis=0, ignore_index=True)\n",
    "# cifar10_vgg = cifar10_resnet.sort_values(by=['data', 'model', 'attack', 'adv_param', 'acc_on_adv_mean', 'fpr_mean'], \n",
    "#                ascending=[True, True, True, True, False, True])\n",
    "cifar10_vgg = cifar10_resnet.sort_values(by=['data', 'model', 'attack', 'adv_param'], \n",
    "               ascending=[True, True, True, True])\n",
    "cifar10_vgg.head()"
   ]
  },
  {
   "cell_type": "code",
   "execution_count": 18,
   "id": "accurate-airport",
   "metadata": {},
   "outputs": [],
   "source": [
    "cifar10_vgg_baard.to_csv('cifar10_vgg_baard.csv', index=False)\n",
    "cifar10_vgg.to_csv('cifar10_vgg.csv', index=False)"
   ]
  },
  {
   "cell_type": "markdown",
   "id": "processed-plane",
   "metadata": {},
   "source": [
    "## DNN on numeric datasets\n",
    "\n",
    "### Banknote"
   ]
  },
  {
   "cell_type": "code",
   "execution_count": 19,
   "metadata": {},
   "outputs": [],
   "source": [
    "attacks = ['fgsm', 'apgd', 'apgd2', 'cw2']\n",
    "defences = ['lid', 'magnet', 'rc']"
   ]
  },
  {
   "cell_type": "code",
   "execution_count": 20,
   "id": "sunrise-williams",
   "metadata": {},
   "outputs": [
    {
     "output_type": "execute_result",
     "data": {
      "text/plain": [
       "        data model attack  adv_param defence  acc_no_def_mean  acc_no_def_std  \\\n",
       "0   banknote   dnn   apgd       0.05   baard         0.732430        0.030555   \n",
       "23  banknote   dnn   apgd       0.05     lid         0.732430        0.030555   \n",
       "24  banknote   dnn   apgd       0.05  magnet         0.732430        0.030555   \n",
       "25  banknote   dnn   apgd       0.05      rc         0.732430        0.030555   \n",
       "1   banknote   dnn   apgd       0.10   baard         0.184929        0.025798   \n",
       "\n",
       "    acc_on_adv_mean  acc_on_adv_std  fpr_mean   fpr_std  \n",
       "0          0.923216        0.012671  0.009091  0.007457  \n",
       "23         0.834396        0.031978  0.047516  0.019185  \n",
       "24         0.658426        0.052355  0.003030  0.006776  \n",
       "25         0.735445        0.028710  0.005066  0.005076  \n",
       "1          0.660400        0.051242  0.009091  0.007457  "
      ],
      "text/html": "<div>\n<style scoped>\n    .dataframe tbody tr th:only-of-type {\n        vertical-align: middle;\n    }\n\n    .dataframe tbody tr th {\n        vertical-align: top;\n    }\n\n    .dataframe thead th {\n        text-align: right;\n    }\n</style>\n<table border=\"1\" class=\"dataframe\">\n  <thead>\n    <tr style=\"text-align: right;\">\n      <th></th>\n      <th>data</th>\n      <th>model</th>\n      <th>attack</th>\n      <th>adv_param</th>\n      <th>defence</th>\n      <th>acc_no_def_mean</th>\n      <th>acc_no_def_std</th>\n      <th>acc_on_adv_mean</th>\n      <th>acc_on_adv_std</th>\n      <th>fpr_mean</th>\n      <th>fpr_std</th>\n    </tr>\n  </thead>\n  <tbody>\n    <tr>\n      <th>0</th>\n      <td>banknote</td>\n      <td>dnn</td>\n      <td>apgd</td>\n      <td>0.05</td>\n      <td>baard</td>\n      <td>0.732430</td>\n      <td>0.030555</td>\n      <td>0.923216</td>\n      <td>0.012671</td>\n      <td>0.009091</td>\n      <td>0.007457</td>\n    </tr>\n    <tr>\n      <th>23</th>\n      <td>banknote</td>\n      <td>dnn</td>\n      <td>apgd</td>\n      <td>0.05</td>\n      <td>lid</td>\n      <td>0.732430</td>\n      <td>0.030555</td>\n      <td>0.834396</td>\n      <td>0.031978</td>\n      <td>0.047516</td>\n      <td>0.019185</td>\n    </tr>\n    <tr>\n      <th>24</th>\n      <td>banknote</td>\n      <td>dnn</td>\n      <td>apgd</td>\n      <td>0.05</td>\n      <td>magnet</td>\n      <td>0.732430</td>\n      <td>0.030555</td>\n      <td>0.658426</td>\n      <td>0.052355</td>\n      <td>0.003030</td>\n      <td>0.006776</td>\n    </tr>\n    <tr>\n      <th>25</th>\n      <td>banknote</td>\n      <td>dnn</td>\n      <td>apgd</td>\n      <td>0.05</td>\n      <td>rc</td>\n      <td>0.732430</td>\n      <td>0.030555</td>\n      <td>0.735445</td>\n      <td>0.028710</td>\n      <td>0.005066</td>\n      <td>0.005076</td>\n    </tr>\n    <tr>\n      <th>1</th>\n      <td>banknote</td>\n      <td>dnn</td>\n      <td>apgd</td>\n      <td>0.10</td>\n      <td>baard</td>\n      <td>0.184929</td>\n      <td>0.025798</td>\n      <td>0.660400</td>\n      <td>0.051242</td>\n      <td>0.009091</td>\n      <td>0.007457</td>\n    </tr>\n  </tbody>\n</table>\n</div>"
     },
     "metadata": {},
     "execution_count": 20
    }
   ],
   "source": [
    "banknote_dnn_baard = read_baard_results('banknote', 'dnn', attacks)\n",
    "banknote_dnn_reduce = reduce_baard(banknote_dnn_baard)\n",
    "\n",
    "banknote_dnn = merge_results('banknote', 'dnn', attacks, defences)\n",
    "banknote_dnn = pd.concat([banknote_dnn_reduce, banknote_dnn], axis=0, ignore_index=True)\n",
    "banknote_dnn = banknote_dnn.sort_values(by=['data', 'model', 'attack', 'adv_param'], ascending=True)\n",
    "banknote_dnn.head()"
   ]
  },
  {
   "cell_type": "code",
   "execution_count": 21,
   "id": "fundamental-ghana",
   "metadata": {},
   "outputs": [],
   "source": [
    "banknote_dnn_baard.to_csv('banknote_dnn_baard.csv', index=False)\n",
    "banknote_dnn.to_csv('banknote_dnn.csv', index=False)"
   ]
  },
  {
   "cell_type": "markdown",
   "id": "short-dialogue",
   "metadata": {},
   "source": [
    "### Breastcancer"
   ]
  },
  {
   "cell_type": "code",
   "execution_count": 22,
   "id": "criminal-malpractice",
   "metadata": {},
   "outputs": [],
   "source": [
    "breastcancer_dnn_baard = read_baard_results('breastcancer', 'dnn', attacks)\n",
    "breastcancer_dnn_reduce = reduce_baard(breastcancer_dnn_baard)\n",
    "\n",
    "breastcancer_dnn = merge_results('breastcancer', 'dnn', attacks, defences)\n",
    "breastcancer_dnn = pd.concat([breastcancer_dnn_reduce, breastcancer_dnn], axis=0, ignore_index=True)\n",
    "breastcancer_dnn = breastcancer_dnn.sort_values(by=['data', 'model', 'attack', 'adv_param'], ascending=True)\n",
    "\n",
    "breastcancer_dnn_baard.to_csv('breastcancer_dnn_baard.csv', index=False)\n",
    "breastcancer_dnn.to_csv('breastcancer_dnn.csv', index=False)"
   ]
  },
  {
   "cell_type": "markdown",
   "id": "confirmed-laser",
   "metadata": {},
   "source": [
    "### HTRU2"
   ]
  },
  {
   "cell_type": "code",
   "execution_count": 23,
   "id": "mounted-today",
   "metadata": {},
   "outputs": [],
   "source": [
    "htru2_dnn_baard = read_baard_results('htru2', 'dnn', attacks)\n",
    "htru2_dnn_reduce = reduce_baard(htru2_dnn_baard)\n",
    "\n",
    "htru2_dnn = merge_results('htru2', 'dnn', attacks, defences)\n",
    "htru2_dnn = pd.concat([htru2_dnn_reduce, htru2_dnn], axis=0, ignore_index=True)\n",
    "htru2_dnn = htru2_dnn.sort_values(by=['data', 'model', 'attack', 'adv_param'], ascending=True)\n",
    "\n",
    "htru2_dnn_baard.to_csv('htru2_dnn_baard.csv', index=False)\n",
    "htru2_dnn.to_csv('htru2_dnn.csv', index=False)"
   ]
  },
  {
   "cell_type": "markdown",
   "id": "proud-flour",
   "metadata": {},
   "source": [
    "## SVM\n",
    "\n",
    "### Banknote"
   ]
  },
  {
   "cell_type": "code",
   "execution_count": 24,
   "metadata": {},
   "outputs": [],
   "source": [
    "attacks = ['fgsm', 'bim', 'boundary']\n",
    "defences = ['magnet', 'rc']"
   ]
  },
  {
   "cell_type": "code",
   "execution_count": 25,
   "id": "moderate-raise",
   "metadata": {},
   "outputs": [],
   "source": [
    "banknote_svm_baard = read_baard_results('banknote', 'svm', attacks)\n",
    "banknote_svm_reduce = reduce_baard(banknote_svm_baard)\n",
    "\n",
    "banknote_svm = merge_results('banknote', 'svm', attacks, defences)\n",
    "banknote_svm = pd.concat([banknote_svm_reduce, banknote_svm], axis=0, ignore_index=True)\n",
    "banknote_svm = banknote_svm.sort_values(by=['data', 'model', 'attack', 'adv_param'], ascending=True)\n",
    "\n",
    "banknote_svm_baard.to_csv('banknote_svm_baard.csv', index=False)\n",
    "banknote_svm.to_csv('banknote_svm.csv', index=False)"
   ]
  },
  {
   "cell_type": "markdown",
   "id": "dangerous-kidney",
   "metadata": {},
   "source": [
    "### Breastcancer"
   ]
  },
  {
   "cell_type": "code",
   "execution_count": 26,
   "id": "hairy-luther",
   "metadata": {},
   "outputs": [],
   "source": [
    "breastcancer_svm_baard = read_baard_results('breastcancer', 'svm', attacks)\n",
    "breastcancer_svm_reduce = reduce_baard(breastcancer_svm_baard)\n",
    "\n",
    "breastcancer_svm = merge_results('breastcancer', 'svm', attacks, defences)\n",
    "breastcancer_svm = pd.concat([breastcancer_svm_reduce, breastcancer_svm], axis=0, ignore_index=True)\n",
    "breastcancer_svm = breastcancer_svm.sort_values(by=['data', 'model', 'attack', 'adv_param'], ascending=True)\n",
    "\n",
    "breastcancer_svm_baard.to_csv('breastcancer_svm_baard.csv', index=False)\n",
    "breastcancer_svm.to_csv('breastcancer_svm.csv', index=False)"
   ]
  },
  {
   "source": [
    "### HTRU2"
   ],
   "cell_type": "markdown",
   "metadata": {}
  },
  {
   "cell_type": "code",
   "execution_count": 27,
   "metadata": {},
   "outputs": [],
   "source": [
    "htru2_svm_baard = read_baard_results('htru2', 'svm', attacks)\n",
    "htru2_svm_reduce = reduce_baard(htru2_svm_baard)\n",
    "\n",
    "htru2_svm = merge_results('htru2', 'svm', attacks, defences)\n",
    "htru2_svm = pd.concat([htru2_svm_reduce, htru2_svm], axis=0, ignore_index=True)\n",
    "htru2_svm = htru2_svm.sort_values(by=['data', 'model', 'attack', 'adv_param'], ascending=True)\n",
    "\n",
    "htru2_svm_baard.to_csv('htru2_svm_baard.csv', index=False)\n",
    "htru2_svm.to_csv('htru2_svm.csv', index=False)"
   ]
  },
  {
   "source": [
    "## Tree\n",
    "\n",
    "### Banknote"
   ],
   "cell_type": "markdown",
   "metadata": {}
  },
  {
   "cell_type": "code",
   "execution_count": 28,
   "metadata": {},
   "outputs": [],
   "source": [
    "attacks = ['tree', 'boundary']\n",
    "defences = ['magnet', 'rc']"
   ]
  },
  {
   "cell_type": "code",
   "execution_count": 29,
   "metadata": {},
   "outputs": [],
   "source": [
    "banknote_tree_baard = read_baard_results('banknote', 'tree', attacks)\n",
    "banknote_tree_reduce = reduce_baard(banknote_tree_baard)\n",
    "\n",
    "banknote_tree = merge_results('banknote', 'tree', attacks, defences)\n",
    "banknote_tree = pd.concat([banknote_tree_reduce, banknote_tree], axis=0, ignore_index=True)\n",
    "banknote_tree = banknote_tree.sort_values(by=['data', 'model', 'attack', 'adv_param'], ascending=True)\n",
    "\n",
    "banknote_tree_baard.to_csv('banknote_tree_baard.csv', index=False)\n",
    "banknote_tree.to_csv('banknote_tree.csv', index=False)"
   ]
  },
  {
   "source": [
    "### Breastcancer"
   ],
   "cell_type": "markdown",
   "metadata": {}
  },
  {
   "cell_type": "code",
   "execution_count": 30,
   "metadata": {},
   "outputs": [],
   "source": [
    "breastcancer_tree_baard = read_baard_results('breastcancer', 'tree', attacks)\n",
    "breastcancer_tree_reduce = reduce_baard(breastcancer_tree_baard)\n",
    "\n",
    "breastcancer_tree = merge_results('breastcancer', 'tree', attacks, defences)\n",
    "breastcancer_tree = pd.concat([breastcancer_tree_reduce, breastcancer_tree], axis=0, ignore_index=True)\n",
    "breastcancer_tree = breastcancer_tree.sort_values(by=['data', 'model', 'attack', 'adv_param'], ascending=True)\n",
    "\n",
    "breastcancer_tree_baard.to_csv('breastcancer_tree_baard.csv', index=False)\n",
    "breastcancer_tree.to_csv('breastcancer_tree.csv', index=False)"
   ]
  },
  {
   "source": [
    "### HTRU2"
   ],
   "cell_type": "markdown",
   "metadata": {}
  },
  {
   "cell_type": "code",
   "execution_count": 31,
   "metadata": {},
   "outputs": [],
   "source": [
    "htru2_tree_baard = read_baard_results('htru2', 'tree', attacks)\n",
    "htru2_tree_reduce = reduce_baard(htru2_tree_baard)\n",
    "\n",
    "htru2_tree = merge_results('htru2', 'tree', attacks, defences)\n",
    "htru2_tree = pd.concat([htru2_tree_reduce, htru2_tree], axis=0, ignore_index=True)\n",
    "htru2_tree = htru2_tree.sort_values(by=['data', 'model', 'attack', 'adv_param'], ascending=True)\n",
    "\n",
    "htru2_tree_baard.to_csv('htru2_tree_baard.csv', index=False)\n",
    "htru2_tree.to_csv('htru2_tree.csv', index=False)"
   ]
  },
  {
   "cell_type": "code",
   "execution_count": null,
   "metadata": {},
   "outputs": [],
   "source": []
  }
 ],
 "metadata": {
  "kernelspec": {
   "display_name": "Python 3",
   "language": "python",
   "name": "python3"
  },
  "language_info": {
   "codemirror_mode": {
    "name": "ipython",
    "version": 3
   },
   "file_extension": ".py",
   "mimetype": "text/x-python",
   "name": "python",
   "nbconvert_exporter": "python",
   "pygments_lexer": "ipython3",
   "version": "3.8.8-final"
  }
 },
 "nbformat": 4,
 "nbformat_minor": 5
}