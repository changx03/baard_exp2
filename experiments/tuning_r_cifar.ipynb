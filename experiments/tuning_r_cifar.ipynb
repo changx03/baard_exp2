{
 "metadata": {
  "language_info": {
   "codemirror_mode": {
    "name": "ipython",
    "version": 3
   },
   "file_extension": ".py",
   "mimetype": "text/x-python",
   "name": "python",
   "nbconvert_exporter": "python",
   "pygments_lexer": "ipython3",
   "version": "3.6.9-final"
  },
  "orig_nbformat": 2,
  "kernelspec": {
   "name": "python36964bitvenv6f6c419b22574bc3b5272e06390c00ee",
   "display_name": "Python 3.6.9 64-bit ('venv')",
   "language": "python"
  }
 },
 "nbformat": 4,
 "nbformat_minor": 2,
 "cells": [
  {
   "cell_type": "code",
   "execution_count": 1,
   "metadata": {},
   "outputs": [
    {
     "output_type": "stream",
     "name": "stdout",
     "text": [
      "/home/lukec/workspace/baard_exp2/experiments\n/home/lukec/.vscode/extensions/ms-toolsai.jupyter-2020.12.414227025/pythonFiles\n/home/lukec/.vscode/extensions/ms-toolsai.jupyter-2020.12.414227025/pythonFiles/lib/python\n/usr/lib/python36.zip\n/usr/lib/python3.6\n/usr/lib/python3.6/lib-dynload\n\n/home/lukec/workspace/baard_exp2/venv/lib/python3.6/site-packages\n/home/lukec/workspace/baard_exp2/venv/lib/python3.6/site-packages/IPython/extensions\n/home/lukec/.ipython\n..\n/home/lukec/workspace/baard_exp2/experiments/art_library\n"
     ]
    }
   ],
   "source": [
    "import os\n",
    "import sys\n",
    "sys.path.append('..')\n",
    "LIB_PATH = os.getcwd() + \"/art_library\"\n",
    "sys.path.append(LIB_PATH)\n",
    "print(*sys.path, sep='\\n')"
   ]
  },
  {
   "cell_type": "code",
   "execution_count": 2,
   "metadata": {},
   "outputs": [],
   "source": [
    "%load_ext autoreload\n",
    "%autoreload 2"
   ]
  },
  {
   "cell_type": "code",
   "execution_count": 3,
   "metadata": {},
   "outputs": [],
   "source": [
    "import json\n",
    "\n",
    "import matplotlib.pyplot as plt\n",
    "import numpy as np\n",
    "import torch\n",
    "from tqdm import tqdm\n",
    "import pandas as pd"
   ]
  },
  {
   "cell_type": "code",
   "execution_count": 4,
   "metadata": {},
   "outputs": [],
   "source": [
    "from models.mnist import BaseModel\n",
    "from models.cifar10 import  Resnet\n",
    "from models.torch_util import predict_numpy\n",
    "from defences.util import acc_on_adv\n",
    "from defences.baard import ApplicabilityStage, ReliabilityStage, DecidabilityStage, BAARDOperator"
   ]
  },
  {
   "cell_type": "code",
   "execution_count": 5,
   "metadata": {},
   "outputs": [
    {
     "output_type": "stream",
     "name": "stdout",
     "text": [
      "device: cuda\n"
     ]
    }
   ],
   "source": [
    "device = torch.device('cuda' if torch.cuda.is_available() else 'cpu')\n",
    "print('device:', device)"
   ]
  },
  {
   "cell_type": "code",
   "execution_count": 6,
   "metadata": {},
   "outputs": [],
   "source": [
    "dnn = BaseModel(use_prob=True).to(device)\n",
    "resnet = Resnet(use_prob=True).to(device)"
   ]
  },
  {
   "cell_type": "code",
   "execution_count": 7,
   "metadata": {},
   "outputs": [
    {
     "output_type": "execute_result",
     "data": {
      "text/plain": [
       "<All keys matched successfully>"
      ]
     },
     "metadata": {},
     "execution_count": 7
    }
   ],
   "source": [
    "# f_dnn = os.path.join('..', 'results', 'mnist_200.pt')\n",
    "f_resnet = os.path.join('..', 'results', 'cifar10_resnet_200.pt')\n",
    "\n",
    "# dnn.load_state_dict(torch.load(f_dnn, map_location=device))\n",
    "resnet.load_state_dict(torch.load(f_resnet, map_location=device))"
   ]
  },
  {
   "cell_type": "code",
   "execution_count": 8,
   "metadata": {},
   "outputs": [
    {
     "output_type": "stream",
     "name": "stdout",
     "text": [
      "Param: {'k_re': 10, 'k_de': 100, 'q1': 1.0, 'q2': 0.98, 'q3': 0.98, 'sequence': [True, True, True]}\n"
     ]
    }
   ],
   "source": [
    "# Create BAARD\n",
    "f_json_param = os.path.join('..', 'params', 'baard_cifar10_3.json')\n",
    "with open(f_json_param) as j:\n",
    "    baard_param = json.load(j)\n",
    "print('Param:', baard_param)\n",
    "\n",
    "n_classes = 10"
   ]
  },
  {
   "cell_type": "code",
   "execution_count": 9,
   "metadata": {},
   "outputs": [],
   "source": [
    "stages_resnet = []\n",
    "stages_resnet.append(ApplicabilityStage(n_classes=n_classes, quantile=baard_param['q1'], verbose=0))\n",
    "stages_resnet.append(ReliabilityStage(n_classes=n_classes, k=baard_param['k_re'], quantile=baard_param['q2'], verbose=0))\n",
    "stages_resnet.append(DecidabilityStage(n_classes=n_classes, k=baard_param['k_de'], quantile=baard_param['q3'], verbose=0))\n",
    "detector_resnet = BAARDOperator(stages=stages_resnet)"
   ]
  },
  {
   "cell_type": "code",
   "execution_count": 10,
   "metadata": {},
   "outputs": [
    {
     "output_type": "stream",
     "name": "stdout",
     "text": [
      "(48179, 3, 32, 32) (48179, 3, 32, 32) (48179,)\n"
     ]
    }
   ],
   "source": [
    "# Load pretrained parameters\n",
    "f_pre_data = os.path.join('..', 'result_0', 'cifar10_resnet_baard_s1_train_data.pt')\n",
    "obj = torch.load(f_pre_data)\n",
    "X_train_s1 = obj['X_s1']\n",
    "X_train = obj['X']\n",
    "y_train = obj['y']\n",
    "print(X_train_s1.shape, X_train.shape, y_train.shape)"
   ]
  },
  {
   "cell_type": "code",
   "execution_count": 11,
   "metadata": {},
   "outputs": [
    {
     "output_type": "stream",
     "name": "stdout",
     "text": [
      "Load from: ../result_0/cifar10_resnet_baard_threshold.pt\n"
     ]
    }
   ],
   "source": [
    "f_thresh_resnet = os.path.join('..', 'result_0', 'cifar10_resnet_baard_threshold.pt')\n",
    "detector_resnet.fit(X=X_train, y=y_train, X_s1=X_train_s1)\n",
    "detector_resnet.load(f_thresh_resnet)"
   ]
  },
  {
   "cell_type": "code",
   "execution_count": 12,
   "metadata": {},
   "outputs": [],
   "source": [
    "def get_data(model_name, att, e, d='adv'):\n",
    "    f = 'cifar10_{}_{}_{}_{}.npy'.format(model_name, att, e, d)\n",
    "    p = os.path.join('..', 'results', f)\n",
    "    return np.load(p)"
   ]
  },
  {
   "cell_type": "code",
   "execution_count": 25,
   "metadata": {},
   "outputs": [
    {
     "output_type": "stream",
     "name": "stdout",
     "text": [
      "0.008\n"
     ]
    }
   ],
   "source": [
    "att = 'apgd'\n",
    "e = 0.031\n",
    "X = get_data('resnet', att, e, d='x')[:500]\n",
    "adv = get_data('resnet', att, e)[:500]\n",
    "y = get_data('resnet', att, e, d='y')[:500]\n",
    "pred_adv = predict_numpy(resnet, adv, device)[:500]\n",
    "print(np.mean(pred_adv == y))"
   ]
  },
  {
   "cell_type": "code",
   "execution_count": 19,
   "metadata": {},
   "outputs": [],
   "source": [
    "s1 = detector_resnet.stages[0]\n",
    "s2 = detector_resnet.stages[1]\n",
    "s3 = detector_resnet.stages[2]"
   ]
  },
  {
   "cell_type": "code",
   "execution_count": 20,
   "metadata": {},
   "outputs": [
    {
     "output_type": "stream",
     "name": "stdout",
     "text": [
      "[ 2] 0.0380 0.0120\n",
      "[ 4] 0.0400 0.0140\n",
      "[ 6] 0.0420 0.0160\n",
      "[ 8] 0.0460 0.0220\n",
      "[10] 0.0520 0.0300\n",
      "[12] 0.0580 0.0300\n",
      "[14] 0.0600 0.0360\n",
      "[16] 0.0620 0.0440\n",
      "[18] 0.0640 0.0500\n",
      "[20] 0.0660 0.0540\n",
      "[22] 0.0680 0.0600\n",
      "[24] 0.0760 0.0600\n",
      "[26] 0.0760 0.0680\n",
      "[28] 0.0840 0.0680\n",
      "[30] 0.0880 0.0680\n"
     ]
    }
   ],
   "source": [
    "ks_s2 = np.arange(31, step=2)[1:]\n",
    "acc_s2 = np.zeros_like(ks_s2, dtype=np.float)\n",
    "fprs_s2 = np.zeros_like(ks_s2, dtype=np.float)\n",
    "\n",
    "for i, k in enumerate(ks_s2):\n",
    "    s2.k = k\n",
    "    labelled_adv = s2.predict(adv, pred_adv)\n",
    "    acc = acc_on_adv(pred_adv, y, labelled_adv)\n",
    "    acc_s2[i] = acc\n",
    "\n",
    "    labelled_x = s2.predict(X, y)\n",
    "    fpr = np.mean(labelled_x)\n",
    "    fprs_s2[i] = fpr\n",
    "\n",
    "    print('[{:2d}] {:.4f} {:.4f}'.format(k, acc, fpr))"
   ]
  },
  {
   "cell_type": "code",
   "execution_count": 31,
   "metadata": {},
   "outputs": [
    {
     "output_type": "stream",
     "name": "stdout",
     "text": [
      "     k    acc    fpr\n0    2  0.038  0.012\n1    4  0.040  0.014\n2    6  0.042  0.016\n3    8  0.046  0.022\n4   10  0.052  0.030\n5   12  0.058  0.030\n6   14  0.060  0.036\n7   16  0.062  0.044\n8   18  0.064  0.050\n9   20  0.066  0.054\n10  22  0.068  0.060\n11  24  0.076  0.060\n12  26  0.076  0.068\n13  28  0.084  0.068\n14  30  0.088  0.068\ncifar10_resnet_s2_r_apgd_31.csv\n"
     ]
    }
   ],
   "source": [
    "data = 'cifar10'\n",
    "model_name = 'resnet'\n",
    "data_s2_cifar10_resnet_fpr = {\n",
    "    'k': ks_s2,\n",
    "    'acc': acc_s2,\n",
    "    'fpr': fprs_s2\n",
    "}\n",
    "df_s2 = pd.DataFrame(data_s2_cifar10_resnet_fpr)\n",
    "print(df_s2)\n",
    "file_name = '{}_{}_s2_r_{}_{}.csv'.format(data, model_name, att, int(e*1000))\n",
    "print(file_name)\n",
    "df_s2.to_csv(file_name, index=False)"
   ]
  },
  {
   "cell_type": "code",
   "execution_count": 22,
   "metadata": {},
   "outputs": [
    {
     "output_type": "stream",
     "name": "stdout",
     "text": [
      "[ 10] 0.0880 0.1660\n",
      "[ 20] 0.0880 0.0820\n",
      "[ 30] 0.0880 0.0420\n",
      "[ 40] 0.0880 0.0320\n",
      "[ 50] 0.0880 0.0240\n",
      "[ 60] 0.0880 0.0260\n",
      "[ 70] 0.0880 0.0240\n",
      "[ 80] 0.0880 0.0200\n",
      "[ 90] 0.0880 0.0180\n",
      "[100] 0.0880 0.0140\n",
      "[110] 0.0880 0.0180\n",
      "[120] 0.0880 0.0140\n",
      "[130] 0.0880 0.0140\n",
      "[140] 0.0880 0.0140\n",
      "[150] 0.0880 0.0160\n",
      "[160] 0.0880 0.0180\n",
      "[170] 0.0880 0.0180\n",
      "[180] 0.0880 0.0160\n",
      "[190] 0.0880 0.0140\n"
     ]
    }
   ],
   "source": [
    "ks_s3 = np.arange(10, 200, step=10)\n",
    "acc_s3 = np.zeros_like(ks_s3, dtype=np.float)\n",
    "fprs_s3 = np.zeros_like(ks_s3, dtype=np.float)\n",
    "\n",
    "for i, k in enumerate(ks_s3):\n",
    "    s3.k = k\n",
    "    labelled_adv = s2.predict(adv, pred_adv)\n",
    "    acc = acc_on_adv(pred_adv, y, labelled_adv)\n",
    "    acc_s3[i] = acc\n",
    "\n",
    "    labelled_x = s3.predict(X, y)\n",
    "    fpr = np.mean(labelled_x)\n",
    "    fprs_s3[i] = fpr\n",
    "    \n",
    "    print('[{:3d}] {:.4f} {:.4f}'.format(k, acc, fpr))"
   ]
  },
  {
   "cell_type": "code",
   "execution_count": 32,
   "metadata": {},
   "outputs": [
    {
     "output_type": "stream",
     "name": "stdout",
     "text": [
      "      k    acc    fpr\n0    10  0.088  0.166\n1    20  0.088  0.082\n2    30  0.088  0.042\n3    40  0.088  0.032\n4    50  0.088  0.024\n5    60  0.088  0.026\n6    70  0.088  0.024\n7    80  0.088  0.020\n8    90  0.088  0.018\n9   100  0.088  0.014\n10  110  0.088  0.018\n11  120  0.088  0.014\n12  130  0.088  0.014\n13  140  0.088  0.014\n14  150  0.088  0.016\n15  160  0.088  0.018\n16  170  0.088  0.018\n17  180  0.088  0.016\n18  190  0.088  0.014\ncifar10_resnet_s3_r_apgd_31.csv\n"
     ]
    }
   ],
   "source": [
    "data_s3_cifar10_resnet_fpr = {\n",
    "    'k': ks_s3,\n",
    "    'acc': acc_s3,\n",
    "    'fpr': fprs_s3\n",
    "}\n",
    "df_s3 = pd.DataFrame(data_s3_cifar10_resnet_fpr)\n",
    "print(df_s3)\n",
    "file_name = '{}_{}_s3_r_{}_{}.csv'.format(data, model_name, att, int(e*1000))\n",
    "print(file_name)\n",
    "df_s3.to_csv(file_name, index=False)"
   ]
  },
  {
   "cell_type": "code",
   "execution_count": null,
   "metadata": {},
   "outputs": [],
   "source": []
  }
 ]
}