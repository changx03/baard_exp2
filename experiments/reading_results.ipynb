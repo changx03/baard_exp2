{
 "cells": [
  {
   "cell_type": "code",
   "execution_count": 1,
   "metadata": {},
   "outputs": [],
   "source": [
    "import sys\n",
    "sys.path.append('..')"
   ]
  },
  {
   "cell_type": "code",
   "execution_count": 2,
   "metadata": {},
   "outputs": [],
   "source": [
    "import os\n",
    "import csv\n",
    "\n",
    "import matplotlib.pyplot as plt\n",
    "import numpy as np\n",
    "import torch\n",
    "from torch.utils.data.dataloader import DataLoader\n",
    "from torch.utils.data.dataset import TensorDataset\n",
    "import pandas as pd\n",
    "from pandas.api.types import CategoricalDtype"
   ]
  },
  {
   "cell_type": "code",
   "execution_count": 3,
   "metadata": {},
   "outputs": [],
   "source": [
    "from defences.util import score\n",
    "from models.numeric import NumericModel\n",
    "from experiments.train_pt import predict"
   ]
  },
  {
   "cell_type": "code",
   "execution_count": 4,
   "metadata": {},
   "outputs": [],
   "source": [
    "%load_ext autoreload\n",
    "%autoreload 2"
   ]
  },
  {
   "cell_type": "code",
   "execution_count": 5,
   "metadata": {},
   "outputs": [],
   "source": [
    "PATH_OUTPUTS = os.path.join('..', 'csv')\n",
    "if not os.path.exists(PATH_OUTPUTS):\n",
    "    os.makedirs(PATH_OUTPUTS)"
   ]
  },
  {
   "cell_type": "code",
   "execution_count": 6,
   "metadata": {},
   "outputs": [],
   "source": [
    "def predict(model, X, device, batch_size=512):\n",
    "    dataset = TensorDataset(torch.from_numpy(X))\n",
    "    loader = DataLoader(dataset, batch_size, shuffle=False)\n",
    "    model.eval()\n",
    "    batch = next(iter(loader))\n",
    "    y = model(batch[0].to(device))\n",
    "    shape_output = (len(loader.dataset), y.size(1))\n",
    "    outputs = torch.zeros(shape_output, dtype=torch.float32)\n",
    "\n",
    "    start = 0\n",
    "    with torch.no_grad():\n",
    "        for batch in loader:\n",
    "            x = batch[0].to(device)\n",
    "            end = start + x.size(0)\n",
    "            outputs[start:end] = model(x)\n",
    "            start = end\n",
    "\n",
    "    return outputs.max(1)[1].type(torch.long).cpu().detach().numpy()"
   ]
  },
  {
   "cell_type": "code",
   "execution_count": 7,
   "metadata": {},
   "outputs": [],
   "source": [
    "DATA = {\n",
    "    'mnist': {'n_features': (1, 28, 28), 'n_classes': 10},\n",
    "    'cifar10': {'n_features': (3, 32, 32), 'n_classes': 10},\n",
    "    'banknote': {'file_name': 'banknote_preprocessed.csv', 'n_features': 4, 'n_test': 400, 'n_classes': 2},\n",
    "    'htru2': {'file_name': 'htru2_preprocessed.csv', 'n_features': 8, 'n_test': 4000, 'n_classes': 2},\n",
    "    'segment': {'file_name': 'segment_preprocessed.csv', 'n_features': 18, 'n_test': 400, 'n_classes': 7},\n",
    "    'texture': {'file_name': 'texture_preprocessed.csv', 'n_features': 40, 'n_test': 600, 'n_classes': 11}}"
   ]
  },
  {
   "cell_type": "code",
   "execution_count": 8,
   "metadata": {},
   "outputs": [],
   "source": [
    "device = torch.device('cuda' if torch.cuda.is_available() else 'cpu')"
   ]
  },
  {
   "cell_type": "code",
   "execution_count": 9,
   "metadata": {},
   "outputs": [],
   "source": [
    "def save_results(data_name, path_model, model_prefix, attacks_name, defences_name):\n",
    "    n_features = DATA[data_name]['n_features']\n",
    "    n_classes = DATA[data_name]['n_classes']\n",
    "\n",
    "    model = NumericModel(\n",
    "        n_features,\n",
    "        n_hidden=n_features * 4,\n",
    "        n_classes=n_classes,\n",
    "        use_prob=True).to(device)\n",
    "    model.load_state_dict(torch.load(path_model))\n",
    "\n",
    "    path_file = os.path.join(PATH_OUTPUTS, '{}.csv'.format(model_prefix))\n",
    "    print('Save to:', path_file)\n",
    "    with open(path_file, mode='w') as file:\n",
    "        file_writer = csv.writer(file, delimiter=',', quotechar='\"', quoting=csv.QUOTE_MINIMAL)\n",
    "        title = ['Attack', 'No defence', 'Defence', 'Adv only','Mixed', 'FPR']\n",
    "        print(', '.join(title))\n",
    "        file_writer.writerow(title)\n",
    "\n",
    "        for attack in attacks_name:\n",
    "            for defence in defences_name:\n",
    "                file_name = '{}_{}_{}.pt'.format(model_prefix, attack, defence)\n",
    "                path_data = os.path.join('..', 'results', file_name)\n",
    "                data = torch.load(path_data)\n",
    "                # print(file_name)\n",
    "\n",
    "                X_test = data['X_test']\n",
    "                y_test = data['y_test']\n",
    "                labels_test = data['labels_test']\n",
    "                res_test = data['res_test']\n",
    "\n",
    "                idx_adv = np.where(labels_test==1)[0]\n",
    "                idx_benign = np.where(labels_test==0)[0]\n",
    "\n",
    "                n_adv = np.sum(labels_test==1)\n",
    "                n_benign = np.sum(labels_test==0)\n",
    "\n",
    "                pred_test = predict(model, X_test, device=device, batch_size=512)\n",
    "\n",
    "                acc_no_defence = np.sum(pred_test[idx_adv] == y_test[idx_adv]) / n_adv\n",
    "                acc_defence = score(\n",
    "                    res_test[idx_adv],\n",
    "                    y_test[idx_adv],\n",
    "                    pred_test[idx_adv],\n",
    "                    labels_test[idx_adv])\n",
    "                acc_mixed = score(res_test, y_test, pred_test, labels_test)\n",
    "\n",
    "                fp = np.sum(res_test[idx_benign] == 1)\n",
    "                fpr = fp / len(X_test)\n",
    "\n",
    "                row_value = [\n",
    "                    attack,\n",
    "                    np.round(acc_no_defence*100, 2),\n",
    "                    defence,\n",
    "                    np.round(acc_defence*100, 2),\n",
    "                    np.round(acc_mixed*100, 2),\n",
    "                    np.round(fpr*100, 2)]\n",
    "                print(', '.join([str(val) for val in row_value]))\n",
    "                file_writer.writerow(row_value)"
   ]
  },
  {
   "cell_type": "code",
   "execution_count": 10,
   "metadata": {},
   "outputs": [],
   "source": [
    "defences_image = ['baard_2stage','baard_3stage', 'fs', 'lid', 'magnet','rc']\n",
    "defences_num = ['baard_2stage','baard_3stage', 'fs', 'lid', 'rc']"
   ]
  },
  {
   "cell_type": "code",
   "execution_count": 11,
   "metadata": {},
   "outputs": [],
   "source": [
    "attacks = [\n",
    "    'apgd_0.05',\n",
    "    'apgd_0.2',\n",
    "    'boundary_0.3',\n",
    "    'cw2_0.01',\n",
    "    'cw2_100.0',\n",
    "    'deepfool_0.001',\n",
    "    'deepfool_1e-06',\n",
    "    'fgsm_0.05',\n",
    "    'fgsm_0.2']"
   ]
  },
  {
   "cell_type": "code",
   "execution_count": 12,
   "metadata": {},
   "outputs": [
    {
     "output_type": "stream",
     "name": "stdout",
     "text": [
      "Save to: ../csv/banknote_basic16.csv\nAttack, No defence, Defence, Adv only, Mixed, FPR\napgd_0.05, 77.55, baard_2stage, 99.49, 88.01, 11.73\napgd_0.05, 77.55, baard_3stage, 99.49, 68.62, 31.12\napgd_0.05, 77.55, fs, 92.35, 63.27, 32.91\napgd_0.05, 77.55, lid, 91.33, 93.62, 2.04\napgd_0.05, 77.55, rc, 82.65, 67.86, 23.47\napgd_0.2, 0.51, baard_2stage, 96.94, 92.6, 5.87\napgd_0.2, 0.51, baard_3stage, 96.94, 88.27, 10.2\napgd_0.2, 0.51, fs, 40.82, 48.98, 21.43\napgd_0.2, 0.51, lid, 67.35, 82.4, 1.28\napgd_0.2, 0.51, rc, 52.04, 52.55, 23.47\nboundary_0.3, 46.43, baard_2stage, 97.96, 91.58, 7.4\nboundary_0.3, 46.43, baard_3stage, 100.0, 90.05, 9.95\nboundary_0.3, 46.43, fs, 50.0, 66.33, 8.67\nboundary_0.3, 46.43, lid, 76.02, 86.22, 1.79\nboundary_0.3, 46.43, rc, 61.73, 57.4, 23.47\ncw2_0.01, 0.0, baard_2stage, 97.45, 92.6, 6.12\ncw2_0.01, 0.0, baard_3stage, 100.0, 91.33, 8.67\ncw2_0.01, 0.0, fs, 64.29, 53.83, 28.32\ncw2_0.01, 0.0, lid, 74.49, 83.67, 3.57\ncw2_0.01, 0.0, rc, 32.14, 42.6, 23.47\ncw2_100.0, 0.0, baard_2stage, 96.43, 92.09, 6.12\ncw2_100.0, 0.0, baard_3stage, 100.0, 91.33, 8.67\ncw2_100.0, 0.0, fs, 71.43, 51.02, 34.69\ncw2_100.0, 0.0, lid, 66.33, 82.14, 1.02\ncw2_100.0, 0.0, rc, 35.71, 44.39, 23.47\ndeepfool_0.001, 0.0, baard_2stage, 94.39, 93.11, 4.08\ndeepfool_0.001, 0.0, baard_3stage, 96.94, 71.43, 27.04\ndeepfool_0.001, 0.0, fs, 32.65, 66.33, 0.0\ndeepfool_0.001, 0.0, lid, 84.69, 92.09, 0.26\ndeepfool_0.001, 0.0, rc, 54.08, 53.57, 23.47\ndeepfool_1e-06, 0.0, baard_2stage, 94.39, 93.11, 4.08\ndeepfool_1e-06, 0.0, baard_3stage, 94.9, 70.41, 27.04\ndeepfool_1e-06, 0.0, fs, 32.65, 66.33, 0.0\ndeepfool_1e-06, 0.0, lid, 85.2, 92.6, 0.0\ndeepfool_1e-06, 0.0, rc, 54.59, 53.83, 23.47\nfgsm_0.05, 77.55, baard_2stage, 99.49, 90.05, 9.69\nfgsm_0.05, 77.55, baard_3stage, 100.0, 88.27, 11.73\nfgsm_0.05, 77.55, fs, 85.2, 71.17, 21.43\nfgsm_0.05, 77.55, lid, 92.86, 92.86, 3.57\nfgsm_0.05, 77.55, rc, 82.65, 67.86, 23.47\nfgsm_0.2, 0.51, baard_2stage, 96.94, 93.62, 4.85\nfgsm_0.2, 0.51, baard_3stage, 96.94, 88.52, 9.95\nfgsm_0.2, 0.51, fs, 40.82, 48.98, 21.43\nfgsm_0.2, 0.51, lid, 69.39, 82.65, 2.04\nfgsm_0.2, 0.51, rc, 52.04, 52.55, 23.47\n"
     ]
    }
   ],
   "source": [
    "PATH_MODEL = os.path.join('..', 'results', 'banknote_400.pt')\n",
    "save_results(\n",
    "    data_name='banknote', \n",
    "    path_model=PATH_MODEL, \n",
    "    model_prefix='banknote_basic16', \n",
    "    attacks_name=attacks, \n",
    "    defences_name=defences_num)"
   ]
  },
  {
   "cell_type": "code",
   "execution_count": null,
   "metadata": {},
   "outputs": [],
   "source": []
  }
 ],
 "metadata": {
  "kernelspec": {
   "display_name": "Python 3",
   "language": "python",
   "name": "python3"
  },
  "language_info": {
   "codemirror_mode": {
    "name": "ipython",
    "version": 3
   },
   "file_extension": ".py",
   "mimetype": "text/x-python",
   "name": "python",
   "nbconvert_exporter": "python",
   "pygments_lexer": "ipython3",
   "version": "3.6.9-final"
  }
 },
 "nbformat": 4,
 "nbformat_minor": 4
}